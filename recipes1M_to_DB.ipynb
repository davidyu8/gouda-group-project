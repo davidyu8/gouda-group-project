{
 "cells": [
  {
   "cell_type": "code",
   "execution_count": 1,
   "id": "damaged-alert",
   "metadata": {},
   "outputs": [],
   "source": [
    "# To obtain the data, go to \"http://pic2recipe.csail.mit.edu/\"\n",
    "# Follow the instructions to download the dataset, which will involve creating an account\n",
    "# After that, go to \"http://im2recipe.csail.mit.edu/dataset/download/\"\n",
    "# and download the link labeled \"Layers\"\n",
    "# Place this file in the working directory and make sure it is named \n",
    "# \"recipe1M_layers.tar.gz\" (this is the default name)."
   ]
  },
  {
   "cell_type": "code",
   "execution_count": 2,
   "id": "hearing-server",
   "metadata": {},
   "outputs": [],
   "source": [
    "import tarfile\n",
    "import sqlite3\n",
    "import json\n",
    "import pandas as pd"
   ]
  },
  {
   "cell_type": "code",
   "execution_count": 3,
   "id": "guided-radius",
   "metadata": {},
   "outputs": [],
   "source": [
    "# open tarfile and explore what is there\n",
    "tar = tarfile.open(\"recipe1M_layers.tar.gz\")\n",
    "files = tar.getmembers()"
   ]
  },
  {
   "cell_type": "code",
   "execution_count": 4,
   "id": "contained-utilization",
   "metadata": {},
   "outputs": [
    {
     "data": {
      "text/plain": [
       "[<TarInfo 'layer1.json' at 0x1e25a126ba8>,\n",
       " <TarInfo 'layer2.json' at 0x1e25a29f2b8>]"
      ]
     },
     "execution_count": 4,
     "metadata": {},
     "output_type": "execute_result"
    }
   ],
   "source": [
    "files"
   ]
  },
  {
   "cell_type": "code",
   "execution_count": 5,
   "id": "reflected-criticism",
   "metadata": {
    "scrolled": true
   },
   "outputs": [],
   "source": [
    "# extract recipe data into a string\n",
    "f = tar.extractfile(files[0]).read()"
   ]
  },
  {
   "cell_type": "code",
   "execution_count": 6,
   "id": "usual-aurora",
   "metadata": {},
   "outputs": [],
   "source": [
    "# convert to a python list\n",
    "temp = json.loads(f)"
   ]
  },
  {
   "cell_type": "code",
   "execution_count": 7,
   "id": "consistent-archives",
   "metadata": {},
   "outputs": [
    {
     "data": {
      "text/plain": [
       "list"
      ]
     },
     "execution_count": 7,
     "metadata": {},
     "output_type": "execute_result"
    }
   ],
   "source": [
    "type(temp)"
   ]
  },
  {
   "cell_type": "code",
   "execution_count": 8,
   "id": "auburn-thunder",
   "metadata": {},
   "outputs": [
    {
     "data": {
      "text/plain": [
       "dict_keys(['ingredients', 'url', 'partition', 'title', 'id', 'instructions'])"
      ]
     },
     "execution_count": 8,
     "metadata": {},
     "output_type": "execute_result"
    }
   ],
   "source": [
    "# what information do we have\n",
    "temp[0].keys()"
   ]
  },
  {
   "cell_type": "code",
   "execution_count": 27,
   "id": "settled-export",
   "metadata": {},
   "outputs": [],
   "source": [
    "# create the DataFrame\n",
    "df = pd.DataFrame()\n",
    "\n",
    "for key in temp[0].keys():\n",
    "    tempList = [temp[i][key] for i in range(0, len(temp)-1)]\n",
    "    df[key] = tempList"
   ]
  },
  {
   "cell_type": "code",
   "execution_count": 28,
   "id": "laughing-maria",
   "metadata": {},
   "outputs": [
    {
     "data": {
      "text/html": [
       "<div>\n",
       "<style scoped>\n",
       "    .dataframe tbody tr th:only-of-type {\n",
       "        vertical-align: middle;\n",
       "    }\n",
       "\n",
       "    .dataframe tbody tr th {\n",
       "        vertical-align: top;\n",
       "    }\n",
       "\n",
       "    .dataframe thead th {\n",
       "        text-align: right;\n",
       "    }\n",
       "</style>\n",
       "<table border=\"1\" class=\"dataframe\">\n",
       "  <thead>\n",
       "    <tr style=\"text-align: right;\">\n",
       "      <th></th>\n",
       "      <th>ingredients</th>\n",
       "      <th>url</th>\n",
       "      <th>partition</th>\n",
       "      <th>title</th>\n",
       "      <th>id</th>\n",
       "      <th>instructions</th>\n",
       "    </tr>\n",
       "  </thead>\n",
       "  <tbody>\n",
       "    <tr>\n",
       "      <th>0</th>\n",
       "      <td>[{'text': '6 ounces penne'}, {'text': '2 cups ...</td>\n",
       "      <td>http://www.epicurious.com/recipes/food/views/-...</td>\n",
       "      <td>train</td>\n",
       "      <td>Worlds Best Mac and Cheese</td>\n",
       "      <td>000018c8a5</td>\n",
       "      <td>[{'text': 'Preheat the oven to 350 F. Butter o...</td>\n",
       "    </tr>\n",
       "    <tr>\n",
       "      <th>1</th>\n",
       "      <td>[{'text': '1 c. elbow macaroni'}, {'text': '1 ...</td>\n",
       "      <td>http://cookeatshare.com/recipes/dilly-macaroni...</td>\n",
       "      <td>train</td>\n",
       "      <td>Dilly Macaroni Salad Recipe</td>\n",
       "      <td>000033e39b</td>\n",
       "      <td>[{'text': 'Cook macaroni according to package ...</td>\n",
       "    </tr>\n",
       "    <tr>\n",
       "      <th>2</th>\n",
       "      <td>[{'text': '8 tomatoes, quartered'}, {'text': '...</td>\n",
       "      <td>http://www.foodnetwork.com/recipes/gazpacho1.html</td>\n",
       "      <td>train</td>\n",
       "      <td>Gazpacho</td>\n",
       "      <td>000035f7ed</td>\n",
       "      <td>[{'text': 'Add the tomatoes to a food processo...</td>\n",
       "    </tr>\n",
       "    <tr>\n",
       "      <th>3</th>\n",
       "      <td>[{'text': '2 12 cups milk'}, {'text': '1 12 cu...</td>\n",
       "      <td>http://www.food.com/recipe/crunchy-onion-potat...</td>\n",
       "      <td>test</td>\n",
       "      <td>Crunchy Onion Potato Bake</td>\n",
       "      <td>00003a70b1</td>\n",
       "      <td>[{'text': 'Preheat oven to 350 degrees Fahrenh...</td>\n",
       "    </tr>\n",
       "    <tr>\n",
       "      <th>4</th>\n",
       "      <td>[{'text': '1 (3 ounce) package watermelon gela...</td>\n",
       "      <td>http://www.food.com/recipe/cool-n-easy-creamy-...</td>\n",
       "      <td>train</td>\n",
       "      <td>Cool 'n Easy Creamy Watermelon Pie</td>\n",
       "      <td>00004320bb</td>\n",
       "      <td>[{'text': 'Dissolve Jello in boiling water.'},...</td>\n",
       "    </tr>\n",
       "  </tbody>\n",
       "</table>\n",
       "</div>"
      ],
      "text/plain": [
       "                                         ingredients  \\\n",
       "0  [{'text': '6 ounces penne'}, {'text': '2 cups ...   \n",
       "1  [{'text': '1 c. elbow macaroni'}, {'text': '1 ...   \n",
       "2  [{'text': '8 tomatoes, quartered'}, {'text': '...   \n",
       "3  [{'text': '2 12 cups milk'}, {'text': '1 12 cu...   \n",
       "4  [{'text': '1 (3 ounce) package watermelon gela...   \n",
       "\n",
       "                                                 url partition  \\\n",
       "0  http://www.epicurious.com/recipes/food/views/-...     train   \n",
       "1  http://cookeatshare.com/recipes/dilly-macaroni...     train   \n",
       "2  http://www.foodnetwork.com/recipes/gazpacho1.html     train   \n",
       "3  http://www.food.com/recipe/crunchy-onion-potat...      test   \n",
       "4  http://www.food.com/recipe/cool-n-easy-creamy-...     train   \n",
       "\n",
       "                                title          id  \\\n",
       "0          Worlds Best Mac and Cheese  000018c8a5   \n",
       "1         Dilly Macaroni Salad Recipe  000033e39b   \n",
       "2                            Gazpacho  000035f7ed   \n",
       "3           Crunchy Onion Potato Bake  00003a70b1   \n",
       "4  Cool 'n Easy Creamy Watermelon Pie  00004320bb   \n",
       "\n",
       "                                        instructions  \n",
       "0  [{'text': 'Preheat the oven to 350 F. Butter o...  \n",
       "1  [{'text': 'Cook macaroni according to package ...  \n",
       "2  [{'text': 'Add the tomatoes to a food processo...  \n",
       "3  [{'text': 'Preheat oven to 350 degrees Fahrenh...  \n",
       "4  [{'text': 'Dissolve Jello in boiling water.'},...  "
      ]
     },
     "execution_count": 28,
     "metadata": {},
     "output_type": "execute_result"
    }
   ],
   "source": [
    "df.head(5)"
   ]
  },
  {
   "cell_type": "code",
   "execution_count": 29,
   "id": "instructional-haiti",
   "metadata": {},
   "outputs": [],
   "source": [
    "# unpack the ingredients and instructions columns\n",
    "ingr_unpacked = []\n",
    "istr_unpacked = []\n",
    "for i in range(0, df.shape[0]): # loop over each row\n",
    "    ingr_list = []\n",
    "    istr_list = []\n",
    "    for ingr_dict in df['ingredients'][i]: # loop over each ingredient\n",
    "        ingr_list.append(ingr_dict['text']) # add to new list\n",
    "    for istr_dict in df['instructions'][i]: # repeat for instructions\n",
    "        istr_list.append(istr_dict['text'])\n",
    "    ingr_str = json.dumps(ingr_list) # convert to JSON string format\n",
    "    istr_str = json.dumps(istr_list)\n",
    "    ingr_unpacked.append(ingr_str) # add the string just constructed to another list\n",
    "    istr_unpacked.append(istr_str)\n",
    "\n",
    "df[\"ingredients\"] = ingr_unpacked # replace columns\n",
    "df[\"instructions\"] = istr_unpacked"
   ]
  },
  {
   "cell_type": "code",
   "execution_count": 30,
   "id": "damaged-diameter",
   "metadata": {},
   "outputs": [
    {
     "data": {
      "text/html": [
       "<div>\n",
       "<style scoped>\n",
       "    .dataframe tbody tr th:only-of-type {\n",
       "        vertical-align: middle;\n",
       "    }\n",
       "\n",
       "    .dataframe tbody tr th {\n",
       "        vertical-align: top;\n",
       "    }\n",
       "\n",
       "    .dataframe thead th {\n",
       "        text-align: right;\n",
       "    }\n",
       "</style>\n",
       "<table border=\"1\" class=\"dataframe\">\n",
       "  <thead>\n",
       "    <tr style=\"text-align: right;\">\n",
       "      <th></th>\n",
       "      <th>ingredients</th>\n",
       "      <th>url</th>\n",
       "      <th>partition</th>\n",
       "      <th>title</th>\n",
       "      <th>id</th>\n",
       "      <th>instructions</th>\n",
       "    </tr>\n",
       "  </thead>\n",
       "  <tbody>\n",
       "    <tr>\n",
       "      <th>0</th>\n",
       "      <td>[\"6 ounces penne\", \"2 cups Beechers Flagship C...</td>\n",
       "      <td>http://www.epicurious.com/recipes/food/views/-...</td>\n",
       "      <td>train</td>\n",
       "      <td>Worlds Best Mac and Cheese</td>\n",
       "      <td>000018c8a5</td>\n",
       "      <td>[\"Preheat the oven to 350 F. Butter or oil an ...</td>\n",
       "    </tr>\n",
       "    <tr>\n",
       "      <th>1</th>\n",
       "      <td>[\"1 c. elbow macaroni\", \"1 c. cubed American c...</td>\n",
       "      <td>http://cookeatshare.com/recipes/dilly-macaroni...</td>\n",
       "      <td>train</td>\n",
       "      <td>Dilly Macaroni Salad Recipe</td>\n",
       "      <td>000033e39b</td>\n",
       "      <td>[\"Cook macaroni according to package direction...</td>\n",
       "    </tr>\n",
       "    <tr>\n",
       "      <th>2</th>\n",
       "      <td>[\"8 tomatoes, quartered\", \"Kosher salt\", \"1 re...</td>\n",
       "      <td>http://www.foodnetwork.com/recipes/gazpacho1.html</td>\n",
       "      <td>train</td>\n",
       "      <td>Gazpacho</td>\n",
       "      <td>000035f7ed</td>\n",
       "      <td>[\"Add the tomatoes to a food processor with a ...</td>\n",
       "    </tr>\n",
       "    <tr>\n",
       "      <th>3</th>\n",
       "      <td>[\"2 12 cups milk\", \"1 12 cups water\", \"14 cup ...</td>\n",
       "      <td>http://www.food.com/recipe/crunchy-onion-potat...</td>\n",
       "      <td>test</td>\n",
       "      <td>Crunchy Onion Potato Bake</td>\n",
       "      <td>00003a70b1</td>\n",
       "      <td>[\"Preheat oven to 350 degrees Fahrenheit.\", \"S...</td>\n",
       "    </tr>\n",
       "    <tr>\n",
       "      <th>4</th>\n",
       "      <td>[\"1 (3 ounce) package watermelon gelatin\", \"14...</td>\n",
       "      <td>http://www.food.com/recipe/cool-n-easy-creamy-...</td>\n",
       "      <td>train</td>\n",
       "      <td>Cool 'n Easy Creamy Watermelon Pie</td>\n",
       "      <td>00004320bb</td>\n",
       "      <td>[\"Dissolve Jello in boiling water.\", \"Allow to...</td>\n",
       "    </tr>\n",
       "  </tbody>\n",
       "</table>\n",
       "</div>"
      ],
      "text/plain": [
       "                                         ingredients  \\\n",
       "0  [\"6 ounces penne\", \"2 cups Beechers Flagship C...   \n",
       "1  [\"1 c. elbow macaroni\", \"1 c. cubed American c...   \n",
       "2  [\"8 tomatoes, quartered\", \"Kosher salt\", \"1 re...   \n",
       "3  [\"2 12 cups milk\", \"1 12 cups water\", \"14 cup ...   \n",
       "4  [\"1 (3 ounce) package watermelon gelatin\", \"14...   \n",
       "\n",
       "                                                 url partition  \\\n",
       "0  http://www.epicurious.com/recipes/food/views/-...     train   \n",
       "1  http://cookeatshare.com/recipes/dilly-macaroni...     train   \n",
       "2  http://www.foodnetwork.com/recipes/gazpacho1.html     train   \n",
       "3  http://www.food.com/recipe/crunchy-onion-potat...      test   \n",
       "4  http://www.food.com/recipe/cool-n-easy-creamy-...     train   \n",
       "\n",
       "                                title          id  \\\n",
       "0          Worlds Best Mac and Cheese  000018c8a5   \n",
       "1         Dilly Macaroni Salad Recipe  000033e39b   \n",
       "2                            Gazpacho  000035f7ed   \n",
       "3           Crunchy Onion Potato Bake  00003a70b1   \n",
       "4  Cool 'n Easy Creamy Watermelon Pie  00004320bb   \n",
       "\n",
       "                                        instructions  \n",
       "0  [\"Preheat the oven to 350 F. Butter or oil an ...  \n",
       "1  [\"Cook macaroni according to package direction...  \n",
       "2  [\"Add the tomatoes to a food processor with a ...  \n",
       "3  [\"Preheat oven to 350 degrees Fahrenheit.\", \"S...  \n",
       "4  [\"Dissolve Jello in boiling water.\", \"Allow to...  "
      ]
     },
     "execution_count": 30,
     "metadata": {},
     "output_type": "execute_result"
    }
   ],
   "source": [
    "# check data\n",
    "df.head(5)"
   ]
  },
  {
   "cell_type": "code",
   "execution_count": 32,
   "id": "greenhouse-blowing",
   "metadata": {},
   "outputs": [
    {
     "data": {
      "text/plain": [
       "str"
      ]
     },
     "execution_count": 32,
     "metadata": {},
     "output_type": "execute_result"
    }
   ],
   "source": [
    "type(df['ingredients'][0])"
   ]
  },
  {
   "cell_type": "code",
   "execution_count": null,
   "id": "fatal-singles",
   "metadata": {},
   "outputs": [],
   "source": []
  },
  {
   "cell_type": "code",
   "execution_count": null,
   "id": "another-shopper",
   "metadata": {},
   "outputs": [],
   "source": []
  },
  {
   "cell_type": "code",
   "execution_count": 33,
   "id": "moved-dakota",
   "metadata": {},
   "outputs": [],
   "source": [
    "conn = sqlite3.connect(\"recipes1M.db\")"
   ]
  },
  {
   "cell_type": "code",
   "execution_count": 34,
   "id": "valid-being",
   "metadata": {},
   "outputs": [],
   "source": [
    "df.to_sql(\"recipes\", conn, if_exists = \"replace\", index = False, chunksize = 20000)"
   ]
  },
  {
   "cell_type": "code",
   "execution_count": 35,
   "id": "medium-annex",
   "metadata": {},
   "outputs": [
    {
     "name": "stdout",
     "output_type": "stream",
     "text": [
      "[('recipes',)]\n"
     ]
    }
   ],
   "source": [
    "# verify it worked\n",
    "cursor = conn.cursor()\n",
    "cursor.execute(\"SELECT name FROM sqlite_master WHERE type='table'\")\n",
    "print(cursor.fetchall())"
   ]
  },
  {
   "cell_type": "code",
   "execution_count": 36,
   "id": "acute-helicopter",
   "metadata": {},
   "outputs": [
    {
     "name": "stdout",
     "output_type": "stream",
     "text": [
      "CREATE TABLE \"recipes\" (\n",
      "\"ingredients\" TEXT,\n",
      "  \"url\" TEXT,\n",
      "  \"partition\" TEXT,\n",
      "  \"title\" TEXT,\n",
      "  \"id\" TEXT,\n",
      "  \"instructions\" TEXT\n",
      ")\n"
     ]
    }
   ],
   "source": [
    "cursor.execute(\"SELECT sql FROM sqlite_master WHERE type='table';\")\n",
    "\n",
    "for result in cursor.fetchall():\n",
    "    print(result[0])"
   ]
  },
  {
   "cell_type": "code",
   "execution_count": 37,
   "id": "contained-vertical",
   "metadata": {},
   "outputs": [],
   "source": [
    "conn.close()"
   ]
  },
  {
   "cell_type": "code",
   "execution_count": 75,
   "id": "consecutive-flesh",
   "metadata": {},
   "outputs": [],
   "source": [
    "# preliminary query function\n",
    "def title_keyword_search(keyword):\n",
    "    ''' Searches the recipe databse for entries with the keyword in the title. '''\n",
    "    \n",
    "    conn = sqlite3.connect(\"recipes1M.db\")\n",
    "    cmd = \\\n",
    "    f\"\"\"\n",
    "    SELECT R.title, R.url\n",
    "    FROM recipes R\n",
    "    WHERE R.title LIKE \"%{keyword}%\"\n",
    "    \"\"\"\n",
    "    \n",
    "    df = pd.read_sql_query(cmd, conn)\n",
    "    conn.close()\n",
    "    return df"
   ]
  },
  {
   "cell_type": "code",
   "execution_count": 79,
   "id": "announced-posting",
   "metadata": {},
   "outputs": [
    {
     "data": {
      "text/html": [
       "<div>\n",
       "<style scoped>\n",
       "    .dataframe tbody tr th:only-of-type {\n",
       "        vertical-align: middle;\n",
       "    }\n",
       "\n",
       "    .dataframe tbody tr th {\n",
       "        vertical-align: top;\n",
       "    }\n",
       "\n",
       "    .dataframe thead th {\n",
       "        text-align: right;\n",
       "    }\n",
       "</style>\n",
       "<table border=\"1\" class=\"dataframe\">\n",
       "  <thead>\n",
       "    <tr style=\"text-align: right;\">\n",
       "      <th></th>\n",
       "      <th>title</th>\n",
       "      <th>url</th>\n",
       "    </tr>\n",
       "  </thead>\n",
       "  <tbody>\n",
       "    <tr>\n",
       "      <th>0</th>\n",
       "      <td>Steak &amp; Asparagus Wraps</td>\n",
       "      <td>http://www.kraftrecipes.com/recipes/steak-aspa...</td>\n",
       "    </tr>\n",
       "    <tr>\n",
       "      <th>1</th>\n",
       "      <td>Erin's Mashed Potatoes</td>\n",
       "      <td>http://www.food.com/recipe/erins-mashed-potato...</td>\n",
       "    </tr>\n",
       "    <tr>\n",
       "      <th>2</th>\n",
       "      <td>Caramelized Beef Skewers</td>\n",
       "      <td>http://www.kraftrecipes.com/recipes/caramelize...</td>\n",
       "    </tr>\n",
       "    <tr>\n",
       "      <th>3</th>\n",
       "      <td>BBq Steak Sandwiches With a Rainbow of Peppers</td>\n",
       "      <td>http://www.food.com/recipe/bbq-steak-sandwiche...</td>\n",
       "    </tr>\n",
       "    <tr>\n",
       "      <th>4</th>\n",
       "      <td>Lemon Butter for Steak</td>\n",
       "      <td>http://www.epicurious.com/recipes/food/views/l...</td>\n",
       "    </tr>\n",
       "    <tr>\n",
       "      <th>...</th>\n",
       "      <td>...</td>\n",
       "      <td>...</td>\n",
       "    </tr>\n",
       "    <tr>\n",
       "      <th>17434</th>\n",
       "      <td>Simply Scrumptious Stilton Steak</td>\n",
       "      <td>http://www.food.com/recipe/simply-scrumptious-...</td>\n",
       "    </tr>\n",
       "    <tr>\n",
       "      <th>17435</th>\n",
       "      <td>Garlic Mexican Rub</td>\n",
       "      <td>http://www.food.com/recipe/garlic-mexican-rub-...</td>\n",
       "    </tr>\n",
       "    <tr>\n",
       "      <th>17436</th>\n",
       "      <td>Monkey Meat</td>\n",
       "      <td>http://www.food.com/recipe/monkey-meat-176933</td>\n",
       "    </tr>\n",
       "    <tr>\n",
       "      <th>17437</th>\n",
       "      <td>Latin-Spiced Rib Eye with Sauteed Onions and C...</td>\n",
       "      <td>http://www.foodandwine.com/recipes/latin-spice...</td>\n",
       "    </tr>\n",
       "    <tr>\n",
       "      <th>17438</th>\n",
       "      <td>Spicy Steak Fajitas - Mexico</td>\n",
       "      <td>http://www.food.com/recipe/spicy-steak-fajitas...</td>\n",
       "    </tr>\n",
       "  </tbody>\n",
       "</table>\n",
       "<p>17439 rows × 2 columns</p>\n",
       "</div>"
      ],
      "text/plain": [
       "                                                   title  \\\n",
       "0                                Steak & Asparagus Wraps   \n",
       "1                                 Erin's Mashed Potatoes   \n",
       "2                               Caramelized Beef Skewers   \n",
       "3         BBq Steak Sandwiches With a Rainbow of Peppers   \n",
       "4                                 Lemon Butter for Steak   \n",
       "...                                                  ...   \n",
       "17434                   Simply Scrumptious Stilton Steak   \n",
       "17435                                 Garlic Mexican Rub   \n",
       "17436                                        Monkey Meat   \n",
       "17437  Latin-Spiced Rib Eye with Sauteed Onions and C...   \n",
       "17438                       Spicy Steak Fajitas - Mexico   \n",
       "\n",
       "                                                     url  \n",
       "0      http://www.kraftrecipes.com/recipes/steak-aspa...  \n",
       "1      http://www.food.com/recipe/erins-mashed-potato...  \n",
       "2      http://www.kraftrecipes.com/recipes/caramelize...  \n",
       "3      http://www.food.com/recipe/bbq-steak-sandwiche...  \n",
       "4      http://www.epicurious.com/recipes/food/views/l...  \n",
       "...                                                  ...  \n",
       "17434  http://www.food.com/recipe/simply-scrumptious-...  \n",
       "17435  http://www.food.com/recipe/garlic-mexican-rub-...  \n",
       "17436      http://www.food.com/recipe/monkey-meat-176933  \n",
       "17437  http://www.foodandwine.com/recipes/latin-spice...  \n",
       "17438  http://www.food.com/recipe/spicy-steak-fajitas...  \n",
       "\n",
       "[17439 rows x 2 columns]"
      ]
     },
     "execution_count": 79,
     "metadata": {},
     "output_type": "execute_result"
    }
   ],
   "source": [
    "title_keyword_search(\"steak\")"
   ]
  },
  {
   "cell_type": "code",
   "execution_count": null,
   "id": "reserved-discipline",
   "metadata": {},
   "outputs": [],
   "source": []
  }
 ],
 "metadata": {
  "kernelspec": {
   "display_name": "Python [conda env:PIC16B] *",
   "language": "python",
   "name": "conda-env-PIC16B-py"
  },
  "language_info": {
   "codemirror_mode": {
    "name": "ipython",
    "version": 3
   },
   "file_extension": ".py",
   "mimetype": "text/x-python",
   "name": "python",
   "nbconvert_exporter": "python",
   "pygments_lexer": "ipython3",
   "version": "3.7.10"
  }
 },
 "nbformat": 4,
 "nbformat_minor": 5
}