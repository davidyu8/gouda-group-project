{
 "cells": [
  {
   "cell_type": "markdown",
   "id": "administrative-norwegian",
   "metadata": {},
   "source": [
    "# Introduction\n",
    "\n",
    "This file is used to set up the ```recipes1M.db``` database, which will contain over one million recipes, organized with ingredients and instructions. These instructions will help you get started.\n",
    "\n",
    "1. To obtain the data, go to http://pic2recipe.csail.mit.edu/, and follow the instructions to download the dataset. This will involve creating an account.\n",
    "2. After that, go to http://im2recipe.csail.mit.edu/dataset/download/ and download from the link labeled \"Layers\". Place this file in the working directory and make sure it is named \"recipe1M_layers.tar.gz\" (this is the default name). \n",
    "3. Create a \".gitignore\" file and type both \"recipe1M_layers.tar.gz\" and \"recipes1M.db\" in it. This will prevent GitHub from attempting to push these MASSIVE files online each time you commit and push changes in other areas.\n",
    "4. Continue with this file!"
   ]
  },
  {
   "cell_type": "code",
   "execution_count": null,
   "id": "hearing-server",
   "metadata": {},
   "outputs": [],
   "source": [
    "import tarfile\n",
    "import sqlite3\n",
    "import json\n",
    "import pandas as pd"
   ]
  },
  {
   "cell_type": "code",
   "execution_count": null,
   "id": "guided-radius",
   "metadata": {},
   "outputs": [],
   "source": [
    "# open tarfile and explore what is there\n",
    "tar = tarfile.open(\"recipe1M_layers.tar.gz\")\n",
    "files = tar.getmembers()\n",
    "files"
   ]
  },
  {
   "cell_type": "code",
   "execution_count": null,
   "id": "reflected-criticism",
   "metadata": {
    "scrolled": true
   },
   "outputs": [],
   "source": [
    "# extract recipe data into a string\n",
    "f = tar.extractfile(files[0]).read()\n",
    "\n",
    "# convert to a python list\n",
    "temp = json.loads(f)\n",
    "\n",
    "# what information do we have\n",
    "temp[0].keys()"
   ]
  },
  {
   "cell_type": "code",
   "execution_count": null,
   "id": "settled-export",
   "metadata": {},
   "outputs": [],
   "source": [
    "# create the DataFrame\n",
    "df = pd.DataFrame()\n",
    "\n",
    "for key in temp[0].keys():\n",
    "    tempList = [temp[i][key] for i in range(0, len(temp)-1)]\n",
    "    df[key] = tempList\n",
    "    \n",
    "df.head(5)"
   ]
  },
  {
   "cell_type": "code",
   "execution_count": null,
   "id": "instructional-haiti",
   "metadata": {},
   "outputs": [],
   "source": [
    "# unpack the ingredients and instructions columns\n",
    "ingr_unpacked = []\n",
    "istr_unpacked = []\n",
    "for i in range(0, df.shape[0]): # loop over each row\n",
    "    ingr_list = []\n",
    "    istr_list = []\n",
    "    for ingr_dict in df['ingredients'][i]: # loop over each ingredient\n",
    "        ingr_list.append(ingr_dict['text']) # add to new list\n",
    "    for istr_dict in df['instructions'][i]: # repeat for instructions\n",
    "        istr_list.append(istr_dict['text'])\n",
    "    ingr_str = json.dumps(ingr_list) # convert to JSON string format\n",
    "    istr_str = json.dumps(istr_list)\n",
    "    ingr_unpacked.append(ingr_str) # add the string just constructed to another list\n",
    "    istr_unpacked.append(istr_str)\n",
    "\n",
    "df[\"ingredients\"] = ingr_unpacked # replace columns\n",
    "df[\"instructions\"] = istr_unpacked"
   ]
  },
  {
   "cell_type": "code",
   "execution_count": null,
   "id": "damaged-diameter",
   "metadata": {},
   "outputs": [],
   "source": [
    "# check data\n",
    "df.head(5)"
   ]
  },
  {
   "cell_type": "code",
   "execution_count": null,
   "id": "moved-dakota",
   "metadata": {},
   "outputs": [],
   "source": [
    "conn = sqlite3.connect(\"recipes1M.db\")"
   ]
  },
  {
   "cell_type": "code",
   "execution_count": null,
   "id": "valid-being",
   "metadata": {},
   "outputs": [],
   "source": [
    "df.to_sql(\"recipes\", conn, if_exists = \"replace\", index = False, chunksize = 20000)"
   ]
  },
  {
   "cell_type": "code",
   "execution_count": null,
   "id": "medium-annex",
   "metadata": {},
   "outputs": [],
   "source": [
    "# verify it worked\n",
    "cursor = conn.cursor()\n",
    "cursor.execute(\"SELECT name FROM sqlite_master WHERE type='table'\")\n",
    "print(cursor.fetchall())"
   ]
  },
  {
   "cell_type": "code",
   "execution_count": null,
   "id": "acute-helicopter",
   "metadata": {},
   "outputs": [],
   "source": [
    "cursor.execute(\"SELECT sql FROM sqlite_master WHERE type='table';\")\n",
    "\n",
    "for result in cursor.fetchall():\n",
    "    print(result[0])"
   ]
  },
  {
   "cell_type": "code",
   "execution_count": null,
   "id": "contained-vertical",
   "metadata": {},
   "outputs": [],
   "source": [
    "conn.close()"
   ]
  },
  {
   "cell_type": "markdown",
   "id": "touched-uniform",
   "metadata": {},
   "source": [
    "# Querying (Preliminary)"
   ]
  },
  {
   "cell_type": "code",
   "execution_count": null,
   "id": "consecutive-flesh",
   "metadata": {},
   "outputs": [],
   "source": [
    "def title_keyword_search(keyword):\n",
    "    ''' Searches the recipe databse for entries with the keyword in the title. '''\n",
    "    \n",
    "    conn = sqlite3.connect(\"recipes1M.db\")\n",
    "    cmd = \\\n",
    "    f\"\"\"\n",
    "    SELECT R.title, R.url\n",
    "    FROM recipes R\n",
    "    WHERE R.title LIKE \"%{keyword}%\"\n",
    "    \"\"\"\n",
    "    \n",
    "    df = pd.read_sql_query(cmd, conn)\n",
    "    conn.close()\n",
    "    return df"
   ]
  },
  {
   "cell_type": "code",
   "execution_count": null,
   "id": "announced-posting",
   "metadata": {},
   "outputs": [],
   "source": [
    "title_keyword_search(\"steak\")"
   ]
  }
 ],
 "metadata": {
  "kernelspec": {
   "display_name": "Python [conda env:PIC16B] *",
   "language": "python",
   "name": "conda-env-PIC16B-py"
  },
  "language_info": {
   "codemirror_mode": {
    "name": "ipython",
    "version": 3
   },
   "file_extension": ".py",
   "mimetype": "text/x-python",
   "name": "python",
   "nbconvert_exporter": "python",
   "pygments_lexer": "ipython3",
   "version": "3.7.10"
  }
 },
 "nbformat": 4,
 "nbformat_minor": 5
}
