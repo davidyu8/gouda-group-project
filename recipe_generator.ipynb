{
  "nbformat": 4,
  "nbformat_minor": 0,
  "metadata": {
    "colab": {
      "name": "recipe_generator",
      "provenance": [],
      "collapsed_sections": []
    },
    "kernelspec": {
      "name": "python3",
      "display_name": "Python 3"
    },
    "language_info": {
      "name": "python"
    },
    "accelerator": "GPU"
  },
  "cells": [
    {
      "cell_type": "markdown",
      "metadata": {
        "id": "er-16_bKrvpy"
      },
      "source": [
        "#Summary\n",
        "\n",
        "This program uses a variety of models to generate original recipe text. A previous version of this code, under the same name, has been archived (in David's Google Drive).\n",
        "\n",
        "The code is organized as follows. The first section loads in the data and sets it up as a TensorFlow Dataset. The second section defines and trains the models (each model is given a subsection). The third section covers recipe generation, and the fourth and final section is for experimental purposes. In that section, we are trying to develop a Generative Adversarial Network (GAN) for recipe generation.\n",
        "\n",
        "# Code Sources\n",
        "While most of the code in this file is our own, some of it was derived from the code written in [this blog post](https://www.kdnuggets.com/2020/07/generating-cooking-recipes-using-tensorflow.html), from author [Oleksii Trekhleb](https://github.com/trekhleb). Some of the overall structure of our program also follows the plan laid down in that post. Cells which use his code are clearly marked with a comment reading\n",
        "``` # Oleksii Trekhleb ```\n",
        "at the top.\n",
        "\n"
      ]
    },
    {
      "cell_type": "markdown",
      "metadata": {
        "id": "dKLOo5zL_pse"
      },
      "source": [
        "# Section 1: Data Preparation\n",
        "\n",
        "We connect the program to Google Drive, where the data and models are to be stored. Then we extract the data and prepare it for modeling, finishing by converting it into a TensorFlow Dataset."
      ]
    },
    {
      "cell_type": "code",
      "metadata": {
        "colab": {
          "base_uri": "https://localhost:8080/"
        },
        "id": "molWHYWjaoj_",
        "outputId": "fed92936-cfdd-4a6c-e7dd-a5558e9f708d"
      },
      "source": [
        "# connect to Google Drive\n",
        "from google.colab import drive\n",
        "drive.mount('/content/drive')"
      ],
      "execution_count": null,
      "outputs": [
        {
          "output_type": "stream",
          "text": [
            "Drive already mounted at /content/drive; to attempt to forcibly remount, call drive.mount(\"/content/drive\", force_remount=True).\n"
          ],
          "name": "stdout"
        }
      ]
    },
    {
      "cell_type": "code",
      "metadata": {
        "id": "xp238KCGATaf"
      },
      "source": [
        "# import packages\n",
        "\n",
        "# general\n",
        "import numpy as np\n",
        "import pandas as pd\n",
        "from matplotlib import pyplot as plt\n",
        "\n",
        "# data preparation\n",
        "import sqlite3 # connect to database .db files\n",
        "import tensorflow as tf\n",
        "from tensorflow.keras import layers\n",
        "from tensorflow.keras.layers.experimental import preprocessing\n",
        "\n",
        "# modeling\n",
        "import pathlib # for setting up checkpoint directory\n",
        "import os # ditto"
      ],
      "execution_count": null,
      "outputs": []
    },
    {
      "cell_type": "code",
      "metadata": {
        "id": "Hji8YYaxA6vY"
      },
      "source": [
        "def import_data(n):\n",
        "  ''' imports the first n recipes from the recipe database. '''\n",
        "  \n",
        "  with sqlite3.connect(\"/content/drive/Shareddrives/Gouda Group Project/recipes1M.db\") as conn:\n",
        "    query = \\\n",
        "    f\"\"\"\n",
        "    SELECT R.title, R.ingredients, R.instructions\n",
        "    FROM recipes R\n",
        "    LIMIT ?\n",
        "    \"\"\"\n",
        "\n",
        "    df = pd.read_sql_query(query, conn, params = [n])\n",
        "  \n",
        "  return df"
      ],
      "execution_count": null,
      "outputs": []
    },
    {
      "cell_type": "code",
      "metadata": {
        "id": "yonziCu1Ct0A"
      },
      "source": [
        "DATA_SIZE = 100000\n",
        "data_raw = import_data(DATA_SIZE)"
      ],
      "execution_count": null,
      "outputs": []
    },
    {
      "cell_type": "code",
      "metadata": {
        "id": "CHwaNX0PCLqP"
      },
      "source": [
        "# Oleksii Trekhleb\n",
        "\n",
        "# define relevant constant values\n",
        "STOP_WORD_TITLE = '📗 '\n",
        "STOP_WORD_INGREDIENTS = '\\n🥕\\n\\n'\n",
        "STOP_WORD_INSTRUCTIONS = '\\n📝\\n\\n'"
      ],
      "execution_count": null,
      "outputs": []
    },
    {
      "cell_type": "code",
      "metadata": {
        "id": "TvaLZJtqCYzO"
      },
      "source": [
        "def condense(title, ingr, instr):\n",
        "  ''' \n",
        "  Each recipe is stored across three columns in the original data. This\n",
        "  function condenses them into a single string, with marked boundaries.\n",
        "\n",
        "  The concatenation steps in the end of this function were adapted from the code\n",
        "  source discussed.\n",
        "  '''\n",
        "\n",
        "  # set up the ingredients\n",
        "  temp1 = ingr # get string\n",
        "  temp1 = temp1[1:-1] # remove outer quotations\n",
        "  temp1 = temp1.split(\"\\\", \") # split into a list according to \",  sequence of those three characters\n",
        "  temp1 = [item[1:] for item in temp1] # remove leading quotation\n",
        "  temp1[len(temp1) - 1] = temp1[len(temp1) - 1][:-1] # remove ending quotation on last piece\n",
        "\n",
        "  # set up the instructions\n",
        "  temp2 = instr\n",
        "  temp2 = temp2[1:-1]\n",
        "  temp2 = temp2.split(\"\\\", \")\n",
        "  temp2 = [item[1:] for item in temp2]\n",
        "  temp2[len(temp2) - 1] = temp2[len(temp2) - 1][:-1]\n",
        "    \n",
        "  ingr_string = ''\n",
        "  for ingredient in temp1:\n",
        "    ingr_string += f'• {ingredient}\\n'\n",
        "\n",
        "  instr_string = ''\n",
        "  for instruction in temp2:\n",
        "    instr_string += f'• {instruction}\\n'\n",
        "\n",
        "  return f'{STOP_WORD_TITLE}{title}\\n{STOP_WORD_INGREDIENTS}{ingr_string}{STOP_WORD_INSTRUCTIONS}{instr_string}'"
      ],
      "execution_count": null,
      "outputs": []
    },
    {
      "cell_type": "code",
      "metadata": {
        "id": "1zsi5FULDFAV"
      },
      "source": [
        "# condense each recipe into a single string\n",
        "data_str = data_raw.apply(lambda x: condense(x.title, x.ingredients, x.instructions), axis = 1)"
      ],
      "execution_count": null,
      "outputs": []
    },
    {
      "cell_type": "code",
      "metadata": {
        "id": "uKh7FH8-DPw9"
      },
      "source": [
        "# Oleksii Trekhleb\n",
        "MAX_RECIPE_LENGTH = 2000\n",
        "\n",
        "def filter(recipe):\n",
        "  ''' removes recipes that are too long. '''\n",
        "  return len(recipe) <= MAX_RECIPE_LENGTH \n",
        "\n",
        "data_filter = [recipe for recipe in data_str if filter(recipe)] "
      ],
      "execution_count": null,
      "outputs": []
    },
    {
      "cell_type": "code",
      "metadata": {
        "colab": {
          "base_uri": "https://localhost:8080/"
        },
        "id": "QV6XPwLgDqDb",
        "outputId": "da9fa5cd-20b5-4c68-afed-a1b5804215e6"
      },
      "source": [
        "# Oleksii Trekhleb (adapted)\n",
        "\n",
        "STOP_SIGN = '␣' # will be appended to the end of each recipe\n",
        "\n",
        "tokenizer = tf.keras.preprocessing.text.Tokenizer(\n",
        "    filters = '', # we do not want to filter our recipes\n",
        "    lower = False, # we want the model to recognize uppercase characters\n",
        "    split = '', # we are using characters, not words\n",
        "    char_level = True # we want a character-level RNN\n",
        ")\n",
        "\n",
        "# show the tokenizer all of the existing characters we have\n",
        "tokenizer.fit_on_texts([STOP_SIGN])\n",
        "tokenizer.fit_on_texts(data_filter)\n",
        "\n",
        "tokenizer.get_config() # show results"
      ],
      "execution_count": null,
      "outputs": [
        {
          "output_type": "execute_result",
          "data": {
            "text/plain": [
              "{'char_level': True,\n",
              " 'document_count': 94136,\n",
              " 'filters': '',\n",
              " 'index_docs': '{\"1\": 94135, \"101\": 1, \"34\": 70465, \"38\": 65029, \"6\": 94130, \"2\": 94135, \"25\": 89419, \"35\": 59588, \"19\": 93812, \"4\": 94133, \"7\": 94131, \"31\": 78336, \"14\": 94029, \"9\": 94130, \"3\": 94126, \"55\": 26345, \"49\": 94135, \"10\": 94111, \"16\": 94034, \"33\": 74283, \"32\": 76497, \"39\": 64915, \"51\": 51101, \"47\": 94135, \"23\": 93354, \"15\": 94095, \"24\": 92673, \"42\": 64041, \"26\": 91327, \"27\": 90429, \"8\": 94123, \"29\": 90369, \"28\": 90400, \"12\": 94135, \"18\": 93792, \"62\": 32509, \"11\": 94079, \"20\": 93543, \"22\": 92324, \"54\": 39644, \"17\": 94135, \"44\": 54366, \"41\": 62330, \"30\": 82207, \"46\": 52304, \"48\": 94135, \"13\": 94120, \"5\": 94116, \"21\": 93421, \"36\": 66005, \"59\": 31291, \"70\": 12369, \"64\": 21373, \"45\": 41533, \"58\": 36437, \"61\": 32407, \"52\": 47844, \"37\": 70695, \"63\": 30461, \"53\": 43677, \"43\": 61155, \"73\": 9668, \"60\": 26479, \"40\": 59826, \"75\": 10409, \"65\": 18289, \"56\": 36455, \"76\": 8657, \"50\": 48091, \"84\": 1147, \"69\": 15236, \"66\": 14933, \"72\": 12220, \"57\": 33385, \"71\": 12941, \"81\": 2567, \"91\": 164, \"74\": 7646, \"82\": 1864, \"68\": 17451, \"77\": 5263, \"78\": 4850, \"67\": 13607, \"80\": 3423, \"79\": 2847, \"90\": 231, \"83\": 1861, \"92\": 188, \"85\": 564, \"86\": 287, \"87\": 282, \"88\": 396, \"89\": 249, \"94\": 57, \"95\": 54, \"93\": 29, \"97\": 43, \"96\": 46, \"99\": 20, \"98\": 21, \"100\": 7}',\n",
              " 'index_word': '{\"1\": \" \", \"2\": \"e\", \"3\": \"o\", \"4\": \"a\", \"5\": \"t\", \"6\": \"n\", \"7\": \"i\", \"8\": \"r\", \"9\": \"s\", \"10\": \"l\", \"11\": \"d\", \"12\": \"\\\\n\", \"13\": \"c\", \"14\": \"h\", \"15\": \"u\", \"16\": \"p\", \"17\": \"\\\\u2022\", \"18\": \"m\", \"19\": \"g\", \"20\": \"b\", \"21\": \".\", \"22\": \"f\", \"23\": \"1\", \"24\": \"w\", \"25\": \",\", \"26\": \"k\", \"27\": \"y\", \"28\": \"v\", \"29\": \"2\", \"30\": \"S\", \"31\": \"C\", \"32\": \"4\", \"33\": \"3\", \"34\": \"x\", \"35\": \"/\", \"36\": \"-\", \"37\": \"P\", \"38\": \")\", \"39\": \"(\", \"40\": \"0\", \"41\": \"A\", \"42\": \"B\", \"43\": \"5\", \"44\": \"T\", \"45\": \"z\", \"46\": \"R\", \"47\": \"\\\\ud83d\\\\udcd7\", \"48\": \"\\\\ud83e\\\\udd55\", \"49\": \"\\\\ud83d\\\\udcdd\", \"50\": \"I\", \"51\": \"M\", \"52\": \"F\", \"53\": \"j\", \"54\": \"D\", \"55\": \";\", \"56\": \"W\", \"57\": \"L\", \"58\": \"8\", \"59\": \"q\", \"60\": \"O\", \"61\": \"G\", \"62\": \"6\", \"63\": \"H\", \"64\": \"E\", \"65\": \"\\'\", \"66\": \"N\", \"67\": \":\", \"68\": \"7\", \"69\": \"9\", \"70\": \"K\", \"71\": \"U\", \"72\": \"V\", \"73\": \"!\", \"74\": \"&\", \"75\": \"Y\", \"76\": \"J\", \"77\": \"\\\\\"\", \"78\": \"\\\\\\\\\", \"79\": \"*\", \"80\": \"Q\", \"81\": \"Z\", \"82\": \"$\", \"83\": \"%\", \"84\": \"X\", \"85\": \"#\", \"86\": \"]\", \"87\": \"[\", \"88\": \"?\", \"89\": \"~\", \"90\": \"+\", \"91\": \"=\", \"92\": \"@\", \"93\": \"_\", \"94\": \">\", \"95\": \"`\", \"96\": \"{\", \"97\": \"}\", \"98\": \"<\", \"99\": \"^\", \"100\": \"|\", \"101\": \"\\\\u2423\"}',\n",
              " 'lower': False,\n",
              " 'num_words': None,\n",
              " 'oov_token': None,\n",
              " 'split': '',\n",
              " 'word_counts': '{\"\\\\u2423\": 1, \"\\\\ud83d\\\\udcd7\": 94135, \" \": 13835352, \"D\": 60264, \"i\": 3908737, \"l\": 2963677, \"y\": 585357, \"M\": 87109, \"a\": 4697710, \"c\": 2344750, \"r\": 3759007, \"o\": 4773276, \"n\": 4157229, \"S\": 248856, \"d\": 2425854, \"R\": 97727, \"e\": 7189338, \"p\": 2121880, \"\\\\n\": 2378587, \"\\\\ud83e\\\\udd55\": 94135, \"\\\\u2022\": 1719642, \"1\": 767640, \".\": 929099, \"b\": 1102426, \"w\": 763308, \"m\": 1416555, \"u\": 2132226, \"A\": 138349, \"h\": 2165337, \"s\": 3704124, \"(\": 162784, \"4\": 206332, \")\": 163460, \"/\": 185739, \"2\": 440415, \"g\": 1339223, \"3\": 194217, \"t\": 4566001, \"v\": 552895, \"\\\\ud83d\\\\udcdd\": 94135, \"C\": 218344, \"k\": 741721, \";\": 58270, \",\": 762950, \"B\": 133385, \"x\": 188721, \"T\": 121236, \"f\": 889817, \"6\": 45478, \"G\": 48896, \"z\": 101606, \"8\": 53321, \"q\": 52876, \"K\": 17021, \"E\": 39480, \"-\": 177456, \"O\": 51814, \"P\": 168191, \"F\": 86792, \"5\": 129450, \"0\": 150306, \"H\": 42840, \"j\": 84558, \"!\": 13221, \"\\'\": 26638, \"W\": 56996, \"J\": 11001, \"Y\": 12933, \"I\": 89948, \"9\": 20918, \"N\": 22465, \"X\": 1345, \"L\": 54997, \"V\": 16115, \"U\": 16594, \"Z\": 3017, \"&\": 13018, \"$\": 2512, \"=\": 299, \"7\": 21452, \"\\\\\\\\\": 9410, \"\\\\\"\": 10269, \":\": 22004, \"Q\": 4092, \"*\": 6118, \"+\": 309, \"%\": 2288, \"@\": 209, \"#\": 701, \"[\": 511, \"]\": 514, \"?\": 475, \"~\": 387, \">\": 94, \"`\": 65, \"_\": 148, \"{\": 54, \"}\": 51, \"^\": 30, \"<\": 38, \"|\": 26}',\n",
              " 'word_docs': '{\"\\\\u2423\": 1, \"x\": 70465, \")\": 65029, \"n\": 94130, \"e\": 94135, \",\": 89419, \"/\": 59588, \"g\": 93812, \"a\": 94133, \" \": 94135, \"i\": 94131, \"C\": 78336, \"h\": 94029, \"s\": 94130, \"o\": 94126, \";\": 26345, \"\\\\ud83d\\\\udcdd\": 94135, \"l\": 94111, \"p\": 94034, \"3\": 74283, \"4\": 76497, \"(\": 64915, \"M\": 51101, \"\\\\ud83d\\\\udcd7\": 94135, \"1\": 93354, \"u\": 94095, \"w\": 92673, \"B\": 64041, \"k\": 91327, \"y\": 90429, \"r\": 94123, \"2\": 90369, \"v\": 90400, \"\\\\n\": 94135, \"m\": 93792, \"6\": 32509, \"d\": 94079, \"b\": 93543, \"f\": 92324, \"D\": 39644, \"\\\\u2022\": 94135, \"T\": 54366, \"A\": 62330, \"S\": 82207, \"R\": 52304, \"\\\\ud83e\\\\udd55\": 94135, \"c\": 94120, \"t\": 94116, \".\": 93421, \"-\": 66005, \"q\": 31291, \"K\": 12369, \"E\": 21373, \"z\": 41533, \"8\": 36437, \"G\": 32407, \"F\": 47844, \"P\": 70695, \"H\": 30461, \"j\": 43677, \"5\": 61155, \"!\": 9668, \"O\": 26479, \"0\": 59826, \"Y\": 10409, \"\\'\": 18289, \"W\": 36455, \"J\": 8657, \"I\": 48091, \"X\": 1147, \"9\": 15236, \"N\": 14933, \"V\": 12220, \"L\": 33385, \"U\": 12941, \"Z\": 2567, \"=\": 164, \"&\": 7646, \"$\": 1864, \"7\": 17451, \"\\\\\"\": 5263, \"\\\\\\\\\": 4850, \":\": 13607, \"Q\": 3423, \"*\": 2847, \"+\": 231, \"%\": 1861, \"@\": 188, \"#\": 564, \"]\": 287, \"[\": 282, \"?\": 396, \"~\": 249, \">\": 57, \"`\": 54, \"_\": 29, \"}\": 43, \"{\": 46, \"^\": 20, \"<\": 21, \"|\": 7}',\n",
              " 'word_index': '{\" \": 1, \"e\": 2, \"o\": 3, \"a\": 4, \"t\": 5, \"n\": 6, \"i\": 7, \"r\": 8, \"s\": 9, \"l\": 10, \"d\": 11, \"\\\\n\": 12, \"c\": 13, \"h\": 14, \"u\": 15, \"p\": 16, \"\\\\u2022\": 17, \"m\": 18, \"g\": 19, \"b\": 20, \".\": 21, \"f\": 22, \"1\": 23, \"w\": 24, \",\": 25, \"k\": 26, \"y\": 27, \"v\": 28, \"2\": 29, \"S\": 30, \"C\": 31, \"4\": 32, \"3\": 33, \"x\": 34, \"/\": 35, \"-\": 36, \"P\": 37, \")\": 38, \"(\": 39, \"0\": 40, \"A\": 41, \"B\": 42, \"5\": 43, \"T\": 44, \"z\": 45, \"R\": 46, \"\\\\ud83d\\\\udcd7\": 47, \"\\\\ud83e\\\\udd55\": 48, \"\\\\ud83d\\\\udcdd\": 49, \"I\": 50, \"M\": 51, \"F\": 52, \"j\": 53, \"D\": 54, \";\": 55, \"W\": 56, \"L\": 57, \"8\": 58, \"q\": 59, \"O\": 60, \"G\": 61, \"6\": 62, \"H\": 63, \"E\": 64, \"\\'\": 65, \"N\": 66, \":\": 67, \"7\": 68, \"9\": 69, \"K\": 70, \"U\": 71, \"V\": 72, \"!\": 73, \"&\": 74, \"Y\": 75, \"J\": 76, \"\\\\\"\": 77, \"\\\\\\\\\": 78, \"*\": 79, \"Q\": 80, \"Z\": 81, \"$\": 82, \"%\": 83, \"X\": 84, \"#\": 85, \"]\": 86, \"[\": 87, \"?\": 88, \"~\": 89, \"+\": 90, \"=\": 91, \"@\": 92, \"_\": 93, \">\": 94, \"`\": 95, \"{\": 96, \"}\": 97, \"<\": 98, \"^\": 99, \"|\": 100, \"\\\\u2423\": 101}'}"
            ]
          },
          "metadata": {
            "tags": []
          },
          "execution_count": 9
        }
      ]
    },
    {
      "cell_type": "code",
      "metadata": {
        "colab": {
          "base_uri": "https://localhost:8080/"
        },
        "id": "Lg7TGozeFRwT",
        "outputId": "b98e1c5d-e1a7-461e-cc89-2b48ae8b1def"
      },
      "source": [
        "# Oleksii Trekhleb\n",
        "VOCABULARY_SIZE = len(tokenizer.word_counts) + 1 # record for later\n",
        "print(VOCABULARY_SIZE)\n",
        "\n",
        "data_vec = tokenizer.texts_to_sequences(data_filter) # vectorize the data"
      ],
      "execution_count": null,
      "outputs": [
        {
          "output_type": "stream",
          "text": [
            "102\n"
          ],
          "name": "stdout"
        }
      ]
    },
    {
      "cell_type": "code",
      "metadata": {
        "id": "TJZvIQXlFuC2"
      },
      "source": [
        "# Oleksii Trekhleb (adapted)\n",
        "\n",
        "# standardize recipe length to 2001. We will split off one character later.\n",
        "data_temp = tf.keras.preprocessing.sequence.pad_sequences(\n",
        "    sequences = data_vec,\n",
        "    maxlen = MAX_RECIPE_LENGTH - 1, # create room for stop signs at the end\n",
        "    padding = \"post\",\n",
        "    truncating = \"post\",\n",
        "    value = tokenizer.texts_to_sequences([STOP_SIGN])[0]\n",
        ")\n",
        "\n",
        "data_pad = tf.keras.preprocessing.sequence.pad_sequences(\n",
        "    sequences = data_temp,\n",
        "    maxlen = MAX_RECIPE_LENGTH + 1, # add on the stop signs\n",
        "    padding = \"post\",\n",
        "    truncating = \"post\",\n",
        "    value = tokenizer.texts_to_sequences([STOP_SIGN])[0]\n",
        ")\n",
        "\n",
        "dataset = tf.data.Dataset.from_tensor_slices(data_pad)"
      ],
      "execution_count": null,
      "outputs": []
    },
    {
      "cell_type": "code",
      "metadata": {
        "id": "I1TaZqJjH7KK"
      },
      "source": [
        "# Oleksii Trekhleb\n",
        "\n",
        "def split_input_target(recipe):\n",
        "  ''' separate each string by removing one of the end characters, for model prediction later. '''\n",
        "  input_text = recipe[:-1]\n",
        "  target_text = recipe[1:]\n",
        "    \n",
        "  return input_text, target_text\n",
        "\n",
        "data_target = dataset.map(split_input_target)\n",
        "\n",
        "BATCH_SIZE = 64\n",
        "SHUFFLE_BUFFER_SIZE = 1000\n",
        "\n",
        "# batches the data to save memory later\n",
        "# shuffles and repeats in order to allow for infinite training (on the data end)\n",
        "data_train = data_target.shuffle(SHUFFLE_BUFFER_SIZE).batch(BATCH_SIZE, drop_remainder = True).repeat()"
      ],
      "execution_count": null,
      "outputs": []
    },
    {
      "cell_type": "markdown",
      "metadata": {
        "id": "tmMWN8_fA9-l"
      },
      "source": [
        "# Section 2: Modeling\n",
        "\n",
        "In this section, we define and train a variety of models, each of which is given its own subsection. Each model (re)defines various constants as needed, and sets up a directory to save its progress."
      ]
    },
    {
      "cell_type": "markdown",
      "metadata": {
        "id": "e0b8-aSEIwwa"
      },
      "source": [
        "## Model 1: Baseline\n",
        "\n",
        "This is an LSTM model that was implemented by Oleksii Trekhleb. We have made slight modifications."
      ]
    },
    {
      "cell_type": "code",
      "metadata": {
        "id": "LMgPBVKjIv9E"
      },
      "source": [
        "# Oleksii Trekhleb (adapted)\n",
        "\n",
        "# set up directory and checkpoint saving\n",
        "\n",
        "dir = \"/content/drive/Shareddrives/Gouda Group Project/recipe_model/baseline\"\n",
        "checkpoint = os.path.join(dir, \"checkpoint_{epoch}\")\n",
        "checkpoint_callback = tf.keras.callbacks.ModelCheckpoint(\n",
        "    filepath = checkpoint,\n",
        "    save_weights_only = True\n",
        ")"
      ],
      "execution_count": null,
      "outputs": []
    },
    {
      "cell_type": "code",
      "metadata": {
        "colab": {
          "base_uri": "https://localhost:8080/",
          "height": 665
        },
        "id": "BRCv_-F1Jv4s",
        "outputId": "67b1512f-c301-4d03-8e15-72c1b0f1fce0"
      },
      "source": [
        "# Oleksii Trekhleb (adapted)\n",
        "\n",
        "# define model\n",
        "\n",
        "# constants\n",
        "EMBEDDING_SIZE = 256\n",
        "UNITS = 1024\n",
        "\n",
        "model = tf.keras.models.Sequential([\n",
        "  layers.Embedding(input_dim = VOCABULARY_SIZE,\n",
        "                   output_dim = EMBEDDING_SIZE,\n",
        "                   batch_input_shape = [BATCH_SIZE, None]),\n",
        "  layers.LSTM(units = UNITS,\n",
        "              return_sequences = True,\n",
        "              stateful = True,\n",
        "              recurrent_initializer = tf.keras.initializers.GlorotNormal()),\n",
        "  layers.Dense(VOCABULARY_SIZE)         \n",
        "])\n",
        "\n",
        "# show description\n",
        "model.summary()\n",
        "tf.keras.utils.plot_model(\n",
        "    model,\n",
        "    show_shapes = True,\n",
        "    show_layer_names = True\n",
        ")"
      ],
      "execution_count": null,
      "outputs": [
        {
          "output_type": "stream",
          "text": [
            "Model: \"sequential\"\n",
            "_________________________________________________________________\n",
            "Layer (type)                 Output Shape              Param #   \n",
            "=================================================================\n",
            "embedding (Embedding)        (64, None, 256)           26112     \n",
            "_________________________________________________________________\n",
            "lstm (LSTM)                  (64, None, 1024)          5246976   \n",
            "_________________________________________________________________\n",
            "dense (Dense)                (64, None, 102)           104550    \n",
            "=================================================================\n",
            "Total params: 5,377,638\n",
            "Trainable params: 5,377,638\n",
            "Non-trainable params: 0\n",
            "_________________________________________________________________\n"
          ],
          "name": "stdout"
        },
        {
          "output_type": "execute_result",
          "data": {
            "image/png": "[encoded data removed]",
            "text/plain": [
              "<IPython.core.display.Image object>"
            ]
          },
          "metadata": {
            "tags": []
          },
          "execution_count": 14
        }
      ]
    },
    {
      "cell_type": "code",
      "metadata": {
        "id": "XSjaKrU5Mtqj"
      },
      "source": [
        "model.compile(optimizer = \"adam\", loss = tf.keras.losses.SparseCategoricalCrossentropy(from_logits = True))"
      ],
      "execution_count": null,
      "outputs": []
    },
    {
      "cell_type": "code",
      "metadata": {
        "colab": {
          "base_uri": "https://localhost:8080/"
        },
        "id": "wtPcR1Y2NIiw",
        "outputId": "dfd6beb1-69f7-4668-b1d8-6f552009c7ad"
      },
      "source": [
        "# Oleksii Trekhleb (constant values modified)\n",
        "\n",
        "# constants\n",
        "EPOCHS = 5 # how long to train\n",
        "INITIAL_EPOCH = 1 # resume from this epoch\n",
        "STEPS_PER_EPOCH = 1000\n",
        "\n",
        "history = model.fit(\n",
        "    x = data_train,\n",
        "    epochs = EPOCHS,\n",
        "    steps_per_epoch = STEPS_PER_EPOCH,\n",
        "    initial_epoch = INITIAL_EPOCH,\n",
        "    callbacks = [checkpoint_callback],\n",
        "    verbose = True\n",
        ")"
      ],
      "execution_count": null,
      "outputs": [
        {
          "output_type": "stream",
          "text": [
            "Epoch 2/5\n",
            "1000/1000 [==============================] - 1282s 1s/step - loss: 1.0458\n",
            "Epoch 3/5\n",
            "1000/1000 [==============================] - 1293s 1s/step - loss: 0.5845\n",
            "Epoch 4/5\n",
            "1000/1000 [==============================] - 1291s 1s/step - loss: 0.4465\n",
            "Epoch 5/5\n",
            "1000/1000 [==============================] - 1289s 1s/step - loss: 0.3890\n"
          ],
          "name": "stdout"
        }
      ]
    },
    {
      "cell_type": "markdown",
      "metadata": {
        "id": "8NUpoxuM0o_-"
      },
      "source": [
        "## Model 2: GRU\n",
        "\n",
        "After seeing the output of the baseline model, I was rather unimpressed. In reading about RNNs online, it looks like Gated Recurrent Units (GRUs) can learn more quickly than LSTMs. So in this model, we will use a GRU layer instead. We also increase the embedding dimension so that there are still roughly the same number of parameters"
      ]
    },
    {
      "cell_type": "code",
      "metadata": {
        "id": "IFLba8S61eti"
      },
      "source": [
        "# set up directory and checkpoint saving\n",
        "\n",
        "dir = \"/content/drive/Shareddrives/Gouda Group Project/recipe_model/gru1\"\n",
        "checkpoint = os.path.join(dir, \"checkpoint_{epoch}\")\n",
        "checkpoint_callback = tf.keras.callbacks.ModelCheckpoint(\n",
        "    filepath = checkpoint,\n",
        "    save_weights_only = True\n",
        ")"
      ],
      "execution_count": null,
      "outputs": []
    },
    {
      "cell_type": "code",
      "metadata": {
        "colab": {
          "base_uri": "https://localhost:8080/",
          "height": 1000
        },
        "id": "2EG0ZYME1n2y",
        "outputId": "4fbe0f27-ac85-406f-fb6e-ba62efe9a52f"
      },
      "source": [
        "# constants\n",
        "EMBEDDING_SIZE = 512\n",
        "UNITS = 1024\n",
        "\n",
        "model = tf.keras.models.Sequential([\n",
        "  layers.Embedding(input_dim = VOCABULARY_SIZE,\n",
        "                   output_dim = EMBEDDING_SIZE,\n",
        "                   batch_input_shape = [BATCH_SIZE, None]),\n",
        "  layers.GRU(units = UNITS,\n",
        "             return_sequences = True,\n",
        "             stateful = True),\n",
        "  layers.Dense(VOCABULARY_SIZE)         \n",
        "])\n",
        "\n",
        "# show description\n",
        "model.summary()\n",
        "tf.keras.utils.plot_model(\n",
        "    model,\n",
        "    show_shapes = True,\n",
        "    show_layer_names = True\n",
        ")"
      ],
      "execution_count": null,
      "outputs": [
        {
          "output_type": "stream",
          "text": [
            "WARNING:tensorflow:Unresolved object in checkpoint: (root).optimizer\n",
            "WARNING:tensorflow:Unresolved object in checkpoint: (root).optimizer.iter\n",
            "WARNING:tensorflow:Unresolved object in checkpoint: (root).optimizer.beta_1\n",
            "WARNING:tensorflow:Unresolved object in checkpoint: (root).optimizer.beta_2\n",
            "WARNING:tensorflow:Unresolved object in checkpoint: (root).optimizer.decay\n",
            "WARNING:tensorflow:Unresolved object in checkpoint: (root).optimizer.learning_rate\n",
            "WARNING:tensorflow:Unresolved object in checkpoint: (root).optimizer's state 'm' for (root).layer_with_weights-0.embeddings\n",
            "WARNING:tensorflow:Unresolved object in checkpoint: (root).optimizer's state 'm' for (root).layer_with_weights-2.kernel\n",
            "WARNING:tensorflow:Unresolved object in checkpoint: (root).optimizer's state 'm' for (root).layer_with_weights-2.bias\n",
            "WARNING:tensorflow:Unresolved object in checkpoint: (root).optimizer's state 'm' for (root).layer_with_weights-1.cell.kernel\n",
            "WARNING:tensorflow:Unresolved object in checkpoint: (root).optimizer's state 'm' for (root).layer_with_weights-1.cell.recurrent_kernel\n",
            "WARNING:tensorflow:Unresolved object in checkpoint: (root).optimizer's state 'm' for (root).layer_with_weights-1.cell.bias\n",
            "WARNING:tensorflow:Unresolved object in checkpoint: (root).optimizer's state 'v' for (root).layer_with_weights-0.embeddings\n",
            "WARNING:tensorflow:Unresolved object in checkpoint: (root).optimizer's state 'v' for (root).layer_with_weights-2.kernel\n",
            "WARNING:tensorflow:Unresolved object in checkpoint: (root).optimizer's state 'v' for (root).layer_with_weights-2.bias\n",
            "WARNING:tensorflow:Unresolved object in checkpoint: (root).optimizer's state 'v' for (root).layer_with_weights-1.cell.kernel\n",
            "WARNING:tensorflow:Unresolved object in checkpoint: (root).optimizer's state 'v' for (root).layer_with_weights-1.cell.recurrent_kernel\n",
            "WARNING:tensorflow:Unresolved object in checkpoint: (root).optimizer's state 'v' for (root).layer_with_weights-1.cell.bias\n",
            "WARNING:tensorflow:A checkpoint was restored (e.g. tf.train.Checkpoint.restore or tf.keras.Model.load_weights) but not all checkpointed values were used. See above for specific issues. Use expect_partial() on the load status object, e.g. tf.train.Checkpoint.restore(...).expect_partial(), to silence these warnings, or use assert_consumed() to make the check explicit. See https://www.tensorflow.org/guide/checkpoint#loading_mechanics for details.\n",
            "Model: \"sequential_5\"\n",
            "_________________________________________________________________\n",
            "Layer (type)                 Output Shape              Param #   \n",
            "=================================================================\n",
            "embedding_5 (Embedding)      (64, None, 512)           52224     \n",
            "_________________________________________________________________\n",
            "gru (GRU)                    (64, None, 1024)          4724736   \n",
            "_________________________________________________________________\n",
            "dense_5 (Dense)              (64, None, 102)           104550    \n",
            "=================================================================\n",
            "Total params: 4,881,510\n",
            "Trainable params: 4,881,510\n",
            "Non-trainable params: 0\n",
            "_________________________________________________________________\n"
          ],
          "name": "stdout"
        },
        {
          "output_type": "execute_result",
          "data": {
            "image/png": "[encoded data removed]",
            "text/plain": [
              "<IPython.core.display.Image object>"
            ]
          },
          "metadata": {
            "tags": []
          },
          "execution_count": 58
        }
      ]
    },
    {
      "cell_type": "code",
      "metadata": {
        "id": "VMd0tYaq2NQU"
      },
      "source": [
        "model.compile(optimizer = \"adam\", loss = tf.keras.losses.SparseCategoricalCrossentropy(from_logits = True))"
      ],
      "execution_count": null,
      "outputs": []
    },
    {
      "cell_type": "code",
      "metadata": {
        "colab": {
          "base_uri": "https://localhost:8080/"
        },
        "id": "UnHY5_2D2HLd",
        "outputId": "11ed5682-385e-4ac4-8f4c-00ce9cf275da"
      },
      "source": [
        "# constants\n",
        "EPOCHS = 5 # how long to train\n",
        "INITIAL_EPOCH = 1 # resume from this epoch\n",
        "STEPS_PER_EPOCH = 1000\n",
        "\n",
        "history = model.fit(\n",
        "    x = data_train,\n",
        "    epochs = EPOCHS,\n",
        "    steps_per_epoch = STEPS_PER_EPOCH,\n",
        "    initial_epoch = INITIAL_EPOCH,\n",
        "    callbacks = [checkpoint_callback],\n",
        "    verbose = True\n",
        ")"
      ],
      "execution_count": null,
      "outputs": [
        {
          "output_type": "stream",
          "text": [
            "Epoch 2/5\n",
            "1000/1000 [==============================] - 1236s 1s/step - loss: 1.1965\n",
            "Epoch 3/5\n",
            "1000/1000 [==============================] - 1239s 1s/step - loss: 0.3937\n",
            "Epoch 4/5\n",
            "1000/1000 [==============================] - 1237s 1s/step - loss: 0.3409\n",
            "Epoch 5/5\n",
            "1000/1000 [==============================] - 1238s 1s/step - loss: 0.3203\n"
          ],
          "name": "stdout"
        }
      ]
    },
    {
      "cell_type": "markdown",
      "metadata": {
        "id": "SBMxX1CrA91U"
      },
      "source": [
        "# Section 3: Generating\n",
        "\n",
        "We use the models trained in Section 2 to generate new recipes."
      ]
    },
    {
      "cell_type": "code",
      "metadata": {
        "id": "De7GWo1quGAf"
      },
      "source": [
        "# Oleksii Treklheb\n",
        "\n",
        "# set up model with batch size 1, to facilitate faster generation\n",
        "\n",
        "EMBEDDING_SIZE = 256\n",
        "UNITS = 1024\n",
        "\n",
        "generator = tf.keras.models.Sequential([\n",
        "  layers.Embedding(input_dim = VOCABULARY_SIZE,\n",
        "                   output_dim = EMBEDDING_SIZE,\n",
        "                   batch_input_shape = [1, None]),\n",
        "  layers.LSTM(units = UNITS,\n",
        "              return_sequences = True,\n",
        "              stateful = True,\n",
        "              recurrent_initializer = tf.keras.initializers.GlorotNormal()),\n",
        "  layers.Dense(VOCABULARY_SIZE)         \n",
        "])\n",
        "\n",
        "# load weights\n",
        "generator.load_weights(\"/content/drive/Shareddrives/Gouda Group Project/recipe_model/baseline/checkpoint_4\")\n",
        "generator.build(tf.TensorShape([1, None]))"
      ],
      "execution_count": null,
      "outputs": []
    },
    {
      "cell_type": "code",
      "metadata": {
        "id": "gvZyI2ZrvvqH"
      },
      "source": [
        "# Oleksii Trekhleb (adapted)\n",
        "\n",
        "def generate(model, seed, length, temperature):\n",
        "  ''' generates text of length length, using the provided seed text and model. '''\n",
        "  start = STOP_WORD_TITLE + seed\n",
        "  indices = np.array(tokenizer.texts_to_sequences([start])) # vectorize\n",
        "  result = []\n",
        "\n",
        "  model.reset_states() # make separate predictions independent\n",
        "  for char in range(length): # predict next character\n",
        "    preds = model(indices)\n",
        "    preds = tf.squeeze(preds, 0) # reduce a dimension\n",
        "    preds = preds / temperature\n",
        "\n",
        "    # pick next character\n",
        "    pred_id = tf.random.categorical(preds, num_samples = 1)[-1, 0].numpy()\n",
        "    \n",
        "    # add the predicted character\n",
        "    indices = tf.expand_dims([pred_id], 0)\n",
        "    next_char = tokenizer.sequences_to_texts(indices.numpy())[0]\n",
        "    result.append(next_char)\n",
        "\n",
        "  return (start + ''.join(result))"
      ],
      "execution_count": null,
      "outputs": []
    },
    {
      "cell_type": "code",
      "metadata": {
        "colab": {
          "base_uri": "https://localhost:8080/"
        },
        "id": "H29-qbN0yYcN",
        "outputId": "c0949252-b9d2-4420-d6aa-7afe87109694"
      },
      "source": [
        "seeds = [\"pasta\", \"salmon\"]\n",
        "temps = [0.1, 0.2, 0.5, 0.8]\n",
        "\n",
        "recipes = []\n",
        "for seed in seeds:\n",
        "  for temp in temps:\n",
        "    recipes.append(generate(generator, seed, 500, temp))\n",
        "    print(\"----- RECIPE -----\")\n",
        "    print(\"SEED: \", seed, \", TEMPERATURE: \", temp)\n",
        "    print(recipes[len(recipes) - 1])"
      ],
      "execution_count": null,
      "outputs": [
        {
          "output_type": "stream",
          "text": [
            "----- RECIPE -----\n",
            "SEED:  pasta , TEMPERATURE:  0.1\n",
            "📗 pasta📝📝\n",
            "📝\n",
            "␣␣␣␣␣␣␣␣␣␣␣␣␣␣␣␣␣␣␣␣␣␣␣␣␣␣␣␣␣␣␣␣␣␣␣␣␣␣␣␣␣␣␣␣␣␣␣␣␣␣␣␣␣␣␣␣␣␣␣␣␣␣␣␣␣␣␣␣␣␣␣␣␣␣␣␣␣␣␣␣␣␣␣␣␣␣␣␣␣␣␣␣␣␣␣␣␣␣␣␣␣␣␣␣␣␣␣␣␣␣␣␣␣␣␣␣␣␣␣␣␣␣␣␣␣␣␣␣␣␣␣␣␣␣␣␣␣␣␣␣␣␣␣␣␣␣␣␣␣␣␣␣␣␣␣␣␣␣␣␣␣␣␣␣␣␣␣␣␣␣␣␣␣␣␣␣␣␣␣␣␣␣␣␣␣␣␣␣␣␣␣␣␣␣␣␣␣␣␣␣␣␣␣␣␣␣␣␣␣␣␣␣␣␣␣␣␣␣␣␣␣␣␣␣␣␣␣␣␣␣␣␣␣␣␣␣␣␣␣␣␣␣␣␣␣␣␣␣␣␣␣␣␣␣␣␣␣␣␣␣␣␣␣␣␣␣␣␣␣␣␣␣␣␣␣␣␣␣␣␣␣␣␣␣␣␣␣␣␣␣␣␣␣␣␣␣␣␣␣␣␣␣␣␣␣␣␣␣␣␣␣␣␣␣␣␣␣␣␣␣␣␣␣␣␣␣␣␣␣␣␣␣␣␣␣␣␣␣␣␣␣␣␣␣␣␣␣␣␣␣␣␣␣␣␣␣␣␣␣␣␣␣␣␣␣␣␣␣␣␣␣␣␣␣␣␣␣␣␣␣␣␣␣␣␣␣␣␣␣␣␣␣␣␣␣␣␣␣␣␣␣␣␣␣␣␣␣␣␣␣␣␣␣␣␣␣␣␣␣␣␣␣␣␣␣␣␣␣␣␣␣␣␣␣␣␣␣␣␣␣␣␣␣␣␣␣␣␣␣␣␣␣␣␣␣␣␣␣␣␣␣␣␣␣␣␣␣␣␣␣␣␣␣␣␣␣␣␣␣␣␣␣␣␣␣␣␣␣␣␣␣␣␣␣␣\n",
            "----- RECIPE -----\n",
            "SEED:  pasta , TEMPERATURE:  0.2\n",
            "📗 pasta📝h📝eteen brown sugar and cook until the mixture is the center comes out clean.\n",
            "• This is smooth the chicken broth and serve with the remaining beans and salt and pepper.\n",
            "• Place the bacon in a large skillet over medium heat until the chicken is tender, about 5 minutes.\n",
            "• Add the chicken stock and stir to combine.\n",
            "• Add the chicken broth and stir until the center is cooked through.\n",
            "• Add the salt and pepper to taste.\n",
            "• Cook until the center comes out clean.\n",
            "• Stir in the flour, baking soda, and s\n",
            "----- RECIPE -----\n",
            "SEED:  pasta , TEMPERATURE:  0.5\n",
            "📗 pasta📝• beedges evenly with a small salt and pepper salt.\n",
            "• In a small bowl, combine the powdered sugar, milk, and salt.\n",
            "• Stir in the bowl until well blended and cook until the fish is smooth.\n",
            "• Place the potatoes in the evenly onions and add the cheese and water to the boiling the consistency.\n",
            "• Sprinkle with mustard and the chicken and the flour mixture and mix until the combined golden, about 10 minutes.\n",
            "• Add the oil, and sour cream and cook until the cooked cooked, about 15 minutes.\n",
            "• Remove fo\n",
            "----- RECIPE -----\n",
            "SEED:  pasta , TEMPERATURE:  0.8\n",
            "📗 pasta📝 heerovan line bread and cook until the cooked chicken for about 5 minutes.\n",
            "• Add the glastes and stir to melt the butter.\n",
            "• Add the sour cream and the egg and add the mixture, and milk for 1 hour 10 minutes.\n",
            "• Cook the pan on low not from the cookies sproot from the heat.\n",
            "• Add tomatoes, carrots and carrots and garnish.\n",
            "• Add the spinach and garlic in a medium saucepan, add in the remaining mixture and cook until the onions are tender, to lub pot of the caremersom mixture.\n",
            "• Add the tomatoes a\n",
            "----- RECIPE -----\n",
            "SEED:  salmon , TEMPERATURE:  0.1\n",
            "📗 salmon📝\n",
            "📝\n",
            "␣␣␣␣␣␣␣␣␣␣␣␣␣␣␣␣␣␣␣␣␣␣␣␣␣␣␣␣␣␣␣␣␣␣␣␣␣␣␣␣␣␣␣␣␣␣␣␣␣␣␣␣␣␣␣␣␣␣␣␣␣␣␣␣␣␣␣␣␣␣␣␣␣␣␣␣␣␣␣␣␣␣␣␣␣␣␣␣␣␣␣␣␣␣␣␣␣␣␣␣␣␣␣␣␣␣␣␣␣␣␣␣␣␣␣␣␣␣␣␣␣␣␣␣␣␣␣␣␣␣␣␣␣␣␣␣␣␣␣␣␣␣␣␣␣␣␣␣␣␣␣␣␣␣␣␣␣␣␣␣␣␣␣␣␣␣␣␣␣␣␣␣␣␣␣␣␣␣␣␣␣␣␣␣␣␣␣␣␣␣␣␣␣␣␣␣␣␣␣␣␣␣␣␣␣␣␣␣␣␣␣␣␣␣␣␣␣␣␣␣␣␣␣␣␣␣␣␣␣␣␣␣␣␣␣␣␣␣␣␣␣␣␣␣␣␣␣␣␣␣␣␣␣␣␣␣␣␣␣␣␣␣␣␣␣␣␣␣␣␣␣␣␣␣␣␣␣␣␣␣␣␣␣␣␣␣␣␣␣␣␣␣␣␣␣␣␣␣␣␣␣␣␣␣␣␣␣␣␣␣␣␣␣␣␣␣␣␣␣␣␣␣␣␣␣␣␣␣␣␣␣␣␣␣␣␣␣␣␣␣␣␣␣␣␣␣␣␣␣␣␣␣␣␣␣␣␣␣␣␣␣␣␣␣␣␣␣␣␣␣␣␣␣␣␣␣␣␣␣␣␣␣␣␣␣␣␣␣␣␣␣␣␣␣␣␣␣␣␣␣␣␣␣␣␣␣␣␣␣␣␣␣␣␣␣␣␣␣␣␣␣␣␣␣␣␣␣␣␣␣␣␣␣␣␣␣␣␣␣␣␣␣␣␣␣␣␣␣␣␣␣␣␣␣␣␣␣␣␣␣␣␣␣␣␣␣␣␣␣␣␣␣␣␣␣␣␣␣␣␣␣␣␣␣␣␣␣␣␣␣␣␣␣␣␣␣\n",
            "----- RECIPE -----\n",
            "SEED:  salmon , TEMPERATURE:  0.2\n",
            "📗 salmon📝hetin with and cook until the chicken is smooth.\n",
            "• Add the chicken broth, and serve with the salt and pepper.\n",
            "• Add the salt and pepper to taste.\n",
            "• Cook for a few minutes or until the chicken is the center comes out clean.\n",
            "• Cool the pan and stir to cool and stir in the sauce and stir in the center of the butter and stir until the chicken is cooked through.\n",
            "• Then the cooked the chicken in the bowl and stir the cooking sheets and stir in the chicken stock and stir in the center of the sugar and\n",
            "----- RECIPE -----\n",
            "SEED:  salmon , TEMPERATURE:  0.5\n",
            "📗 salmon📝\n",
            "📝␣ Cool Whipped Tomatoes Sauce\n",
            "\n",
            "🥕\n",
            "\n",
            "• 1 lb For 1 medium onion, chopped\n",
            "• 1 1/2 pounds basil, divided\n",
            "• 1 cup dried chicken breast basil\n",
            "• 1 tsp brown sugar\n",
            "• 1 tablespoon ground cinnamon\n",
            "• 1 teaspoon ground cinnamon\n",
            "• 1/2 teaspoon baking powder\n",
            "• 1 teaspoon black pepper\n",
            "• 1 tablespoon salt\n",
            "• 1 teaspoon cumin soda\n",
            "• 1 teaspoon salt\n",
            "• 1 tablespoon lamb onion soup\n",
            "• 1 tablespoon chopped chilied or 12-1/2 cup margarine or 12 cup chopped chicken broth\n",
            "• 1 12 cups shredded cheddar cheese\n",
            "• 12 cup wat\n",
            "----- RECIPE -----\n",
            "SEED:  salmon , TEMPERATURE:  0.8\n",
            "📗 salmon]🥕(EADRAY MAsta Bread\n",
            "\n",
            "🥕\n",
            "\n",
            "• 1 12 teaspoons flour\n",
            "• 1 teaspoon salt\n",
            "• 1 teaspoon drained all ingredients\n",
            "• 1 tablespoon olive oil\n",
            "\n",
            "📝\n",
            "\n",
            "• Bring a large bowl; brand all the onion in a scallow and cook over low heat and let cool.\n",
            "• Bring to a boil, then salt and set aside.\n",
            "• Melt into 1 egg milk.\n",
            "• Add remaining ingredients and cumin to cook 1 min.\n",
            "• mix in becums and stick and cook on low set aside for 40 minutes; drain onto cheese and cream together in a large sife rec pan (100C) than are bowls.\n",
            "␣␣\n"
          ],
          "name": "stdout"
        }
      ]
    },
    {
      "cell_type": "code",
      "metadata": {
        "colab": {
          "base_uri": "https://localhost:8080/"
        },
        "id": "UQGZuJx4JQQD",
        "outputId": "f3dae44b-7cb9-446a-8de6-3e2c94837211"
      },
      "source": [
        "# using the GRU model\n",
        "\n",
        "EMBEDDING_SIZE = 512\n",
        "UNITS = 1024\n",
        "\n",
        "generator = tf.keras.models.Sequential([\n",
        "  layers.Embedding(input_dim = VOCABULARY_SIZE,\n",
        "                   output_dim = EMBEDDING_SIZE,\n",
        "                   batch_input_shape = [1, None]),\n",
        "  layers.GRU(units = UNITS,\n",
        "              return_sequences = True,\n",
        "              stateful = True),\n",
        "  layers.Dense(VOCABULARY_SIZE)         \n",
        "])\n",
        "\n",
        "# load weights\n",
        "generator.load_weights(\"/content/drive/Shareddrives/Gouda Group Project/recipe_model/gru1/checkpoint_4\")\n",
        "generator.build(tf.TensorShape([1, None]))"
      ],
      "execution_count": null,
      "outputs": [
        {
          "output_type": "stream",
          "text": [
            "WARNING:tensorflow:Unresolved object in checkpoint: (root).optimizer\n",
            "WARNING:tensorflow:Unresolved object in checkpoint: (root).optimizer.iter\n",
            "WARNING:tensorflow:Unresolved object in checkpoint: (root).optimizer.beta_1\n",
            "WARNING:tensorflow:Unresolved object in checkpoint: (root).optimizer.beta_2\n",
            "WARNING:tensorflow:Unresolved object in checkpoint: (root).optimizer.decay\n",
            "WARNING:tensorflow:Unresolved object in checkpoint: (root).optimizer.learning_rate\n",
            "WARNING:tensorflow:Unresolved object in checkpoint: (root).optimizer's state 'm' for (root).layer_with_weights-0.embeddings\n",
            "WARNING:tensorflow:Unresolved object in checkpoint: (root).optimizer's state 'm' for (root).layer_with_weights-2.kernel\n",
            "WARNING:tensorflow:Unresolved object in checkpoint: (root).optimizer's state 'm' for (root).layer_with_weights-2.bias\n",
            "WARNING:tensorflow:Unresolved object in checkpoint: (root).optimizer's state 'm' for (root).layer_with_weights-1.cell.kernel\n",
            "WARNING:tensorflow:Unresolved object in checkpoint: (root).optimizer's state 'm' for (root).layer_with_weights-1.cell.recurrent_kernel\n",
            "WARNING:tensorflow:Unresolved object in checkpoint: (root).optimizer's state 'm' for (root).layer_with_weights-1.cell.bias\n",
            "WARNING:tensorflow:Unresolved object in checkpoint: (root).optimizer's state 'v' for (root).layer_with_weights-0.embeddings\n",
            "WARNING:tensorflow:Unresolved object in checkpoint: (root).optimizer's state 'v' for (root).layer_with_weights-2.kernel\n",
            "WARNING:tensorflow:Unresolved object in checkpoint: (root).optimizer's state 'v' for (root).layer_with_weights-2.bias\n",
            "WARNING:tensorflow:Unresolved object in checkpoint: (root).optimizer's state 'v' for (root).layer_with_weights-1.cell.kernel\n",
            "WARNING:tensorflow:Unresolved object in checkpoint: (root).optimizer's state 'v' for (root).layer_with_weights-1.cell.recurrent_kernel\n",
            "WARNING:tensorflow:Unresolved object in checkpoint: (root).optimizer's state 'v' for (root).layer_with_weights-1.cell.bias\n",
            "WARNING:tensorflow:A checkpoint was restored (e.g. tf.train.Checkpoint.restore or tf.keras.Model.load_weights) but not all checkpointed values were used. See above for specific issues. Use expect_partial() on the load status object, e.g. tf.train.Checkpoint.restore(...).expect_partial(), to silence these warnings, or use assert_consumed() to make the check explicit. See https://www.tensorflow.org/guide/checkpoint#loading_mechanics for details.\n"
          ],
          "name": "stdout"
        }
      ]
    },
    {
      "cell_type": "code",
      "metadata": {
        "colab": {
          "base_uri": "https://localhost:8080/"
        },
        "id": "i51fwVltJjhz",
        "outputId": "9904114e-0018-423f-ca19-3d9efca14376"
      },
      "source": [
        "seeds = [\"pasta\", \"rice\", \"bread\", \"potato\"]\n",
        "temps = [0.01, 0.1, 0.2, 0.5, 0.8]\n",
        "\n",
        "recipes = []\n",
        "for seed in seeds:\n",
        "  for temp in temps:\n",
        "    recipes.append(generate(generator, seed, 500, temp))\n",
        "    print(\"----- RECIPE -----\")\n",
        "    print(\"SEED: \", seed, \", TEMPERATURE: \", temp)\n",
        "    print(recipes[len(recipes) - 1])"
      ],
      "execution_count": null,
      "outputs": [
        {
          "output_type": "stream",
          "text": [
            "----- RECIPE -----\n",
            "SEED:  pasta , TEMPERATURE:  0.01\n",
            "📗 pasta with a slice of the sauce of the sauce of the sauce and serve with the remaining sauce.\n",
            "␣␣␣␣␣␣␣␣␣␣␣␣␣␣␣␣␣␣␣␣␣␣␣␣␣␣␣␣␣␣␣␣␣␣␣␣␣␣␣␣␣␣␣␣␣␣␣␣␣␣␣␣␣␣␣␣␣␣␣␣␣␣␣␣␣␣␣␣␣␣␣␣␣␣␣␣␣␣␣␣␣␣␣␣␣␣␣␣␣␣␣␣␣␣␣␣␣␣␣␣␣␣␣␣␣␣␣␣␣␣␣␣␣␣␣␣␣␣␣␣␣␣␣␣␣␣␣␣␣␣␣␣␣␣␣␣␣␣␣␣␣␣␣␣␣␣␣␣␣␣␣␣␣␣␣␣␣␣␣␣␣␣␣␣␣␣␣␣␣␣␣␣␣␣␣␣␣␣␣␣␣␣␣␣␣␣␣␣␣␣␣␣␣␣␣␣␣␣␣␣␣␣␣␣␣␣␣␣␣␣␣␣␣␣␣␣␣␣␣␣␣␣␣␣␣␣␣␣␣␣␣␣␣␣␣␣␣␣␣␣␣␣␣␣␣␣␣␣␣␣␣␣␣␣␣␣␣␣␣␣␣␣␣␣␣␣␣␣␣␣␣␣␣␣␣␣␣␣␣␣␣␣␣␣␣␣␣␣␣␣␣␣␣␣␣␣␣␣␣␣␣␣␣␣␣␣␣␣␣␣␣␣␣␣␣␣␣␣␣␣␣␣␣␣␣␣␣␣␣␣␣␣␣␣␣␣␣␣␣␣␣␣␣␣␣␣␣␣␣␣␣␣␣␣␣␣␣␣␣␣␣␣␣␣␣␣␣␣␣␣␣␣␣␣␣␣␣␣␣␣␣␣␣␣␣␣␣␣␣␣␣␣␣␣␣␣␣␣␣␣␣␣␣␣␣␣␣␣␣␣␣\n",
            "----- RECIPE -----\n",
            "SEED:  pasta , TEMPERATURE:  0.1\n",
            "📗 pasta with a slice of the sauce of the sauce and serve with the remaining sauce.\n",
            "␣␣␣␣␣␣␣␣␣␣␣␣␣␣␣␣␣␣␣␣␣␣␣␣␣␣␣␣␣␣␣␣␣␣␣␣␣␣␣␣␣␣␣␣␣␣␣␣␣␣␣␣␣␣␣␣␣␣␣␣␣␣␣␣␣␣␣␣␣␣␣␣␣␣␣␣␣␣␣␣␣␣␣␣␣␣␣␣␣␣␣␣␣␣␣␣␣␣␣␣␣␣␣␣␣␣␣␣␣␣␣␣␣␣␣␣␣␣␣␣␣␣␣␣␣␣␣␣␣␣␣␣␣␣␣␣␣␣␣␣␣␣␣␣␣␣␣␣␣␣␣␣␣␣␣␣␣␣␣␣␣␣␣␣␣␣␣␣␣␣␣␣␣␣␣␣␣␣␣␣␣␣␣␣␣␣␣␣␣␣␣␣␣␣␣␣␣␣␣␣␣␣␣␣␣␣␣␣␣␣␣␣␣␣␣␣␣␣␣␣␣␣␣␣␣␣␣␣␣␣␣␣␣␣␣␣␣␣␣␣␣␣␣␣␣␣␣␣␣␣␣␣␣␣␣␣␣␣␣␣␣␣␣␣␣␣␣␣␣␣␣␣␣␣␣␣␣␣␣␣␣␣␣␣␣␣␣␣␣␣␣␣␣␣␣␣␣␣␣␣␣␣␣␣␣␣␣␣␣␣␣␣␣␣␣␣␣␣␣␣␣␣␣␣␣␣␣␣␣␣␣␣␣␣␣␣␣␣␣␣␣␣␣␣␣␣␣␣␣␣␣␣␣␣␣␣␣␣␣␣␣␣␣␣␣␣␣␣␣␣␣␣␣␣␣␣␣␣␣␣␣␣␣␣␣␣␣␣␣␣␣␣␣␣␣␣␣␣␣␣␣␣␣␣␣␣␣␣␣␣␣␣␣␣␣␣␣␣␣␣␣␣␣␣\n",
            "----- RECIPE -----\n",
            "SEED:  pasta , TEMPERATURE:  0.2\n",
            "📗 pasta with a slice of the steak sauce and serve with the remaining bacon and soup with a small sprig of the lemon wedges and the sauce of the steamed rice and serve with the remaining bacon and salt and pepper.\n",
            "• The recipe you dont have a ball of your choice of the remaining back of a spoon or some of the oil and serve with the remaining cheese and serve with the remaining cheese and parsley if desired.\n",
            "• Serve with sour cream, tomato sauce, soy sauce, sesame seeds, and cheese and serve with the rem\n",
            "----- RECIPE -----\n",
            "SEED:  pasta , TEMPERATURE:  0.5\n",
            "📗 pasta with a slotted spoon to serve.\n",
            "• I use shortbread can be favorite for the garlic to make the mustard seeds and serve warm.\n",
            "• Press dough into balls and then the vegetables and top with the remaining cheese and mushrooms.\n",
            "• Brush with the remaining red pepper flakes, or possibly chicken broth, and salt and pepper to taste.\n",
            "• Add the buttermilk and the remaining butter in a bowl with the ladds and the remaining ingredients (if using).\n",
            "• Toss the dried chile and cheese into the base of the back of\n",
            "----- RECIPE -----\n",
            "SEED:  pasta , TEMPERATURE:  0.8\n",
            "📗 pasta and flatten the dough for how and remove trim and gently sprinkle with chicken.\n",
            "• Once rice, stir in the tomatoes, oregano and pepper.\n",
            "• Sautes and mix in the parsley for more pan over medium heat with the remaining butter until you reach hardles.\n",
            "• Combine the perilianish in the skillet and simmer for 3 minutes.\n",
            "• Add the tabanco sauce, cooked sausages on top.\n",
            "• Strain shallots to the pan and cook for a few heating to make sure it's makeral sliced if you like.\n",
            "• Add the sugar and salt and pepp\n",
            "----- RECIPE -----\n",
            "SEED:  rice , TEMPERATURE:  0.01\n",
            "📗 rice and serve with a small balls of your choice of the stems and serve with a small balls of your choice of the stems and serve with a small balls of your choice of the stems and serve with a small balls of your choice of the stems and serve with a small balls of your choice of the stems and serve with a small balls of your choice of the stems and serve with a small balls of your choice of the stems and serve with a small balls of your choice of the stems and serve with a small balls of your choice\n",
            "----- RECIPE -----\n",
            "SEED:  rice , TEMPERATURE:  0.1\n",
            "📗 rice with a slice of the sauce of the sauce and serve with the remaining salt and pepper.\n",
            "• I used a small baking sheet and bake for 10 minutes or until the cheese is melted and the cheese is melted and the cheese is melted and the cheese is melted and the cheese is melted and the cheese is melted and the cheese is melted and the cheese is melted and the sauce is softened and the cheese is melted and the cheese is melted and the liquid is absorbed and the sauce thickens and the bread crumbs are cook\n",
            "----- RECIPE -----\n",
            "SEED:  rice , TEMPERATURE:  0.2\n",
            "📗 rice or canned pears and serve with a small balls of the salad dressing and serve with a small balls of your choice of the pasta water for the top of the pasta was and the top of the sauce.\n",
            "• The recipe you like you can also use a small spring of chicken soup in a bowl of your choice of the remaining batter or margarine and serve with the remaining sauce.\n",
            "␣␣␣␣␣␣␣␣␣␣␣␣␣␣␣␣␣␣␣␣␣␣␣␣␣␣␣␣␣␣␣␣␣␣␣␣␣␣␣␣␣␣␣␣␣␣␣␣␣␣␣␣␣␣␣␣␣␣␣␣␣␣␣␣␣␣␣␣␣␣␣␣␣␣␣␣␣␣␣␣␣␣␣␣␣␣␣␣␣␣␣␣␣␣␣␣␣␣␣␣␣␣␣␣␣␣␣␣␣␣␣␣␣␣␣␣␣␣␣␣␣␣␣␣␣␣␣␣␣␣␣␣␣␣␣␣␣␣␣␣␣␣␣␣␣␣\n",
            "----- RECIPE -----\n",
            "SEED:  rice , TEMPERATURE:  0.5\n",
            "📗 rice with the honey or cheese and 1 small balls and serve on a baking sheet with spinach or stack slices and press it in the refrigerator for up to 2 days.\n",
            "• Can be refrigerated for a sheet of aluminum foil and cut into 2 pieces.\n",
            "• Enjoy!\n",
            "␣␣␣␣␣␣␣␣␣␣␣␣␣␣␣␣␣␣␣␣␣␣␣␣␣␣␣␣␣␣␣␣␣␣␣␣␣␣␣␣␣␣␣␣␣␣␣␣␣␣␣␣␣␣␣␣␣␣␣␣␣␣␣␣␣␣␣␣␣␣␣␣␣␣␣␣␣␣␣␣␣␣␣␣␣␣␣␣␣␣␣␣␣␣␣␣␣␣␣␣␣␣␣␣␣␣␣␣␣␣␣␣␣␣␣␣␣␣␣␣␣␣␣␣␣␣␣␣␣␣␣␣␣␣␣␣␣␣␣␣␣␣␣␣␣␣␣␣␣␣␣␣␣␣␣␣␣␣␣␣␣␣␣␣␣␣␣␣␣␣␣␣␣␣␣␣␣␣␣␣␣␣␣␣␣␣␣␣␣␣␣␣␣␣␣␣␣␣␣␣␣␣␣␣␣␣␣␣␣␣␣␣␣␣␣␣␣␣␣␣␣␣␣␣␣␣␣␣␣␣␣␣␣␣␣␣␣␣␣␣␣␣␣␣␣␣␣␣␣␣␣␣␣␣␣␣␣␣␣␣␣␣␣␣␣\n",
            "----- RECIPE -----\n",
            "SEED:  rice , TEMPERATURE:  0.8\n",
            "📗 rice or a plate to the baking sheet lined brading instead of the skin if you like).\n",
            "• Add the simple at the top and set it holiss potatoes, and serve with strawberries, then grits off the skin.\n",
            "• Place the chicken in the portion with a slice of cheese on top.\n",
            "• Bake at 350 degrees F, a fine mess pankoillo in a container container for several hands, and for five minutes in frying pan to evenly cold and they are mostly cover the baking sheet\n",
            "\n",
            "📝\n",
            "\n",
            "• Remove casies from the other side for serving.\n",
            "• Serve\n",
            "----- RECIPE -----\n",
            "SEED:  bread , TEMPERATURE:  0.01\n",
            "📗 bread crumbs and serve with a small balls of your choice of the stems and serve with a small balls of your choice of the stems and serve with a small balls of your choice of the stems and serve with a small balls of your choice of the stems and serve with a small balls of your choice of the stems and serve with a small balls of your choice of the stems and serve with a small balls of your choice of the stems and serve with a small balls of your choice of the stems and serve with a small balls of your\n",
            "----- RECIPE -----\n",
            "SEED:  bread , TEMPERATURE:  0.1\n",
            "📗 bread crumbs and the top of the sauce with a slice of the steaks of the sauce and the top of the sauce will be the top of the sauce will be the top of the sauce will be the top of the pasta water and a small balls and the top of the sauce will be the top of the sauce will be the top of the sauce will be the top of the sauce will be the top of the sauce will be the top of the pasta water and the cheese to the top of the pasta water and some of the sauce of the sauce of the sauce and the top of the sau\n",
            "----- RECIPE -----\n",
            "SEED:  bread , TEMPERATURE:  0.2\n",
            "📗 bread cubes in a small bowl or cooking spray and bake for 10 minutes.\n",
            "• Serve with chicken stock or chicken stock.\n",
            "• Top with the remaining bacon and serve with the remaining sauce.\n",
            "• Serve over cooked chicken with a slice of the sauce.\n",
            "␣␣␣␣␣␣␣␣␣␣␣␣␣␣␣␣␣␣␣␣␣␣␣␣␣␣␣␣␣␣␣␣␣␣␣␣␣␣␣␣␣␣␣␣␣␣␣␣␣␣␣␣␣␣␣␣␣␣␣␣␣␣␣␣␣␣␣␣␣␣␣␣␣␣␣␣␣␣␣␣␣␣␣␣␣␣␣␣␣␣␣␣␣␣␣␣␣␣␣␣␣␣␣␣␣␣␣␣␣␣␣␣␣␣␣␣␣␣␣␣␣␣␣␣␣␣␣␣␣␣␣␣␣␣␣␣␣␣␣␣␣␣␣␣␣␣␣␣␣␣␣␣␣␣␣␣␣␣␣␣␣␣␣␣␣␣␣␣␣␣␣␣␣␣␣␣␣␣␣␣␣␣␣␣␣␣␣␣␣␣␣␣␣␣␣␣␣␣␣␣␣␣␣␣␣␣␣␣␣␣␣␣␣␣␣␣␣␣␣␣␣␣␣␣␣␣␣␣␣␣␣␣␣␣␣␣␣␣␣␣␣␣␣␣␣␣␣␣␣␣␣␣␣␣␣␣␣␣␣␣␣␣␣␣␣␣␣␣\n",
            "----- RECIPE -----\n",
            "SEED:  bread , TEMPERATURE:  0.5\n",
            "📗 bread crumbs and serve with warmed sugar for desired to serve.\n",
            "␣␣␣␣␣␣␣␣␣␣␣␣␣␣␣␣␣␣␣␣␣␣␣␣␣␣␣␣␣␣␣␣␣␣␣␣␣␣␣␣␣␣␣␣␣␣␣␣␣␣␣␣␣␣␣␣␣␣␣␣␣␣␣␣␣␣␣␣␣␣␣␣␣␣␣␣␣␣␣␣␣␣␣␣␣␣␣␣␣␣␣␣␣␣␣␣␣␣␣␣␣␣␣␣␣␣␣␣␣␣␣␣␣␣␣␣␣␣␣␣␣␣␣␣␣␣␣␣␣␣␣␣␣␣␣␣␣␣␣␣␣␣␣␣␣␣␣␣␣␣␣␣␣␣␣␣␣␣␣␣␣␣␣␣␣␣␣␣␣␣␣␣␣␣␣␣␣␣␣␣␣␣␣␣␣␣␣␣␣␣␣␣␣␣␣␣␣␣␣␣␣␣␣␣␣␣␣␣␣␣␣␣␣␣␣␣␣␣␣␣␣␣␣␣␣␣␣␣␣␣␣␣␣␣␣␣␣␣␣␣␣␣␣␣␣␣␣␣␣␣␣␣␣␣␣␣␣␣␣␣␣␣␣␣␣␣␣␣␣␣␣␣␣␣␣␣␣␣␣␣␣␣␣␣␣␣␣␣␣␣␣␣␣␣␣␣␣␣␣␣␣␣␣␣␣␣␣␣␣␣␣␣␣␣␣␣␣␣␣␣␣␣␣␣␣␣␣␣␣␣␣␣␣␣␣␣␣␣␣␣␣␣␣␣␣␣␣␣␣␣␣␣␣␣␣␣␣␣␣␣␣␣␣␣␣␣␣␣␣␣␣␣␣␣␣␣␣␣␣␣␣␣␣␣␣␣␣␣␣␣␣␣␣␣␣␣␣␣␣␣␣␣␣␣␣␣␣␣␣␣␣␣␣␣␣␣␣␣␣␣␣␣␣␣␣␣␣␣␣␣␣␣␣␣␣␣␣␣␣␣␣␣\n",
            "----- RECIPE -----\n",
            "SEED:  bread , TEMPERATURE:  0.8\n",
            "📗 breadcrumbs) and 2 salsa.\n",
            "␣␣␣␣␣␣␣␣␣␣␣␣␣␣␣␣␣␣␣␣␣␣␣␣␣␣␣␣␣␣␣␣␣␣␣␣␣␣␣␣␣␣␣␣␣␣␣␣␣␣␣␣␣␣␣␣␣␣␣␣␣␣␣␣␣␣␣␣␣␣␣␣␣␣␣␣␣␣␣␣␣␣␣␣␣␣␣␣␣␣␣␣␣␣␣␣␣␣␣␣␣␣␣␣␣␣␣␣␣␣␣␣␣␣␣␣␣␣␣␣␣␣␣␣␣␣␣␣␣␣␣␣␣␣␣␣␣␣␣␣␣␣␣␣␣␣␣␣␣␣␣␣␣␣␣␣␣␣␣␣␣␣␣␣␣␣␣␣␣␣␣␣␣␣␣␣␣␣␣␣␣␣␣␣␣␣␣␣␣␣␣␣␣␣␣␣␣␣␣␣␣␣␣␣␣␣␣␣␣␣␣␣␣␣␣␣␣␣␣␣␣␣␣␣␣␣␣␣␣␣␣␣␣␣␣␣␣␣␣␣␣␣␣␣␣␣␣␣␣␣␣␣␣␣␣␣␣␣␣␣␣␣␣␣␣␣␣␣␣␣␣␣␣␣␣␣␣␣␣␣␣␣␣␣␣␣␣␣␣␣␣␣␣␣␣␣␣␣␣␣␣␣␣␣␣␣␣␣␣␣␣␣␣␣␣␣␣␣␣␣␣␣␣␣␣␣␣␣␣␣␣␣␣␣␣␣␣␣␣␣␣␣␣␣␣␣␣␣␣␣␣␣␣␣␣␣␣␣␣␣␣␣␣␣␣␣␣␣␣␣␣␣␣␣␣␣␣␣␣␣␣␣␣␣␣␣␣␣␣␣␣␣␣␣␣␣␣␣␣␣␣␣␣␣␣␣␣␣␣␣␣␣␣␣␣␣␣␣␣␣␣␣␣␣␣␣␣␣␣␣␣␣␣␣␣␣␣␣␣␣␣␣␣␣␣␣␣␣␣␣␣␣␣␣␣␣␣␣␣␣␣␣␣␣␣␣␣␣␣␣␣␣␣␣␣␣␣␣␣\n",
            "----- RECIPE -----\n",
            "SEED:  potato , TEMPERATURE:  0.01\n",
            "📗 potatoes in a bowl of a small saucepan of the pan with a slotted spoon to serve with the remaining sauce.\n",
            "• Serve with the remaining bacon and serve with the remaining sauce.\n",
            "␣␣␣␣␣␣␣␣␣␣␣␣␣␣␣␣␣␣␣␣␣␣␣␣␣␣␣␣␣␣␣␣␣␣␣␣␣␣␣␣␣␣␣␣␣␣␣␣␣␣␣␣␣␣␣␣␣␣␣␣␣␣␣␣␣␣␣␣␣␣␣␣␣␣␣␣␣␣␣␣␣␣␣␣␣␣␣␣␣␣␣␣␣␣␣␣␣␣␣␣␣␣␣␣␣␣␣␣␣␣␣␣␣␣␣␣␣␣␣␣␣␣␣␣␣␣␣␣␣␣␣␣␣␣␣␣␣␣␣␣␣␣␣␣␣␣␣␣␣␣␣␣␣␣␣␣␣␣␣␣␣␣␣␣␣␣␣␣␣␣␣␣␣␣␣␣␣␣␣␣␣␣␣␣␣␣␣␣␣␣␣␣␣␣␣␣␣␣␣␣␣␣␣␣␣␣␣␣␣␣␣␣␣␣␣␣␣␣␣␣␣␣␣␣␣␣␣␣␣␣␣␣␣␣␣␣␣␣␣␣␣␣␣␣␣␣␣␣␣␣␣␣␣␣␣␣␣␣␣␣␣␣␣␣␣␣␣␣␣␣␣␣␣␣␣␣␣␣␣␣␣␣␣␣␣␣␣␣␣␣␣␣␣␣␣␣␣␣␣␣␣␣␣␣␣␣␣␣␣␣␣␣␣␣␣␣␣␣␣␣␣␣␣␣␣␣␣␣␣␣␣\n",
            "----- RECIPE -----\n",
            "SEED:  potato , TEMPERATURE:  0.1\n",
            "📗 potatoes in a bowl of a small saucepan of the loaf pan and bake for 10 minutes or until the cheese is melted and the cheese is melted and the cheese is melted and the cheese is melted and the sauce is softened and the cheese is melted and the sauce is softened and the cheese is melted and softened and the cheese is melted and the cheese is melted and the sauce is softened and the cheese is melted and the sauce is softened and the cheese is melted and the sauce is softened and the cheese is melted and \n",
            "----- RECIPE -----\n",
            "SEED:  potato , TEMPERATURE:  0.2\n",
            "📗 potatoes in a small bowl of a strainer and place the pasta on top of the steaks and serve with salad dressing and serve with strawberries and serve with a sprinkle of salt and pepper.\n",
            "• I used a small baking sheet and bake for 10 minutes or until the top is golden brown and the cheese is melted and the bacon is cooked through and the sauce is softened and the cheese is melted and the sauce is softened and cooked through, about 1 minute.\n",
            "• Add the sauce and sauce to the pan and cook for another 5 minut\n",
            "----- RECIPE -----\n",
            "SEED:  potato , TEMPERATURE:  0.5\n",
            "📗 potatoes up the stew meat the baking sheet and place the top of the beans and cheese in the refrigerator for up to 4 days.\n",
            "• For the sauce: In a large bowl, beat the egg whites until the mixture is softened, about 10 to 15 minutes.\n",
            "• Place the remaining batter in a bowl and bake for 10 minutes.\n",
            "• Then cut the squash into 1/2 inch squares and keep warm.\n",
            "• Heat the oil in a large bowl with a thin stream to make a smooth paste.\n",
            "• Serve with the remaining chives or cranberries.\n",
            "␣␣␣␣␣␣␣␣␣␣␣␣␣␣␣␣␣␣␣␣␣␣␣␣␣␣␣\n",
            "----- RECIPE -----\n",
            "SEED:  potato , TEMPERATURE:  0.8\n",
            "📗 potato on medium speed of potato maker and for drifding the shells).\n",
            "• While the oil is hends to be puffed and garlic if you like you rest of the ingredients.\n",
            "• Garnish with Parmesan Cheese, cut into bite-sized pieces required immediately.\n",
            "␣␣␣␣␣␣␣␣␣␣␣␣␣␣␣␣␣␣␣␣␣␣␣␣␣␣␣␣␣␣␣␣␣␣␣␣␣␣␣␣␣␣␣␣␣␣␣␣␣␣␣␣␣␣␣␣␣␣␣␣␣␣␣␣␣␣␣␣␣␣␣␣␣␣␣␣␣␣␣␣␣␣␣␣␣␣␣␣␣␣␣␣␣␣␣␣␣␣␣␣␣␣␣␣␣␣␣␣␣␣␣␣␣␣␣␣␣␣␣␣␣␣␣␣␣␣␣␣␣␣␣␣␣␣␣␣␣␣␣␣␣␣␣␣␣␣␣␣␣␣␣␣␣␣␣␣␣␣␣␣␣␣␣␣␣␣␣␣␣␣␣␣␣␣␣␣␣␣␣␣␣␣␣␣␣␣␣␣␣␣␣␣␣␣␣␣␣␣␣␣␣␣␣␣␣␣␣␣␣␣␣␣␣␣␣␣␣␣␣␣␣␣␣␣␣␣␣␣␣␣␣␣␣␣␣␣␣␣␣␣␣␣␣␣␣␣␣␣␣␣␣␣␣␣␣␣␣␣␣␣␣␣␣␣␣␣\n"
          ],
          "name": "stdout"
        }
      ]
    },
    {
      "cell_type": "markdown",
      "metadata": {
        "id": "5KkCHeCFBZfE"
      },
      "source": [
        "# Section 4: Experimenting\n",
        "\n",
        "This section is devoted to code that is not yet ready for inclusion in the main part of the program.\n",
        "\n",
        "## Generative Adversarial Networks\n",
        "Our current work in this section is aiming to build a GAN for recipe generation.\n",
        "\n",
        "## Using Mixed Data Features\n",
        "Treat the title, ingredients, and instructions separately."
      ]
    },
    {
      "cell_type": "code",
      "metadata": {
        "id": "qk7VuhdYBpjP",
        "colab": {
          "base_uri": "https://localhost:8080/",
          "height": 415
        },
        "outputId": "bbaa30fa-4e29-456a-e9f4-4fd6020fb8c4"
      },
      "source": [
        "data_raw"
      ],
      "execution_count": null,
      "outputs": [
        {
          "output_type": "execute_result",
          "data": {
            "text/html": [
              "<div>\n",
              "<style scoped>\n",
              "    .dataframe tbody tr th:only-of-type {\n",
              "        vertical-align: middle;\n",
              "    }\n",
              "\n",
              "    .dataframe tbody tr th {\n",
              "        vertical-align: top;\n",
              "    }\n",
              "\n",
              "    .dataframe thead th {\n",
              "        text-align: right;\n",
              "    }\n",
              "</style>\n",
              "<table border=\"1\" class=\"dataframe\">\n",
              "  <thead>\n",
              "    <tr style=\"text-align: right;\">\n",
              "      <th></th>\n",
              "      <th>title</th>\n",
              "      <th>ingredients</th>\n",
              "      <th>instructions</th>\n",
              "    </tr>\n",
              "  </thead>\n",
              "  <tbody>\n",
              "    <tr>\n",
              "      <th>0</th>\n",
              "      <td>Worlds Best Mac and Cheese</td>\n",
              "      <td>[\"6 ounces penne\", \"2 cups Beechers Flagship C...</td>\n",
              "      <td>[\"Preheat the oven to 350 F. Butter or oil an ...</td>\n",
              "    </tr>\n",
              "    <tr>\n",
              "      <th>1</th>\n",
              "      <td>Dilly Macaroni Salad Recipe</td>\n",
              "      <td>[\"1 c. elbow macaroni\", \"1 c. cubed American c...</td>\n",
              "      <td>[\"Cook macaroni according to package direction...</td>\n",
              "    </tr>\n",
              "    <tr>\n",
              "      <th>2</th>\n",
              "      <td>Gazpacho</td>\n",
              "      <td>[\"8 tomatoes, quartered\", \"Kosher salt\", \"1 re...</td>\n",
              "      <td>[\"Add the tomatoes to a food processor with a ...</td>\n",
              "    </tr>\n",
              "    <tr>\n",
              "      <th>3</th>\n",
              "      <td>Crunchy Onion Potato Bake</td>\n",
              "      <td>[\"2 12 cups milk\", \"1 12 cups water\", \"14 cup ...</td>\n",
              "      <td>[\"Preheat oven to 350 degrees Fahrenheit.\", \"S...</td>\n",
              "    </tr>\n",
              "    <tr>\n",
              "      <th>4</th>\n",
              "      <td>Cool 'n Easy Creamy Watermelon Pie</td>\n",
              "      <td>[\"1 (3 ounce) package watermelon gelatin\", \"14...</td>\n",
              "      <td>[\"Dissolve Jello in boiling water.\", \"Allow to...</td>\n",
              "    </tr>\n",
              "    <tr>\n",
              "      <th>...</th>\n",
              "      <td>...</td>\n",
              "      <td>...</td>\n",
              "      <td>...</td>\n",
              "    </tr>\n",
              "    <tr>\n",
              "      <th>99995</th>\n",
              "      <td>Crispy chicken salad</td>\n",
              "      <td>[\"1 crispy chicken homade or store brought\", \"...</td>\n",
              "      <td>[\"Cut all ingriedients to personal size\", \"Add...</td>\n",
              "    </tr>\n",
              "    <tr>\n",
              "      <th>99996</th>\n",
              "      <td>Double Jack Stew</td>\n",
              "      <td>[\"3 pounds hanger steak, cut into 2-inch cubes...</td>\n",
              "      <td>[\"Pair this hearty stew with a dry Irish stout...</td>\n",
              "    </tr>\n",
              "    <tr>\n",
              "      <th>99997</th>\n",
              "      <td>Blondie's Dad's Take Me Out To The Ballgame Mi...</td>\n",
              "      <td>[\"1 tbsp unsalted butter\", \"2 cup roasted unsa...</td>\n",
              "      <td>[\"Position an oven rack in the center of the o...</td>\n",
              "    </tr>\n",
              "    <tr>\n",
              "      <th>99998</th>\n",
              "      <td>Chocolate Mousse Cake Recipe chowser</td>\n",
              "      <td>[\"1 3/4 c. hazelnuts\", \"2 tbsp melted butter\",...</td>\n",
              "      <td>[\"Butter 9\\\" springform pan.\", \"Process nuts i...</td>\n",
              "    </tr>\n",
              "    <tr>\n",
              "      <th>99999</th>\n",
              "      <td>Cajun Spice Blend</td>\n",
              "      <td>[\"1 tablespoon garlic powder\", \"1 tablespoon o...</td>\n",
              "      <td>[\"Mix together and store in airtight container...</td>\n",
              "    </tr>\n",
              "  </tbody>\n",
              "</table>\n",
              "<p>100000 rows × 3 columns</p>\n",
              "</div>"
            ],
            "text/plain": [
              "                                                   title  ...                                       instructions\n",
              "0                             Worlds Best Mac and Cheese  ...  [\"Preheat the oven to 350 F. Butter or oil an ...\n",
              "1                            Dilly Macaroni Salad Recipe  ...  [\"Cook macaroni according to package direction...\n",
              "2                                               Gazpacho  ...  [\"Add the tomatoes to a food processor with a ...\n",
              "3                              Crunchy Onion Potato Bake  ...  [\"Preheat oven to 350 degrees Fahrenheit.\", \"S...\n",
              "4                     Cool 'n Easy Creamy Watermelon Pie  ...  [\"Dissolve Jello in boiling water.\", \"Allow to...\n",
              "...                                                  ...  ...                                                ...\n",
              "99995                               Crispy chicken salad  ...  [\"Cut all ingriedients to personal size\", \"Add...\n",
              "99996                                   Double Jack Stew  ...  [\"Pair this hearty stew with a dry Irish stout...\n",
              "99997  Blondie's Dad's Take Me Out To The Ballgame Mi...  ...  [\"Position an oven rack in the center of the o...\n",
              "99998               Chocolate Mousse Cake Recipe chowser  ...  [\"Butter 9\\\" springform pan.\", \"Process nuts i...\n",
              "99999                                  Cajun Spice Blend  ...  [\"Mix together and store in airtight container...\n",
              "\n",
              "[100000 rows x 3 columns]"
            ]
          },
          "metadata": {
            "tags": []
          },
          "execution_count": 4
        }
      ]
    },
    {
      "cell_type": "code",
      "metadata": {
        "id": "MD9ZLi25ia-_"
      },
      "source": [
        "def clean(ingr):\n",
        "  ''' \n",
        "  Each recipe is stored across three columns in the original data. This\n",
        "  function cleans up each recipe.\n",
        "  '''\n",
        "\n",
        "  # set up\n",
        "  temp = ingr # get string\n",
        "  temp = temp[1:-1] # remove outer quotations\n",
        "  temp = temp.split(\"\\\", \") # split into a list according to \",  sequence of those three characters\n",
        "  temp = [item[1:] for item in temp] # remove leading quotation\n",
        "  temp[len(temp) - 1] = temp[len(temp) - 1][:-1] # remove ending quotation on last piece\n",
        "    \n",
        "  temp_string = ''\n",
        "  for item in temp:\n",
        "    temp_string += f'{item}\\t'\n",
        "\n",
        "  return temp_string"
      ],
      "execution_count": null,
      "outputs": []
    },
    {
      "cell_type": "code",
      "metadata": {
        "colab": {
          "base_uri": "https://localhost:8080/",
          "height": 415
        },
        "id": "s-3QdpOXi2DF",
        "outputId": "4d33ea6d-80c9-4ddd-d67e-45fb6016a112"
      },
      "source": [
        "data_str = pd.DataFrame()\n",
        "data_str[\"title\"] = data_raw[\"title\"]\n",
        "data_str[\"ingredient\"] = data_raw.apply(lambda x: clean(x.ingredients), axis = 1)\n",
        "data_str[\"instruction\"] = data_raw.apply(lambda x: clean(x.instructions), axis = 1)\n",
        "data_str"
      ],
      "execution_count": null,
      "outputs": [
        {
          "output_type": "execute_result",
          "data": {
            "text/html": [
              "<div>\n",
              "<style scoped>\n",
              "    .dataframe tbody tr th:only-of-type {\n",
              "        vertical-align: middle;\n",
              "    }\n",
              "\n",
              "    .dataframe tbody tr th {\n",
              "        vertical-align: top;\n",
              "    }\n",
              "\n",
              "    .dataframe thead th {\n",
              "        text-align: right;\n",
              "    }\n",
              "</style>\n",
              "<table border=\"1\" class=\"dataframe\">\n",
              "  <thead>\n",
              "    <tr style=\"text-align: right;\">\n",
              "      <th></th>\n",
              "      <th>title</th>\n",
              "      <th>ingredient</th>\n",
              "      <th>instruction</th>\n",
              "    </tr>\n",
              "  </thead>\n",
              "  <tbody>\n",
              "    <tr>\n",
              "      <th>0</th>\n",
              "      <td>Worlds Best Mac and Cheese</td>\n",
              "      <td>6 ounces penne\\t2 cups Beechers Flagship Chees...</td>\n",
              "      <td>Preheat the oven to 350 F. Butter or oil an 8-...</td>\n",
              "    </tr>\n",
              "    <tr>\n",
              "      <th>1</th>\n",
              "      <td>Dilly Macaroni Salad Recipe</td>\n",
              "      <td>1 c. elbow macaroni\\t1 c. cubed American chees...</td>\n",
              "      <td>Cook macaroni according to package directions;...</td>\n",
              "    </tr>\n",
              "    <tr>\n",
              "      <th>2</th>\n",
              "      <td>Gazpacho</td>\n",
              "      <td>8 tomatoes, quartered\\tKosher salt\\t1 red onio...</td>\n",
              "      <td>Add the tomatoes to a food processor with a pi...</td>\n",
              "    </tr>\n",
              "    <tr>\n",
              "      <th>3</th>\n",
              "      <td>Crunchy Onion Potato Bake</td>\n",
              "      <td>2 12 cups milk\\t1 12 cups water\\t14 cup butter...</td>\n",
              "      <td>Preheat oven to 350 degrees Fahrenheit.\\tSpray...</td>\n",
              "    </tr>\n",
              "    <tr>\n",
              "      <th>4</th>\n",
              "      <td>Cool 'n Easy Creamy Watermelon Pie</td>\n",
              "      <td>1 (3 ounce) package watermelon gelatin\\t14 cup...</td>\n",
              "      <td>Dissolve Jello in boiling water.\\tAllow to coo...</td>\n",
              "    </tr>\n",
              "    <tr>\n",
              "      <th>...</th>\n",
              "      <td>...</td>\n",
              "      <td>...</td>\n",
              "      <td>...</td>\n",
              "    </tr>\n",
              "    <tr>\n",
              "      <th>99995</th>\n",
              "      <td>Crispy chicken salad</td>\n",
              "      <td>1 crispy chicken homade or store brought\\t1 le...</td>\n",
              "      <td>Cut all ingriedients to personal size\\tAdd all...</td>\n",
              "    </tr>\n",
              "    <tr>\n",
              "      <th>99996</th>\n",
              "      <td>Double Jack Stew</td>\n",
              "      <td>3 pounds hanger steak, cut into 2-inch cubes, ...</td>\n",
              "      <td>Pair this hearty stew with a dry Irish stout.\\...</td>\n",
              "    </tr>\n",
              "    <tr>\n",
              "      <th>99997</th>\n",
              "      <td>Blondie's Dad's Take Me Out To The Ballgame Mi...</td>\n",
              "      <td>1 tbsp unsalted butter\\t2 cup roasted unsalted...</td>\n",
              "      <td>Position an oven rack in the center of the ove...</td>\n",
              "    </tr>\n",
              "    <tr>\n",
              "      <th>99998</th>\n",
              "      <td>Chocolate Mousse Cake Recipe chowser</td>\n",
              "      <td>1 3/4 c. hazelnuts\\t2 tbsp melted butter\\t16 o...</td>\n",
              "      <td>Butter 9\\\" springform pan.\\tProcess nuts in fo...</td>\n",
              "    </tr>\n",
              "    <tr>\n",
              "      <th>99999</th>\n",
              "      <td>Cajun Spice Blend</td>\n",
              "      <td>1 tablespoon garlic powder\\t1 tablespoon onion...</td>\n",
              "      <td>Mix together and store in airtight container a...</td>\n",
              "    </tr>\n",
              "  </tbody>\n",
              "</table>\n",
              "<p>100000 rows × 3 columns</p>\n",
              "</div>"
            ],
            "text/plain": [
              "                                                   title  ...                                        instruction\n",
              "0                             Worlds Best Mac and Cheese  ...  Preheat the oven to 350 F. Butter or oil an 8-...\n",
              "1                            Dilly Macaroni Salad Recipe  ...  Cook macaroni according to package directions;...\n",
              "2                                               Gazpacho  ...  Add the tomatoes to a food processor with a pi...\n",
              "3                              Crunchy Onion Potato Bake  ...  Preheat oven to 350 degrees Fahrenheit.\\tSpray...\n",
              "4                     Cool 'n Easy Creamy Watermelon Pie  ...  Dissolve Jello in boiling water.\\tAllow to coo...\n",
              "...                                                  ...  ...                                                ...\n",
              "99995                               Crispy chicken salad  ...  Cut all ingriedients to personal size\\tAdd all...\n",
              "99996                                   Double Jack Stew  ...  Pair this hearty stew with a dry Irish stout.\\...\n",
              "99997  Blondie's Dad's Take Me Out To The Ballgame Mi...  ...  Position an oven rack in the center of the ove...\n",
              "99998               Chocolate Mousse Cake Recipe chowser  ...  Butter 9\\\" springform pan.\\tProcess nuts in fo...\n",
              "99999                                  Cajun Spice Blend  ...  Mix together and store in airtight container a...\n",
              "\n",
              "[100000 rows x 3 columns]"
            ]
          },
          "metadata": {
            "tags": []
          },
          "execution_count": 49
        }
      ]
    },
    {
      "cell_type": "code",
      "metadata": {
        "colab": {
          "base_uri": "https://localhost:8080/"
        },
        "id": "vL6A71ZJkFSX",
        "outputId": "bcb6ee58-c932-443c-c189-676aaefbe3c3"
      },
      "source": [
        "print(data_str[\"ingredient\"][1])"
      ],
      "execution_count": null,
      "outputs": [
        {
          "output_type": "stream",
          "text": [
            "1 c. elbow macaroni\t1 c. cubed American cheese (4 ounce.)\t1/2 c. sliced celery\t1/2 c. minced green pepper\t3 tbsp. minced pimento\t1/2 c. mayonnaise or possibly salad dressing\t1 tbsp. vinegar\t3/4 teaspoon salt\t1/2 teaspoon dry dill weed\t\n"
          ],
          "name": "stdout"
        }
      ]
    },
    {
      "cell_type": "code",
      "metadata": {
        "colab": {
          "base_uri": "https://localhost:8080/",
          "height": 415
        },
        "id": "QiDh0JZGkc2v",
        "outputId": "74ee63b9-2605-43e2-9b9a-db13c1e62a7c"
      },
      "source": [
        "MAX_LENGTH_TITLE = 100\n",
        "MAX_LENGTH_INGREDIENT = 1000\n",
        "MAX_LENGTH_INSTRUCTION = 1000\n",
        "\n",
        "data_str[\"lenTitle\"] = [len(title) for title in data_str[\"title\"]]\n",
        "data_str[\"lenIngr\"] = [len(ingr) for ingr in data_str[\"ingredient\"]]\n",
        "data_str[\"lenInstr\"] = [len(instr) for instr in data_str[\"instruction\"]]\n",
        "\n",
        "data_filter = data_str[data_str[\"lenTitle\"] <= MAX_LENGTH_TITLE]\n",
        "data_filter = data_str[data_str[\"lenIngr\"] <= MAX_LENGTH_INGREDIENT]\n",
        "data_filter = data_str[data_str[\"lenInstr\"] <= MAX_LENGTH_INSTRUCTION]\n",
        "\n",
        "data_filter = data_filter.drop(columns = [\"lenTitle\", \"lenIngr\", \"lenInstr\"])\n",
        "data_filter"
      ],
      "execution_count": null,
      "outputs": [
        {
          "output_type": "execute_result",
          "data": {
            "text/html": [
              "<div>\n",
              "<style scoped>\n",
              "    .dataframe tbody tr th:only-of-type {\n",
              "        vertical-align: middle;\n",
              "    }\n",
              "\n",
              "    .dataframe tbody tr th {\n",
              "        vertical-align: top;\n",
              "    }\n",
              "\n",
              "    .dataframe thead th {\n",
              "        text-align: right;\n",
              "    }\n",
              "</style>\n",
              "<table border=\"1\" class=\"dataframe\">\n",
              "  <thead>\n",
              "    <tr style=\"text-align: right;\">\n",
              "      <th></th>\n",
              "      <th>title</th>\n",
              "      <th>ingredient</th>\n",
              "      <th>instruction</th>\n",
              "    </tr>\n",
              "  </thead>\n",
              "  <tbody>\n",
              "    <tr>\n",
              "      <th>1</th>\n",
              "      <td>Dilly Macaroni Salad Recipe</td>\n",
              "      <td>1 c. elbow macaroni\\t1 c. cubed American chees...</td>\n",
              "      <td>Cook macaroni according to package directions;...</td>\n",
              "    </tr>\n",
              "    <tr>\n",
              "      <th>2</th>\n",
              "      <td>Gazpacho</td>\n",
              "      <td>8 tomatoes, quartered\\tKosher salt\\t1 red onio...</td>\n",
              "      <td>Add the tomatoes to a food processor with a pi...</td>\n",
              "    </tr>\n",
              "    <tr>\n",
              "      <th>3</th>\n",
              "      <td>Crunchy Onion Potato Bake</td>\n",
              "      <td>2 12 cups milk\\t1 12 cups water\\t14 cup butter...</td>\n",
              "      <td>Preheat oven to 350 degrees Fahrenheit.\\tSpray...</td>\n",
              "    </tr>\n",
              "    <tr>\n",
              "      <th>4</th>\n",
              "      <td>Cool 'n Easy Creamy Watermelon Pie</td>\n",
              "      <td>1 (3 ounce) package watermelon gelatin\\t14 cup...</td>\n",
              "      <td>Dissolve Jello in boiling water.\\tAllow to coo...</td>\n",
              "    </tr>\n",
              "    <tr>\n",
              "      <th>5</th>\n",
              "      <td>Easy Tropical Beef Skillet</td>\n",
              "      <td>12 cup shredded coconut\\t1 lb lean ground beef...</td>\n",
              "      <td>In a large skillet, toast the coconut over med...</td>\n",
              "    </tr>\n",
              "    <tr>\n",
              "      <th>...</th>\n",
              "      <td>...</td>\n",
              "      <td>...</td>\n",
              "      <td>...</td>\n",
              "    </tr>\n",
              "    <tr>\n",
              "      <th>99994</th>\n",
              "      <td>Hershey's Disappearing Cake</td>\n",
              "      <td>14 cup butter\\t14 cup shortening\\t2 cups sugar...</td>\n",
              "      <td>Generously grease and flour 2-9 inch round or ...</td>\n",
              "    </tr>\n",
              "    <tr>\n",
              "      <th>99995</th>\n",
              "      <td>Crispy chicken salad</td>\n",
              "      <td>1 crispy chicken homade or store brought\\t1 le...</td>\n",
              "      <td>Cut all ingriedients to personal size\\tAdd all...</td>\n",
              "    </tr>\n",
              "    <tr>\n",
              "      <th>99997</th>\n",
              "      <td>Blondie's Dad's Take Me Out To The Ballgame Mi...</td>\n",
              "      <td>1 tbsp unsalted butter\\t2 cup roasted unsalted...</td>\n",
              "      <td>Position an oven rack in the center of the ove...</td>\n",
              "    </tr>\n",
              "    <tr>\n",
              "      <th>99998</th>\n",
              "      <td>Chocolate Mousse Cake Recipe chowser</td>\n",
              "      <td>1 3/4 c. hazelnuts\\t2 tbsp melted butter\\t16 o...</td>\n",
              "      <td>Butter 9\\\" springform pan.\\tProcess nuts in fo...</td>\n",
              "    </tr>\n",
              "    <tr>\n",
              "      <th>99999</th>\n",
              "      <td>Cajun Spice Blend</td>\n",
              "      <td>1 tablespoon garlic powder\\t1 tablespoon onion...</td>\n",
              "      <td>Mix together and store in airtight container a...</td>\n",
              "    </tr>\n",
              "  </tbody>\n",
              "</table>\n",
              "<p>83827 rows × 3 columns</p>\n",
              "</div>"
            ],
            "text/plain": [
              "                                                   title  ...                                        instruction\n",
              "1                            Dilly Macaroni Salad Recipe  ...  Cook macaroni according to package directions;...\n",
              "2                                               Gazpacho  ...  Add the tomatoes to a food processor with a pi...\n",
              "3                              Crunchy Onion Potato Bake  ...  Preheat oven to 350 degrees Fahrenheit.\\tSpray...\n",
              "4                     Cool 'n Easy Creamy Watermelon Pie  ...  Dissolve Jello in boiling water.\\tAllow to coo...\n",
              "5                             Easy Tropical Beef Skillet  ...  In a large skillet, toast the coconut over med...\n",
              "...                                                  ...  ...                                                ...\n",
              "99994                        Hershey's Disappearing Cake  ...  Generously grease and flour 2-9 inch round or ...\n",
              "99995                               Crispy chicken salad  ...  Cut all ingriedients to personal size\\tAdd all...\n",
              "99997  Blondie's Dad's Take Me Out To The Ballgame Mi...  ...  Position an oven rack in the center of the ove...\n",
              "99998               Chocolate Mousse Cake Recipe chowser  ...  Butter 9\\\" springform pan.\\tProcess nuts in fo...\n",
              "99999                                  Cajun Spice Blend  ...  Mix together and store in airtight container a...\n",
              "\n",
              "[83827 rows x 3 columns]"
            ]
          },
          "metadata": {
            "tags": []
          },
          "execution_count": 58
        }
      ]
    },
    {
      "cell_type": "code",
      "metadata": {
        "colab": {
          "base_uri": "https://localhost:8080/",
          "height": 415
        },
        "id": "_GzAoQOknd8Y",
        "outputId": "c5d4a488-9683-4ab8-815c-b5f979c5134d"
      },
      "source": [
        "data_filter"
      ],
      "execution_count": null,
      "outputs": [
        {
          "output_type": "execute_result",
          "data": {
            "text/html": [
              "<div>\n",
              "<style scoped>\n",
              "    .dataframe tbody tr th:only-of-type {\n",
              "        vertical-align: middle;\n",
              "    }\n",
              "\n",
              "    .dataframe tbody tr th {\n",
              "        vertical-align: top;\n",
              "    }\n",
              "\n",
              "    .dataframe thead th {\n",
              "        text-align: right;\n",
              "    }\n",
              "</style>\n",
              "<table border=\"1\" class=\"dataframe\">\n",
              "  <thead>\n",
              "    <tr style=\"text-align: right;\">\n",
              "      <th></th>\n",
              "      <th>title</th>\n",
              "      <th>ingredient</th>\n",
              "      <th>instruction</th>\n",
              "    </tr>\n",
              "  </thead>\n",
              "  <tbody>\n",
              "    <tr>\n",
              "      <th>1</th>\n",
              "      <td>Dilly Macaroni Salad Recipe</td>\n",
              "      <td>1 c. elbow macaroni\\t1 c. cubed American chees...</td>\n",
              "      <td>Cook macaroni according to package directions;...</td>\n",
              "    </tr>\n",
              "    <tr>\n",
              "      <th>2</th>\n",
              "      <td>Gazpacho</td>\n",
              "      <td>8 tomatoes, quartered\\tKosher salt\\t1 red onio...</td>\n",
              "      <td>Add the tomatoes to a food processor with a pi...</td>\n",
              "    </tr>\n",
              "    <tr>\n",
              "      <th>3</th>\n",
              "      <td>Crunchy Onion Potato Bake</td>\n",
              "      <td>2 12 cups milk\\t1 12 cups water\\t14 cup butter...</td>\n",
              "      <td>Preheat oven to 350 degrees Fahrenheit.\\tSpray...</td>\n",
              "    </tr>\n",
              "    <tr>\n",
              "      <th>4</th>\n",
              "      <td>Cool 'n Easy Creamy Watermelon Pie</td>\n",
              "      <td>1 (3 ounce) package watermelon gelatin\\t14 cup...</td>\n",
              "      <td>Dissolve Jello in boiling water.\\tAllow to coo...</td>\n",
              "    </tr>\n",
              "    <tr>\n",
              "      <th>5</th>\n",
              "      <td>Easy Tropical Beef Skillet</td>\n",
              "      <td>12 cup shredded coconut\\t1 lb lean ground beef...</td>\n",
              "      <td>In a large skillet, toast the coconut over med...</td>\n",
              "    </tr>\n",
              "    <tr>\n",
              "      <th>...</th>\n",
              "      <td>...</td>\n",
              "      <td>...</td>\n",
              "      <td>...</td>\n",
              "    </tr>\n",
              "    <tr>\n",
              "      <th>99994</th>\n",
              "      <td>Hershey's Disappearing Cake</td>\n",
              "      <td>14 cup butter\\t14 cup shortening\\t2 cups sugar...</td>\n",
              "      <td>Generously grease and flour 2-9 inch round or ...</td>\n",
              "    </tr>\n",
              "    <tr>\n",
              "      <th>99995</th>\n",
              "      <td>Crispy chicken salad</td>\n",
              "      <td>1 crispy chicken homade or store brought\\t1 le...</td>\n",
              "      <td>Cut all ingriedients to personal size\\tAdd all...</td>\n",
              "    </tr>\n",
              "    <tr>\n",
              "      <th>99997</th>\n",
              "      <td>Blondie's Dad's Take Me Out To The Ballgame Mi...</td>\n",
              "      <td>1 tbsp unsalted butter\\t2 cup roasted unsalted...</td>\n",
              "      <td>Position an oven rack in the center of the ove...</td>\n",
              "    </tr>\n",
              "    <tr>\n",
              "      <th>99998</th>\n",
              "      <td>Chocolate Mousse Cake Recipe chowser</td>\n",
              "      <td>1 3/4 c. hazelnuts\\t2 tbsp melted butter\\t16 o...</td>\n",
              "      <td>Butter 9\\\" springform pan.\\tProcess nuts in fo...</td>\n",
              "    </tr>\n",
              "    <tr>\n",
              "      <th>99999</th>\n",
              "      <td>Cajun Spice Blend</td>\n",
              "      <td>1 tablespoon garlic powder\\t1 tablespoon onion...</td>\n",
              "      <td>Mix together and store in airtight container a...</td>\n",
              "    </tr>\n",
              "  </tbody>\n",
              "</table>\n",
              "<p>83827 rows × 3 columns</p>\n",
              "</div>"
            ],
            "text/plain": [
              "                                                   title  ...                                        instruction\n",
              "1                            Dilly Macaroni Salad Recipe  ...  Cook macaroni according to package directions;...\n",
              "2                                               Gazpacho  ...  Add the tomatoes to a food processor with a pi...\n",
              "3                              Crunchy Onion Potato Bake  ...  Preheat oven to 350 degrees Fahrenheit.\\tSpray...\n",
              "4                     Cool 'n Easy Creamy Watermelon Pie  ...  Dissolve Jello in boiling water.\\tAllow to coo...\n",
              "5                             Easy Tropical Beef Skillet  ...  In a large skillet, toast the coconut over med...\n",
              "...                                                  ...  ...                                                ...\n",
              "99994                        Hershey's Disappearing Cake  ...  Generously grease and flour 2-9 inch round or ...\n",
              "99995                               Crispy chicken salad  ...  Cut all ingriedients to personal size\\tAdd all...\n",
              "99997  Blondie's Dad's Take Me Out To The Ballgame Mi...  ...  Position an oven rack in the center of the ove...\n",
              "99998               Chocolate Mousse Cake Recipe chowser  ...  Butter 9\\\" springform pan.\\tProcess nuts in fo...\n",
              "99999                                  Cajun Spice Blend  ...  Mix together and store in airtight container a...\n",
              "\n",
              "[83827 rows x 3 columns]"
            ]
          },
          "metadata": {
            "tags": []
          },
          "execution_count": 67
        }
      ]
    },
    {
      "cell_type": "code",
      "metadata": {
        "colab": {
          "base_uri": "https://localhost:8080/"
        },
        "id": "JapP3dzgmId2",
        "outputId": "23777e66-d031-4ce4-b2b4-3fff93bbbf83"
      },
      "source": [
        "STOP_SIGN = '␣' # will be appended to the end of each recipe\n",
        "\n",
        "tokenizer = tf.keras.preprocessing.text.Tokenizer(\n",
        "    filters = '', # we do not want to filter our recipes\n",
        "    lower = False, # we want the model to recognize uppercase characters\n",
        "    split = '', # we are using characters, not words\n",
        "    char_level = True # we want a character-level RNN\n",
        ")\n",
        "\n",
        "# show the tokenizer all of the existing characters we have\n",
        "tokenizer.fit_on_texts([STOP_SIGN])\n",
        "tokenizer.fit_on_texts(data_filter[\"title\"])\n",
        "tokenizer.fit_on_texts(data_filter[\"ingredient\"])\n",
        "tokenizer.fit_on_texts(data_filter[\"instruction\"])\n",
        "\n",
        "tokenizer.get_config() # show results"
      ],
      "execution_count": null,
      "outputs": [
        {
          "output_type": "execute_result",
          "data": {
            "text/plain": [
              "{'char_level': True,\n",
              " 'document_count': 251482,\n",
              " 'filters': '',\n",
              " 'index_docs': '{\"1\": 250304, \"94\": 18, \"17\": 187941, \"4\": 241519, \"5\": 221223, \"3\": 225548, \"23\": 136648, \"14\": 207928, \"27\": 137995, \"25\": 175633, \"35\": 83196, \"7\": 232051, \"6\": 226081, \"10\": 216698, \"11\": 205499, \"16\": 167654, \"2\": 244818, \"42\": 61672, \"12\": 210660, \"31\": 91197, \"39\": 60166, \"15\": 205700, \"8\": 229012, \"20\": 99372, \"21\": 156478, \"18\": 183988, \"13\": 195383, \"38\": 73452, \"41\": 78507, \"19\": 174110, \"9\": 223525, \"33\": 78629, \"29\": 115925, \"26\": 157125, \"49\": 50312, \"22\": 135502, \"24\": 158816, \"28\": 123434, \"55\": 31548, \"56\": 25585, \"45\": 55823, \"36\": 73614, \"52\": 33039, \"32\": 92586, \"50\": 39423, \"43\": 59375, \"37\": 86694, \"30\": 109170, \"44\": 47905, \"34\": 63406, \"51\": 22895, \"53\": 34985, \"46\": 56965, \"47\": 46944, \"77\": 2381, \"40\": 65520, \"54\": 36202, \"48\": 52073, \"62\": 13678, \"60\": 20947, \"58\": 30722, \"59\": 29774, \"64\": 15195, \"66\": 11408, \"61\": 17507, \"57\": 32847, \"72\": 8245, \"67\": 11497, \"65\": 10279, \"68\": 10248, \"71\": 8663, \"69\": 7986, \"63\": 13585, \"70\": 8537, \"73\": 4440, \"74\": 3982, \"75\": 2673, \"84\": 294, \"78\": 1811, \"79\": 1662, \"76\": 3301, \"83\": 237, \"86\": 131, \"82\": 242, \"87\": 183, \"81\": 446, \"85\": 201, \"91\": 50, \"80\": 1043, \"92\": 33, \"95\": 7, \"89\": 26, \"88\": 182, \"93\": 30, \"90\": 47, \"96\": 15, \"97\": 1}',\n",
              " 'index_word': '{\"1\": \" \", \"2\": \"e\", \"3\": \"o\", \"4\": \"a\", \"5\": \"t\", \"6\": \"n\", \"7\": \"i\", \"8\": \"r\", \"9\": \"s\", \"10\": \"l\", \"11\": \"d\", \"12\": \"c\", \"13\": \"p\", \"14\": \"u\", \"15\": \"h\", \"16\": \"\\\\t\", \"17\": \"m\", \"18\": \"g\", \"19\": \"b\", \"20\": \".\", \"21\": \"f\", \"22\": \"1\", \"23\": \",\", \"24\": \"w\", \"25\": \"k\", \"26\": \"y\", \"27\": \"v\", \"28\": \"2\", \"29\": \"S\", \"30\": \"C\", \"31\": \"4\", \"32\": \"3\", \"33\": \"x\", \"34\": \"/\", \"35\": \"-\", \"36\": \")\", \"37\": \"P\", \"38\": \"(\", \"39\": \"0\", \"40\": \"A\", \"41\": \"B\", \"42\": \"5\", \"43\": \"T\", \"44\": \"z\", \"45\": \"R\", \"46\": \"M\", \"47\": \"I\", \"48\": \"j\", \"49\": \"F\", \"50\": \"D\", \"51\": \";\", \"52\": \"L\", \"53\": \"8\", \"54\": \"W\", \"55\": \"q\", \"56\": \"O\", \"57\": \"G\", \"58\": \"6\", \"59\": \"H\", \"60\": \"E\", \"61\": \"\\'\", \"62\": \"9\", \"63\": \"N\", \"64\": \"7\", \"65\": \":\", \"66\": \"K\", \"67\": \"V\", \"68\": \"U\", \"69\": \"&\", \"70\": \"!\", \"71\": \"Y\", \"72\": \"J\", \"73\": \"\\\\\"\", \"74\": \"\\\\\\\\\", \"75\": \"*\", \"76\": \"Q\", \"77\": \"Z\", \"78\": \"$\", \"79\": \"%\", \"80\": \"X\", \"81\": \"#\", \"82\": \"]\", \"83\": \"[\", \"84\": \"?\", \"85\": \"~\", \"86\": \"=\", \"87\": \"+\", \"88\": \"@\", \"89\": \"_\", \"90\": \">\", \"91\": \"`\", \"92\": \"{\", \"93\": \"}\", \"94\": \"<\", \"95\": \"|\", \"96\": \"^\", \"97\": \"\\\\u2423\"}',\n",
              " 'lower': False,\n",
              " 'num_words': None,\n",
              " 'oov_token': None,\n",
              " 'split': '',\n",
              " 'word_counts': '{\"\\\\u2423\": 1, \"D\": 49170, \"i\": 3107977, \"l\": 2350178, \"y\": 453810, \" \": 9443820, \"M\": 73635, \"a\": 3726650, \"c\": 1913684, \"r\": 2994848, \"o\": 3779226, \"n\": 3316547, \"S\": 206619, \"d\": 1941405, \"R\": 77951, \"e\": 5695263, \"p\": 1731193, \"G\": 40127, \"z\": 82275, \"h\": 1648267, \"C\": 182618, \"u\": 1694478, \"O\": 41280, \"P\": 136187, \"t\": 3517807, \"B\": 111301, \"k\": 591331, \"\\'\": 21116, \"E\": 32666, \"s\": 2965790, \"m\": 1121362, \"W\": 44409, \"T\": 94833, \"f\": 679315, \"K\": 14234, \"b\": 882680, \"g\": 1062131, \"w\": 594244, \"Y\": 9793, \"Z\": 2537, \"N\": 17859, \"L\": 44637, \"x\": 153596, \"&\": 11506, \"A\": 112566, \"V\": 13431, \"H\": 35946, \"F\": 69606, \"I\": 70676, \"J\": 9265, \"-\": 141141, \"Q\": 3505, \"(\": 135829, \")\": 136272, \"*\": 4816, \"v\": 435557, \"q\": 41610, \",\": 606200, \"/\": 150307, \"!\": 10645, \"\\\\\"\": 7997, \"U\": 12098, \"2\": 368731, \"0\": 122675, \".\": 743031, \"j\": 69965, \"7\": 17284, \":\": 15324, \"#\": 538, \"5\": 105559, \"X\": 1207, \"3\": 160385, \"1\": 649335, \"4\": 172495, \"9\": 18093, \"6\": 37655, \"8\": 44425, \"`\": 59, \"[\": 369, \"]\": 374, \"?\": 349, \"+\": 246, \"_\": 87, \"%\": 1918, \"$\": 2449, \"~\": 296, \";\": 48100, \"<\": 31, \"=\": 248, \">\": 76, \"@\": 200, \"{\": 37, \"}\": 34, \"\\\\\\\\\": 7195, \"^\": 21, \"|\": 26, \"\\\\t\": 1421316}',\n",
              " 'word_docs': '{\"\\\\u2423\": 1, \"p\": 195383, \"i\": 232051, \"o\": 225548, \"a\": 241519, \"y\": 157125, \"d\": 205499, \"M\": 56965, \"R\": 55823, \"D\": 39423, \"n\": 226081, \"r\": 229012, \"l\": 216698, \"c\": 210660, \"S\": 115925, \"e\": 244818, \" \": 250304, \"z\": 47905, \"h\": 205700, \"G\": 32847, \"O\": 25585, \"C\": 109170, \"t\": 221223, \"B\": 78507, \"P\": 86694, \"k\": 175633, \"u\": 207928, \"E\": 20947, \"\\'\": 17507, \"m\": 187941, \"s\": 223525, \"W\": 36202, \"T\": 59375, \"f\": 156478, \"K\": 11408, \"g\": 183988, \"b\": 174110, \"w\": 158816, \"Y\": 8663, \"Z\": 2381, \"N\": 13585, \"L\": 33039, \"x\": 78629, \"A\": 65520, \"&\": 7986, \"V\": 11497, \"H\": 29774, \"F\": 50312, \"I\": 46944, \"-\": 83196, \"J\": 8245, \"Q\": 3301, \"(\": 73452, \")\": 73614, \"*\": 2673, \"v\": 137995, \"q\": 31548, \",\": 136648, \"/\": 63406, \"!\": 8537, \"\\\\\"\": 4440, \"U\": 10248, \"2\": 123434, \"0\": 60166, \".\": 99372, \"j\": 52073, \"7\": 15195, \":\": 10279, \"5\": 61672, \"#\": 446, \"X\": 1043, \"3\": 92586, \"1\": 135502, \"4\": 91197, \"9\": 13678, \"6\": 30722, \"8\": 34985, \"`\": 50, \"[\": 237, \"]\": 242, \"?\": 294, \"+\": 183, \"_\": 26, \"%\": 1662, \"$\": 1811, \"~\": 201, \";\": 22895, \"<\": 18, \"=\": 131, \">\": 47, \"@\": 182, \"}\": 30, \"{\": 33, \"\\\\\\\\\": 3982, \"^\": 15, \"|\": 7, \"\\\\t\": 167654}',\n",
              " 'word_index': '{\" \": 1, \"e\": 2, \"o\": 3, \"a\": 4, \"t\": 5, \"n\": 6, \"i\": 7, \"r\": 8, \"s\": 9, \"l\": 10, \"d\": 11, \"c\": 12, \"p\": 13, \"u\": 14, \"h\": 15, \"\\\\t\": 16, \"m\": 17, \"g\": 18, \"b\": 19, \".\": 20, \"f\": 21, \"1\": 22, \",\": 23, \"w\": 24, \"k\": 25, \"y\": 26, \"v\": 27, \"2\": 28, \"S\": 29, \"C\": 30, \"4\": 31, \"3\": 32, \"x\": 33, \"/\": 34, \"-\": 35, \")\": 36, \"P\": 37, \"(\": 38, \"0\": 39, \"A\": 40, \"B\": 41, \"5\": 42, \"T\": 43, \"z\": 44, \"R\": 45, \"M\": 46, \"I\": 47, \"j\": 48, \"F\": 49, \"D\": 50, \";\": 51, \"L\": 52, \"8\": 53, \"W\": 54, \"q\": 55, \"O\": 56, \"G\": 57, \"6\": 58, \"H\": 59, \"E\": 60, \"\\'\": 61, \"9\": 62, \"N\": 63, \"7\": 64, \":\": 65, \"K\": 66, \"V\": 67, \"U\": 68, \"&\": 69, \"!\": 70, \"Y\": 71, \"J\": 72, \"\\\\\"\": 73, \"\\\\\\\\\": 74, \"*\": 75, \"Q\": 76, \"Z\": 77, \"$\": 78, \"%\": 79, \"X\": 80, \"#\": 81, \"]\": 82, \"[\": 83, \"?\": 84, \"~\": 85, \"=\": 86, \"+\": 87, \"@\": 88, \"_\": 89, \">\": 90, \"`\": 91, \"{\": 92, \"}\": 93, \"<\": 94, \"|\": 95, \"^\": 96, \"\\\\u2423\": 97}'}"
            ]
          },
          "metadata": {
            "tags": []
          },
          "execution_count": 61
        }
      ]
    },
    {
      "cell_type": "code",
      "metadata": {
        "colab": {
          "base_uri": "https://localhost:8080/"
        },
        "id": "lNt2w8cynRmc",
        "outputId": "d43f205f-ea3e-48fd-9ab7-008c5a515abc"
      },
      "source": [
        "VOCABULARY_SIZE = len(tokenizer.word_counts) + 1\n",
        "print(VOCABULARY_SIZE)"
      ],
      "execution_count": null,
      "outputs": [
        {
          "output_type": "stream",
          "text": [
            "98\n"
          ],
          "name": "stdout"
        }
      ]
    },
    {
      "cell_type": "code",
      "metadata": {
        "id": "t327eDZqnaes"
      },
      "source": [
        "vec_title = tokenizer.texts_to_sequences(data_filter[\"title\"])\n",
        "vec_ingr = tokenizer.texts_to_sequences(data_filter[\"ingredient\"])\n",
        "vec_instr = tokenizer.texts_to_sequences(data_filter[\"instruction\"])"
      ],
      "execution_count": null,
      "outputs": []
    },
    {
      "cell_type": "code",
      "metadata": {
        "id": "vqp6aPz4orHI"
      },
      "source": [
        "# standardize lengths\n",
        "\n",
        "vec_title_noStop = tf.keras.preprocessing.sequence.pad_sequences(\n",
        "    vec_title,\n",
        "    padding='post',\n",
        "    truncating='post',\n",
        "    maxlen=MAX_LENGTH_TITLE-1,\n",
        "    value=tokenizer.texts_to_sequences([STOP_SIGN])[0]\n",
        ")\n",
        "\n",
        "vec_title_stop = tf.keras.preprocessing.sequence.pad_sequences(\n",
        "    vec_title_noStop,\n",
        "    padding='post',\n",
        "    truncating='post',\n",
        "    maxlen=MAX_LENGTH_TITLE +1,\n",
        "    value=tokenizer.texts_to_sequences([STOP_SIGN])[0]\n",
        ")"
      ],
      "execution_count": null,
      "outputs": []
    },
    {
      "cell_type": "code",
      "metadata": {
        "id": "rg5KbCDbpqL6"
      },
      "source": [
        "vec_ingr_noStop = tf.keras.preprocessing.sequence.pad_sequences(\n",
        "    vec_ingr,\n",
        "    padding='post',\n",
        "    truncating='post',\n",
        "    maxlen=MAX_LENGTH_INGREDIENT-1,\n",
        "    value=tokenizer.texts_to_sequences([STOP_SIGN])[0]\n",
        ")\n",
        "\n",
        "vec_ingr_stop = tf.keras.preprocessing.sequence.pad_sequences(\n",
        "    vec_ingr_noStop,\n",
        "    padding='post',\n",
        "    truncating='post',\n",
        "    maxlen=MAX_LENGTH_INGREDIENT +1,\n",
        "    value=tokenizer.texts_to_sequences([STOP_SIGN])[0]\n",
        ")\n",
        "\n",
        "vec_instr_noStop = tf.keras.preprocessing.sequence.pad_sequences(\n",
        "    vec_instr,\n",
        "    padding='post',\n",
        "    truncating='post',\n",
        "    maxlen=MAX_LENGTH_INSTRUCTION-1,\n",
        "    value=tokenizer.texts_to_sequences([STOP_SIGN])[0]\n",
        ")\n",
        "\n",
        "vec_instr_stop = tf.keras.preprocessing.sequence.pad_sequences(\n",
        "    vec_instr_noStop,\n",
        "    padding='post',\n",
        "    truncating='post',\n",
        "    maxlen=MAX_LENGTH_INSTRUCTION +1,\n",
        "    value=tokenizer.texts_to_sequences([STOP_SIGN])[0]\n",
        ")"
      ],
      "execution_count": null,
      "outputs": []
    },
    {
      "cell_type": "code",
      "metadata": {
        "colab": {
          "base_uri": "https://localhost:8080/"
        },
        "id": "ABBWGwE3pixf",
        "outputId": "064397e8-c022-4a07-9c2d-ad6a87c0f1e2"
      },
      "source": [
        "print(vec_title_stop.shape, vec_ingr_stop.shape, vec_instr_stop.shape)"
      ],
      "execution_count": null,
      "outputs": [
        {
          "output_type": "stream",
          "text": [
            "(83827, 101) (83827, 1001) (83827, 1001)\n"
          ],
          "name": "stdout"
        }
      ]
    },
    {
      "cell_type": "code",
      "metadata": {
        "id": "Bfe_QAQ1fU46"
      },
      "source": [
        "data = tf.data.Dataset.from_tensor_slices(\n",
        "    (\n",
        "        {\n",
        "            \"title\" : vec_title_stop\n",
        "        },\n",
        "        {\n",
        "            \"ingredients\" : vec_ingr_stop,\n",
        "            \"instructions\" : vec_instr_stop\n",
        "        }\n",
        "    )\n",
        ")"
      ],
      "execution_count": null,
      "outputs": []
    },
    {
      "cell_type": "code",
      "metadata": {
        "colab": {
          "base_uri": "https://localhost:8080/"
        },
        "id": "a0MQF0jNqVDl",
        "outputId": "8edcb0a0-dc25-4acd-edca-5130a5c68d3b"
      },
      "source": [
        "data"
      ],
      "execution_count": null,
      "outputs": [
        {
          "output_type": "execute_result",
          "data": {
            "text/plain": [
              "<TensorSliceDataset shapes: ({title: (101,)}, {ingredients: (1001,), instructions: (1001,)}), types: ({title: tf.int32}, {ingredients: tf.int32, instructions: tf.int32})>"
            ]
          },
          "metadata": {
            "tags": []
          },
          "execution_count": 85
        }
      ]
    },
    {
      "cell_type": "code",
      "metadata": {
        "id": "lyklEIHQryu3"
      },
      "source": [
        ""
      ],
      "execution_count": null,
      "outputs": []
    },
    {
      "cell_type": "code",
      "metadata": {
        "colab": {
          "base_uri": "https://localhost:8080/"
        },
        "id": "LSgHuc92rZpy",
        "outputId": "e3a200d7-5e8e-4e02-d2f2-d03ebb27fcd4"
      },
      "source": [
        "for recipe in data.take(1):\n",
        "    temp = list(recipe[0][\"title\"].numpy())\n",
        "    print(tokenizer.sequences_to_texts([temp])[0])\n",
        "\n",
        "    temp = list(recipe[1][\"ingredients\"].numpy())\n",
        "    print(tokenizer.sequences_to_texts([temp])[0])\n",
        "\n",
        "    temp = list(recipe[1][\"instructions\"].numpy())\n",
        "    print(tokenizer.sequences_to_texts([temp])[0])"
      ],
      "execution_count": null,
      "outputs": [
        {
          "output_type": "stream",
          "text": [
            "D i l l y   M a c a r o n i   S a l a d   R e c i p e ␣ ␣ ␣ ␣ ␣ ␣ ␣ ␣ ␣ ␣ ␣ ␣ ␣ ␣ ␣ ␣ ␣ ␣ ␣ ␣ ␣ ␣ ␣ ␣ ␣ ␣ ␣ ␣ ␣ ␣ ␣ ␣ ␣ ␣ ␣ ␣ ␣ ␣ ␣ ␣ ␣ ␣ ␣ ␣ ␣ ␣ ␣ ␣ ␣ ␣ ␣ ␣ ␣ ␣ ␣ ␣ ␣ ␣ ␣ ␣ ␣ ␣ ␣ ␣ ␣ ␣ ␣ ␣ ␣ ␣ ␣ ␣ ␣ ␣\n",
            "1   c .   e l b o w   m a c a r o n i \t 1   c .   c u b e d   A m e r i c a n   c h e e s e   ( 4   o u n c e . ) \t 1 / 2   c .   s l i c e d   c e l e r y \t 1 / 2   c .   m i n c e d   g r e e n   p e p p e r \t 3   t b s p .   m i n c e d   p i m e n t o \t 1 / 2   c .   m a y o n n a i s e   o r   p o s s i b l y   s a l a d   d r e s s i n g \t 1   t b s p .   v i n e g a r \t 3 / 4   t e a s p o o n   s a l t \t 1 / 2   t e a s p o o n   d r y   d i l l   w e e d \t ␣ ␣ ␣ ␣ ␣ ␣ ␣ ␣ ␣ ␣ ␣ ␣ ␣ ␣ ␣ ␣ ␣ ␣ ␣ ␣ ␣ ␣ ␣ ␣ ␣ ␣ ␣ ␣ ␣ ␣ ␣ ␣ ␣ ␣ ␣ ␣ ␣ ␣ ␣ ␣ ␣ ␣ ␣ ␣ ␣ ␣ ␣ ␣ ␣ ␣ ␣ ␣ ␣ ␣ ␣ ␣ ␣ ␣ ␣ ␣ ␣ ␣ ␣ ␣ ␣ ␣ ␣ ␣ ␣ ␣ ␣ ␣ ␣ ␣ ␣ ␣ ␣ ␣ ␣ ␣ ␣ ␣ ␣ ␣ ␣ ␣ ␣ ␣ ␣ ␣ ␣ ␣ ␣ ␣ ␣ ␣ ␣ ␣ ␣ ␣ ␣ ␣ ␣ ␣ ␣ ␣ ␣ ␣ ␣ ␣ ␣ ␣ ␣ ␣ ␣ ␣ ␣ ␣ ␣ ␣ ␣ ␣ ␣ ␣ ␣ ␣ ␣ ␣ ␣ ␣ ␣ ␣ ␣ ␣ ␣ ␣ ␣ ␣ ␣ ␣ ␣ ␣ ␣ ␣ ␣ ␣ ␣ ␣ ␣ ␣ ␣ ␣ ␣ ␣ ␣ ␣ ␣ ␣ ␣ ␣ ␣ ␣ ␣ ␣ ␣ ␣ ␣ ␣ ␣ ␣ ␣ ␣ ␣ ␣ ␣ ␣ ␣ ␣ ␣ ␣ ␣ ␣ ␣ ␣ ␣ ␣ ␣ ␣ ␣ ␣ ␣ ␣ ␣ ␣ ␣ ␣ ␣ ␣ ␣ ␣ ␣ ␣ ␣ ␣ ␣ ␣ ␣ ␣ ␣ ␣ ␣ ␣ ␣ ␣ ␣ ␣ ␣ ␣ ␣ ␣ ␣ ␣ ␣ ␣ ␣ ␣ ␣ ␣ ␣ ␣ ␣ ␣ ␣ ␣ ␣ ␣ ␣ ␣ ␣ ␣ ␣ ␣ ␣ ␣ ␣ ␣ ␣ ␣ ␣ ␣ ␣ ␣ ␣ ␣ ␣ ␣ ␣ ␣ ␣ ␣ ␣ ␣ ␣ ␣ ␣ ␣ ␣ ␣ ␣ ␣ ␣ ␣ ␣ ␣ ␣ ␣ ␣ ␣ ␣ ␣ ␣ ␣ ␣ ␣ ␣ ␣ ␣ ␣ ␣ ␣ ␣ ␣ ␣ ␣ ␣ ␣ ␣ ␣ ␣ ␣ ␣ ␣ ␣ ␣ ␣ ␣ ␣ ␣ ␣ ␣ ␣ ␣ ␣ ␣ ␣ ␣ ␣ ␣ ␣ ␣ ␣ ␣ ␣ ␣ ␣ ␣ ␣ ␣ ␣ ␣ ␣ ␣ ␣ ␣ ␣ ␣ ␣ ␣ ␣ ␣ ␣ ␣ ␣ ␣ ␣ ␣ ␣ ␣ ␣ ␣ ␣ ␣ ␣ ␣ ␣ ␣ ␣ ␣ ␣ ␣ ␣ ␣ ␣ ␣ ␣ ␣ ␣ ␣ ␣ ␣ ␣ ␣ ␣ ␣ ␣ ␣ ␣ ␣ ␣ ␣ ␣ ␣ ␣ ␣ ␣ ␣ ␣ ␣ ␣ ␣ ␣ ␣ ␣ ␣ ␣ ␣ ␣ ␣ ␣ ␣ ␣ ␣ ␣ ␣ ␣ ␣ ␣ ␣ ␣ ␣ ␣ ␣ ␣ ␣ ␣ ␣ ␣ ␣ ␣ ␣ ␣ ␣ ␣ ␣ ␣ ␣ ␣ ␣ ␣ ␣ ␣ ␣ ␣ ␣ ␣ ␣ ␣ ␣ ␣ ␣ ␣ ␣ ␣ ␣ ␣ ␣ ␣ ␣ ␣ ␣ ␣ ␣ ␣ ␣ ␣ ␣ ␣ ␣ ␣ ␣ ␣ ␣ ␣ ␣ ␣ ␣ ␣ ␣ ␣ ␣ ␣ ␣ ␣ ␣ ␣ ␣ ␣ ␣ ␣ ␣ ␣ ␣ ␣ ␣ ␣ ␣ ␣ ␣ ␣ ␣ ␣ ␣ ␣ ␣ ␣ ␣ ␣ ␣ ␣ ␣ ␣ ␣ ␣ ␣ ␣ ␣ ␣ ␣ ␣ ␣ ␣ ␣ ␣ ␣ ␣ ␣ ␣ ␣ ␣ ␣ ␣ ␣ ␣ ␣ ␣ ␣ ␣ ␣ ␣ ␣ ␣ ␣ ␣ ␣ ␣ ␣ ␣ ␣ ␣ ␣ ␣ ␣ ␣ ␣ ␣ ␣ ␣ ␣ ␣ ␣ ␣ ␣ ␣ ␣ ␣ ␣ ␣ ␣ ␣ ␣ ␣ ␣ ␣ ␣ ␣ ␣ ␣ ␣ ␣ ␣ ␣ ␣ ␣ ␣ ␣ ␣ ␣ ␣ ␣ ␣ ␣ ␣ ␣ ␣ ␣ ␣ ␣ ␣ ␣ ␣ ␣ ␣ ␣ ␣ ␣ ␣ ␣ ␣ ␣ ␣ ␣ ␣ ␣ ␣ ␣ ␣ ␣ ␣ ␣ ␣ ␣ ␣ ␣ ␣ ␣ ␣ ␣ ␣ ␣ ␣ ␣ ␣ ␣ ␣ ␣ ␣ ␣ ␣ ␣ ␣ ␣ ␣ ␣ ␣ ␣ ␣ ␣ ␣ ␣ ␣ ␣ ␣ ␣ ␣ ␣ ␣ ␣ ␣ ␣ ␣ ␣ ␣ ␣ ␣ ␣ ␣ ␣ ␣ ␣ ␣ ␣ ␣ ␣ ␣ ␣ ␣ ␣ ␣ ␣ ␣ ␣ ␣ ␣ ␣ ␣ ␣ ␣ ␣ ␣ ␣ ␣ ␣ ␣ ␣ ␣ ␣ ␣ ␣ ␣ ␣ ␣ ␣ ␣ ␣ ␣ ␣ ␣ ␣ ␣ ␣ ␣ ␣ ␣ ␣ ␣ ␣ ␣ ␣ ␣ ␣ ␣ ␣ ␣ ␣ ␣ ␣ ␣ ␣ ␣ ␣ ␣ ␣ ␣ ␣ ␣ ␣ ␣ ␣ ␣ ␣ ␣ ␣ ␣ ␣ ␣ ␣ ␣ ␣ ␣ ␣ ␣ ␣ ␣ ␣ ␣ ␣ ␣ ␣ ␣ ␣ ␣ ␣ ␣ ␣ ␣ ␣ ␣ ␣ ␣ ␣ ␣ ␣ ␣ ␣ ␣ ␣\n",
            "C o o k   m a c a r o n i   a c c o r d i n g   t o   p a c k a g e   d i r e c t i o n s ;   d r a i n   w e l l . \t C o l d . \t C o m b i n e   m a c a r o n i ,   c h e e s e   c u b e s ,   c e l e r y ,   g r e e n   p e p p e r   a n d   p i m e n t o . \t B l e n d   t o g e t h e r   m a y o n n a i s e   o r   p o s s i b l y   s a l a d   d r e s s i n g ,   v i n e g a r ,   s a l t   a n d   d i l l   w e e d ;   a d d   i n   t o   m a c a r o n i   m i x . \t T o s s   l i g h t l y . \t C o v e r   a n d   r e f r i g e r a t e w e l l . \t S e r v e   s a l a d   i n   l e t t u c e   l i n e d   b o w l   i f   y o u   l i k e . \t M a k e s   6   s e r v i n g s . \t ␣ ␣ ␣ ␣ ␣ ␣ ␣ ␣ ␣ ␣ ␣ ␣ ␣ ␣ ␣ ␣ ␣ ␣ ␣ ␣ ␣ ␣ ␣ ␣ ␣ ␣ ␣ ␣ ␣ ␣ ␣ ␣ ␣ ␣ ␣ ␣ ␣ ␣ ␣ ␣ ␣ ␣ ␣ ␣ ␣ ␣ ␣ ␣ ␣ ␣ ␣ ␣ ␣ ␣ ␣ ␣ ␣ ␣ ␣ ␣ ␣ ␣ ␣ ␣ ␣ ␣ ␣ ␣ ␣ ␣ ␣ ␣ ␣ ␣ ␣ ␣ ␣ ␣ ␣ ␣ ␣ ␣ ␣ ␣ ␣ ␣ ␣ ␣ ␣ ␣ ␣ ␣ ␣ ␣ ␣ ␣ ␣ ␣ ␣ ␣ ␣ ␣ ␣ ␣ ␣ ␣ ␣ ␣ ␣ ␣ ␣ ␣ ␣ ␣ ␣ ␣ ␣ ␣ ␣ ␣ ␣ ␣ ␣ ␣ ␣ ␣ ␣ ␣ ␣ ␣ ␣ ␣ ␣ ␣ ␣ ␣ ␣ ␣ ␣ ␣ ␣ ␣ ␣ ␣ ␣ ␣ ␣ ␣ ␣ ␣ ␣ ␣ ␣ ␣ ␣ ␣ ␣ ␣ ␣ ␣ ␣ ␣ ␣ ␣ ␣ ␣ ␣ ␣ ␣ ␣ ␣ ␣ ␣ ␣ ␣ ␣ ␣ ␣ ␣ ␣ ␣ ␣ ␣ ␣ ␣ ␣ ␣ ␣ ␣ ␣ ␣ ␣ ␣ ␣ ␣ ␣ ␣ ␣ ␣ ␣ ␣ ␣ ␣ ␣ ␣ ␣ ␣ ␣ ␣ ␣ ␣ ␣ ␣ ␣ ␣ ␣ ␣ ␣ ␣ ␣ ␣ ␣ ␣ ␣ ␣ ␣ ␣ ␣ ␣ ␣ ␣ ␣ ␣ ␣ ␣ ␣ ␣ ␣ ␣ ␣ ␣ ␣ ␣ ␣ ␣ ␣ ␣ ␣ ␣ ␣ ␣ ␣ ␣ ␣ ␣ ␣ ␣ ␣ ␣ ␣ ␣ ␣ ␣ ␣ ␣ ␣ ␣ ␣ ␣ ␣ ␣ ␣ ␣ ␣ ␣ ␣ ␣ ␣ ␣ ␣ ␣ ␣ ␣ ␣ ␣ ␣ ␣ ␣ ␣ ␣ ␣ ␣ ␣ ␣ ␣ ␣ ␣ ␣ ␣ ␣ ␣ ␣ ␣ ␣ ␣ ␣ ␣ ␣ ␣ ␣ ␣ ␣ ␣ ␣ ␣ ␣ ␣ ␣ ␣ ␣ ␣ ␣ ␣ ␣ ␣ ␣ ␣ ␣ ␣ ␣ ␣ ␣ ␣ ␣ ␣ ␣ ␣ ␣ ␣ ␣ ␣ ␣ ␣ ␣ ␣ ␣ ␣ ␣ ␣ ␣ ␣ ␣ ␣ ␣ ␣ ␣ ␣ ␣ ␣ ␣ ␣ ␣ ␣ ␣ ␣ ␣ ␣ ␣ ␣ ␣ ␣ ␣ ␣ ␣ ␣ ␣ ␣ ␣ ␣ ␣ ␣ ␣ ␣ ␣ ␣ ␣ ␣ ␣ ␣ ␣ ␣ ␣ ␣ ␣ ␣ ␣ ␣ ␣ ␣ ␣ ␣ ␣ ␣ ␣ ␣ ␣ ␣ ␣ ␣ ␣ ␣ ␣ ␣ ␣ ␣ ␣ ␣ ␣ ␣ ␣ ␣ ␣ ␣ ␣ ␣ ␣ ␣ ␣ ␣ ␣ ␣ ␣ ␣ ␣ ␣ ␣ ␣ ␣ ␣ ␣ ␣ ␣ ␣ ␣ ␣ ␣ ␣ ␣ ␣ ␣ ␣ ␣ ␣ ␣ ␣ ␣ ␣ ␣ ␣ ␣ ␣ ␣ ␣ ␣ ␣ ␣ ␣ ␣ ␣ ␣ ␣ ␣ ␣ ␣ ␣ ␣ ␣ ␣ ␣ ␣ ␣ ␣ ␣ ␣ ␣ ␣ ␣ ␣ ␣ ␣ ␣ ␣ ␣ ␣ ␣ ␣ ␣ ␣ ␣ ␣ ␣ ␣ ␣ ␣ ␣ ␣ ␣ ␣ ␣ ␣ ␣ ␣ ␣ ␣ ␣ ␣ ␣ ␣ ␣ ␣ ␣ ␣ ␣ ␣ ␣ ␣ ␣ ␣ ␣ ␣ ␣ ␣ ␣ ␣ ␣ ␣ ␣ ␣ ␣ ␣ ␣ ␣ ␣ ␣ ␣ ␣ ␣ ␣ ␣ ␣ ␣ ␣ ␣ ␣ ␣ ␣ ␣ ␣ ␣ ␣ ␣ ␣ ␣ ␣ ␣ ␣ ␣ ␣ ␣ ␣ ␣ ␣ ␣ ␣ ␣ ␣ ␣ ␣ ␣ ␣ ␣ ␣ ␣ ␣ ␣ ␣ ␣ ␣ ␣ ␣ ␣ ␣ ␣ ␣ ␣ ␣ ␣ ␣ ␣ ␣ ␣ ␣ ␣ ␣ ␣ ␣ ␣ ␣ ␣ ␣ ␣ ␣ ␣ ␣ ␣ ␣ ␣ ␣ ␣ ␣ ␣ ␣ ␣ ␣ ␣ ␣ ␣ ␣ ␣ ␣ ␣ ␣ ␣ ␣ ␣ ␣ ␣ ␣ ␣ ␣ ␣ ␣ ␣ ␣ ␣ ␣ ␣ ␣ ␣ ␣ ␣ ␣ ␣ ␣ ␣ ␣ ␣\n"
          ],
          "name": "stdout"
        }
      ]
    },
    {
      "cell_type": "code",
      "metadata": {
        "colab": {
          "base_uri": "https://localhost:8080/",
          "height": 467
        },
        "id": "nlNPcrCYt0lo",
        "outputId": "1010cf47-116a-4714-8e1c-1e00950d44d7"
      },
      "source": [
        "def split_input_target(title, both):\n",
        "    print(title[1:10])\n",
        "    input_text = title[:-1]\n",
        "    target_text = title[1:]\n",
        "\n",
        "    ingr_input = both[\"ingredients\"][:-1]\n",
        "    ingr_target = both[\"ingredients\"][1:]\n",
        "\n",
        "    instr_input = both[\"instructions\"][:-1]\n",
        "    instr_target = both[\"instructions\"][1:]\n",
        "    \n",
        "    return (input_text, target_text), (ingr_input, ingr_target), (instr_input, instr_target)\n",
        "\n",
        "dataset_targeted = data.map(split_input_target)\n",
        "\n",
        "print(dataset_targeted)"
      ],
      "execution_count": null,
      "outputs": [
        {
          "output_type": "error",
          "ename": "TypeError",
          "evalue": "ignored",
          "traceback": [
            "\u001b[0;31m---------------------------------------------------------------------------\u001b[0m",
            "\u001b[0;31mTypeError\u001b[0m                                 Traceback (most recent call last)",
            "\u001b[0;32m<ipython-input-122-3ab103425259>\u001b[0m in \u001b[0;36m<module>\u001b[0;34m()\u001b[0m\n\u001b[1;32m     12\u001b[0m     \u001b[0;32mreturn\u001b[0m \u001b[0;34m(\u001b[0m\u001b[0minput_text\u001b[0m\u001b[0;34m,\u001b[0m \u001b[0mtarget_text\u001b[0m\u001b[0;34m)\u001b[0m\u001b[0;34m,\u001b[0m \u001b[0;34m(\u001b[0m\u001b[0mingr_input\u001b[0m\u001b[0;34m,\u001b[0m \u001b[0mingr_target\u001b[0m\u001b[0;34m)\u001b[0m\u001b[0;34m,\u001b[0m \u001b[0;34m(\u001b[0m\u001b[0minstr_input\u001b[0m\u001b[0;34m,\u001b[0m \u001b[0minstr_target\u001b[0m\u001b[0;34m)\u001b[0m\u001b[0;34m\u001b[0m\u001b[0;34m\u001b[0m\u001b[0m\n\u001b[1;32m     13\u001b[0m \u001b[0;34m\u001b[0m\u001b[0m\n\u001b[0;32m---> 14\u001b[0;31m \u001b[0mdataset_targeted\u001b[0m \u001b[0;34m=\u001b[0m \u001b[0mdata\u001b[0m\u001b[0;34m.\u001b[0m\u001b[0mmap\u001b[0m\u001b[0;34m(\u001b[0m\u001b[0msplit_input_target\u001b[0m\u001b[0;34m)\u001b[0m\u001b[0;34m\u001b[0m\u001b[0;34m\u001b[0m\u001b[0m\n\u001b[0m\u001b[1;32m     15\u001b[0m \u001b[0;34m\u001b[0m\u001b[0m\n\u001b[1;32m     16\u001b[0m \u001b[0mprint\u001b[0m\u001b[0;34m(\u001b[0m\u001b[0mdataset_targeted\u001b[0m\u001b[0;34m)\u001b[0m\u001b[0;34m\u001b[0m\u001b[0;34m\u001b[0m\u001b[0m\n",
            "\u001b[0;32m/usr/local/lib/python3.7/dist-packages/tensorflow/python/data/ops/dataset_ops.py\u001b[0m in \u001b[0;36mmap\u001b[0;34m(self, map_func, num_parallel_calls, deterministic)\u001b[0m\n\u001b[1;32m   1803\u001b[0m     \"\"\"\n\u001b[1;32m   1804\u001b[0m     \u001b[0;32mif\u001b[0m \u001b[0mnum_parallel_calls\u001b[0m \u001b[0;32mis\u001b[0m \u001b[0;32mNone\u001b[0m\u001b[0;34m:\u001b[0m\u001b[0;34m\u001b[0m\u001b[0;34m\u001b[0m\u001b[0m\n\u001b[0;32m-> 1805\u001b[0;31m       \u001b[0;32mreturn\u001b[0m \u001b[0mMapDataset\u001b[0m\u001b[0;34m(\u001b[0m\u001b[0mself\u001b[0m\u001b[0;34m,\u001b[0m \u001b[0mmap_func\u001b[0m\u001b[0;34m,\u001b[0m \u001b[0mpreserve_cardinality\u001b[0m\u001b[0;34m=\u001b[0m\u001b[0;32mTrue\u001b[0m\u001b[0;34m)\u001b[0m\u001b[0;34m\u001b[0m\u001b[0;34m\u001b[0m\u001b[0m\n\u001b[0m\u001b[1;32m   1806\u001b[0m     \u001b[0;32melse\u001b[0m\u001b[0;34m:\u001b[0m\u001b[0;34m\u001b[0m\u001b[0;34m\u001b[0m\u001b[0m\n\u001b[1;32m   1807\u001b[0m       return ParallelMapDataset(\n",
            "\u001b[0;32m/usr/local/lib/python3.7/dist-packages/tensorflow/python/data/ops/dataset_ops.py\u001b[0m in \u001b[0;36m__init__\u001b[0;34m(self, input_dataset, map_func, use_inter_op_parallelism, preserve_cardinality, use_legacy_function)\u001b[0m\n\u001b[1;32m   4205\u001b[0m         \u001b[0mself\u001b[0m\u001b[0;34m.\u001b[0m\u001b[0m_transformation_name\u001b[0m\u001b[0;34m(\u001b[0m\u001b[0;34m)\u001b[0m\u001b[0;34m,\u001b[0m\u001b[0;34m\u001b[0m\u001b[0;34m\u001b[0m\u001b[0m\n\u001b[1;32m   4206\u001b[0m         \u001b[0mdataset\u001b[0m\u001b[0;34m=\u001b[0m\u001b[0minput_dataset\u001b[0m\u001b[0;34m,\u001b[0m\u001b[0;34m\u001b[0m\u001b[0;34m\u001b[0m\u001b[0m\n\u001b[0;32m-> 4207\u001b[0;31m         use_legacy_function=use_legacy_function)\n\u001b[0m\u001b[1;32m   4208\u001b[0m     variant_tensor = gen_dataset_ops.map_dataset(\n\u001b[1;32m   4209\u001b[0m         \u001b[0minput_dataset\u001b[0m\u001b[0;34m.\u001b[0m\u001b[0m_variant_tensor\u001b[0m\u001b[0;34m,\u001b[0m  \u001b[0;31m# pylint: disable=protected-access\u001b[0m\u001b[0;34m\u001b[0m\u001b[0;34m\u001b[0m\u001b[0m\n",
            "\u001b[0;32m/usr/local/lib/python3.7/dist-packages/tensorflow/python/data/ops/dataset_ops.py\u001b[0m in \u001b[0;36m__init__\u001b[0;34m(self, func, transformation_name, dataset, input_classes, input_shapes, input_types, input_structure, add_to_graph, use_legacy_function, defun_kwargs)\u001b[0m\n\u001b[1;32m   3523\u001b[0m       \u001b[0;32mwith\u001b[0m \u001b[0mtracking\u001b[0m\u001b[0;34m.\u001b[0m\u001b[0mresource_tracker_scope\u001b[0m\u001b[0;34m(\u001b[0m\u001b[0mresource_tracker\u001b[0m\u001b[0;34m)\u001b[0m\u001b[0;34m:\u001b[0m\u001b[0;34m\u001b[0m\u001b[0;34m\u001b[0m\u001b[0m\n\u001b[1;32m   3524\u001b[0m         \u001b[0;31m# TODO(b/141462134): Switch to using garbage collection.\u001b[0m\u001b[0;34m\u001b[0m\u001b[0;34m\u001b[0m\u001b[0;34m\u001b[0m\u001b[0m\n\u001b[0;32m-> 3525\u001b[0;31m         \u001b[0mself\u001b[0m\u001b[0;34m.\u001b[0m\u001b[0m_function\u001b[0m \u001b[0;34m=\u001b[0m \u001b[0mwrapper_fn\u001b[0m\u001b[0;34m.\u001b[0m\u001b[0mget_concrete_function\u001b[0m\u001b[0;34m(\u001b[0m\u001b[0;34m)\u001b[0m\u001b[0;34m\u001b[0m\u001b[0;34m\u001b[0m\u001b[0m\n\u001b[0m\u001b[1;32m   3526\u001b[0m         \u001b[0;32mif\u001b[0m \u001b[0madd_to_graph\u001b[0m\u001b[0;34m:\u001b[0m\u001b[0;34m\u001b[0m\u001b[0;34m\u001b[0m\u001b[0m\n\u001b[1;32m   3527\u001b[0m           \u001b[0mself\u001b[0m\u001b[0;34m.\u001b[0m\u001b[0m_function\u001b[0m\u001b[0;34m.\u001b[0m\u001b[0madd_to_graph\u001b[0m\u001b[0;34m(\u001b[0m\u001b[0mops\u001b[0m\u001b[0;34m.\u001b[0m\u001b[0mget_default_graph\u001b[0m\u001b[0;34m(\u001b[0m\u001b[0;34m)\u001b[0m\u001b[0;34m)\u001b[0m\u001b[0;34m\u001b[0m\u001b[0;34m\u001b[0m\u001b[0m\n",
            "\u001b[0;32m/usr/local/lib/python3.7/dist-packages/tensorflow/python/eager/function.py\u001b[0m in \u001b[0;36mget_concrete_function\u001b[0;34m(self, *args, **kwargs)\u001b[0m\n\u001b[1;32m   3050\u001b[0m     \"\"\"\n\u001b[1;32m   3051\u001b[0m     graph_function = self._get_concrete_function_garbage_collected(\n\u001b[0;32m-> 3052\u001b[0;31m         *args, **kwargs)\n\u001b[0m\u001b[1;32m   3053\u001b[0m     \u001b[0mgraph_function\u001b[0m\u001b[0;34m.\u001b[0m\u001b[0m_garbage_collector\u001b[0m\u001b[0;34m.\u001b[0m\u001b[0mrelease\u001b[0m\u001b[0;34m(\u001b[0m\u001b[0;34m)\u001b[0m  \u001b[0;31m# pylint: disable=protected-access\u001b[0m\u001b[0;34m\u001b[0m\u001b[0;34m\u001b[0m\u001b[0m\n\u001b[1;32m   3054\u001b[0m     \u001b[0;32mreturn\u001b[0m \u001b[0mgraph_function\u001b[0m\u001b[0;34m\u001b[0m\u001b[0;34m\u001b[0m\u001b[0m\n",
            "\u001b[0;32m/usr/local/lib/python3.7/dist-packages/tensorflow/python/eager/function.py\u001b[0m in \u001b[0;36m_get_concrete_function_garbage_collected\u001b[0;34m(self, *args, **kwargs)\u001b[0m\n\u001b[1;32m   3017\u001b[0m       \u001b[0margs\u001b[0m\u001b[0;34m,\u001b[0m \u001b[0mkwargs\u001b[0m \u001b[0;34m=\u001b[0m \u001b[0;32mNone\u001b[0m\u001b[0;34m,\u001b[0m \u001b[0;32mNone\u001b[0m\u001b[0;34m\u001b[0m\u001b[0;34m\u001b[0m\u001b[0m\n\u001b[1;32m   3018\u001b[0m     \u001b[0;32mwith\u001b[0m \u001b[0mself\u001b[0m\u001b[0;34m.\u001b[0m\u001b[0m_lock\u001b[0m\u001b[0;34m:\u001b[0m\u001b[0;34m\u001b[0m\u001b[0;34m\u001b[0m\u001b[0m\n\u001b[0;32m-> 3019\u001b[0;31m       \u001b[0mgraph_function\u001b[0m\u001b[0;34m,\u001b[0m \u001b[0m_\u001b[0m \u001b[0;34m=\u001b[0m \u001b[0mself\u001b[0m\u001b[0;34m.\u001b[0m\u001b[0m_maybe_define_function\u001b[0m\u001b[0;34m(\u001b[0m\u001b[0margs\u001b[0m\u001b[0;34m,\u001b[0m \u001b[0mkwargs\u001b[0m\u001b[0;34m)\u001b[0m\u001b[0;34m\u001b[0m\u001b[0;34m\u001b[0m\u001b[0m\n\u001b[0m\u001b[1;32m   3020\u001b[0m       \u001b[0mseen_names\u001b[0m \u001b[0;34m=\u001b[0m \u001b[0mset\u001b[0m\u001b[0;34m(\u001b[0m\u001b[0;34m)\u001b[0m\u001b[0;34m\u001b[0m\u001b[0;34m\u001b[0m\u001b[0m\n\u001b[1;32m   3021\u001b[0m       captured = object_identity.ObjectIdentitySet(\n",
            "\u001b[0;32m/usr/local/lib/python3.7/dist-packages/tensorflow/python/eager/function.py\u001b[0m in \u001b[0;36m_maybe_define_function\u001b[0;34m(self, args, kwargs)\u001b[0m\n\u001b[1;32m   3359\u001b[0m \u001b[0;34m\u001b[0m\u001b[0m\n\u001b[1;32m   3360\u001b[0m           \u001b[0mself\u001b[0m\u001b[0;34m.\u001b[0m\u001b[0m_function_cache\u001b[0m\u001b[0;34m.\u001b[0m\u001b[0mmissed\u001b[0m\u001b[0;34m.\u001b[0m\u001b[0madd\u001b[0m\u001b[0;34m(\u001b[0m\u001b[0mcall_context_key\u001b[0m\u001b[0;34m)\u001b[0m\u001b[0;34m\u001b[0m\u001b[0;34m\u001b[0m\u001b[0m\n\u001b[0;32m-> 3361\u001b[0;31m           \u001b[0mgraph_function\u001b[0m \u001b[0;34m=\u001b[0m \u001b[0mself\u001b[0m\u001b[0;34m.\u001b[0m\u001b[0m_create_graph_function\u001b[0m\u001b[0;34m(\u001b[0m\u001b[0margs\u001b[0m\u001b[0;34m,\u001b[0m \u001b[0mkwargs\u001b[0m\u001b[0;34m)\u001b[0m\u001b[0;34m\u001b[0m\u001b[0;34m\u001b[0m\u001b[0m\n\u001b[0m\u001b[1;32m   3362\u001b[0m           \u001b[0mself\u001b[0m\u001b[0;34m.\u001b[0m\u001b[0m_function_cache\u001b[0m\u001b[0;34m.\u001b[0m\u001b[0mprimary\u001b[0m\u001b[0;34m[\u001b[0m\u001b[0mcache_key\u001b[0m\u001b[0;34m]\u001b[0m \u001b[0;34m=\u001b[0m \u001b[0mgraph_function\u001b[0m\u001b[0;34m\u001b[0m\u001b[0;34m\u001b[0m\u001b[0m\n\u001b[1;32m   3363\u001b[0m \u001b[0;34m\u001b[0m\u001b[0m\n",
            "\u001b[0;32m/usr/local/lib/python3.7/dist-packages/tensorflow/python/eager/function.py\u001b[0m in \u001b[0;36m_create_graph_function\u001b[0;34m(self, args, kwargs, override_flat_arg_shapes)\u001b[0m\n\u001b[1;32m   3204\u001b[0m             \u001b[0marg_names\u001b[0m\u001b[0;34m=\u001b[0m\u001b[0marg_names\u001b[0m\u001b[0;34m,\u001b[0m\u001b[0;34m\u001b[0m\u001b[0;34m\u001b[0m\u001b[0m\n\u001b[1;32m   3205\u001b[0m             \u001b[0moverride_flat_arg_shapes\u001b[0m\u001b[0;34m=\u001b[0m\u001b[0moverride_flat_arg_shapes\u001b[0m\u001b[0;34m,\u001b[0m\u001b[0;34m\u001b[0m\u001b[0;34m\u001b[0m\u001b[0m\n\u001b[0;32m-> 3206\u001b[0;31m             capture_by_value=self._capture_by_value),\n\u001b[0m\u001b[1;32m   3207\u001b[0m         \u001b[0mself\u001b[0m\u001b[0;34m.\u001b[0m\u001b[0m_function_attributes\u001b[0m\u001b[0;34m,\u001b[0m\u001b[0;34m\u001b[0m\u001b[0;34m\u001b[0m\u001b[0m\n\u001b[1;32m   3208\u001b[0m         \u001b[0mfunction_spec\u001b[0m\u001b[0;34m=\u001b[0m\u001b[0mself\u001b[0m\u001b[0;34m.\u001b[0m\u001b[0mfunction_spec\u001b[0m\u001b[0;34m,\u001b[0m\u001b[0;34m\u001b[0m\u001b[0;34m\u001b[0m\u001b[0m\n",
            "\u001b[0;32m/usr/local/lib/python3.7/dist-packages/tensorflow/python/framework/func_graph.py\u001b[0m in \u001b[0;36mfunc_graph_from_py_func\u001b[0;34m(name, python_func, args, kwargs, signature, func_graph, autograph, autograph_options, add_control_dependencies, arg_names, op_return_value, collections, capture_by_value, override_flat_arg_shapes)\u001b[0m\n\u001b[1;32m    988\u001b[0m         \u001b[0m_\u001b[0m\u001b[0;34m,\u001b[0m \u001b[0moriginal_func\u001b[0m \u001b[0;34m=\u001b[0m \u001b[0mtf_decorator\u001b[0m\u001b[0;34m.\u001b[0m\u001b[0munwrap\u001b[0m\u001b[0;34m(\u001b[0m\u001b[0mpython_func\u001b[0m\u001b[0;34m)\u001b[0m\u001b[0;34m\u001b[0m\u001b[0;34m\u001b[0m\u001b[0m\n\u001b[1;32m    989\u001b[0m \u001b[0;34m\u001b[0m\u001b[0m\n\u001b[0;32m--> 990\u001b[0;31m       \u001b[0mfunc_outputs\u001b[0m \u001b[0;34m=\u001b[0m \u001b[0mpython_func\u001b[0m\u001b[0;34m(\u001b[0m\u001b[0;34m*\u001b[0m\u001b[0mfunc_args\u001b[0m\u001b[0;34m,\u001b[0m \u001b[0;34m**\u001b[0m\u001b[0mfunc_kwargs\u001b[0m\u001b[0;34m)\u001b[0m\u001b[0;34m\u001b[0m\u001b[0;34m\u001b[0m\u001b[0m\n\u001b[0m\u001b[1;32m    991\u001b[0m \u001b[0;34m\u001b[0m\u001b[0m\n\u001b[1;32m    992\u001b[0m       \u001b[0;31m# invariant: `func_outputs` contains only Tensors, CompositeTensors,\u001b[0m\u001b[0;34m\u001b[0m\u001b[0;34m\u001b[0m\u001b[0;34m\u001b[0m\u001b[0m\n",
            "\u001b[0;32m/usr/local/lib/python3.7/dist-packages/tensorflow/python/data/ops/dataset_ops.py\u001b[0m in \u001b[0;36mwrapper_fn\u001b[0;34m(*args)\u001b[0m\n\u001b[1;32m   3516\u001b[0m           attributes=defun_kwargs)\n\u001b[1;32m   3517\u001b[0m       \u001b[0;32mdef\u001b[0m \u001b[0mwrapper_fn\u001b[0m\u001b[0;34m(\u001b[0m\u001b[0;34m*\u001b[0m\u001b[0margs\u001b[0m\u001b[0;34m)\u001b[0m\u001b[0;34m:\u001b[0m  \u001b[0;31m# pylint: disable=missing-docstring\u001b[0m\u001b[0;34m\u001b[0m\u001b[0;34m\u001b[0m\u001b[0m\n\u001b[0;32m-> 3518\u001b[0;31m         \u001b[0mret\u001b[0m \u001b[0;34m=\u001b[0m \u001b[0m_wrapper_helper\u001b[0m\u001b[0;34m(\u001b[0m\u001b[0;34m*\u001b[0m\u001b[0margs\u001b[0m\u001b[0;34m)\u001b[0m\u001b[0;34m\u001b[0m\u001b[0;34m\u001b[0m\u001b[0m\n\u001b[0m\u001b[1;32m   3519\u001b[0m         \u001b[0mret\u001b[0m \u001b[0;34m=\u001b[0m \u001b[0mstructure\u001b[0m\u001b[0;34m.\u001b[0m\u001b[0mto_tensor_list\u001b[0m\u001b[0;34m(\u001b[0m\u001b[0mself\u001b[0m\u001b[0;34m.\u001b[0m\u001b[0m_output_structure\u001b[0m\u001b[0;34m,\u001b[0m \u001b[0mret\u001b[0m\u001b[0;34m)\u001b[0m\u001b[0;34m\u001b[0m\u001b[0;34m\u001b[0m\u001b[0m\n\u001b[1;32m   3520\u001b[0m         \u001b[0;32mreturn\u001b[0m \u001b[0;34m[\u001b[0m\u001b[0mops\u001b[0m\u001b[0;34m.\u001b[0m\u001b[0mconvert_to_tensor\u001b[0m\u001b[0;34m(\u001b[0m\u001b[0mt\u001b[0m\u001b[0;34m)\u001b[0m \u001b[0;32mfor\u001b[0m \u001b[0mt\u001b[0m \u001b[0;32min\u001b[0m \u001b[0mret\u001b[0m\u001b[0;34m]\u001b[0m\u001b[0;34m\u001b[0m\u001b[0;34m\u001b[0m\u001b[0m\n",
            "\u001b[0;32m/usr/local/lib/python3.7/dist-packages/tensorflow/python/data/ops/dataset_ops.py\u001b[0m in \u001b[0;36m_wrapper_helper\u001b[0;34m(*args)\u001b[0m\n\u001b[1;32m   3451\u001b[0m         \u001b[0mnested_args\u001b[0m \u001b[0;34m=\u001b[0m \u001b[0;34m(\u001b[0m\u001b[0mnested_args\u001b[0m\u001b[0;34m,\u001b[0m\u001b[0;34m)\u001b[0m\u001b[0;34m\u001b[0m\u001b[0;34m\u001b[0m\u001b[0m\n\u001b[1;32m   3452\u001b[0m \u001b[0;34m\u001b[0m\u001b[0m\n\u001b[0;32m-> 3453\u001b[0;31m       \u001b[0mret\u001b[0m \u001b[0;34m=\u001b[0m \u001b[0mautograph\u001b[0m\u001b[0;34m.\u001b[0m\u001b[0mtf_convert\u001b[0m\u001b[0;34m(\u001b[0m\u001b[0mfunc\u001b[0m\u001b[0;34m,\u001b[0m \u001b[0mag_ctx\u001b[0m\u001b[0;34m)\u001b[0m\u001b[0;34m(\u001b[0m\u001b[0;34m*\u001b[0m\u001b[0mnested_args\u001b[0m\u001b[0;34m)\u001b[0m\u001b[0;34m\u001b[0m\u001b[0;34m\u001b[0m\u001b[0m\n\u001b[0m\u001b[1;32m   3454\u001b[0m       \u001b[0;31m# If `func` returns a list of tensors, `nest.flatten()` and\u001b[0m\u001b[0;34m\u001b[0m\u001b[0;34m\u001b[0m\u001b[0;34m\u001b[0m\u001b[0m\n\u001b[1;32m   3455\u001b[0m       \u001b[0;31m# `ops.convert_to_tensor()` would conspire to attempt to stack\u001b[0m\u001b[0;34m\u001b[0m\u001b[0;34m\u001b[0m\u001b[0;34m\u001b[0m\u001b[0m\n",
            "\u001b[0;32m/usr/local/lib/python3.7/dist-packages/tensorflow/python/autograph/impl/api.py\u001b[0m in \u001b[0;36mwrapper\u001b[0;34m(*args, **kwargs)\u001b[0m\n\u001b[1;32m    668\u001b[0m       \u001b[0;32mexcept\u001b[0m \u001b[0mException\u001b[0m \u001b[0;32mas\u001b[0m \u001b[0me\u001b[0m\u001b[0;34m:\u001b[0m  \u001b[0;31m# pylint:disable=broad-except\u001b[0m\u001b[0;34m\u001b[0m\u001b[0;34m\u001b[0m\u001b[0m\n\u001b[1;32m    669\u001b[0m         \u001b[0;32mif\u001b[0m \u001b[0mhasattr\u001b[0m\u001b[0;34m(\u001b[0m\u001b[0me\u001b[0m\u001b[0;34m,\u001b[0m \u001b[0;34m'ag_error_metadata'\u001b[0m\u001b[0;34m)\u001b[0m\u001b[0;34m:\u001b[0m\u001b[0;34m\u001b[0m\u001b[0;34m\u001b[0m\u001b[0m\n\u001b[0;32m--> 670\u001b[0;31m           \u001b[0;32mraise\u001b[0m \u001b[0me\u001b[0m\u001b[0;34m.\u001b[0m\u001b[0mag_error_metadata\u001b[0m\u001b[0;34m.\u001b[0m\u001b[0mto_exception\u001b[0m\u001b[0;34m(\u001b[0m\u001b[0me\u001b[0m\u001b[0;34m)\u001b[0m\u001b[0;34m\u001b[0m\u001b[0;34m\u001b[0m\u001b[0m\n\u001b[0m\u001b[1;32m    671\u001b[0m         \u001b[0;32melse\u001b[0m\u001b[0;34m:\u001b[0m\u001b[0;34m\u001b[0m\u001b[0;34m\u001b[0m\u001b[0m\n\u001b[1;32m    672\u001b[0m           \u001b[0;32mraise\u001b[0m\u001b[0;34m\u001b[0m\u001b[0;34m\u001b[0m\u001b[0m\n",
            "\u001b[0;31mTypeError\u001b[0m: in user code:\n\n    <ipython-input-122-3ab103425259>:2 split_input_target  *\n        print(title[1:10])\n\n    TypeError: unhashable type: 'slice'\n"
          ]
        }
      ]
    },
    {
      "cell_type": "code",
      "metadata": {
        "id": "Tyw-9yiagD2g"
      },
      "source": [
        "from tensorflow.keras.layers.experimental.preprocessing import TextVectorization\n",
        "import re\n",
        "import string"
      ],
      "execution_count": null,
      "outputs": []
    },
    {
      "cell_type": "code",
      "metadata": {
        "id": "utmPr4XogmkS"
      },
      "source": [
        "from tensorflow import keras"
      ],
      "execution_count": null,
      "outputs": []
    },
    {
      "cell_type": "code",
      "metadata": {
        "id": "ovnJKlnvgC7b"
      },
      "source": [
        "title_input = keras.Input(\n",
        "    shape = (101,), \n",
        "    name = \"title\",\n",
        "    dtype = \"int32\"\n",
        ")\n",
        "\n",
        "ingredient_input = keras.Input(\n",
        "    shape = (1001,), \n",
        "    name = \"ingredient\",\n",
        "    dtype = \"int32\"\n",
        ")\n",
        "\n",
        "instruction_input = keras.Input(\n",
        "    shape = (1001,),\n",
        "    name = \"instruction\",\n",
        "    dtype = \"int32\"\n",
        ")"
      ],
      "execution_count": null,
      "outputs": []
    },
    {
      "cell_type": "code",
      "metadata": {
        "id": "khZ-nPbogsg9"
      },
      "source": [
        "title_ft = vectorize_layer(title_input)\n",
        "title_ft = layers.Embedding(size_vocabulary, 3, name = \"embed1\")(title_ft)\n",
        "title_ft = layers.Dense(64, activation = \"sigmoid\")(title_ft)\n",
        "\n",
        "ingr_ft = vectorize_layer(ingredient_input)\n",
        "ingr_ft = layers.Embedding(size_vocabulary, 3, name = \"embed2\")(ingr_ft)\n",
        "ingr_ft = layers.Dense(64, activation = \"sigmoid\")(ingr_ft)\n",
        "\n",
        "istr_ft = vectorize_layer(instruction_input)\n",
        "istr_ft = layers.Embedding(size_vocabulary, 3, name = \"embed3\")(istr_ft)\n",
        "istr_ft = layers.Dense(64, activation = \"sigmoid\")(istr_ft)"
      ],
      "execution_count": null,
      "outputs": []
    },
    {
      "cell_type": "code",
      "metadata": {
        "id": "KxGM5EGDhQf7"
      },
      "source": [
        "main = layers.concatenate([title_ft, ingr_ft, istr_ft], axis = 1)"
      ],
      "execution_count": null,
      "outputs": []
    },
    {
      "cell_type": "code",
      "metadata": {
        "id": "A6sOJ49ChUFk"
      },
      "source": [
        "main = layers.Dense(32, activation='relu')(main)\n",
        "output = layers.Dense(2, name = \"genre\")(main)"
      ],
      "execution_count": null,
      "outputs": []
    },
    {
      "cell_type": "code",
      "metadata": {
        "id": "VmyXpTq9hW4n"
      },
      "source": [
        "model = keras.Model(\n",
        "    inputs = [title_input, ingredient_input, instruction_input],\n",
        "    outputs = output\n",
        ")"
      ],
      "execution_count": null,
      "outputs": []
    },
    {
      "cell_type": "code",
      "metadata": {
        "colab": {
          "base_uri": "https://localhost:8080/",
          "height": 661
        },
        "id": "NFaB5Jc_hYWo",
        "outputId": "9df63159-7a58-4ae2-82f4-4efdbf00b145"
      },
      "source": [
        "keras.utils.plot_model(model)"
      ],
      "execution_count": null,
      "outputs": [
        {
          "output_type": "execute_result",
          "data": {
            "image/png": "[encoded data removed]",
            "text/plain": [
              "<IPython.core.display.Image object>"
            ]
          },
          "metadata": {
            "tags": []
          },
          "execution_count": 28
        }
      ]
    },
    {
      "cell_type": "code",
      "metadata": {
        "id": "_7zaZbhahhzM"
      },
      "source": [
        "from tensorflow.keras import losses"
      ],
      "execution_count": null,
      "outputs": []
    },
    {
      "cell_type": "code",
      "metadata": {
        "id": "HzK7zWaGheDd"
      },
      "source": [
        "model.compile(optimizer = \"adam\",\n",
        "              loss = losses.SparseCategoricalCrossentropy(from_logits=True),\n",
        "              metrics=['accuracy']\n",
        ")"
      ],
      "execution_count": null,
      "outputs": []
    },
    {
      "cell_type": "code",
      "metadata": {
        "colab": {
          "base_uri": "https://localhost:8080/",
          "height": 1000
        },
        "id": "B7ZspfNdhgz1",
        "outputId": "097a68a2-a233-4920-84af-af745129766c"
      },
      "source": [
        "history = model.fit(train, \n",
        "                    validation_data=val,\n",
        "                    epochs = 1, \n",
        "                    verbose = True)"
      ],
      "execution_count": null,
      "outputs": [
        {
          "output_type": "error",
          "ename": "ValueError",
          "evalue": "ignored",
          "traceback": [
            "\u001b[0;31m---------------------------------------------------------------------------\u001b[0m",
            "\u001b[0;31mValueError\u001b[0m                                Traceback (most recent call last)",
            "\u001b[0;32m<ipython-input-32-6a25d3fbecc4>\u001b[0m in \u001b[0;36m<module>\u001b[0;34m()\u001b[0m\n\u001b[1;32m      2\u001b[0m                     \u001b[0mvalidation_data\u001b[0m\u001b[0;34m=\u001b[0m\u001b[0mval\u001b[0m\u001b[0;34m,\u001b[0m\u001b[0;34m\u001b[0m\u001b[0;34m\u001b[0m\u001b[0m\n\u001b[1;32m      3\u001b[0m                     \u001b[0mepochs\u001b[0m \u001b[0;34m=\u001b[0m \u001b[0;36m1\u001b[0m\u001b[0;34m,\u001b[0m\u001b[0;34m\u001b[0m\u001b[0;34m\u001b[0m\u001b[0m\n\u001b[0;32m----> 4\u001b[0;31m                     verbose = True)\n\u001b[0m",
            "\u001b[0;32m/usr/local/lib/python3.7/dist-packages/tensorflow/python/keras/engine/training.py\u001b[0m in \u001b[0;36mfit\u001b[0;34m(self, x, y, batch_size, epochs, verbose, callbacks, validation_split, validation_data, shuffle, class_weight, sample_weight, initial_epoch, steps_per_epoch, validation_steps, validation_batch_size, validation_freq, max_queue_size, workers, use_multiprocessing)\u001b[0m\n\u001b[1;32m   1098\u001b[0m                 _r=1):\n\u001b[1;32m   1099\u001b[0m               \u001b[0mcallbacks\u001b[0m\u001b[0;34m.\u001b[0m\u001b[0mon_train_batch_begin\u001b[0m\u001b[0;34m(\u001b[0m\u001b[0mstep\u001b[0m\u001b[0;34m)\u001b[0m\u001b[0;34m\u001b[0m\u001b[0;34m\u001b[0m\u001b[0m\n\u001b[0;32m-> 1100\u001b[0;31m               \u001b[0mtmp_logs\u001b[0m \u001b[0;34m=\u001b[0m \u001b[0mself\u001b[0m\u001b[0;34m.\u001b[0m\u001b[0mtrain_function\u001b[0m\u001b[0;34m(\u001b[0m\u001b[0miterator\u001b[0m\u001b[0;34m)\u001b[0m\u001b[0;34m\u001b[0m\u001b[0;34m\u001b[0m\u001b[0m\n\u001b[0m\u001b[1;32m   1101\u001b[0m               \u001b[0;32mif\u001b[0m \u001b[0mdata_handler\u001b[0m\u001b[0;34m.\u001b[0m\u001b[0mshould_sync\u001b[0m\u001b[0;34m:\u001b[0m\u001b[0;34m\u001b[0m\u001b[0;34m\u001b[0m\u001b[0m\n\u001b[1;32m   1102\u001b[0m                 \u001b[0mcontext\u001b[0m\u001b[0;34m.\u001b[0m\u001b[0masync_wait\u001b[0m\u001b[0;34m(\u001b[0m\u001b[0;34m)\u001b[0m\u001b[0;34m\u001b[0m\u001b[0;34m\u001b[0m\u001b[0m\n",
            "\u001b[0;32m/usr/local/lib/python3.7/dist-packages/tensorflow/python/eager/def_function.py\u001b[0m in \u001b[0;36m__call__\u001b[0;34m(self, *args, **kwds)\u001b[0m\n\u001b[1;32m    826\u001b[0m     \u001b[0mtracing_count\u001b[0m \u001b[0;34m=\u001b[0m \u001b[0mself\u001b[0m\u001b[0;34m.\u001b[0m\u001b[0mexperimental_get_tracing_count\u001b[0m\u001b[0;34m(\u001b[0m\u001b[0;34m)\u001b[0m\u001b[0;34m\u001b[0m\u001b[0;34m\u001b[0m\u001b[0m\n\u001b[1;32m    827\u001b[0m     \u001b[0;32mwith\u001b[0m \u001b[0mtrace\u001b[0m\u001b[0;34m.\u001b[0m\u001b[0mTrace\u001b[0m\u001b[0;34m(\u001b[0m\u001b[0mself\u001b[0m\u001b[0;34m.\u001b[0m\u001b[0m_name\u001b[0m\u001b[0;34m)\u001b[0m \u001b[0;32mas\u001b[0m \u001b[0mtm\u001b[0m\u001b[0;34m:\u001b[0m\u001b[0;34m\u001b[0m\u001b[0;34m\u001b[0m\u001b[0m\n\u001b[0;32m--> 828\u001b[0;31m       \u001b[0mresult\u001b[0m \u001b[0;34m=\u001b[0m \u001b[0mself\u001b[0m\u001b[0;34m.\u001b[0m\u001b[0m_call\u001b[0m\u001b[0;34m(\u001b[0m\u001b[0;34m*\u001b[0m\u001b[0margs\u001b[0m\u001b[0;34m,\u001b[0m \u001b[0;34m**\u001b[0m\u001b[0mkwds\u001b[0m\u001b[0;34m)\u001b[0m\u001b[0;34m\u001b[0m\u001b[0;34m\u001b[0m\u001b[0m\n\u001b[0m\u001b[1;32m    829\u001b[0m       \u001b[0mcompiler\u001b[0m \u001b[0;34m=\u001b[0m \u001b[0;34m\"xla\"\u001b[0m \u001b[0;32mif\u001b[0m \u001b[0mself\u001b[0m\u001b[0;34m.\u001b[0m\u001b[0m_experimental_compile\u001b[0m \u001b[0;32melse\u001b[0m \u001b[0;34m\"nonXla\"\u001b[0m\u001b[0;34m\u001b[0m\u001b[0;34m\u001b[0m\u001b[0m\n\u001b[1;32m    830\u001b[0m       \u001b[0mnew_tracing_count\u001b[0m \u001b[0;34m=\u001b[0m \u001b[0mself\u001b[0m\u001b[0;34m.\u001b[0m\u001b[0mexperimental_get_tracing_count\u001b[0m\u001b[0;34m(\u001b[0m\u001b[0;34m)\u001b[0m\u001b[0;34m\u001b[0m\u001b[0;34m\u001b[0m\u001b[0m\n",
            "\u001b[0;32m/usr/local/lib/python3.7/dist-packages/tensorflow/python/eager/def_function.py\u001b[0m in \u001b[0;36m_call\u001b[0;34m(self, *args, **kwds)\u001b[0m\n\u001b[1;32m    869\u001b[0m       \u001b[0;31m# This is the first call of __call__, so we have to initialize.\u001b[0m\u001b[0;34m\u001b[0m\u001b[0;34m\u001b[0m\u001b[0;34m\u001b[0m\u001b[0m\n\u001b[1;32m    870\u001b[0m       \u001b[0minitializers\u001b[0m \u001b[0;34m=\u001b[0m \u001b[0;34m[\u001b[0m\u001b[0;34m]\u001b[0m\u001b[0;34m\u001b[0m\u001b[0;34m\u001b[0m\u001b[0m\n\u001b[0;32m--> 871\u001b[0;31m       \u001b[0mself\u001b[0m\u001b[0;34m.\u001b[0m\u001b[0m_initialize\u001b[0m\u001b[0;34m(\u001b[0m\u001b[0margs\u001b[0m\u001b[0;34m,\u001b[0m \u001b[0mkwds\u001b[0m\u001b[0;34m,\u001b[0m \u001b[0madd_initializers_to\u001b[0m\u001b[0;34m=\u001b[0m\u001b[0minitializers\u001b[0m\u001b[0;34m)\u001b[0m\u001b[0;34m\u001b[0m\u001b[0;34m\u001b[0m\u001b[0m\n\u001b[0m\u001b[1;32m    872\u001b[0m     \u001b[0;32mfinally\u001b[0m\u001b[0;34m:\u001b[0m\u001b[0;34m\u001b[0m\u001b[0;34m\u001b[0m\u001b[0m\n\u001b[1;32m    873\u001b[0m       \u001b[0;31m# At this point we know that the initialization is complete (or less\u001b[0m\u001b[0;34m\u001b[0m\u001b[0;34m\u001b[0m\u001b[0;34m\u001b[0m\u001b[0m\n",
            "\u001b[0;32m/usr/local/lib/python3.7/dist-packages/tensorflow/python/eager/def_function.py\u001b[0m in \u001b[0;36m_initialize\u001b[0;34m(self, args, kwds, add_initializers_to)\u001b[0m\n\u001b[1;32m    724\u001b[0m     self._concrete_stateful_fn = (\n\u001b[1;32m    725\u001b[0m         self._stateful_fn._get_concrete_function_internal_garbage_collected(  # pylint: disable=protected-access\n\u001b[0;32m--> 726\u001b[0;31m             *args, **kwds))\n\u001b[0m\u001b[1;32m    727\u001b[0m \u001b[0;34m\u001b[0m\u001b[0m\n\u001b[1;32m    728\u001b[0m     \u001b[0;32mdef\u001b[0m \u001b[0minvalid_creator_scope\u001b[0m\u001b[0;34m(\u001b[0m\u001b[0;34m*\u001b[0m\u001b[0munused_args\u001b[0m\u001b[0;34m,\u001b[0m \u001b[0;34m**\u001b[0m\u001b[0munused_kwds\u001b[0m\u001b[0;34m)\u001b[0m\u001b[0;34m:\u001b[0m\u001b[0;34m\u001b[0m\u001b[0;34m\u001b[0m\u001b[0m\n",
            "\u001b[0;32m/usr/local/lib/python3.7/dist-packages/tensorflow/python/eager/function.py\u001b[0m in \u001b[0;36m_get_concrete_function_internal_garbage_collected\u001b[0;34m(self, *args, **kwargs)\u001b[0m\n\u001b[1;32m   2967\u001b[0m       \u001b[0margs\u001b[0m\u001b[0;34m,\u001b[0m \u001b[0mkwargs\u001b[0m \u001b[0;34m=\u001b[0m \u001b[0;32mNone\u001b[0m\u001b[0;34m,\u001b[0m \u001b[0;32mNone\u001b[0m\u001b[0;34m\u001b[0m\u001b[0;34m\u001b[0m\u001b[0m\n\u001b[1;32m   2968\u001b[0m     \u001b[0;32mwith\u001b[0m \u001b[0mself\u001b[0m\u001b[0;34m.\u001b[0m\u001b[0m_lock\u001b[0m\u001b[0;34m:\u001b[0m\u001b[0;34m\u001b[0m\u001b[0;34m\u001b[0m\u001b[0m\n\u001b[0;32m-> 2969\u001b[0;31m       \u001b[0mgraph_function\u001b[0m\u001b[0;34m,\u001b[0m \u001b[0m_\u001b[0m \u001b[0;34m=\u001b[0m \u001b[0mself\u001b[0m\u001b[0;34m.\u001b[0m\u001b[0m_maybe_define_function\u001b[0m\u001b[0;34m(\u001b[0m\u001b[0margs\u001b[0m\u001b[0;34m,\u001b[0m \u001b[0mkwargs\u001b[0m\u001b[0;34m)\u001b[0m\u001b[0;34m\u001b[0m\u001b[0;34m\u001b[0m\u001b[0m\n\u001b[0m\u001b[1;32m   2970\u001b[0m     \u001b[0;32mreturn\u001b[0m \u001b[0mgraph_function\u001b[0m\u001b[0;34m\u001b[0m\u001b[0;34m\u001b[0m\u001b[0m\n\u001b[1;32m   2971\u001b[0m \u001b[0;34m\u001b[0m\u001b[0m\n",
            "\u001b[0;32m/usr/local/lib/python3.7/dist-packages/tensorflow/python/eager/function.py\u001b[0m in \u001b[0;36m_maybe_define_function\u001b[0;34m(self, args, kwargs)\u001b[0m\n\u001b[1;32m   3359\u001b[0m \u001b[0;34m\u001b[0m\u001b[0m\n\u001b[1;32m   3360\u001b[0m           \u001b[0mself\u001b[0m\u001b[0;34m.\u001b[0m\u001b[0m_function_cache\u001b[0m\u001b[0;34m.\u001b[0m\u001b[0mmissed\u001b[0m\u001b[0;34m.\u001b[0m\u001b[0madd\u001b[0m\u001b[0;34m(\u001b[0m\u001b[0mcall_context_key\u001b[0m\u001b[0;34m)\u001b[0m\u001b[0;34m\u001b[0m\u001b[0;34m\u001b[0m\u001b[0m\n\u001b[0;32m-> 3361\u001b[0;31m           \u001b[0mgraph_function\u001b[0m \u001b[0;34m=\u001b[0m \u001b[0mself\u001b[0m\u001b[0;34m.\u001b[0m\u001b[0m_create_graph_function\u001b[0m\u001b[0;34m(\u001b[0m\u001b[0margs\u001b[0m\u001b[0;34m,\u001b[0m \u001b[0mkwargs\u001b[0m\u001b[0;34m)\u001b[0m\u001b[0;34m\u001b[0m\u001b[0;34m\u001b[0m\u001b[0m\n\u001b[0m\u001b[1;32m   3362\u001b[0m           \u001b[0mself\u001b[0m\u001b[0;34m.\u001b[0m\u001b[0m_function_cache\u001b[0m\u001b[0;34m.\u001b[0m\u001b[0mprimary\u001b[0m\u001b[0;34m[\u001b[0m\u001b[0mcache_key\u001b[0m\u001b[0;34m]\u001b[0m \u001b[0;34m=\u001b[0m \u001b[0mgraph_function\u001b[0m\u001b[0;34m\u001b[0m\u001b[0;34m\u001b[0m\u001b[0m\n\u001b[1;32m   3363\u001b[0m \u001b[0;34m\u001b[0m\u001b[0m\n",
            "\u001b[0;32m/usr/local/lib/python3.7/dist-packages/tensorflow/python/eager/function.py\u001b[0m in \u001b[0;36m_create_graph_function\u001b[0;34m(self, args, kwargs, override_flat_arg_shapes)\u001b[0m\n\u001b[1;32m   3204\u001b[0m             \u001b[0marg_names\u001b[0m\u001b[0;34m=\u001b[0m\u001b[0marg_names\u001b[0m\u001b[0;34m,\u001b[0m\u001b[0;34m\u001b[0m\u001b[0;34m\u001b[0m\u001b[0m\n\u001b[1;32m   3205\u001b[0m             \u001b[0moverride_flat_arg_shapes\u001b[0m\u001b[0;34m=\u001b[0m\u001b[0moverride_flat_arg_shapes\u001b[0m\u001b[0;34m,\u001b[0m\u001b[0;34m\u001b[0m\u001b[0;34m\u001b[0m\u001b[0m\n\u001b[0;32m-> 3206\u001b[0;31m             capture_by_value=self._capture_by_value),\n\u001b[0m\u001b[1;32m   3207\u001b[0m         \u001b[0mself\u001b[0m\u001b[0;34m.\u001b[0m\u001b[0m_function_attributes\u001b[0m\u001b[0;34m,\u001b[0m\u001b[0;34m\u001b[0m\u001b[0;34m\u001b[0m\u001b[0m\n\u001b[1;32m   3208\u001b[0m         \u001b[0mfunction_spec\u001b[0m\u001b[0;34m=\u001b[0m\u001b[0mself\u001b[0m\u001b[0;34m.\u001b[0m\u001b[0mfunction_spec\u001b[0m\u001b[0;34m,\u001b[0m\u001b[0;34m\u001b[0m\u001b[0;34m\u001b[0m\u001b[0m\n",
            "\u001b[0;32m/usr/local/lib/python3.7/dist-packages/tensorflow/python/framework/func_graph.py\u001b[0m in \u001b[0;36mfunc_graph_from_py_func\u001b[0;34m(name, python_func, args, kwargs, signature, func_graph, autograph, autograph_options, add_control_dependencies, arg_names, op_return_value, collections, capture_by_value, override_flat_arg_shapes)\u001b[0m\n\u001b[1;32m    988\u001b[0m         \u001b[0m_\u001b[0m\u001b[0;34m,\u001b[0m \u001b[0moriginal_func\u001b[0m \u001b[0;34m=\u001b[0m \u001b[0mtf_decorator\u001b[0m\u001b[0;34m.\u001b[0m\u001b[0munwrap\u001b[0m\u001b[0;34m(\u001b[0m\u001b[0mpython_func\u001b[0m\u001b[0;34m)\u001b[0m\u001b[0;34m\u001b[0m\u001b[0;34m\u001b[0m\u001b[0m\n\u001b[1;32m    989\u001b[0m \u001b[0;34m\u001b[0m\u001b[0m\n\u001b[0;32m--> 990\u001b[0;31m       \u001b[0mfunc_outputs\u001b[0m \u001b[0;34m=\u001b[0m \u001b[0mpython_func\u001b[0m\u001b[0;34m(\u001b[0m\u001b[0;34m*\u001b[0m\u001b[0mfunc_args\u001b[0m\u001b[0;34m,\u001b[0m \u001b[0;34m**\u001b[0m\u001b[0mfunc_kwargs\u001b[0m\u001b[0;34m)\u001b[0m\u001b[0;34m\u001b[0m\u001b[0;34m\u001b[0m\u001b[0m\n\u001b[0m\u001b[1;32m    991\u001b[0m \u001b[0;34m\u001b[0m\u001b[0m\n\u001b[1;32m    992\u001b[0m       \u001b[0;31m# invariant: `func_outputs` contains only Tensors, CompositeTensors,\u001b[0m\u001b[0;34m\u001b[0m\u001b[0;34m\u001b[0m\u001b[0;34m\u001b[0m\u001b[0m\n",
            "\u001b[0;32m/usr/local/lib/python3.7/dist-packages/tensorflow/python/eager/def_function.py\u001b[0m in \u001b[0;36mwrapped_fn\u001b[0;34m(*args, **kwds)\u001b[0m\n\u001b[1;32m    632\u001b[0m             \u001b[0mxla_context\u001b[0m\u001b[0;34m.\u001b[0m\u001b[0mExit\u001b[0m\u001b[0;34m(\u001b[0m\u001b[0;34m)\u001b[0m\u001b[0;34m\u001b[0m\u001b[0;34m\u001b[0m\u001b[0m\n\u001b[1;32m    633\u001b[0m         \u001b[0;32melse\u001b[0m\u001b[0;34m:\u001b[0m\u001b[0;34m\u001b[0m\u001b[0;34m\u001b[0m\u001b[0m\n\u001b[0;32m--> 634\u001b[0;31m           \u001b[0mout\u001b[0m \u001b[0;34m=\u001b[0m \u001b[0mweak_wrapped_fn\u001b[0m\u001b[0;34m(\u001b[0m\u001b[0;34m)\u001b[0m\u001b[0;34m.\u001b[0m\u001b[0m__wrapped__\u001b[0m\u001b[0;34m(\u001b[0m\u001b[0;34m*\u001b[0m\u001b[0margs\u001b[0m\u001b[0;34m,\u001b[0m \u001b[0;34m**\u001b[0m\u001b[0mkwds\u001b[0m\u001b[0;34m)\u001b[0m\u001b[0;34m\u001b[0m\u001b[0;34m\u001b[0m\u001b[0m\n\u001b[0m\u001b[1;32m    635\u001b[0m         \u001b[0;32mreturn\u001b[0m \u001b[0mout\u001b[0m\u001b[0;34m\u001b[0m\u001b[0;34m\u001b[0m\u001b[0m\n\u001b[1;32m    636\u001b[0m \u001b[0;34m\u001b[0m\u001b[0m\n",
            "\u001b[0;32m/usr/local/lib/python3.7/dist-packages/tensorflow/python/framework/func_graph.py\u001b[0m in \u001b[0;36mwrapper\u001b[0;34m(*args, **kwargs)\u001b[0m\n\u001b[1;32m    975\u001b[0m           \u001b[0;32mexcept\u001b[0m \u001b[0mException\u001b[0m \u001b[0;32mas\u001b[0m \u001b[0me\u001b[0m\u001b[0;34m:\u001b[0m  \u001b[0;31m# pylint:disable=broad-except\u001b[0m\u001b[0;34m\u001b[0m\u001b[0;34m\u001b[0m\u001b[0m\n\u001b[1;32m    976\u001b[0m             \u001b[0;32mif\u001b[0m \u001b[0mhasattr\u001b[0m\u001b[0;34m(\u001b[0m\u001b[0me\u001b[0m\u001b[0;34m,\u001b[0m \u001b[0;34m\"ag_error_metadata\"\u001b[0m\u001b[0;34m)\u001b[0m\u001b[0;34m:\u001b[0m\u001b[0;34m\u001b[0m\u001b[0;34m\u001b[0m\u001b[0m\n\u001b[0;32m--> 977\u001b[0;31m               \u001b[0;32mraise\u001b[0m \u001b[0me\u001b[0m\u001b[0;34m.\u001b[0m\u001b[0mag_error_metadata\u001b[0m\u001b[0;34m.\u001b[0m\u001b[0mto_exception\u001b[0m\u001b[0;34m(\u001b[0m\u001b[0me\u001b[0m\u001b[0;34m)\u001b[0m\u001b[0;34m\u001b[0m\u001b[0;34m\u001b[0m\u001b[0m\n\u001b[0m\u001b[1;32m    978\u001b[0m             \u001b[0;32melse\u001b[0m\u001b[0;34m:\u001b[0m\u001b[0;34m\u001b[0m\u001b[0;34m\u001b[0m\u001b[0m\n\u001b[1;32m    979\u001b[0m               \u001b[0;32mraise\u001b[0m\u001b[0;34m\u001b[0m\u001b[0;34m\u001b[0m\u001b[0m\n",
            "\u001b[0;31mValueError\u001b[0m: in user code:\n\n    /usr/local/lib/python3.7/dist-packages/tensorflow/python/keras/engine/training.py:805 train_function  *\n        return step_function(self, iterator)\n    /usr/local/lib/python3.7/dist-packages/tensorflow/python/keras/engine/training.py:795 step_function  **\n        outputs = model.distribute_strategy.run(run_step, args=(data,))\n    /usr/local/lib/python3.7/dist-packages/tensorflow/python/distribute/distribute_lib.py:1259 run\n        return self._extended.call_for_each_replica(fn, args=args, kwargs=kwargs)\n    /usr/local/lib/python3.7/dist-packages/tensorflow/python/distribute/distribute_lib.py:2730 call_for_each_replica\n        return self._call_for_each_replica(fn, args, kwargs)\n    /usr/local/lib/python3.7/dist-packages/tensorflow/python/distribute/distribute_lib.py:3417 _call_for_each_replica\n        return fn(*args, **kwargs)\n    /usr/local/lib/python3.7/dist-packages/tensorflow/python/keras/engine/training.py:788 run_step  **\n        outputs = model.train_step(data)\n    /usr/local/lib/python3.7/dist-packages/tensorflow/python/keras/engine/training.py:754 train_step\n        y_pred = self(x, training=True)\n    /usr/local/lib/python3.7/dist-packages/tensorflow/python/keras/engine/base_layer.py:998 __call__\n        input_spec.assert_input_compatibility(self.input_spec, inputs, self.name)\n    /usr/local/lib/python3.7/dist-packages/tensorflow/python/keras/engine/input_spec.py:190 assert_input_compatibility\n        (name, list(inputs.keys()), names))\n\n    ValueError: Missing data for input \"ingredient\". You passed a data dictionary with keys ['title']. Expected the following keys: ['title', 'ingredient', 'instruction']\n"
          ]
        }
      ]
    },
    {
      "cell_type": "code",
      "metadata": {
        "id": "GWNW4qqshnbr"
      },
      "source": [
        ""
      ],
      "execution_count": null,
      "outputs": []
    }
  ]
}