{
 "cells": [
  {
   "cell_type": "code",
   "execution_count": 1,
   "metadata": {
    "id": "7eSCLunEdXxq"
   },
   "outputs": [],
   "source": [
    "import json\n",
    "import pandas as pd\n",
    "import sqlite3\n",
    "import numpy as np"
   ]
  },
  {
   "cell_type": "markdown",
   "metadata": {
    "id": "mnCrdX_yioN8"
   },
   "source": [
    "# 1. Recipe Finder\n",
    "\n",
    "The function below is our __recipe finder__ function. It allows a user to input a list of ingredients, and retrieve some relevant recipes with matching ingredients."
   ]
  },
  {
   "cell_type": "code",
   "execution_count": 2,
   "metadata": {
    "id": "w19wcx0se8ji"
   },
   "outputs": [],
   "source": [
    "def find_recipe(ingredients, n = 5):\n",
    "    \"\"\"\n",
    "    Derivation of find_recipe_2 function, but optimized for easier use with a UI. \n",
    "    Removed the min_score argument, recipes with most matches are automatically returned.\n",
    "    Returns at most n recipes in a pandas dataframe contaning\n",
    "    title, ingredients, instructions, and number of ingredient matches\n",
    "\n",
    "    ingredients: list of ingredients available\n",
    "    n: number of desired recipes to output. default set to 5\n",
    "    \"\"\"\n",
    "    \n",
    "    # ensure that the ingredients are passed as a list\n",
    "    if type(ingredients) != list:\n",
    "        raise TypeError(\"Ingredients must be contained in a list.\")\n",
    "     \n",
    "    # create a variable to contain the WHERE statement for the SQL query\n",
    "    where_statement = \"\"\n",
    "\n",
    "    # Iterate accross the ingredients and add each one to the WHERE statement\n",
    "    for i in ingredients:\n",
    "        where_statement += f\"R.ingredients LIKE '%{i}%' OR \"\n",
    "    \n",
    "    # open up dataset, automatically close\n",
    "    with sqlite3.connect(\"recipes1M.db\") as conn:\n",
    "        \n",
    "        # grab ingredient matches\n",
    "        query = \\\n",
    "        f\"\"\"\n",
    "        SELECT R.title, R.ingredients, R.instructions\n",
    "        FROM recipes R\n",
    "        WHERE {where_statement[:-3]}\n",
    "    \n",
    "        \"\"\"\n",
    "        \n",
    "        # query database\n",
    "        df = pd.read_sql_query(query, conn)\n",
    "        \n",
    "    # reset the Score column every time the function is called\n",
    "    df[\"Score\"] = 0\n",
    "    \n",
    "    # iterate through list of input ingredients\n",
    "    for ingr in ingredients: \n",
    "        # increment score by 1 every time the matching ingredient name is found in a recipe\n",
    "        df[\"Score\"] += df['ingredients'].apply(lambda x: ingr in x)\n",
    "    \n",
    "    for i in range(len(ingredients), 0, -1):\n",
    "\n",
    "        if (df[\"Score\"] >= i).any() == True:\n",
    "            return (df[df[\"Score\"] >= i]).sample(n = n)\n",
    "\n",
    "    return \"No matching recipes!\""
   ]
  },
  {
   "cell_type": "code",
   "execution_count": 3,
   "metadata": {
    "colab": {
     "base_uri": "https://localhost:8080/",
     "height": 283
    },
    "id": "rhUAx7TlfPtx",
    "outputId": "7591ea63-0c93-42ec-8a3b-e9291dbe1842"
   },
   "outputs": [
    {
     "data": {
      "text/html": [
       "<div>\n",
       "<style scoped>\n",
       "    .dataframe tbody tr th:only-of-type {\n",
       "        vertical-align: middle;\n",
       "    }\n",
       "\n",
       "    .dataframe tbody tr th {\n",
       "        vertical-align: top;\n",
       "    }\n",
       "\n",
       "    .dataframe thead th {\n",
       "        text-align: right;\n",
       "    }\n",
       "</style>\n",
       "<table border=\"1\" class=\"dataframe\">\n",
       "  <thead>\n",
       "    <tr style=\"text-align: right;\">\n",
       "      <th></th>\n",
       "      <th>title</th>\n",
       "      <th>ingredients</th>\n",
       "      <th>instructions</th>\n",
       "      <th>Score</th>\n",
       "    </tr>\n",
       "  </thead>\n",
       "  <tbody>\n",
       "    <tr>\n",
       "      <th>59598</th>\n",
       "      <td>Barbecued Flank Steak with Roasted Vegetables ...</td>\n",
       "      <td>[\"4 ears of corn (with husks)\", \"1/4 cup KRAFT...</td>\n",
       "      <td>[\"Preheat grill to medium-high heat.\", \"Pull h...</td>\n",
       "      <td>2</td>\n",
       "    </tr>\n",
       "    <tr>\n",
       "      <th>36204</th>\n",
       "      <td>Cast Iron Blackened Grouper with Grilled Seaso...</td>\n",
       "      <td>[\"1 tablespoon black peppercorns\", \"1 tablespo...</td>\n",
       "      <td>[\"Prepare the blackening spice.\", \"Put all lis...</td>\n",
       "      <td>2</td>\n",
       "    </tr>\n",
       "    <tr>\n",
       "      <th>35165</th>\n",
       "      <td>Potato and Asparagus Soup With Cheese</td>\n",
       "      <td>[\"3 medium potatoes (peeled or unpeeled and cu...</td>\n",
       "      <td>[\"Combine the potatoes, chicken broth, onions,...</td>\n",
       "      <td>2</td>\n",
       "    </tr>\n",
       "    <tr>\n",
       "      <th>72262</th>\n",
       "      <td>Portabella Mushroom Roulade</td>\n",
       "      <td>[\"6 portabella mushrooms, roasted\", \"2 onions,...</td>\n",
       "      <td>[\"Remove gills and stems from portabellos.\", \"...</td>\n",
       "      <td>2</td>\n",
       "    </tr>\n",
       "    <tr>\n",
       "      <th>79457</th>\n",
       "      <td>Moroccan Fish Tajine</td>\n",
       "      <td>[\"3 whole trout (about 10 inches long)\", \"2 bu...</td>\n",
       "      <td>[\"Finely chop parsley and garlic and put in me...</td>\n",
       "      <td>2</td>\n",
       "    </tr>\n",
       "    <tr>\n",
       "      <th>6920</th>\n",
       "      <td>Homemade Rabbit Meal for Dogs</td>\n",
       "      <td>[\"2 rabbits, approx. 4 lbs. each\", \"8 cups wat...</td>\n",
       "      <td>[\"Place rabbits in a large pot and add water.\"...</td>\n",
       "      <td>2</td>\n",
       "    </tr>\n",
       "    <tr>\n",
       "      <th>10795</th>\n",
       "      <td>Asparagus Soup</td>\n",
       "      <td>[\"1 tbsp butter\", \"1 medium onion\", \"3 clove g...</td>\n",
       "      <td>[\"slice onion and garlic and set aside.\", \"cho...</td>\n",
       "      <td>2</td>\n",
       "    </tr>\n",
       "    <tr>\n",
       "      <th>20049</th>\n",
       "      <td>Ham and Potatoes With Asparagus</td>\n",
       "      <td>[\"2 sheets heavy duty aluminum foil\", \"2 mediu...</td>\n",
       "      <td>[\"Preheat oven to 450F or grill to medium-high...</td>\n",
       "      <td>2</td>\n",
       "    </tr>\n",
       "    <tr>\n",
       "      <th>11168</th>\n",
       "      <td>Frittata</td>\n",
       "      <td>[\"12 bunch thin asparagus, trimmed,lightly ste...</td>\n",
       "      <td>[\"Preheat oven broiler.\", \"In a large ovenproo...</td>\n",
       "      <td>2</td>\n",
       "    </tr>\n",
       "    <tr>\n",
       "      <th>36352</th>\n",
       "      <td>Mr Falafel's Portobellos of Love</td>\n",
       "      <td>[\"1 package portabella mushroom\", \"3 -5 cloves...</td>\n",
       "      <td>[\"Cut the potatoes into chunks for boiling.\", ...</td>\n",
       "      <td>2</td>\n",
       "    </tr>\n",
       "  </tbody>\n",
       "</table>\n",
       "</div>"
      ],
      "text/plain": [
       "                                                   title  \\\n",
       "59598  Barbecued Flank Steak with Roasted Vegetables ...   \n",
       "36204  Cast Iron Blackened Grouper with Grilled Seaso...   \n",
       "35165              Potato and Asparagus Soup With Cheese   \n",
       "72262                        Portabella Mushroom Roulade   \n",
       "79457                               Moroccan Fish Tajine   \n",
       "6920                       Homemade Rabbit Meal for Dogs   \n",
       "10795                                     Asparagus Soup   \n",
       "20049                    Ham and Potatoes With Asparagus   \n",
       "11168                                           Frittata   \n",
       "36352                   Mr Falafel's Portobellos of Love   \n",
       "\n",
       "                                             ingredients  \\\n",
       "59598  [\"4 ears of corn (with husks)\", \"1/4 cup KRAFT...   \n",
       "36204  [\"1 tablespoon black peppercorns\", \"1 tablespo...   \n",
       "35165  [\"3 medium potatoes (peeled or unpeeled and cu...   \n",
       "72262  [\"6 portabella mushrooms, roasted\", \"2 onions,...   \n",
       "79457  [\"3 whole trout (about 10 inches long)\", \"2 bu...   \n",
       "6920   [\"2 rabbits, approx. 4 lbs. each\", \"8 cups wat...   \n",
       "10795  [\"1 tbsp butter\", \"1 medium onion\", \"3 clove g...   \n",
       "20049  [\"2 sheets heavy duty aluminum foil\", \"2 mediu...   \n",
       "11168  [\"12 bunch thin asparagus, trimmed,lightly ste...   \n",
       "36352  [\"1 package portabella mushroom\", \"3 -5 cloves...   \n",
       "\n",
       "                                            instructions  Score  \n",
       "59598  [\"Preheat grill to medium-high heat.\", \"Pull h...      2  \n",
       "36204  [\"Prepare the blackening spice.\", \"Put all lis...      2  \n",
       "35165  [\"Combine the potatoes, chicken broth, onions,...      2  \n",
       "72262  [\"Remove gills and stems from portabellos.\", \"...      2  \n",
       "79457  [\"Finely chop parsley and garlic and put in me...      2  \n",
       "6920   [\"Place rabbits in a large pot and add water.\"...      2  \n",
       "10795  [\"slice onion and garlic and set aside.\", \"cho...      2  \n",
       "20049  [\"Preheat oven to 450F or grill to medium-high...      2  \n",
       "11168  [\"Preheat oven broiler.\", \"In a large ovenproo...      2  \n",
       "36352  [\"Cut the potatoes into chunks for boiling.\", ...      2  "
      ]
     },
     "execution_count": 3,
     "metadata": {},
     "output_type": "execute_result"
    }
   ],
   "source": [
    "find_recipe([\"potato\", \"asparagus\"], n = 10)"
   ]
  },
  {
   "cell_type": "markdown",
   "metadata": {
    "id": "K4VMtl3SjozN"
   },
   "source": [
    "#2. Recipe Generation\n",
    "\n",
    "In this section, we'll develop a __recipe generation__ function. It allows a user to input ingredients, and generate recipes using models trained on recurrent neural networks. At the moment, we're working with an __LSTM__ (long short-term memory) model, and a __GRU__ (Gated Recurrent Units) model."
   ]
  },
  {
   "cell_type": "code",
   "execution_count": null,
   "metadata": {
    "id": "Ofp2YPlSwJA4"
   },
   "outputs": [],
   "source": [
    "import tensorflow as tf\n",
    "from tensorflow.keras.layers.experimental import preprocessing\n",
    "from tensorflow.keras import layers\n",
    "\n",
    "# modeling\n",
    "import pathlib # for setting up checkpoint directory\n",
    "import os # ditto"
   ]
  },
  {
   "cell_type": "markdown",
   "metadata": {
    "id": "-6Ac-5o7Ha3L"
   },
   "source": [
    "## a.) Auxiliary Code + Functions\n",
    "\n",
    "The code below is used in prepping the `generate_recipe` function."
   ]
  },
  {
   "cell_type": "code",
   "execution_count": null,
   "metadata": {
    "id": "dt2hycAPGqZp"
   },
   "outputs": [],
   "source": [
    "def import_data(n):\n",
    "  ''' imports the first n recipes from the recipe database. '''\n",
    "  \n",
    "  with sqlite3.connect(\"/content/drive/Shareddrives/Gouda Group Project/recipes1M.db\") as conn:\n",
    "    query = \\\n",
    "    f\"\"\"\n",
    "    SELECT R.title, R.ingredients, R.instructions\n",
    "    FROM recipes R\n",
    "    LIMIT ?\n",
    "    \"\"\"\n",
    "\n",
    "    df = pd.read_sql_query(query, conn, params = [n])\n",
    "  \n",
    "  return df"
   ]
  },
  {
   "cell_type": "code",
   "execution_count": null,
   "metadata": {
    "colab": {
     "base_uri": "https://localhost:8080/",
     "height": 300
    },
    "id": "dGH3cjNGHi4V",
    "outputId": "445b92fd-aa30-43e4-b4bd-b2e9384dc2ec"
   },
   "outputs": [
    {
     "ename": "OperationalError",
     "evalue": "ignored",
     "output_type": "error",
     "traceback": [
      "\u001b[0;31m---------------------------------------------------------------------------\u001b[0m",
      "\u001b[0;31mOperationalError\u001b[0m                          Traceback (most recent call last)",
      "\u001b[0;32m<ipython-input-8-e8b48cd98b41>\u001b[0m in \u001b[0;36m<module>\u001b[0;34m()\u001b[0m\n\u001b[1;32m      1\u001b[0m \u001b[0mDATA_SIZE\u001b[0m \u001b[0;34m=\u001b[0m \u001b[0;36m100000\u001b[0m\u001b[0;34m\u001b[0m\u001b[0;34m\u001b[0m\u001b[0m\n\u001b[0;32m----> 2\u001b[0;31m \u001b[0mdata_raw\u001b[0m \u001b[0;34m=\u001b[0m \u001b[0mimport_data\u001b[0m\u001b[0;34m(\u001b[0m\u001b[0mDATA_SIZE\u001b[0m\u001b[0;34m)\u001b[0m\u001b[0;34m\u001b[0m\u001b[0;34m\u001b[0m\u001b[0m\n\u001b[0m",
      "\u001b[0;32m<ipython-input-7-1605e675a258>\u001b[0m in \u001b[0;36mimport_data\u001b[0;34m(n)\u001b[0m\n\u001b[1;32m      2\u001b[0m   \u001b[0;34m''' imports the first n recipes from the recipe database. '''\u001b[0m\u001b[0;34m\u001b[0m\u001b[0;34m\u001b[0m\u001b[0m\n\u001b[1;32m      3\u001b[0m \u001b[0;34m\u001b[0m\u001b[0m\n\u001b[0;32m----> 4\u001b[0;31m   \u001b[0;32mwith\u001b[0m \u001b[0msqlite3\u001b[0m\u001b[0;34m.\u001b[0m\u001b[0mconnect\u001b[0m\u001b[0;34m(\u001b[0m\u001b[0;34m\"/content/drive/Shareddrives/Gouda Group Project/recipes1M.db\"\u001b[0m\u001b[0;34m)\u001b[0m \u001b[0;32mas\u001b[0m \u001b[0mconn\u001b[0m\u001b[0;34m:\u001b[0m\u001b[0;34m\u001b[0m\u001b[0;34m\u001b[0m\u001b[0m\n\u001b[0m\u001b[1;32m      5\u001b[0m     query =     f\"\"\"\n\u001b[1;32m      6\u001b[0m     \u001b[0mSELECT\u001b[0m \u001b[0mR\u001b[0m\u001b[0;34m.\u001b[0m\u001b[0mtitle\u001b[0m\u001b[0;34m,\u001b[0m \u001b[0mR\u001b[0m\u001b[0;34m.\u001b[0m\u001b[0mingredients\u001b[0m\u001b[0;34m,\u001b[0m \u001b[0mR\u001b[0m\u001b[0;34m.\u001b[0m\u001b[0minstructions\u001b[0m\u001b[0;34m\u001b[0m\u001b[0;34m\u001b[0m\u001b[0m\n",
      "\u001b[0;31mOperationalError\u001b[0m: unable to open database file"
     ]
    }
   ],
   "source": [
    "DATA_SIZE = 100000\n",
    "data_raw = import_data(DATA_SIZE)"
   ]
  },
  {
   "cell_type": "code",
   "execution_count": null,
   "metadata": {
    "id": "-0-j5o2-HmXy"
   },
   "outputs": [],
   "source": [
    "# Oleksii Trekhleb\n",
    "\n",
    "# define relevant constant values\n",
    "STOP_WORD_TITLE = '📗 '\n",
    "STOP_WORD_INGREDIENTS = '\\n🥕\\n\\n'\n",
    "STOP_WORD_INSTRUCTIONS = '\\n📝\\n\\n'"
   ]
  },
  {
   "cell_type": "code",
   "execution_count": null,
   "metadata": {
    "id": "issyo-E4Hoza"
   },
   "outputs": [],
   "source": [
    "def condense(title, ingr, instr):\n",
    "  ''' \n",
    "  Each recipe is stored across three columns in the original data. This\n",
    "  function condenses them into a single string, with marked boundaries.\n",
    "\n",
    "  The concatenation steps in the end of this function were adapted from the code\n",
    "  source discussed.\n",
    "  '''\n",
    "\n",
    "  # set up the ingredients\n",
    "  temp1 = ingr # get string\n",
    "  temp1 = temp1[1:-1] # remove outer quotations\n",
    "  temp1 = temp1.split(\"\\\", \") # split into a list according to \",  sequence of those three characters\n",
    "  temp1 = [item[1:] for item in temp1] # remove leading quotation\n",
    "  temp1[len(temp1) - 1] = temp1[len(temp1) - 1][:-1] # remove ending quotation on last piece\n",
    "\n",
    "  # set up the instructions\n",
    "  temp2 = instr\n",
    "  temp2 = temp2[1:-1]\n",
    "  temp2 = temp2.split(\"\\\", \")\n",
    "  temp2 = [item[1:] for item in temp2]\n",
    "  temp2[len(temp2) - 1] = temp2[len(temp2) - 1][:-1]\n",
    "    \n",
    "  ingr_string = ''\n",
    "  for ingredient in temp1:\n",
    "    ingr_string += f'• {ingredient}\\n'\n",
    "\n",
    "  instr_string = ''\n",
    "  for instruction in temp2:\n",
    "    instr_string += f'• {instruction}\\n'\n",
    "\n",
    "  return f'{STOP_WORD_TITLE}{title}\\n{STOP_WORD_INGREDIENTS}{ingr_string}{STOP_WORD_INSTRUCTIONS}{instr_string}'"
   ]
  },
  {
   "cell_type": "code",
   "execution_count": null,
   "metadata": {
    "id": "7O7nWxuhHqWo"
   },
   "outputs": [],
   "source": [
    "# condense each recipe into a single string\n",
    "data_str = data_raw.apply(lambda x: condense(x.title, x.ingredients, x.instructions), axis = 1)"
   ]
  },
  {
   "cell_type": "code",
   "execution_count": null,
   "metadata": {
    "id": "fsmOaUpVICAe"
   },
   "outputs": [],
   "source": [
    "# Oleksii Trekhleb\n",
    "MAX_RECIPE_LENGTH = 2000\n",
    "\n",
    "def filter(recipe):\n",
    "  ''' removes recipes that are too long. '''\n",
    "  return len(recipe) <= MAX_RECIPE_LENGTH \n",
    "\n",
    "data_filter = [recipe for recipe in data_str if filter(recipe)] "
   ]
  },
  {
   "cell_type": "code",
   "execution_count": null,
   "metadata": {
    "colab": {
     "base_uri": "https://localhost:8080/"
    },
    "id": "rFn3Ir1KIIbF",
    "outputId": "51bdc8ce-c244-477d-b9cd-c425f6405b63"
   },
   "outputs": [
    {
     "data": {
      "text/plain": [
       "{'char_level': True,\n",
       " 'document_count': 94136,\n",
       " 'filters': '',\n",
       " 'index_docs': '{\"1\": 94135, \"101\": 1, \"55\": 26345, \"51\": 51101, \"17\": 94135, \"21\": 93421, \"32\": 76497, \"10\": 94111, \"25\": 89419, \"34\": 70465, \"7\": 94131, \"14\": 94029, \"41\": 62330, \"47\": 94135, \"27\": 90429, \"48\": 94135, \"5\": 94116, \"4\": 94133, \"3\": 94126, \"26\": 91327, \"22\": 92324, \"15\": 94095, \"54\": 39644, \"2\": 94135, \"28\": 90400, \"38\": 65029, \"18\": 93792, \"11\": 94079, \"31\": 78336, \"35\": 59588, \"62\": 32509, \"13\": 94120, \"12\": 94135, \"30\": 82207, \"42\": 64041, \"9\": 94130, \"20\": 93543, \"16\": 94034, \"19\": 93812, \"23\": 93354, \"8\": 94123, \"44\": 54366, \"24\": 92673, \"33\": 74283, \"46\": 52304, \"49\": 94135, \"39\": 64915, \"29\": 90369, \"6\": 94130, \"36\": 66005, \"45\": 41533, \"58\": 36437, \"64\": 21373, \"61\": 32407, \"59\": 31291, \"70\": 12369, \"53\": 43677, \"43\": 61155, \"60\": 26479, \"52\": 47844, \"63\": 30461, \"40\": 59826, \"37\": 70695, \"73\": 9668, \"76\": 8657, \"65\": 18289, \"75\": 10409, \"56\": 36455, \"50\": 48091, \"66\": 14933, \"69\": 15236, \"84\": 1147, \"57\": 33385, \"71\": 12941, \"72\": 12220, \"81\": 2567, \"82\": 1864, \"91\": 164, \"74\": 7646, \"68\": 17451, \"78\": 4850, \"77\": 5263, \"67\": 13607, \"80\": 3423, \"79\": 2847, \"90\": 231, \"83\": 1861, \"92\": 188, \"85\": 564, \"87\": 282, \"86\": 287, \"88\": 396, \"89\": 249, \"94\": 57, \"95\": 54, \"93\": 29, \"96\": 46, \"97\": 43, \"99\": 20, \"98\": 21, \"100\": 7}',\n",
       " 'index_word': '{\"1\": \" \", \"2\": \"e\", \"3\": \"o\", \"4\": \"a\", \"5\": \"t\", \"6\": \"n\", \"7\": \"i\", \"8\": \"r\", \"9\": \"s\", \"10\": \"l\", \"11\": \"d\", \"12\": \"\\\\n\", \"13\": \"c\", \"14\": \"h\", \"15\": \"u\", \"16\": \"p\", \"17\": \"\\\\u2022\", \"18\": \"m\", \"19\": \"g\", \"20\": \"b\", \"21\": \".\", \"22\": \"f\", \"23\": \"1\", \"24\": \"w\", \"25\": \",\", \"26\": \"k\", \"27\": \"y\", \"28\": \"v\", \"29\": \"2\", \"30\": \"S\", \"31\": \"C\", \"32\": \"4\", \"33\": \"3\", \"34\": \"x\", \"35\": \"/\", \"36\": \"-\", \"37\": \"P\", \"38\": \")\", \"39\": \"(\", \"40\": \"0\", \"41\": \"A\", \"42\": \"B\", \"43\": \"5\", \"44\": \"T\", \"45\": \"z\", \"46\": \"R\", \"47\": \"\\\\ud83d\\\\udcd7\", \"48\": \"\\\\ud83e\\\\udd55\", \"49\": \"\\\\ud83d\\\\udcdd\", \"50\": \"I\", \"51\": \"M\", \"52\": \"F\", \"53\": \"j\", \"54\": \"D\", \"55\": \";\", \"56\": \"W\", \"57\": \"L\", \"58\": \"8\", \"59\": \"q\", \"60\": \"O\", \"61\": \"G\", \"62\": \"6\", \"63\": \"H\", \"64\": \"E\", \"65\": \"\\'\", \"66\": \"N\", \"67\": \":\", \"68\": \"7\", \"69\": \"9\", \"70\": \"K\", \"71\": \"U\", \"72\": \"V\", \"73\": \"!\", \"74\": \"&\", \"75\": \"Y\", \"76\": \"J\", \"77\": \"\\\\\"\", \"78\": \"\\\\\\\\\", \"79\": \"*\", \"80\": \"Q\", \"81\": \"Z\", \"82\": \"$\", \"83\": \"%\", \"84\": \"X\", \"85\": \"#\", \"86\": \"]\", \"87\": \"[\", \"88\": \"?\", \"89\": \"~\", \"90\": \"+\", \"91\": \"=\", \"92\": \"@\", \"93\": \"_\", \"94\": \">\", \"95\": \"`\", \"96\": \"{\", \"97\": \"}\", \"98\": \"<\", \"99\": \"^\", \"100\": \"|\", \"101\": \"\\\\u2423\"}',\n",
       " 'lower': False,\n",
       " 'num_words': None,\n",
       " 'oov_token': None,\n",
       " 'split': '',\n",
       " 'word_counts': '{\"\\\\u2423\": 1, \"\\\\ud83d\\\\udcd7\": 94135, \" \": 13835352, \"D\": 60264, \"i\": 3908737, \"l\": 2963677, \"y\": 585357, \"M\": 87109, \"a\": 4697710, \"c\": 2344750, \"r\": 3759007, \"o\": 4773276, \"n\": 4157229, \"S\": 248856, \"d\": 2425854, \"R\": 97727, \"e\": 7189338, \"p\": 2121880, \"\\\\n\": 2378587, \"\\\\ud83e\\\\udd55\": 94135, \"\\\\u2022\": 1719642, \"1\": 767640, \".\": 929099, \"b\": 1102426, \"w\": 763308, \"m\": 1416555, \"u\": 2132226, \"A\": 138349, \"h\": 2165337, \"s\": 3704124, \"(\": 162784, \"4\": 206332, \")\": 163460, \"/\": 185739, \"2\": 440415, \"g\": 1339223, \"3\": 194217, \"t\": 4566001, \"v\": 552895, \"\\\\ud83d\\\\udcdd\": 94135, \"C\": 218344, \"k\": 741721, \";\": 58270, \",\": 762950, \"B\": 133385, \"x\": 188721, \"T\": 121236, \"f\": 889817, \"6\": 45478, \"G\": 48896, \"z\": 101606, \"8\": 53321, \"q\": 52876, \"K\": 17021, \"E\": 39480, \"-\": 177456, \"O\": 51814, \"P\": 168191, \"F\": 86792, \"5\": 129450, \"0\": 150306, \"H\": 42840, \"j\": 84558, \"!\": 13221, \"\\'\": 26638, \"W\": 56996, \"J\": 11001, \"Y\": 12933, \"I\": 89948, \"9\": 20918, \"N\": 22465, \"X\": 1345, \"L\": 54997, \"V\": 16115, \"U\": 16594, \"Z\": 3017, \"&\": 13018, \"$\": 2512, \"=\": 299, \"7\": 21452, \"\\\\\\\\\": 9410, \"\\\\\"\": 10269, \":\": 22004, \"Q\": 4092, \"*\": 6118, \"+\": 309, \"%\": 2288, \"@\": 209, \"#\": 701, \"[\": 511, \"]\": 514, \"?\": 475, \"~\": 387, \">\": 94, \"`\": 65, \"_\": 148, \"{\": 54, \"}\": 51, \"^\": 30, \"<\": 38, \"|\": 26}',\n",
       " 'word_docs': '{\"\\\\u2423\": 1, \";\": 26345, \"M\": 51101, \"\\\\u2022\": 94135, \".\": 93421, \"4\": 76497, \"l\": 94111, \",\": 89419, \"x\": 70465, \"i\": 94131, \"h\": 94029, \"A\": 62330, \" \": 94135, \"\\\\ud83d\\\\udcd7\": 94135, \"y\": 90429, \"\\\\ud83e\\\\udd55\": 94135, \"t\": 94116, \"a\": 94133, \"o\": 94126, \"k\": 91327, \"f\": 92324, \"u\": 94095, \"D\": 39644, \"e\": 94135, \"v\": 90400, \")\": 65029, \"m\": 93792, \"d\": 94079, \"C\": 78336, \"/\": 59588, \"6\": 32509, \"c\": 94120, \"\\\\n\": 94135, \"S\": 82207, \"B\": 64041, \"s\": 94130, \"b\": 93543, \"p\": 94034, \"g\": 93812, \"1\": 93354, \"r\": 94123, \"T\": 54366, \"w\": 92673, \"3\": 74283, \"R\": 52304, \"\\\\ud83d\\\\udcdd\": 94135, \"(\": 64915, \"2\": 90369, \"n\": 94130, \"-\": 66005, \"z\": 41533, \"8\": 36437, \"E\": 21373, \"G\": 32407, \"q\": 31291, \"K\": 12369, \"j\": 43677, \"5\": 61155, \"O\": 26479, \"F\": 47844, \"H\": 30461, \"0\": 59826, \"P\": 70695, \"!\": 9668, \"J\": 8657, \"\\'\": 18289, \"Y\": 10409, \"W\": 36455, \"I\": 48091, \"N\": 14933, \"9\": 15236, \"X\": 1147, \"L\": 33385, \"U\": 12941, \"V\": 12220, \"Z\": 2567, \"$\": 1864, \"=\": 164, \"&\": 7646, \"7\": 17451, \"\\\\\\\\\": 4850, \"\\\\\"\": 5263, \":\": 13607, \"Q\": 3423, \"*\": 2847, \"+\": 231, \"%\": 1861, \"@\": 188, \"#\": 564, \"[\": 282, \"]\": 287, \"?\": 396, \"~\": 249, \">\": 57, \"`\": 54, \"_\": 29, \"{\": 46, \"}\": 43, \"^\": 20, \"<\": 21, \"|\": 7}',\n",
       " 'word_index': '{\" \": 1, \"e\": 2, \"o\": 3, \"a\": 4, \"t\": 5, \"n\": 6, \"i\": 7, \"r\": 8, \"s\": 9, \"l\": 10, \"d\": 11, \"\\\\n\": 12, \"c\": 13, \"h\": 14, \"u\": 15, \"p\": 16, \"\\\\u2022\": 17, \"m\": 18, \"g\": 19, \"b\": 20, \".\": 21, \"f\": 22, \"1\": 23, \"w\": 24, \",\": 25, \"k\": 26, \"y\": 27, \"v\": 28, \"2\": 29, \"S\": 30, \"C\": 31, \"4\": 32, \"3\": 33, \"x\": 34, \"/\": 35, \"-\": 36, \"P\": 37, \")\": 38, \"(\": 39, \"0\": 40, \"A\": 41, \"B\": 42, \"5\": 43, \"T\": 44, \"z\": 45, \"R\": 46, \"\\\\ud83d\\\\udcd7\": 47, \"\\\\ud83e\\\\udd55\": 48, \"\\\\ud83d\\\\udcdd\": 49, \"I\": 50, \"M\": 51, \"F\": 52, \"j\": 53, \"D\": 54, \";\": 55, \"W\": 56, \"L\": 57, \"8\": 58, \"q\": 59, \"O\": 60, \"G\": 61, \"6\": 62, \"H\": 63, \"E\": 64, \"\\'\": 65, \"N\": 66, \":\": 67, \"7\": 68, \"9\": 69, \"K\": 70, \"U\": 71, \"V\": 72, \"!\": 73, \"&\": 74, \"Y\": 75, \"J\": 76, \"\\\\\"\": 77, \"\\\\\\\\\": 78, \"*\": 79, \"Q\": 80, \"Z\": 81, \"$\": 82, \"%\": 83, \"X\": 84, \"#\": 85, \"]\": 86, \"[\": 87, \"?\": 88, \"~\": 89, \"+\": 90, \"=\": 91, \"@\": 92, \"_\": 93, \">\": 94, \"`\": 95, \"{\": 96, \"}\": 97, \"<\": 98, \"^\": 99, \"|\": 100, \"\\\\u2423\": 101}'}"
      ]
     },
     "execution_count": 52,
     "metadata": {
      "tags": []
     },
     "output_type": "execute_result"
    }
   ],
   "source": [
    "# Oleksii Trekhleb (adapted)\n",
    "\n",
    "STOP_SIGN = '␣' # will be appended to the end of each recipe\n",
    "\n",
    "tokenizer = tf.keras.preprocessing.text.Tokenizer(\n",
    "    filters = '', # we do not want to filter our recipes\n",
    "    lower = False, # we want the model to recognize uppercase characters\n",
    "    split = '', # we are using characters, not words\n",
    "    char_level = True # we want a character-level RNN\n",
    ")\n",
    "\n",
    "# show the tokenizer all of the existing characters we have\n",
    "tokenizer.fit_on_texts([STOP_SIGN])\n",
    "tokenizer.fit_on_texts(data_filter)\n",
    "\n",
    "tokenizer.get_config() # show results"
   ]
  },
  {
   "cell_type": "code",
   "execution_count": null,
   "metadata": {
    "id": "GFK2EOI6Iuzx"
   },
   "outputs": [],
   "source": [
    "# Oleksii Trekhleb\n",
    "\n",
    "VOCABULARY_SIZE = len(tokenizer.word_counts) + 1 # record for later\n",
    "data_vec = tokenizer.texts_to_sequences(data_filter) # vectorize the data"
   ]
  },
  {
   "cell_type": "code",
   "execution_count": null,
   "metadata": {
    "id": "SX1-edfeL1RT"
   },
   "outputs": [],
   "source": [
    "# create generator using LSTM model\n",
    "generator_LSTM = tf.keras.models.Sequential([\n",
    "  layers.Embedding(input_dim = VOCABULARY_SIZE,\n",
    "                  output_dim = 256,\n",
    "                  batch_input_shape = [1, None]),\n",
    "  layers.LSTM(units = 1024,\n",
    "              return_sequences = True,\n",
    "              stateful = True,\n",
    "              recurrent_initializer = tf.keras.initializers.GlorotNormal()),\n",
    "  layers.Dense(VOCABULARY_SIZE)         \n",
    "])\n",
    "\n",
    "generator_LSTM.load_weights(\"/content/drive/Shareddrives/Gouda Group Project/recipe_model/baseline/checkpoint_4\").expect_partial()\n",
    "generator_LSTM.build(tf.TensorShape([1, None]))\n",
    "\n",
    "# create generator using GRU model\n",
    "generator_GRU = tf.keras.models.Sequential([\n",
    "  layers.Embedding(input_dim = VOCABULARY_SIZE,\n",
    "                  output_dim = 512,\n",
    "                  batch_input_shape = [1, None]),\n",
    "  layers.GRU(units = 1024,\n",
    "              return_sequences = True,\n",
    "              stateful = True),\n",
    "  layers.Dense(VOCABULARY_SIZE)         \n",
    "])\n",
    "\n",
    "generator_GRU.load_weights(\"/content/drive/Shareddrives/Gouda Group Project/recipe_model/gru1/checkpoint_4\").expect_partial()\n",
    "generator_GRU.build(tf.TensorShape([1, None]))"
   ]
  },
  {
   "cell_type": "markdown",
   "metadata": {
    "id": "MDUV60laHfVS"
   },
   "source": [
    "## b.) Main Function\n",
    "\n",
    "Below is the main `generate_recipe` function."
   ]
  },
  {
   "cell_type": "code",
   "execution_count": null,
   "metadata": {
    "id": "-PmX5diyjocz"
   },
   "outputs": [],
   "source": [
    "def generate_recipe(n, model, seed, length, temperature):\n",
    "    \"\"\"\n",
    "    Function that generates recipes based on an RNN model.\n",
    "    RNN Model can easily be swapped, so further testing on optimizing a model can be done.\n",
    "\n",
    "    n: Number of recipes to be generated.\n",
    "    model: String of model name to use. Currently, \"LSTM\" and \"GRU\" are only valid model types. More can be added later.\n",
    "    seed: Ingredient name/seed to generate recipe with.\n",
    "    length: Length in characters of output recipe.\n",
    "    temperature: Temperature to be used when generating new recipe.\n",
    "    \"\"\"\n",
    "\n",
    "    # load appropriate generator, more models can be added here later if developed\n",
    "    if model == \"LSTM\":\n",
    "        generator = generator_LSTM\n",
    "        \n",
    "    elif model == \"GRU\":\n",
    "        generator = generator_GRU\n",
    "    \n",
    "    else:\n",
    "        raise ValueError(\"Please input a valid model!\")\n",
    "\n",
    "    # initialize empty list of recipes\n",
    "    recipes = []\n",
    "\n",
    "    # iterate n times to generate n recipes\n",
    "    for i in range(n):\n",
    "\n",
    "        start = STOP_WORD_TITLE + seed\n",
    "        indices = np.array(tokenizer.texts_to_sequences([start])) # vectorize\n",
    "        result = []\n",
    "\n",
    "        generator.reset_states() # make separate predictions independent\n",
    "\n",
    "        for char in range(length): # predict next character\n",
    "            preds = generator(indices)\n",
    "            preds = tf.squeeze(preds, 0) # reduce a dimension\n",
    "            preds = preds / temperature\n",
    "\n",
    "            # pick next character\n",
    "            pred_id = tf.random.categorical(preds, num_samples = 1)[-1, 0].numpy()\n",
    "                \n",
    "            # add the predicted character\n",
    "            indices = tf.expand_dims([pred_id], 0)\n",
    "            next_char = tokenizer.sequences_to_texts(indices.numpy())[0]\n",
    "            result.append(next_char)\n",
    "\n",
    "        recipes.append(start + ''.join(result))\n",
    "\n",
    "        # print recipe\n",
    "        print(\"----- RECIPE \" + str(i + 1) + \" -----\")\n",
    "        print(\"SEED: \", seed, \", TEMPERATURE: \", temperature)\n",
    "        print(recipes[len(recipes) - 1])"
   ]
  },
  {
   "cell_type": "code",
   "execution_count": null,
   "metadata": {
    "colab": {
     "base_uri": "https://localhost:8080/"
    },
    "id": "1CPlA8z4vZiJ",
    "outputId": "c28ad200-d24e-47bc-8397-0c5ebe6d7bc1"
   },
   "outputs": [
    {
     "name": "stdout",
     "output_type": "stream",
     "text": [
      "----- RECIPE 1 -----\n",
      "SEED:  salmon , TEMPERATURE:  0.8\n",
      "📗 salmon with a red pepper flakes, gently add to the pot and cover with pita bread and sliced tomatoes with the lemon zest and, for topping and chop stems and top with the lemon zest, soup\n",
      "• Salt and freshly ground black pepper to taste, and toss well.\n",
      "• Serve shrimp with some papred by adding oil (for frying).\n",
      "• Makes Reslette.\n",
      "• When you have to work in an even bowl.\n",
      "• Spray a triangle of the fried onions to a plate to cool completely begin to spread out the steaks with mayonnaise.\n",
      "• Don't leave with \n",
      "----- RECIPE 2 -----\n",
      "SEED:  salmon , TEMPERATURE:  0.8\n",
      "📗 salmon and cover with aluminum foil or wax paper formon through green cabbage leaves.\n",
      "• May be freezery, add a few dinnex from the baking sheet and dash of the nuts and bake the top should be done removed.\n",
      "• 3.77 (Patteet) in a saucepan over medium heat, strain the mushrooms on top of the steak and cheese, onion and garlic for the flour to make it all accumulated by hands and meat for two minutes at the ends are boiling it forming around the edges.\n",
      "• Place the bones and half of the stem through the mo\n",
      "----- RECIPE 3 -----\n",
      "SEED:  salmon , TEMPERATURE:  0.8\n",
      "📗 salmon for leaves and cooking to ready to use, place onion on the bottom of the pan.\n",
      "• Cook 1-1/4 cups chopped over high heat until al dente, about 2 minutes.\n",
      "• Turn off the heat, add the soy sauce, water, salt, and pepper.\n",
      "• Add the dry ingredients to the vegetable oil spray and squeeze out and stir into pan for a few minutes.\n",
      "• Add the boneless (you may need to stif).\n",
      "• Press the top of the bowl of solids with water, tossing them in a lit to marinate for at least 1 hour.\n",
      "• Drain the leaves, about 1/\n",
      "----- RECIPE 4 -----\n",
      "SEED:  salmon , TEMPERATURE:  0.8\n",
      "📗 salmon and cooked to your bread is best puddings dont work evenly.\n",
      "• ).\n",
      "• Place the bread in the flour, almond bark to pan, salt and pepper to taste.\n",
      "• Cook until the bacon is melted and is thick and bubbly and the bottom has cooked through and set.\n",
      "• Remove the leeks, under a meat off for 15 minutes and serve with salved tomatoes until you pull them to top and soup with more the mushrooms and flavor.\n",
      "␣␣␣␣␣␣␣␣␣␣␣␣␣␣␣␣␣␣␣␣␣␣␣␣␣␣␣␣␣␣␣␣␣␣␣␣␣␣␣␣␣␣␣␣␣␣␣␣␣␣␣␣␣␣␣␣␣␣␣␣␣␣␣␣␣␣␣␣␣␣␣␣␣␣␣␣␣␣␣␣␣␣␣␣␣␣␣␣␣␣␣␣␣␣␣␣␣␣␣␣␣\n",
      "----- RECIPE 5 -----\n",
      "SEED:  salmon , TEMPERATURE:  0.8\n",
      "📗 salmon if it.\n",
      "• Serve in a pinch, add in the olive oil and suger or more about 1 tablespoon of the olive oil and the seafood, smell straight to turn a soup bowls and serve over them with shredded capers, cut off each cake flour, and to finish off the seeds.\n",
      "• Reserve, 1 tablespoon of water to the real water.\n",
      "• * serve: Remove The bars, Reperare and spinach if desired.\n",
      "␣␣␣␣␣␣␣␣␣␣␣␣␣␣␣␣␣␣␣␣␣␣␣␣␣␣␣␣␣␣␣␣␣␣␣␣␣␣␣␣␣␣␣␣␣␣␣␣␣␣␣␣␣␣␣␣␣␣␣␣␣␣␣␣␣␣␣␣␣␣␣␣␣␣␣␣␣␣␣␣␣␣␣␣␣␣␣␣␣␣␣␣␣␣␣␣␣␣␣␣␣␣␣␣␣␣␣␣␣␣␣␣␣␣␣␣␣␣␣␣␣␣␣␣␣␣␣␣␣␣␣␣␣␣␣\n"
     ]
    }
   ],
   "source": [
    "# GRU model, kinda smart\n",
    "generate_recipe(n = 5, model = \"GRU\", seed = \"salmon\", length = 500, temperature = 0.8)"
   ]
  },
  {
   "cell_type": "code",
   "execution_count": null,
   "metadata": {
    "colab": {
     "base_uri": "https://localhost:8080/"
    },
    "id": "kLPO8SppWFDZ",
    "outputId": "d29e750e-9361-47ae-95bb-8069ece6f603"
   },
   "outputs": [
    {
     "name": "stdout",
     "output_type": "stream",
     "text": [
      "----- RECIPE 1 -----\n",
      "SEED:  lemon , TEMPERATURE:  0.4\n",
      "📗 lemon📝•📝o🥕oning large bowl with the chicken stock and stir to make a light brown sugar and salt to the boiling water and stir until the center is melted and they are lettuce.\n",
      "• Add the soup and brown sugar.\n",
      "• Add the chicken stock, sugar, cornstarch, and salt, and stir to coat.\n",
      "• Reduce heat to low and simmer for 25 minutes.\n",
      "• Stir in the remaining ingredients and stir to cook over medium heat and cook until stiff the consistency to serve.\n",
      "␣␣␣␣␣␣␣␣␣␣␣␣␣␣␣␣␣␣␣␣␣␣␣␣␣␣␣␣␣␣␣␣␣␣␣␣␣␣␣␣␣␣␣␣␣␣␣␣␣␣␣␣␣␣␣␣␣␣␣␣␣\n",
      "----- RECIPE 2 -----\n",
      "SEED:  lemon , TEMPERATURE:  0.4\n",
      "📗 lemon📝🥕oth colive with a medium non-stick skillet and then to a simmer for 5 minutes or until softened.\n",
      "• Transfer to a boil and stir until the carefly mixture and the center comes out clean is tender.\n",
      "• Cook the low for 1 hour or until the center of the center beans are tender.\n",
      "• Fold in the batter and stir until melted and cooked through.\n",
      "• Turn the chicken in a bowl and stir the mixture in the sauce mixture and stir to melte.\n",
      "• Add the garlic, minced garlic, salt, and pepper.\n",
      "• Add the potatoes, a\n",
      "----- RECIPE 3 -----\n",
      "SEED:  lemon , TEMPERATURE:  0.4\n",
      "📗 lemon📝📝e• tiningllants with salt and pepper.\n",
      "• Add the remaining with the salt and salt and pepper.\n",
      "• Add the salt and pepper flakes.\n",
      "• Stir in the flour, salt and pepper to taste.\n",
      "• Stir in the chopped onions, sugar, and salt and pepper to taste.\n",
      "• Stir in the flour, and stir to combine.\n",
      "• Place the mixture into the pan and set aside.\n",
      "• Stir the stock and cook until the chili powder, about 4 minutes.\n",
      "• Add the chicken stock and stir until the cooking shallots and stir in the mixture and cook the sti\n",
      "----- RECIPE 4 -----\n",
      "SEED:  lemon , TEMPERATURE:  0.4\n",
      "📗 lemon📝📝e• oninglestess sprinkle with salt and pepper.\n",
      "• Bring to a boil and stir in the butter and place in a large skillet over medium heat.\n",
      "• Add the pork chops, and season with salt and pepper.\n",
      "• Stir in the butter.\n",
      "• Pour into a large bowl and stir in the sauce and the salt and pepper to taste.\n",
      "• Add the remaining chilies and cook until the soft and brown and the center and cook until smooth.\n",
      "• Add the tomatoes, and serve the salt and pepper.\n",
      "• Cook over medium heat and stir in the sugar and the \n",
      "----- RECIPE 5 -----\n",
      "SEED:  lemon , TEMPERATURE:  0.4\n",
      "📗 lemon📝📝\n",
      "📝\n",
      "📝 oning and broth in a large skillet over medium heat.\n",
      "• Add the lemon juice, cinnamon, thinly sliced and salt.\n",
      "• Stir in sauce and salt and pepper to taste.\n",
      "• Sprinkle with salt and pepper.\n",
      "• Set aside.\n",
      "• Bake at 350 for about 15 minutes.\n",
      "• Add the chicken broth and lemon juice in a small bowl with the salt and pepper to taste.\n",
      "• Cover and stir for 3 minutes.\n",
      "• Add the oil in a small bowl and add the tomatoes, and cut into small mixing bowl.\n",
      "• Add the remaining mixture over the meat and st\n"
     ]
    }
   ],
   "source": [
    "# LSTM model, not as smart\n",
    "generate_recipe(n = 5, model = \"LSTM\", seed = \"lemon\", length = 500, temperature = 0.4)"
   ]
  },
  {
   "cell_type": "markdown",
   "metadata": {
    "id": "_G0gQXNGWnAM"
   },
   "source": [
    "## 3. Recipe Classification\n",
    "\n",
    "This section is currently not finished. Issues with the database make this function unlikely to be successful."
   ]
  },
  {
   "cell_type": "markdown",
   "metadata": {
    "id": "xkH7BrrRfSzT"
   },
   "source": [
    "#a.) Auxiliary Functions"
   ]
  },
  {
   "cell_type": "code",
   "execution_count": null,
   "metadata": {
    "id": "fAZLE5OKhAdf"
   },
   "outputs": [],
   "source": [
    "def standardization(input_data):\n",
    "    lowercase = tf.strings.lower(input_data)\n",
    "    no_punctuation = tf.strings.regex_replace(lowercase, '[%s]' % re.escape(string.punctuation),'')\n",
    "    return no_punctuation"
   ]
  },
  {
   "cell_type": "code",
   "execution_count": null,
   "metadata": {
    "id": "jvcJBPx7hCjL"
   },
   "outputs": [],
   "source": [
    "max_tokens = 1500\n",
    "sequence_length = 40\n",
    "\n",
    "vectorize_layer = TextVectorization(\n",
    "    standardize = standardization,\n",
    "    max_tokens = max_tokens,\n",
    "    output_mode = 'int',\n",
    "    output_sequence_length = sequence_length)"
   ]
  },
  {
   "cell_type": "code",
   "execution_count": null,
   "metadata": {
    "id": "TcYbOp_JgW1O"
   },
   "outputs": [],
   "source": []
  },
  {
   "cell_type": "markdown",
   "metadata": {
    "id": "HtYPbVlBfVtR"
   },
   "source": [
    "##b.) Main Function"
   ]
  },
  {
   "cell_type": "code",
   "execution_count": null,
   "metadata": {
    "id": "ZDiCG0JXfRyK"
   },
   "outputs": [],
   "source": [
    "def recipe_classifier(recipe, guess):\n",
    "    \"\"\"\n",
    "    Function used for the recipe classification game. \n",
    "    \n",
    "    recipe: input recipe to be classified\n",
    "    guess: cuisine guess made by the user\n",
    "    \"\"\"\n",
    "\n",
    "    model = tf.keras.models.load_model('/content/drive/Shareddrives/Gouda Group Project/classifier_model')\n",
    "\n",
    "    recipe_vector = vectorize_layer(recipe)\n",
    "\n",
    "    return model.predict(recipe_vector)"
   ]
  },
  {
   "cell_type": "code",
   "execution_count": null,
   "metadata": {
    "colab": {
     "base_uri": "https://localhost:8080/",
     "height": 80
    },
    "id": "bNmBYTiaindu",
    "outputId": "7ee6448e-94bb-4895-cfdd-ffb3d84c47ff"
   },
   "outputs": [
    {
     "data": {
      "text/html": [
       "<div>\n",
       "<style scoped>\n",
       "    .dataframe tbody tr th:only-of-type {\n",
       "        vertical-align: middle;\n",
       "    }\n",
       "\n",
       "    .dataframe tbody tr th {\n",
       "        vertical-align: top;\n",
       "    }\n",
       "\n",
       "    .dataframe thead th {\n",
       "        text-align: right;\n",
       "    }\n",
       "</style>\n",
       "<table border=\"1\" class=\"dataframe\">\n",
       "  <thead>\n",
       "    <tr style=\"text-align: right;\">\n",
       "      <th></th>\n",
       "      <th>title</th>\n",
       "      <th>instructions</th>\n",
       "    </tr>\n",
       "  </thead>\n",
       "  <tbody>\n",
       "    <tr>\n",
       "      <th>0</th>\n",
       "      <td>Worlds Best Mac and Cheese</td>\n",
       "      <td>[\"Preheat the oven to 350 F. Butter or oil an ...</td>\n",
       "    </tr>\n",
       "  </tbody>\n",
       "</table>\n",
       "</div>"
      ],
      "text/plain": [
       "                        title                                       instructions\n",
       "0  Worlds Best Mac and Cheese  [\"Preheat the oven to 350 F. Butter or oil an ..."
      ]
     },
     "execution_count": 16,
     "metadata": {
      "tags": []
     },
     "output_type": "execute_result"
    }
   ],
   "source": [
    "recipe_to_guess = import_data(1)\n",
    "recipe_to_guess"
   ]
  },
  {
   "cell_type": "code",
   "execution_count": null,
   "metadata": {
    "colab": {
     "base_uri": "https://localhost:8080/",
     "height": 664
    },
    "id": "L24V6acwjVq2",
    "outputId": "6371d8d6-f17f-49a3-950b-97eddd1cffe6"
   },
   "outputs": [
    {
     "ename": "AttributeError",
     "evalue": "ignored",
     "output_type": "error",
     "traceback": [
      "\u001b[0;31m---------------------------------------------------------------------------\u001b[0m",
      "\u001b[0;31mAttributeError\u001b[0m                            Traceback (most recent call last)",
      "\u001b[0;32m<ipython-input-21-beaef3766172>\u001b[0m in \u001b[0;36m<module>\u001b[0;34m()\u001b[0m\n\u001b[0;32m----> 1\u001b[0;31m \u001b[0mrecipe_classifier\u001b[0m\u001b[0;34m(\u001b[0m\u001b[0mrecipe_to_guess\u001b[0m\u001b[0;34m[\u001b[0m\u001b[0;34m\"instructions\"\u001b[0m\u001b[0;34m]\u001b[0m\u001b[0;34m[\u001b[0m\u001b[0;36m0\u001b[0m\u001b[0;34m]\u001b[0m\u001b[0;34m,\u001b[0m \u001b[0;34m\"american\"\u001b[0m\u001b[0;34m)\u001b[0m\u001b[0;34m\u001b[0m\u001b[0;34m\u001b[0m\u001b[0m\n\u001b[0m",
      "\u001b[0;32m<ipython-input-7-60f2a960403c>\u001b[0m in \u001b[0;36mrecipe_classifier\u001b[0;34m(recipe, guess)\u001b[0m\n\u001b[1;32m      9\u001b[0m     \u001b[0mmodel\u001b[0m \u001b[0;34m=\u001b[0m \u001b[0mtf\u001b[0m\u001b[0;34m.\u001b[0m\u001b[0mkeras\u001b[0m\u001b[0;34m.\u001b[0m\u001b[0mmodels\u001b[0m\u001b[0;34m.\u001b[0m\u001b[0mload_model\u001b[0m\u001b[0;34m(\u001b[0m\u001b[0;34m'/content/drive/Shareddrives/Gouda Group Project/classifier_model'\u001b[0m\u001b[0;34m)\u001b[0m\u001b[0;34m\u001b[0m\u001b[0;34m\u001b[0m\u001b[0m\n\u001b[1;32m     10\u001b[0m \u001b[0;34m\u001b[0m\u001b[0m\n\u001b[0;32m---> 11\u001b[0;31m     \u001b[0mrecipe_vector\u001b[0m \u001b[0;34m=\u001b[0m \u001b[0mvectorize_layer\u001b[0m\u001b[0;34m(\u001b[0m\u001b[0mrecipe\u001b[0m\u001b[0;34m)\u001b[0m\u001b[0;34m\u001b[0m\u001b[0;34m\u001b[0m\u001b[0m\n\u001b[0m\u001b[1;32m     12\u001b[0m \u001b[0;34m\u001b[0m\u001b[0m\n\u001b[1;32m     13\u001b[0m     \u001b[0;32mreturn\u001b[0m \u001b[0mmodel\u001b[0m\u001b[0;34m.\u001b[0m\u001b[0mpredict\u001b[0m\u001b[0;34m(\u001b[0m\u001b[0mrecipe_vector\u001b[0m\u001b[0;34m)\u001b[0m\u001b[0;34m\u001b[0m\u001b[0;34m\u001b[0m\u001b[0m\n",
      "\u001b[0;32m/usr/local/lib/python3.7/dist-packages/tensorflow/python/keras/engine/base_layer.py\u001b[0m in \u001b[0;36m__call__\u001b[0;34m(self, *args, **kwargs)\u001b[0m\n\u001b[1;32m   1006\u001b[0m       \u001b[0;32mwith\u001b[0m \u001b[0mops\u001b[0m\u001b[0;34m.\u001b[0m\u001b[0mname_scope_v2\u001b[0m\u001b[0;34m(\u001b[0m\u001b[0mname_scope\u001b[0m\u001b[0;34m)\u001b[0m\u001b[0;34m:\u001b[0m\u001b[0;34m\u001b[0m\u001b[0;34m\u001b[0m\u001b[0m\n\u001b[1;32m   1007\u001b[0m         \u001b[0;32mif\u001b[0m \u001b[0;32mnot\u001b[0m \u001b[0mself\u001b[0m\u001b[0;34m.\u001b[0m\u001b[0mbuilt\u001b[0m\u001b[0;34m:\u001b[0m\u001b[0;34m\u001b[0m\u001b[0;34m\u001b[0m\u001b[0m\n\u001b[0;32m-> 1008\u001b[0;31m           \u001b[0mself\u001b[0m\u001b[0;34m.\u001b[0m\u001b[0m_maybe_build\u001b[0m\u001b[0;34m(\u001b[0m\u001b[0minputs\u001b[0m\u001b[0;34m)\u001b[0m\u001b[0;34m\u001b[0m\u001b[0;34m\u001b[0m\u001b[0m\n\u001b[0m\u001b[1;32m   1009\u001b[0m \u001b[0;34m\u001b[0m\u001b[0m\n\u001b[1;32m   1010\u001b[0m         with autocast_variable.enable_auto_cast_variables(\n",
      "\u001b[0;32m/usr/local/lib/python3.7/dist-packages/tensorflow/python/keras/engine/base_layer.py\u001b[0m in \u001b[0;36m_maybe_build\u001b[0;34m(self, inputs)\u001b[0m\n\u001b[1;32m   2708\u001b[0m         \u001b[0;31m# operations.\u001b[0m\u001b[0;34m\u001b[0m\u001b[0;34m\u001b[0m\u001b[0;34m\u001b[0m\u001b[0m\n\u001b[1;32m   2709\u001b[0m         \u001b[0;32mwith\u001b[0m \u001b[0mtf_utils\u001b[0m\u001b[0;34m.\u001b[0m\u001b[0mmaybe_init_scope\u001b[0m\u001b[0;34m(\u001b[0m\u001b[0mself\u001b[0m\u001b[0;34m)\u001b[0m\u001b[0;34m:\u001b[0m\u001b[0;34m\u001b[0m\u001b[0;34m\u001b[0m\u001b[0m\n\u001b[0;32m-> 2710\u001b[0;31m           \u001b[0mself\u001b[0m\u001b[0;34m.\u001b[0m\u001b[0mbuild\u001b[0m\u001b[0;34m(\u001b[0m\u001b[0minput_shapes\u001b[0m\u001b[0;34m)\u001b[0m  \u001b[0;31m# pylint:disable=not-callable\u001b[0m\u001b[0;34m\u001b[0m\u001b[0;34m\u001b[0m\u001b[0m\n\u001b[0m\u001b[1;32m   2711\u001b[0m       \u001b[0;31m# We must set also ensure that the layer is marked as built, and the build\u001b[0m\u001b[0;34m\u001b[0m\u001b[0;34m\u001b[0m\u001b[0;34m\u001b[0m\u001b[0m\n\u001b[1;32m   2712\u001b[0m       \u001b[0;31m# shape is stored since user defined build functions may not be calling\u001b[0m\u001b[0;34m\u001b[0m\u001b[0;34m\u001b[0m\u001b[0;34m\u001b[0m\u001b[0m\n",
      "\u001b[0;32m/usr/local/lib/python3.7/dist-packages/tensorflow/python/keras/layers/preprocessing/text_vectorization.py\u001b[0m in \u001b[0;36mbuild\u001b[0;34m(self, input_shape)\u001b[0m\n\u001b[1;32m    541\u001b[0m     \u001b[0;31m# the expression needs to evaluate to True in that case.\u001b[0m\u001b[0;34m\u001b[0m\u001b[0;34m\u001b[0m\u001b[0;34m\u001b[0m\u001b[0m\n\u001b[1;32m    542\u001b[0m     \u001b[0;32mif\u001b[0m \u001b[0mself\u001b[0m\u001b[0;34m.\u001b[0m\u001b[0m_split\u001b[0m \u001b[0;32mis\u001b[0m \u001b[0;32mnot\u001b[0m \u001b[0;32mNone\u001b[0m\u001b[0;34m:\u001b[0m\u001b[0;34m\u001b[0m\u001b[0;34m\u001b[0m\u001b[0m\n\u001b[0;32m--> 543\u001b[0;31m       \u001b[0;32mif\u001b[0m \u001b[0minput_shape\u001b[0m\u001b[0;34m.\u001b[0m\u001b[0mndims\u001b[0m \u001b[0;34m>\u001b[0m \u001b[0;36m1\u001b[0m \u001b[0;32mand\u001b[0m \u001b[0;32mnot\u001b[0m \u001b[0minput_shape\u001b[0m\u001b[0;34m[\u001b[0m\u001b[0;34m-\u001b[0m\u001b[0;36m1\u001b[0m\u001b[0;34m]\u001b[0m \u001b[0;34m==\u001b[0m \u001b[0;36m1\u001b[0m\u001b[0;34m:\u001b[0m  \u001b[0;31m# pylint: disable=g-comparison-negation\u001b[0m\u001b[0;34m\u001b[0m\u001b[0;34m\u001b[0m\u001b[0m\n\u001b[0m\u001b[1;32m    544\u001b[0m         raise RuntimeError(\n\u001b[1;32m    545\u001b[0m             \u001b[0;34m\"When using TextVectorization to tokenize strings, the innermost \"\u001b[0m\u001b[0;34m\u001b[0m\u001b[0;34m\u001b[0m\u001b[0m\n",
      "\u001b[0;31mAttributeError\u001b[0m: 'NoneType' object has no attribute 'ndims'"
     ]
    }
   ],
   "source": [
    "recipe_classifier(recipe_to_guess[\"instructions\"][0], \"american\")"
   ]
  }
 ],
 "metadata": {
  "colab": {
   "name": "3modes.ipynb",
   "provenance": []
  },
  "kernelspec": {
   "display_name": "Python 3",
   "language": "python",
   "name": "python3"
  },
  "language_info": {
   "codemirror_mode": {
    "name": "ipython",
    "version": 3
   },
   "file_extension": ".py",
   "mimetype": "text/x-python",
   "name": "python",
   "nbconvert_exporter": "python",
   "pygments_lexer": "ipython3",
   "version": "3.7.10"
  }
 },
 "nbformat": 4,
 "nbformat_minor": 1
}
