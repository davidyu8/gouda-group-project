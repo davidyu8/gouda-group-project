{
 "cells": [
  {
   "cell_type": "markdown",
   "id": "administrative-norwegian",
   "metadata": {},
   "source": [
    "# Introduction\n",
    "\n",
    "This file is used to set up the ```recipes1M.db``` database, which will contain over one million recipes, organized with ingredients and instructions. These instructions will help you get started.\n",
    "\n",
    "1. To obtain the data, go to http://pic2recipe.csail.mit.edu/, and follow the instructions to download the dataset. This will involve creating an account.\n",
    "2. After that, go to http://im2recipe.csail.mit.edu/dataset/download/ and download from the link labeled \"Layers\". Place this file in the working directory and make sure it is named \"recipe1M_layers.tar.gz\" (this is the default name). \n",
    "3. Create a \".gitignore\" file and type both \"recipe1M_layers.tar.gz\" and \"recipes1M.db\" in it. This will prevent GitHub from attempting to push these MASSIVE files online each time you commit and push changes in other areas.\n",
    "4. Continue with this file!"
   ]
  },
  {
   "cell_type": "code",
   "execution_count": 1,
   "id": "hearing-server",
   "metadata": {},
   "outputs": [],
   "source": [
    "import tarfile\n",
    "import sqlite3\n",
    "import json\n",
    "import pandas as pd"
   ]
  },
  {
   "cell_type": "code",
   "execution_count": null,
   "id": "guided-radius",
   "metadata": {},
   "outputs": [],
   "source": [
    "# open tarfile and explore what is there\n",
    "tar = tarfile.open(\"recipe1M_layers.tar.gz\")\n",
    "files = tar.getmembers()\n",
    "files"
   ]
  },
  {
   "cell_type": "code",
   "execution_count": null,
   "id": "reflected-criticism",
   "metadata": {
    "scrolled": true
   },
   "outputs": [],
   "source": [
    "# extract recipe data into a string\n",
    "f = tar.extractfile(files[0]).read()\n",
    "\n",
    "# convert to a python list\n",
    "temp = json.loads(f)\n",
    "\n",
    "# what information do we have\n",
    "temp[0].keys()"
   ]
  },
  {
   "cell_type": "code",
   "execution_count": null,
   "id": "settled-export",
   "metadata": {},
   "outputs": [],
   "source": [
    "# create the DataFrame\n",
    "df = pd.DataFrame()\n",
    "\n",
    "for key in temp[0].keys():\n",
    "    tempList = [temp[i][key] for i in range(0, len(temp)-1)]\n",
    "    df[key] = tempList\n",
    "    \n",
    "df.head(5)"
   ]
  },
  {
   "cell_type": "code",
   "execution_count": null,
   "id": "instructional-haiti",
   "metadata": {},
   "outputs": [],
   "source": [
    "# unpack the ingredients and instructions columns\n",
    "ingr_unpacked = []\n",
    "istr_unpacked = []\n",
    "for i in range(0, df.shape[0]): # loop over each row\n",
    "    ingr_list = []\n",
    "    istr_list = []\n",
    "    for ingr_dict in df['ingredients'][i]: # loop over each ingredient\n",
    "        ingr_list.append(ingr_dict['text']) # add to new list\n",
    "    for istr_dict in df['instructions'][i]: # repeat for instructions\n",
    "        istr_list.append(istr_dict['text'])\n",
    "    ingr_str = json.dumps(ingr_list) # convert to JSON string format\n",
    "    istr_str = json.dumps(istr_list)\n",
    "    ingr_unpacked.append(ingr_str) # add the string just constructed to another list\n",
    "    istr_unpacked.append(istr_str)\n",
    "\n",
    "df[\"ingredients\"] = ingr_unpacked # replace columns\n",
    "df[\"instructions\"] = istr_unpacked"
   ]
  },
  {
   "cell_type": "code",
   "execution_count": null,
   "id": "damaged-diameter",
   "metadata": {},
   "outputs": [],
   "source": [
    "# check data\n",
    "df.head(5)"
   ]
  },
  {
   "cell_type": "code",
   "execution_count": null,
   "id": "moved-dakota",
   "metadata": {},
   "outputs": [],
   "source": [
    "conn = sqlite3.connect(\"recipes1M.db\")"
   ]
  },
  {
   "cell_type": "code",
   "execution_count": null,
   "id": "valid-being",
   "metadata": {},
   "outputs": [],
   "source": [
    "df.to_sql(\"recipes\", conn, if_exists = \"replace\", index = False, chunksize = 20000)"
   ]
  },
  {
   "cell_type": "code",
   "execution_count": null,
   "id": "medium-annex",
   "metadata": {},
   "outputs": [],
   "source": [
    "# verify it worked\n",
    "cursor = conn.cursor()\n",
    "cursor.execute(\"SELECT name FROM sqlite_master WHERE type='table'\")\n",
    "print(cursor.fetchall())"
   ]
  },
  {
   "cell_type": "code",
   "execution_count": null,
   "id": "acute-helicopter",
   "metadata": {},
   "outputs": [],
   "source": [
    "cursor.execute(\"SELECT sql FROM sqlite_master WHERE type='table';\")\n",
    "\n",
    "for result in cursor.fetchall():\n",
    "    print(result[0])"
   ]
  },
  {
   "cell_type": "code",
   "execution_count": null,
   "id": "contained-vertical",
   "metadata": {},
   "outputs": [],
   "source": [
    "conn.close()"
   ]
  },
  {
   "cell_type": "markdown",
   "id": "touched-uniform",
   "metadata": {},
   "source": [
    "# Querying (Preliminary)"
   ]
  },
  {
   "cell_type": "code",
   "execution_count": 2,
   "id": "consecutive-flesh",
   "metadata": {},
   "outputs": [],
   "source": [
    "def title_keyword_search(keyword):\n",
    "    ''' Searches the recipe databse for entries with the keyword in the title. '''\n",
    "    \n",
    "    conn = sqlite3.connect(\"recipes1M.db\")\n",
    "    cmd = \\\n",
    "    f\"\"\"\n",
    "    SELECT R.title, R.url\n",
    "    FROM recipes R\n",
    "    WHERE R.title LIKE \"%{keyword}%\"\n",
    "    \"\"\"\n",
    "    \n",
    "    df = pd.read_sql_query(cmd, conn)\n",
    "    conn.close()\n",
    "    return df"
   ]
  },
  {
   "cell_type": "code",
   "execution_count": 4,
   "id": "announced-posting",
   "metadata": {},
   "outputs": [],
   "source": [
    "df = title_keyword_search(\"steak\")"
   ]
  },
  {
   "cell_type": "code",
   "execution_count": 5,
   "id": "animated-cologne",
   "metadata": {},
   "outputs": [
    {
     "data": {
      "text/html": [
       "<div>\n",
       "<style scoped>\n",
       "    .dataframe tbody tr th:only-of-type {\n",
       "        vertical-align: middle;\n",
       "    }\n",
       "\n",
       "    .dataframe tbody tr th {\n",
       "        vertical-align: top;\n",
       "    }\n",
       "\n",
       "    .dataframe thead th {\n",
       "        text-align: right;\n",
       "    }\n",
       "</style>\n",
       "<table border=\"1\" class=\"dataframe\">\n",
       "  <thead>\n",
       "    <tr style=\"text-align: right;\">\n",
       "      <th></th>\n",
       "      <th>title</th>\n",
       "      <th>url</th>\n",
       "    </tr>\n",
       "  </thead>\n",
       "  <tbody>\n",
       "    <tr>\n",
       "      <th>0</th>\n",
       "      <td>Steak &amp; Asparagus Wraps</td>\n",
       "      <td>http://www.kraftrecipes.com/recipes/steak-aspa...</td>\n",
       "    </tr>\n",
       "    <tr>\n",
       "      <th>1</th>\n",
       "      <td>Mom's Swiss Steak Recipe</td>\n",
       "      <td>http://cookeatshare.com/recipes/mom-s-swiss-st...</td>\n",
       "    </tr>\n",
       "    <tr>\n",
       "      <th>2</th>\n",
       "      <td>The British Bulldog! Traditional Layered Beef ...</td>\n",
       "      <td>http://www.food.com/recipe/the-british-bulldog...</td>\n",
       "    </tr>\n",
       "    <tr>\n",
       "      <th>3</th>\n",
       "      <td>BBq Steak Sandwiches With a Rainbow of Peppers</td>\n",
       "      <td>http://www.food.com/recipe/bbq-steak-sandwiche...</td>\n",
       "    </tr>\n",
       "    <tr>\n",
       "      <th>4</th>\n",
       "      <td>Lemon Butter for Steak</td>\n",
       "      <td>http://www.epicurious.com/recipes/food/views/l...</td>\n",
       "    </tr>\n",
       "    <tr>\n",
       "      <th>...</th>\n",
       "      <td>...</td>\n",
       "      <td>...</td>\n",
       "    </tr>\n",
       "    <tr>\n",
       "      <th>11882</th>\n",
       "      <td>Tuna Steaks, Seared with Salsa</td>\n",
       "      <td>http://www.kraftrecipes.com/recipes/tuna-steak...</td>\n",
       "    </tr>\n",
       "    <tr>\n",
       "      <th>11883</th>\n",
       "      <td>Simply Scrumptious Stilton Steak</td>\n",
       "      <td>http://www.food.com/recipe/simply-scrumptious-...</td>\n",
       "    </tr>\n",
       "    <tr>\n",
       "      <th>11884</th>\n",
       "      <td>Marvelous Marinated Steak Recipe</td>\n",
       "      <td>http://cookeatshare.com/recipes/marvelous-mari...</td>\n",
       "    </tr>\n",
       "    <tr>\n",
       "      <th>11885</th>\n",
       "      <td>Venison Steaks with Chestnuts</td>\n",
       "      <td>https://recipeland.com/recipe/v/venison-steaks...</td>\n",
       "    </tr>\n",
       "    <tr>\n",
       "      <th>11886</th>\n",
       "      <td>Spicy Steak Fajitas - Mexico</td>\n",
       "      <td>http://www.food.com/recipe/spicy-steak-fajitas...</td>\n",
       "    </tr>\n",
       "  </tbody>\n",
       "</table>\n",
       "<p>11887 rows × 2 columns</p>\n",
       "</div>"
      ],
      "text/plain": [
       "                                                   title  \\\n",
       "0                                Steak & Asparagus Wraps   \n",
       "1                               Mom's Swiss Steak Recipe   \n",
       "2      The British Bulldog! Traditional Layered Beef ...   \n",
       "3         BBq Steak Sandwiches With a Rainbow of Peppers   \n",
       "4                                 Lemon Butter for Steak   \n",
       "...                                                  ...   \n",
       "11882                     Tuna Steaks, Seared with Salsa   \n",
       "11883                   Simply Scrumptious Stilton Steak   \n",
       "11884                   Marvelous Marinated Steak Recipe   \n",
       "11885                      Venison Steaks with Chestnuts   \n",
       "11886                       Spicy Steak Fajitas - Mexico   \n",
       "\n",
       "                                                     url  \n",
       "0      http://www.kraftrecipes.com/recipes/steak-aspa...  \n",
       "1      http://cookeatshare.com/recipes/mom-s-swiss-st...  \n",
       "2      http://www.food.com/recipe/the-british-bulldog...  \n",
       "3      http://www.food.com/recipe/bbq-steak-sandwiche...  \n",
       "4      http://www.epicurious.com/recipes/food/views/l...  \n",
       "...                                                  ...  \n",
       "11882  http://www.kraftrecipes.com/recipes/tuna-steak...  \n",
       "11883  http://www.food.com/recipe/simply-scrumptious-...  \n",
       "11884  http://cookeatshare.com/recipes/marvelous-mari...  \n",
       "11885  https://recipeland.com/recipe/v/venison-steaks...  \n",
       "11886  http://www.food.com/recipe/spicy-steak-fajitas...  \n",
       "\n",
       "[11887 rows x 2 columns]"
      ]
     },
     "execution_count": 5,
     "metadata": {},
     "output_type": "execute_result"
    }
   ],
   "source": [
    "df"
   ]
  },
  {
   "cell_type": "code",
   "execution_count": null,
   "id": "digital-control",
   "metadata": {},
   "outputs": [],
   "source": []
  }
 ],
 "metadata": {
  "kernelspec": {
   "display_name": "Python [conda env:PIC16B] *",
   "language": "python",
   "name": "conda-env-PIC16B-py"
  },
  "language_info": {
   "codemirror_mode": {
    "name": "ipython",
    "version": 3
   },
   "file_extension": ".py",
   "mimetype": "text/x-python",
   "name": "python",
   "nbconvert_exporter": "python",
   "pygments_lexer": "ipython3",
   "version": "3.7.10"
  }
 },
 "nbformat": 4,
 "nbformat_minor": 5
}
