{
 "cells": [
  {
   "cell_type": "markdown",
   "metadata": {
    "colab_type": "text",
    "id": "view-in-github"
   },
   "source": [
    "<a href=\"https://colab.research.google.com/github/davidyu8/gouda-group-project/blob/main/find_recipe.ipynb\" target=\"_parent\"><img src=\"https://colab.research.google.com/assets/colab-badge.svg\" alt=\"Open In Colab\"/></a>"
   ]
  },
  {
   "cell_type": "markdown",
   "metadata": {
    "id": "JbUYwuzBdIK4"
   },
   "source": [
    "# Recipe Recommender ™"
   ]
  },
  {
   "cell_type": "markdown",
   "metadata": {
    "id": "N4P3vr7rdILB"
   },
   "source": [
    "## Preparing the Data"
   ]
  },
  {
   "cell_type": "code",
   "execution_count": 1,
   "metadata": {},
   "outputs": [],
   "source": [
    "import json\n",
    "import pandas as pd\n",
    "import sqlite3\n",
    "import numpy as np"
   ]
  },
  {
   "cell_type": "code",
   "execution_count": 7,
   "metadata": {
    "id": "IhmVboF2vLwZ",
    "scrolled": true
   },
   "outputs": [
    {
     "ename": "FileNotFoundError",
     "evalue": "[Errno 2] No such file or directory: 'Users\\\\david\\\\Documents\\\\GitHub\\\\gouda-group-project\\\\Old\\recipes_raw\\recipes_raw_nosource_ar.json'",
     "output_type": "error",
     "traceback": [
      "\u001b[1;31m---------------------------------------------------------------------------\u001b[0m",
      "\u001b[1;31mFileNotFoundError\u001b[0m                         Traceback (most recent call last)",
      "\u001b[1;32m<ipython-input-7-e005495454ed>\u001b[0m in \u001b[0;36m<module>\u001b[1;34m\u001b[0m\n\u001b[0;32m      1\u001b[0m \u001b[1;31m# set up data set (this is the smaller one, with about 40,000 recipes)\u001b[0m\u001b[1;33m\u001b[0m\u001b[1;33m\u001b[0m\u001b[1;33m\u001b[0m\u001b[0m\n\u001b[1;32m----> 2\u001b[1;33m \u001b[1;32mwith\u001b[0m \u001b[0mopen\u001b[0m\u001b[1;33m(\u001b[0m\u001b[1;34m\"Users\\david\\Documents\\GitHub\\gouda-group-project\\Old\\recipes_raw\\recipes_raw_nosource_ar.json\"\u001b[0m\u001b[1;33m)\u001b[0m \u001b[1;32mas\u001b[0m \u001b[0mf\u001b[0m\u001b[1;33m:\u001b[0m\u001b[1;33m\u001b[0m\u001b[1;33m\u001b[0m\u001b[0m\n\u001b[0m\u001b[0;32m      3\u001b[0m \u001b[1;31m#with open(\"recipes_raw/recipes_raw_nosource_ar.json\") as f:\u001b[0m\u001b[1;33m\u001b[0m\u001b[1;33m\u001b[0m\u001b[1;33m\u001b[0m\u001b[0m\n\u001b[0;32m      4\u001b[0m     \u001b[0mdata\u001b[0m \u001b[1;33m=\u001b[0m \u001b[0mjson\u001b[0m\u001b[1;33m.\u001b[0m\u001b[0mload\u001b[0m\u001b[1;33m(\u001b[0m\u001b[0mf\u001b[0m\u001b[1;33m)\u001b[0m\u001b[1;33m\u001b[0m\u001b[1;33m\u001b[0m\u001b[0m\n\u001b[0;32m      5\u001b[0m \u001b[0mdf\u001b[0m \u001b[1;33m=\u001b[0m \u001b[0mpd\u001b[0m\u001b[1;33m.\u001b[0m\u001b[0mDataFrame\u001b[0m\u001b[1;33m(\u001b[0m\u001b[0mdata\u001b[0m\u001b[1;33m)\u001b[0m\u001b[1;33m\u001b[0m\u001b[1;33m\u001b[0m\u001b[0m\n",
      "\u001b[1;31mFileNotFoundError\u001b[0m: [Errno 2] No such file or directory: 'Users\\\\david\\\\Documents\\\\GitHub\\\\gouda-group-project\\\\Old\\recipes_raw\\recipes_raw_nosource_ar.json'"
     ]
    }
   ],
   "source": [
    "# set up data set (this is the smaller one, with about 40,000 recipes)\n",
    "with open(\"Users\\david\\Documents\\GitHub\\gouda-group-project\\Old\\recipes_raw\\recipes_raw_nosource_ar.json\") as f:\n",
    "#with open(\"recipes_raw/recipes_raw_nosource_ar.json\") as f:\n",
    "    data = json.load(f)\n",
    "df = pd.DataFrame(data)\n",
    "df = df.T\n",
    "\n",
    "# we will use the larger data set later"
   ]
  },
  {
   "cell_type": "code",
   "execution_count": null,
   "metadata": {
    "id": "YGVQL-XqdILD",
    "outputId": "bc91a53a-eb44-4c98-bb43-a578979f0ad5",
    "scrolled": false
   },
   "outputs": [],
   "source": [
    "df.head()"
   ]
  },
  {
   "cell_type": "markdown",
   "metadata": {
    "id": "Z4nN_CVUdILE"
   },
   "source": [
    "_note from Colby_:\n",
    "\n",
    "In order to avoid using a ton of forloops, I reshaped the ingredients column a bit by using the `join` method. Basically, it combines all the elements in a list into a string separated by commas and whitespace. So this is helpful in avoiding the use of too many forloops when dealing with nested iterables."
   ]
  },
  {
   "cell_type": "code",
   "execution_count": null,
   "metadata": {
    "id": "akYsnvjIdILF"
   },
   "outputs": [],
   "source": [
    "# cleaning up and preparing the data\n",
    "\n",
    "# create the Score column to track matching recipes\n",
    "df[\"Score\"] = 0\n",
    "\n",
    "# reshape ingredients column from a list into a single string, then replace unneeded words\n",
    "df[\"ingredients\"] = df[\"ingredients\"].str.join(', ')\n",
    "df[\"ingredients\"] = df[\"ingredients\"].str.replace(\"ADVERTISEMENT\", \"\")\n",
    "\n",
    "# clean up row names, drop NaN values\n",
    "df = df.reset_index(drop = True)\n",
    "df = df.dropna()"
   ]
  },
  {
   "cell_type": "code",
   "execution_count": null,
   "metadata": {
    "id": "PPk2hhzodILF",
    "outputId": "71626395-74c1-4c18-fafd-d052296d4aac",
    "scrolled": true
   },
   "outputs": [],
   "source": [
    "df.head()"
   ]
  },
  {
   "cell_type": "code",
   "execution_count": null,
   "metadata": {},
   "outputs": [],
   "source": [
    "df[\"ingredients\"].iloc[1]"
   ]
  },
  {
   "cell_type": "markdown",
   "metadata": {
    "id": "YudBU7kZdILG"
   },
   "source": [
    "## Implementing the Function\n",
    "\n",
    "_note from Colby_:\n",
    "\n",
    "I already worked out a recipe function for the smaller dataset, so I started a brand new one for the bigger dataset that runs by querying the database instead. I'm keeping both just to document, see how maybe we can combine the best aspects of both together. The second function is still a bit broken at the moment though :/\n",
    "I'm not sure how to use the LIKE keyword when querying in order to grab multiple different ingredient matches, so atm the second function can only look for 1-ingredient matches."
   ]
  },
  {
   "cell_type": "code",
   "execution_count": null,
   "metadata": {
    "id": "VRvs5E__w18V"
   },
   "outputs": [],
   "source": [
    "def find_recipe_1(ingredients, min_score = 1):\n",
    "    \"\"\"\n",
    "    A function that recommends a recipe to cook based on the user's available ingredients. Uses the smaller dataset.\n",
    "    \n",
    "    ingredients: a list of ingredients supplied as strings\n",
    "    min_score: the minimum number of ingredient matches a recipe has to satisfy in order to be reccomended\n",
    "    returns: a portion of the original dataframe only containing recipes that the user may want to cook\n",
    "    \"\"\"\n",
    "    \n",
    "    # reset the Score column every time the function is called\n",
    "    df[\"Score\"] = 0\n",
    "    \n",
    "    # iterate through list of input ingredients\n",
    "    for ingr in ingredients:\n",
    "      \n",
    "        # increment score by 1 every time the matching ingredient name is found in a recipe\n",
    "        df[\"Score\"] += df['ingredients'].apply(lambda x: ingr in x)\n",
    "  \n",
    "    # return recipes in which the minimum score is satisfied\n",
    "    return df[df[\"Score\"] >= min_score]\n"
   ]
  },
  {
   "cell_type": "code",
   "execution_count": null,
   "metadata": {
    "id": "6mwywxFQdILH"
   },
   "outputs": [],
   "source": [
    "def find_recipe_2(ingredients, min_score = 1):\n",
    "    \"\"\"\n",
    "    Same as find_recipe_1, but uses the bigger dataset.\n",
    "    \"\"\"\n",
    "    \n",
    "    # ensure that the ingredients are passed as a list\n",
    "    if type(ingredients) != list:\n",
    "        raise TypeError(\"Ingredients must be contained in a list.\")\n",
    "     \n",
    "    # create a variable to contain the WHERE statement for the SQL query\n",
    "    where_statement = \"\"\n",
    "\n",
    "    # Iterate accross the ingredients and add each one to the WHERE statement\n",
    "    for i in ingredients:\n",
    "        where_statement += f\"R.ingredients LIKE '%{i}%' OR \"\n",
    "    \n",
    "    # open up dataset, automatically close\n",
    "    with sqlite3.connect(\"recipes1M.db\") as conn:\n",
    "        \n",
    "        # grab ingredient matches\n",
    "        query = \\\n",
    "        f\"\"\"\n",
    "        SELECT R.title, R.ingredients, R.url\n",
    "        FROM recipes R\n",
    "        WHERE {where_statement[:-3]}\n",
    "    \n",
    "        \"\"\"\n",
    "        \n",
    "        # query database\n",
    "        df = pd.read_sql_query(query, conn)\n",
    "        \n",
    "    # reset the Score column every time the function is called\n",
    "    df[\"Score\"] = 0\n",
    "    \n",
    "    # iterate through list of input ingredients\n",
    "    for ingr in ingredients: \n",
    "        # increment score by 1 every time the matching ingredient name is found in a recipe\n",
    "        df[\"Score\"] += df['ingredients'].apply(lambda x: ingr in x)\n",
    "    \n",
    "    # return matching recipes\n",
    "    return df[df[\"Score\"] >= min_score]"
   ]
  },
  {
   "cell_type": "markdown",
   "metadata": {
    "id": "khSnRLdndILI"
   },
   "source": [
    "## Testing it Out"
   ]
  },
  {
   "cell_type": "code",
   "execution_count": null,
   "metadata": {
    "id": "mK1EcANIxBQ0",
    "outputId": "0ed38b91-4d22-4c61-a53b-7d12b8623c81"
   },
   "outputs": [],
   "source": [
    "find_recipe_1([\"chicken\"]).head() # all recipes where chicken is used"
   ]
  },
  {
   "cell_type": "code",
   "execution_count": null,
   "metadata": {
    "id": "Ns1YWAU3dILJ",
    "outputId": "46938c1d-bcd5-4cbd-aea1-98cd00f0d195",
    "scrolled": true
   },
   "outputs": [],
   "source": [
    "# recipes that use 4 or more of the ingredients below\n",
    "find_recipe_1([\"chicken\", \"pesto\", \"pork\", \"linguine\", \"tomato\", \"mushroom\"], min_score = 4).head()"
   ]
  },
  {
   "cell_type": "code",
   "execution_count": null,
   "metadata": {
    "id": "OdY3jO9jdILJ",
    "outputId": "9e1f6a92-2cdc-4402-c257-a99c86eab6bf"
   },
   "outputs": [],
   "source": [
    "# recipes that use 4 or more of the ingredients below\n",
    "find_recipe_1([\"oysters\", \"clam\", \"tomato\", \"lemon\", \"scallop\", \"fish\", \"squid\"], min_score = 4)"
   ]
  },
  {
   "cell_type": "code",
   "execution_count": null,
   "metadata": {
    "id": "i9kRYsWTdILJ",
    "outputId": "8d22e38d-aa4b-4d97-f7e5-0d3f3d2106f4"
   },
   "outputs": [],
   "source": [
    "# recipes that use 5 or more of the ingredients below\n",
    "find_recipe_1([\"pita\", \"beef\", \"yogurt\", \"cucumber\", \"dill\"], min_score = 5)"
   ]
  },
  {
   "cell_type": "code",
   "execution_count": null,
   "metadata": {
    "id": "MgwYY5R8dILK",
    "outputId": "3ee53c1f-d0a8-4450-aa36-5cc4469e23b0"
   },
   "outputs": [],
   "source": [
    "# only able to match 1 ingredient\n",
    "test1 = find_recipe_2([\"pork\"])"
   ]
  },
  {
   "cell_type": "code",
   "execution_count": null,
   "metadata": {},
   "outputs": [],
   "source": [
    "test1"
   ]
  },
  {
   "cell_type": "code",
   "execution_count": null,
   "metadata": {},
   "outputs": [],
   "source": [
    "test2 = find_recipe_2([\"pita\",\"dill\"])"
   ]
  },
  {
   "cell_type": "code",
   "execution_count": null,
   "metadata": {},
   "outputs": [],
   "source": [
    "test2"
   ]
  },
  {
   "cell_type": "code",
   "execution_count": null,
   "metadata": {},
   "outputs": [],
   "source": [
    "test2['Score'].unique()"
   ]
  },
  {
   "cell_type": "code",
   "execution_count": null,
   "metadata": {},
   "outputs": [],
   "source": [
    "test3 = find_recipe_2([\"pita\", \"beef\", \"yogurt\", \"cucumber\", \"dill\"], min_score = 5)"
   ]
  },
  {
   "cell_type": "code",
   "execution_count": null,
   "metadata": {},
   "outputs": [],
   "source": [
    "test3"
   ]
  },
  {
   "cell_type": "code",
   "execution_count": null,
   "metadata": {},
   "outputs": [],
   "source": []
  }
 ],
 "metadata": {
  "colab": {
   "include_colab_link": true,
   "name": "recipe_stage1.ipynb",
   "provenance": []
  },
  "kernelspec": {
   "display_name": "Python 3",
   "language": "python",
   "name": "python3"
  },
  "language_info": {
   "codemirror_mode": {
    "name": "ipython",
    "version": 3
   },
   "file_extension": ".py",
   "mimetype": "text/x-python",
   "name": "python",
   "nbconvert_exporter": "python",
   "pygments_lexer": "ipython3",
   "version": "3.7.10"
  }
 },
 "nbformat": 4,
 "nbformat_minor": 1
}
