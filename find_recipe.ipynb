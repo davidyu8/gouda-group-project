{
  "nbformat": 4,
  "nbformat_minor": 0,
  "metadata": {
    "colab": {
      "name": "recipe_stage1.ipynb",
      "provenance": [],
      "authorship_tag": "ABX9TyMGW9F80tiRxSa7cSD3fq7l",
      "include_colab_link": true
    },
    "kernelspec": {
      "name": "python3",
      "display_name": "Python 3"
    },
    "language_info": {
      "name": "python"
    }
  },
  "cells": [
    {
      "cell_type": "markdown",
      "metadata": {
        "id": "view-in-github",
        "colab_type": "text"
      },
      "source": [
        "<a href=\"https://colab.research.google.com/github/davidyu8/gouda-group-project/blob/main/find_recipe.ipynb\" target=\"_parent\"><img src=\"https://colab.research.google.com/assets/colab-badge.svg\" alt=\"Open In Colab\"/></a>"
      ]
    },
    {
      "cell_type": "code",
      "metadata": {
        "colab": {
          "base_uri": "https://localhost:8080/"
        },
        "id": "HH8wj02XvKMy",
        "outputId": "e9501a85-95ab-4e67-e13c-0a3c454d76e5"
      },
      "source": [
        "print(\"hello\")"
      ],
      "execution_count": null,
      "outputs": [
        {
          "output_type": "stream",
          "text": [
            "hello\n"
          ],
          "name": "stdout"
        }
      ]
    },
    {
      "cell_type": "code",
      "metadata": {
        "id": "IhmVboF2vLwZ"
      },
      "source": [
        "import json\n",
        "import pandas as pd\n",
        "import sqlite3\n",
        "\n",
        "with open(\"recipes_raw\\\\recipes_raw_nosource_ar.json\") as f:\n",
        "    data = json.load(f)\n",
        "df = pd.DataFrame(data)\n",
        "df = df.T"
      ],
      "execution_count": null,
      "outputs": []
    },
    {
      "cell_type": "code",
      "metadata": {
        "id": "VRvs5E__w18V"
      },
      "source": [
        "def find_recipe(ingredients):\n",
        "    df[\"Score\"] = 0\n",
        "    for ingr in ingredients:\n",
        "        for recipe in df[\"ingredients\"]:\n",
        "            for recipe_ingredient in recipe:\n",
        "                if ingr in recipe_ingredient:\n",
        "                    return recipe"
      ],
      "execution_count": null,
      "outputs": []
    },
    {
      "cell_type": "code",
      "metadata": {
        "id": "mK1EcANIxBQ0"
      },
      "source": [
        "find_recipe([\"eggs\"])"
      ],
      "execution_count": null,
      "outputs": []
    }
  ]
}