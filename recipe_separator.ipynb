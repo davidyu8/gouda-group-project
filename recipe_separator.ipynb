{
 "cells": [
  {
   "cell_type": "code",
   "execution_count": 1,
   "id": "afraid-smoke",
   "metadata": {},
   "outputs": [],
   "source": [
    "import pandas as pd\n",
    "import sqlite3\n",
    "import numpy as np"
   ]
  },
  {
   "cell_type": "code",
   "execution_count": 2,
   "id": "persistent-package",
   "metadata": {},
   "outputs": [
    {
     "data": {
      "text/plain": [
       "(4416, 1)"
      ]
     },
     "execution_count": 2,
     "metadata": {},
     "output_type": "execute_result"
    }
   ],
   "source": [
    "keyword = \"tofu\"\n",
    "\n",
    "with sqlite3.connect(\"recipes1M.db\") as conn:\n",
    "    cmd = \\\n",
    "    f\"\"\"\n",
    "    SELECT R.title\n",
    "    FROM recipes R\n",
    "    WHERE R.title LIKE \"%{keyword}%\"\n",
    "    \"\"\"\n",
    "    df = pd.read_sql_query(cmd, conn)\n",
    "\n",
    "df.shape"
   ]
  },
  {
   "cell_type": "code",
   "execution_count": 3,
   "id": "tired-official",
   "metadata": {},
   "outputs": [],
   "source": [
    "import nltk # may need to install this\n",
    "# nltk.download('punkt')\n",
    "# nltk.download('averaged_perceptron_tagger')"
   ]
  },
  {
   "cell_type": "code",
   "execution_count": 5,
   "id": "sublime-projector",
   "metadata": {},
   "outputs": [
    {
     "name": "stdout",
     "output_type": "stream",
     "text": [
      "[('Baked', 'VBN'), ('BBQ', 'NNP'), ('Tofu', 'NNP'), ('(', '('), ('Vegan', 'NNP'), (')', ')'), ('Baked', 'VBN'), ('Tofu', 'NNP'), ('and', 'CC'), ('Veggie', 'NNP'), ('Stir-fry', 'NNP'), ('with', 'IN'), ('Basmati', 'NNP'), ('Brown', 'NNP'), ('Rice', 'NNP'), ('Tofu', 'NN'), ('Easy', 'NNP'), ('Tofu', 'NNP'), ('and', 'CC'), ('Wakame', 'NNP'), ('Seaweed', 'NNP'), ('Salad', 'NNP'), ('Instant', 'NNP'), ('Tofu', 'NNP'), ('and', 'CC'), ('Mixed', 'NNP'), ('Vegetable', 'NNP'), ('Stir-Fry', 'JJ'), ('Tofu', 'NNP'), ('Steak', 'NNP'), ('Sweet', 'NNP'), ('and', 'CC'), ('Crunchy', 'NNP'), ('Chilled', 'NNP'), ('Tofu', 'NNP'), ('Blue', 'NNP'), ('Cheese', 'NNP'), (',', ','), ('Apple', 'NNP'), (',', ','), ('Pecan', 'NNP'), (',', ','), ('Cranberry', 'NNP'), ('&', 'CC'), ('Tofu', 'NNP'), ('Salad', 'NNP'), ('Chocolate-Banana', 'NNP'), ('Tofu', 'NNP'), ('Pudding', 'NNP')]\n"
     ]
    }
   ],
   "source": [
    "upper = min(10, df.shape[0])\n",
    "\n",
    "words = []\n",
    "\n",
    "for i in range(1, upper):\n",
    "    curr = df.iloc[i][0]\n",
    "    text = nltk.word_tokenize(curr)\n",
    "    words += nltk.pos_tag(text)\n",
    "\n",
    "print(words)\n",
    "\n",
    "# create sublists based on part of speech (POS)\n",
    "# pass these sublists to title_generator\n",
    "\n",
    "# keep in mind: we want the words that were together in the title\n",
    "# to still be identified as being together. Maybe some sort of groupID?\n",
    "# This is so that we can still construct new phrases later on..."
   ]
  },
  {
   "cell_type": "code",
   "execution_count": null,
   "id": "urban-commerce",
   "metadata": {},
   "outputs": [],
   "source": []
  },
  {
   "cell_type": "code",
   "execution_count": null,
   "id": "strange-adapter",
   "metadata": {},
   "outputs": [],
   "source": []
  },
  {
   "cell_type": "code",
   "execution_count": null,
   "id": "convertible-victim",
   "metadata": {},
   "outputs": [],
   "source": []
  },
  {
   "cell_type": "code",
   "execution_count": null,
   "id": "copyrighted-attack",
   "metadata": {},
   "outputs": [],
   "source": []
  },
  {
   "cell_type": "code",
   "execution_count": null,
   "id": "adverse-possible",
   "metadata": {},
   "outputs": [],
   "source": []
  },
  {
   "cell_type": "code",
   "execution_count": null,
   "id": "alternate-agent",
   "metadata": {},
   "outputs": [],
   "source": []
  },
  {
   "cell_type": "code",
   "execution_count": null,
   "id": "chubby-throw",
   "metadata": {},
   "outputs": [],
   "source": []
  },
  {
   "cell_type": "code",
   "execution_count": null,
   "id": "early-federal",
   "metadata": {},
   "outputs": [],
   "source": []
  }
 ],
 "metadata": {
  "kernelspec": {
   "display_name": "Python [conda env:PIC16B] *",
   "language": "python",
   "name": "conda-env-PIC16B-py"
  },
  "language_info": {
   "codemirror_mode": {
    "name": "ipython",
    "version": 3
   },
   "file_extension": ".py",
   "mimetype": "text/x-python",
   "name": "python",
   "nbconvert_exporter": "python",
   "pygments_lexer": "ipython3",
   "version": "3.7.10"
  }
 },
 "nbformat": 4,
 "nbformat_minor": 5
}
