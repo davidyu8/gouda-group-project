{
 "cells": [
  {
   "cell_type": "markdown",
   "metadata": {
    "colab_type": "text",
    "id": "view-in-github"
   },
   "source": [
    "<a href=\"https://colab.research.google.com/github/davidyu8/gouda-group-project/blob/main/find_recipe.ipynb\" target=\"_parent\"><img src=\"https://colab.research.google.com/assets/colab-badge.svg\" alt=\"Open In Colab\"/></a>"
   ]
  },
  {
   "cell_type": "code",
   "execution_count": null,
   "metadata": {
    "id": "IhmVboF2vLwZ"
   },
   "outputs": [],
   "source": [
    "import json\n",
    "import pandas as pd\n",
    "import sqlite3\n",
    "\n",
    "\n",
    "# set up data set (this is the smaller one, with about 40,000 recipes)\n",
    "with open(\"recipes_raw\\\\recipes_raw_nosource_ar.json\") as f:\n",
    "    data = json.load(f)\n",
    "df = pd.DataFrame(data)\n",
    "df = df.T"
   ]
  },
  {
   "cell_type": "code",
   "execution_count": null,
   "metadata": {
    "id": "VRvs5E__w18V"
   },
   "outputs": [],
   "source": [
    "def find_recipe(ingredients):\n",
    "    df[\"Score\"] = 0\n",
    "    for ingr in ingredients:\n",
    "        for recipe in df[\"ingredients\"]:\n",
    "            for recipe_ingredient in recipe:\n",
    "                if ingr in recipe_ingredient:\n",
    "                    return recipe"
   ]
  },
  {
   "cell_type": "code",
   "execution_count": null,
   "metadata": {
    "id": "mK1EcANIxBQ0"
   },
   "outputs": [],
   "source": [
    "find_recipe([\"eggs\"])"
   ]
  }
 ],
 "metadata": {
  "colab": {
   "authorship_tag": "ABX9TyNFy1TYvfJZ8ceVwmdx+HAZ",
   "include_colab_link": true,
   "name": "recipe_stage1.ipynb",
   "provenance": []
  },
  "kernelspec": {
   "display_name": "Python 3",
   "language": "python",
   "name": "python3"
  },
  "language_info": {
   "codemirror_mode": {
    "name": "ipython",
    "version": 3
   },
   "file_extension": ".py",
   "mimetype": "text/x-python",
   "name": "python",
   "nbconvert_exporter": "python",
   "pygments_lexer": "ipython3",
   "version": "3.7.10"
  }
 },
 "nbformat": 4,
 "nbformat_minor": 1
}
