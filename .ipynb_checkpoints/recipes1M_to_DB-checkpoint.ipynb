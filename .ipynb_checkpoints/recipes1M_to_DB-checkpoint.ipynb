{
 "cells": [
  {
   "cell_type": "code",
   "execution_count": 1,
   "id": "hearing-server",
   "metadata": {},
   "outputs": [],
   "source": [
    "import tarfile\n",
    "import sqlite3\n",
    "import json\n",
    "import pandas as pd"
   ]
  },
  {
   "cell_type": "code",
   "execution_count": 2,
   "id": "guided-radius",
   "metadata": {},
   "outputs": [],
   "source": [
    "tar = tarfile.open(\"recipe1M_layers.tar.gz\")\n",
    "files = tar.getmembers()"
   ]
  },
  {
   "cell_type": "code",
   "execution_count": 3,
   "id": "contained-utilization",
   "metadata": {},
   "outputs": [
    {
     "data": {
      "text/plain": [
       "[<TarInfo 'layer1.json' at 0x1eeb4296ba8>,\n",
       " <TarInfo 'layer2.json' at 0x1eeb440f2b8>]"
      ]
     },
     "execution_count": 3,
     "metadata": {},
     "output_type": "execute_result"
    }
   ],
   "source": [
    "files"
   ]
  },
  {
   "cell_type": "code",
   "execution_count": 4,
   "id": "reflected-criticism",
   "metadata": {
    "scrolled": true
   },
   "outputs": [],
   "source": [
    "f = tar.extractfile(files[0])"
   ]
  },
  {
   "cell_type": "code",
   "execution_count": 5,
   "id": "small-circular",
   "metadata": {},
   "outputs": [],
   "source": [
    "df = pd.DataFrame(f)"
   ]
  },
  {
   "cell_type": "code",
   "execution_count": 6,
   "id": "scientific-siemens",
   "metadata": {},
   "outputs": [
    {
     "data": {
      "text/plain": [
       "(1029722, 1)"
      ]
     },
     "execution_count": 6,
     "metadata": {},
     "output_type": "execute_result"
    }
   ],
   "source": [
    "df.shape"
   ]
  },
  {
   "cell_type": "code",
   "execution_count": 7,
   "id": "bottom-choir",
   "metadata": {},
   "outputs": [
    {
     "data": {
      "text/html": [
       "<div>\n",
       "<style scoped>\n",
       "    .dataframe tbody tr th:only-of-type {\n",
       "        vertical-align: middle;\n",
       "    }\n",
       "\n",
       "    .dataframe tbody tr th {\n",
       "        vertical-align: top;\n",
       "    }\n",
       "\n",
       "    .dataframe thead th {\n",
       "        text-align: right;\n",
       "    }\n",
       "</style>\n",
       "<table border=\"1\" class=\"dataframe\">\n",
       "  <thead>\n",
       "    <tr style=\"text-align: right;\">\n",
       "      <th></th>\n",
       "      <th>0</th>\n",
       "    </tr>\n",
       "  </thead>\n",
       "  <tbody>\n",
       "    <tr>\n",
       "      <th>0</th>\n",
       "      <td>b'[\\n'</td>\n",
       "    </tr>\n",
       "    <tr>\n",
       "      <th>1</th>\n",
       "      <td>b'{\"ingredients\": [{\"text\": \"6 ounces penne\"},...</td>\n",
       "    </tr>\n",
       "    <tr>\n",
       "      <th>2</th>\n",
       "      <td>b'{\"ingredients\": [{\"text\": \"1 c. elbow macaro...</td>\n",
       "    </tr>\n",
       "    <tr>\n",
       "      <th>3</th>\n",
       "      <td>b'{\"ingredients\": [{\"text\": \"8 tomatoes, quart...</td>\n",
       "    </tr>\n",
       "    <tr>\n",
       "      <th>4</th>\n",
       "      <td>b'{\"ingredients\": [{\"text\": \"2 12 cups milk\"},...</td>\n",
       "    </tr>\n",
       "  </tbody>\n",
       "</table>\n",
       "</div>"
      ],
      "text/plain": [
       "                                                   0\n",
       "0                                             b'[\\n'\n",
       "1  b'{\"ingredients\": [{\"text\": \"6 ounces penne\"},...\n",
       "2  b'{\"ingredients\": [{\"text\": \"1 c. elbow macaro...\n",
       "3  b'{\"ingredients\": [{\"text\": \"8 tomatoes, quart...\n",
       "4  b'{\"ingredients\": [{\"text\": \"2 12 cups milk\"},..."
      ]
     },
     "execution_count": 7,
     "metadata": {},
     "output_type": "execute_result"
    }
   ],
   "source": [
    "df.head(5)"
   ]
  },
  {
   "cell_type": "code",
   "execution_count": 14,
   "id": "statutory-nigeria",
   "metadata": {},
   "outputs": [
    {
     "data": {
      "text/plain": [
       "b'{\"ingredients\": [{\"text\": \"6 ounces penne\"}, {\"text\": \"2 cups Beechers Flagship Cheese Sauce (recipe follows)\"}, {\"text\": \"1 ounce Cheddar, grated (1/4 cup)\"}, {\"text\": \"1 ounce Gruyere cheese, grated (1/4 cup)\"}, {\"text\": \"1/4 to 1/2 teaspoon chipotle chili powder (see Note)\"}, {\"text\": \"1/4 cup (1/2 stick) unsalted butter\"}, {\"text\": \"1/3 cup all-purpose flour\"}, {\"text\": \"3 cups milk\"}, {\"text\": \"14 ounces semihard cheese (page 23), grated (about 3 1/2 cups)\"}, {\"text\": \"2 ounces semisoft cheese (page 23), grated (1/2 cup)\"}, {\"text\": \"1/2 teaspoon kosher salt\"}, {\"text\": \"1/4 to 1/2 teaspoon chipotle chili powder\"}, {\"text\": \"1/8 teaspoon garlic powder\"}, {\"text\": \"(makes about 4 cups)\"}], \"url\": \"http://www.epicurious.com/recipes/food/views/-world-s-best-mac-and-cheese-387747\", \"partition\": \"train\", \"title\": \"Worlds Best Mac and Cheese\", \"id\": \"000018c8a5\", \"instructions\": [{\"text\": \"Preheat the oven to 350 F. Butter or oil an 8-inch baking dish.\"}, {\"text\": \"Cook the penne 2 minutes less than package directions.\"}, {\"text\": \"(It will finish cooking in the oven.)\"}, {\"text\": \"Rinse the pasta in cold water and set aside.\"}, {\"text\": \"Combine the cooked pasta and the sauce in a medium bowl and mix carefully but thoroughly.\"}, {\"text\": \"Scrape the pasta into the prepared baking dish.\"}, {\"text\": \"Sprinkle the top with the cheeses and then the chili powder.\"}, {\"text\": \"Bake, uncovered, for 20 minutes.\"}, {\"text\": \"Let the mac and cheese sit for 5 minutes before serving.\"}, {\"text\": \"Melt the butter in a heavy-bottomed saucepan over medium heat and whisk in the flour.\"}, {\"text\": \"Continue whisking and cooking for 2 minutes.\"}, {\"text\": \"Slowly add the milk, whisking constantly.\"}, {\"text\": \"Cook until the sauce thickens, about 10 minutes, stirring frequently.\"}, {\"text\": \"Remove from the heat.\"}, {\"text\": \"Add the cheeses, salt, chili powder, and garlic powder.\"}, {\"text\": \"Stir until the cheese is melted and all ingredients are incorporated, about 3 minutes.\"}, {\"text\": \"Use immediately, or refrigerate for up to 3 days.\"}, {\"text\": \"This sauce reheats nicely on the stove in a saucepan over low heat.\"}, {\"text\": \"Stir frequently so the sauce doesnt scorch.\"}, {\"text\": \"This recipe can be assembled before baking and frozen for up to 3 monthsjust be sure to use a freezer-to-oven pan and increase the baking time to 50 minutes.\"}, {\"text\": \"One-half teaspoon of chipotle chili powder makes a spicy mac, so make sure your family and friends can handle it!\"}, {\"text\": \"The proportion of pasta to cheese sauce is crucial to the success of the dish.\"}, {\"text\": \"It will look like a lot of sauce for the pasta, but some of the liquid will be absorbed.\"}]},\\n'"
      ]
     },
     "execution_count": 14,
     "metadata": {},
     "output_type": "execute_result"
    }
   ],
   "source": [
    "df.iloc[1, 0]"
   ]
  },
  {
   "cell_type": "code",
   "execution_count": null,
   "id": "spatial-zimbabwe",
   "metadata": {},
   "outputs": [],
   "source": []
  }
 ],
 "metadata": {
  "kernelspec": {
   "display_name": "Python [conda env:PIC16B] *",
   "language": "python",
   "name": "conda-env-PIC16B-py"
  },
  "language_info": {
   "codemirror_mode": {
    "name": "ipython",
    "version": 3
   },
   "file_extension": ".py",
   "mimetype": "text/x-python",
   "name": "python",
   "nbconvert_exporter": "python",
   "pygments_lexer": "ipython3",
   "version": "3.7.10"
  }
 },
 "nbformat": 4,
 "nbformat_minor": 5
}
