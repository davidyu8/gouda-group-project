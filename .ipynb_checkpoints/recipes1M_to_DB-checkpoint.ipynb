{
 "cells": [
  {
   "cell_type": "code",
   "execution_count": 1,
   "id": "hearing-server",
   "metadata": {},
   "outputs": [],
   "source": [
    "import tarfile\n",
    "import sqlite3\n",
    "import json\n",
    "import pandas as pd"
   ]
  },
  {
   "cell_type": "code",
   "execution_count": 2,
   "id": "guided-radius",
   "metadata": {},
   "outputs": [],
   "source": [
    "tar = tarfile.open(\"recipe1M_layers.tar.gz\")\n",
    "files = tar.getmembers()"
   ]
  },
  {
   "cell_type": "code",
   "execution_count": 3,
   "id": "contained-utilization",
   "metadata": {},
   "outputs": [
    {
     "data": {
      "text/plain": [
       "[<TarInfo 'layer1.json' at 0x23ae9876ba8>,\n",
       " <TarInfo 'layer2.json' at 0x23ae99ef2b8>]"
      ]
     },
     "execution_count": 3,
     "metadata": {},
     "output_type": "execute_result"
    }
   ],
   "source": [
    "files"
   ]
  },
  {
   "cell_type": "code",
   "execution_count": 18,
   "id": "reflected-criticism",
   "metadata": {
    "scrolled": true
   },
   "outputs": [],
   "source": [
    "f = tar.extractfile(files[0]).read()"
   ]
  },
  {
   "cell_type": "code",
   "execution_count": 19,
   "id": "usual-aurora",
   "metadata": {},
   "outputs": [],
   "source": [
    "temp = json.loads(f)"
   ]
  },
  {
   "cell_type": "code",
   "execution_count": 32,
   "id": "auburn-thunder",
   "metadata": {},
   "outputs": [
    {
     "data": {
      "text/plain": [
       "dict_keys(['ingredients', 'url', 'partition', 'title', 'id', 'instructions'])"
      ]
     },
     "execution_count": 32,
     "metadata": {},
     "output_type": "execute_result"
    }
   ],
   "source": [
    "temp[0].keys()"
   ]
  },
  {
   "cell_type": "code",
   "execution_count": 50,
   "id": "settled-export",
   "metadata": {},
   "outputs": [
    {
     "data": {
      "text/html": [
       "<div>\n",
       "<style scoped>\n",
       "    .dataframe tbody tr th:only-of-type {\n",
       "        vertical-align: middle;\n",
       "    }\n",
       "\n",
       "    .dataframe tbody tr th {\n",
       "        vertical-align: top;\n",
       "    }\n",
       "\n",
       "    .dataframe thead th {\n",
       "        text-align: right;\n",
       "    }\n",
       "</style>\n",
       "<table border=\"1\" class=\"dataframe\">\n",
       "  <thead>\n",
       "    <tr style=\"text-align: right;\">\n",
       "      <th></th>\n",
       "      <th>ingredients</th>\n",
       "      <th>url</th>\n",
       "      <th>partition</th>\n",
       "      <th>title</th>\n",
       "      <th>id</th>\n",
       "      <th>instructions</th>\n",
       "    </tr>\n",
       "  </thead>\n",
       "  <tbody>\n",
       "    <tr>\n",
       "      <th>0</th>\n",
       "      <td>[{'text': '6 ounces penne'}, {'text': '2 cups ...</td>\n",
       "      <td>http://www.epicurious.com/recipes/food/views/-...</td>\n",
       "      <td>train</td>\n",
       "      <td>Worlds Best Mac and Cheese</td>\n",
       "      <td>000018c8a5</td>\n",
       "      <td>[{'text': 'Preheat the oven to 350 F. Butter o...</td>\n",
       "    </tr>\n",
       "    <tr>\n",
       "      <th>1</th>\n",
       "      <td>[{'text': '1 c. elbow macaroni'}, {'text': '1 ...</td>\n",
       "      <td>http://cookeatshare.com/recipes/dilly-macaroni...</td>\n",
       "      <td>train</td>\n",
       "      <td>Dilly Macaroni Salad Recipe</td>\n",
       "      <td>000033e39b</td>\n",
       "      <td>[{'text': 'Cook macaroni according to package ...</td>\n",
       "    </tr>\n",
       "    <tr>\n",
       "      <th>2</th>\n",
       "      <td>[{'text': '8 tomatoes, quartered'}, {'text': '...</td>\n",
       "      <td>http://www.foodnetwork.com/recipes/gazpacho1.html</td>\n",
       "      <td>train</td>\n",
       "      <td>Gazpacho</td>\n",
       "      <td>000035f7ed</td>\n",
       "      <td>[{'text': 'Add the tomatoes to a food processo...</td>\n",
       "    </tr>\n",
       "    <tr>\n",
       "      <th>3</th>\n",
       "      <td>[{'text': '2 12 cups milk'}, {'text': '1 12 cu...</td>\n",
       "      <td>http://www.food.com/recipe/crunchy-onion-potat...</td>\n",
       "      <td>test</td>\n",
       "      <td>Crunchy Onion Potato Bake</td>\n",
       "      <td>00003a70b1</td>\n",
       "      <td>[{'text': 'Preheat oven to 350 degrees Fahrenh...</td>\n",
       "    </tr>\n",
       "    <tr>\n",
       "      <th>4</th>\n",
       "      <td>[{'text': '1 (3 ounce) package watermelon gela...</td>\n",
       "      <td>http://www.food.com/recipe/cool-n-easy-creamy-...</td>\n",
       "      <td>train</td>\n",
       "      <td>Cool 'n Easy Creamy Watermelon Pie</td>\n",
       "      <td>00004320bb</td>\n",
       "      <td>[{'text': 'Dissolve Jello in boiling water.'},...</td>\n",
       "    </tr>\n",
       "  </tbody>\n",
       "</table>\n",
       "</div>"
      ],
      "text/plain": [
       "                                         ingredients  \\\n",
       "0  [{'text': '6 ounces penne'}, {'text': '2 cups ...   \n",
       "1  [{'text': '1 c. elbow macaroni'}, {'text': '1 ...   \n",
       "2  [{'text': '8 tomatoes, quartered'}, {'text': '...   \n",
       "3  [{'text': '2 12 cups milk'}, {'text': '1 12 cu...   \n",
       "4  [{'text': '1 (3 ounce) package watermelon gela...   \n",
       "\n",
       "                                                 url partition  \\\n",
       "0  http://www.epicurious.com/recipes/food/views/-...     train   \n",
       "1  http://cookeatshare.com/recipes/dilly-macaroni...     train   \n",
       "2  http://www.foodnetwork.com/recipes/gazpacho1.html     train   \n",
       "3  http://www.food.com/recipe/crunchy-onion-potat...      test   \n",
       "4  http://www.food.com/recipe/cool-n-easy-creamy-...     train   \n",
       "\n",
       "                                title          id  \\\n",
       "0          Worlds Best Mac and Cheese  000018c8a5   \n",
       "1         Dilly Macaroni Salad Recipe  000033e39b   \n",
       "2                            Gazpacho  000035f7ed   \n",
       "3           Crunchy Onion Potato Bake  00003a70b1   \n",
       "4  Cool 'n Easy Creamy Watermelon Pie  00004320bb   \n",
       "\n",
       "                                        instructions  \n",
       "0  [{'text': 'Preheat the oven to 350 F. Butter o...  \n",
       "1  [{'text': 'Cook macaroni according to package ...  \n",
       "2  [{'text': 'Add the tomatoes to a food processo...  \n",
       "3  [{'text': 'Preheat oven to 350 degrees Fahrenh...  \n",
       "4  [{'text': 'Dissolve Jello in boiling water.'},...  "
      ]
     },
     "execution_count": 50,
     "metadata": {},
     "output_type": "execute_result"
    }
   ],
   "source": [
    "df = pd.DataFrame()\n",
    "\n",
    "for key in temp[0].keys():\n",
    "    tempList = [temp[i][key] for i in range(0, len(temp)-1)]\n",
    "    df[key] = tempList"
   ]
  },
  {
   "cell_type": "code",
   "execution_count": 61,
   "id": "instructional-haiti",
   "metadata": {},
   "outputs": [],
   "source": [
    "# still need to clean up ingredients and instructions column\n",
    "\n",
    "ingr_unpacked = []\n",
    "istr_unpacked = []\n",
    "for i in range(0, df.shape[0]):\n",
    "    ingr_list = []\n",
    "    istr_list = []\n",
    "    for ingr_dict in df['ingredients'][i]:\n",
    "        ingr_list.append(ingr_dict['text'])\n",
    "    for istr_dict in df['instructions'][i]:\n",
    "        istr_list.append(istr_dict['text'])\n",
    "    ingr_unpacked.append(ingr_list)\n",
    "    istr_unpacked.append(istr_list)\n",
    "\n",
    "df[\"Ingredients_List\"] = ingr_unpacked\n",
    "df[\"Instructions_List\"] = istr_unpacked"
   ]
  },
  {
   "cell_type": "code",
   "execution_count": 62,
   "id": "damaged-diameter",
   "metadata": {},
   "outputs": [
    {
     "data": {
      "text/html": [
       "<div>\n",
       "<style scoped>\n",
       "    .dataframe tbody tr th:only-of-type {\n",
       "        vertical-align: middle;\n",
       "    }\n",
       "\n",
       "    .dataframe tbody tr th {\n",
       "        vertical-align: top;\n",
       "    }\n",
       "\n",
       "    .dataframe thead th {\n",
       "        text-align: right;\n",
       "    }\n",
       "</style>\n",
       "<table border=\"1\" class=\"dataframe\">\n",
       "  <thead>\n",
       "    <tr style=\"text-align: right;\">\n",
       "      <th></th>\n",
       "      <th>ingredients</th>\n",
       "      <th>url</th>\n",
       "      <th>partition</th>\n",
       "      <th>title</th>\n",
       "      <th>id</th>\n",
       "      <th>instructions</th>\n",
       "      <th>Ingredients_List</th>\n",
       "      <th>Instructions_List</th>\n",
       "    </tr>\n",
       "  </thead>\n",
       "  <tbody>\n",
       "    <tr>\n",
       "      <th>0</th>\n",
       "      <td>[{'text': '6 ounces penne'}, {'text': '2 cups ...</td>\n",
       "      <td>http://www.epicurious.com/recipes/food/views/-...</td>\n",
       "      <td>train</td>\n",
       "      <td>Worlds Best Mac and Cheese</td>\n",
       "      <td>000018c8a5</td>\n",
       "      <td>[{'text': 'Preheat the oven to 350 F. Butter o...</td>\n",
       "      <td>[6 ounces penne, 2 cups Beechers Flagship Chee...</td>\n",
       "      <td>[Preheat the oven to 350 F. Butter or oil an 8...</td>\n",
       "    </tr>\n",
       "    <tr>\n",
       "      <th>1</th>\n",
       "      <td>[{'text': '1 c. elbow macaroni'}, {'text': '1 ...</td>\n",
       "      <td>http://cookeatshare.com/recipes/dilly-macaroni...</td>\n",
       "      <td>train</td>\n",
       "      <td>Dilly Macaroni Salad Recipe</td>\n",
       "      <td>000033e39b</td>\n",
       "      <td>[{'text': 'Cook macaroni according to package ...</td>\n",
       "      <td>[1 c. elbow macaroni, 1 c. cubed American chee...</td>\n",
       "      <td>[Cook macaroni according to package directions...</td>\n",
       "    </tr>\n",
       "    <tr>\n",
       "      <th>2</th>\n",
       "      <td>[{'text': '8 tomatoes, quartered'}, {'text': '...</td>\n",
       "      <td>http://www.foodnetwork.com/recipes/gazpacho1.html</td>\n",
       "      <td>train</td>\n",
       "      <td>Gazpacho</td>\n",
       "      <td>000035f7ed</td>\n",
       "      <td>[{'text': 'Add the tomatoes to a food processo...</td>\n",
       "      <td>[8 tomatoes, quartered, Kosher salt, 1 red oni...</td>\n",
       "      <td>[Add the tomatoes to a food processor with a p...</td>\n",
       "    </tr>\n",
       "    <tr>\n",
       "      <th>3</th>\n",
       "      <td>[{'text': '2 12 cups milk'}, {'text': '1 12 cu...</td>\n",
       "      <td>http://www.food.com/recipe/crunchy-onion-potat...</td>\n",
       "      <td>test</td>\n",
       "      <td>Crunchy Onion Potato Bake</td>\n",
       "      <td>00003a70b1</td>\n",
       "      <td>[{'text': 'Preheat oven to 350 degrees Fahrenh...</td>\n",
       "      <td>[2 12 cups milk, 1 12 cups water, 14 cup butte...</td>\n",
       "      <td>[Preheat oven to 350 degrees Fahrenheit., Spra...</td>\n",
       "    </tr>\n",
       "    <tr>\n",
       "      <th>4</th>\n",
       "      <td>[{'text': '1 (3 ounce) package watermelon gela...</td>\n",
       "      <td>http://www.food.com/recipe/cool-n-easy-creamy-...</td>\n",
       "      <td>train</td>\n",
       "      <td>Cool 'n Easy Creamy Watermelon Pie</td>\n",
       "      <td>00004320bb</td>\n",
       "      <td>[{'text': 'Dissolve Jello in boiling water.'},...</td>\n",
       "      <td>[1 (3 ounce) package watermelon gelatin, 14 cu...</td>\n",
       "      <td>[Dissolve Jello in boiling water., Allow to co...</td>\n",
       "    </tr>\n",
       "  </tbody>\n",
       "</table>\n",
       "</div>"
      ],
      "text/plain": [
       "                                         ingredients  \\\n",
       "0  [{'text': '6 ounces penne'}, {'text': '2 cups ...   \n",
       "1  [{'text': '1 c. elbow macaroni'}, {'text': '1 ...   \n",
       "2  [{'text': '8 tomatoes, quartered'}, {'text': '...   \n",
       "3  [{'text': '2 12 cups milk'}, {'text': '1 12 cu...   \n",
       "4  [{'text': '1 (3 ounce) package watermelon gela...   \n",
       "\n",
       "                                                 url partition  \\\n",
       "0  http://www.epicurious.com/recipes/food/views/-...     train   \n",
       "1  http://cookeatshare.com/recipes/dilly-macaroni...     train   \n",
       "2  http://www.foodnetwork.com/recipes/gazpacho1.html     train   \n",
       "3  http://www.food.com/recipe/crunchy-onion-potat...      test   \n",
       "4  http://www.food.com/recipe/cool-n-easy-creamy-...     train   \n",
       "\n",
       "                                title          id  \\\n",
       "0          Worlds Best Mac and Cheese  000018c8a5   \n",
       "1         Dilly Macaroni Salad Recipe  000033e39b   \n",
       "2                            Gazpacho  000035f7ed   \n",
       "3           Crunchy Onion Potato Bake  00003a70b1   \n",
       "4  Cool 'n Easy Creamy Watermelon Pie  00004320bb   \n",
       "\n",
       "                                        instructions  \\\n",
       "0  [{'text': 'Preheat the oven to 350 F. Butter o...   \n",
       "1  [{'text': 'Cook macaroni according to package ...   \n",
       "2  [{'text': 'Add the tomatoes to a food processo...   \n",
       "3  [{'text': 'Preheat oven to 350 degrees Fahrenh...   \n",
       "4  [{'text': 'Dissolve Jello in boiling water.'},...   \n",
       "\n",
       "                                    Ingredients_List  \\\n",
       "0  [6 ounces penne, 2 cups Beechers Flagship Chee...   \n",
       "1  [1 c. elbow macaroni, 1 c. cubed American chee...   \n",
       "2  [8 tomatoes, quartered, Kosher salt, 1 red oni...   \n",
       "3  [2 12 cups milk, 1 12 cups water, 14 cup butte...   \n",
       "4  [1 (3 ounce) package watermelon gelatin, 14 cu...   \n",
       "\n",
       "                                   Instructions_List  \n",
       "0  [Preheat the oven to 350 F. Butter or oil an 8...  \n",
       "1  [Cook macaroni according to package directions...  \n",
       "2  [Add the tomatoes to a food processor with a p...  \n",
       "3  [Preheat oven to 350 degrees Fahrenheit., Spra...  \n",
       "4  [Dissolve Jello in boiling water., Allow to co...  "
      ]
     },
     "execution_count": 62,
     "metadata": {},
     "output_type": "execute_result"
    }
   ],
   "source": [
    "df.shape\n",
    "df.head(5)"
   ]
  },
  {
   "cell_type": "code",
   "execution_count": 28,
   "id": "desperate-withdrawal",
   "metadata": {},
   "outputs": [
    {
     "data": {
      "text/plain": [
       "list"
      ]
     },
     "execution_count": 28,
     "metadata": {},
     "output_type": "execute_result"
    }
   ],
   "source": [
    "type(temp[0]['ingredients'])"
   ]
  },
  {
   "cell_type": "code",
   "execution_count": null,
   "id": "small-circular",
   "metadata": {},
   "outputs": [],
   "source": [
    "df = pd.DataFrame(f)\n",
    "df"
   ]
  },
  {
   "cell_type": "code",
   "execution_count": null,
   "id": "compliant-pendant",
   "metadata": {},
   "outputs": [],
   "source": [
    "df[\"JSON\"] = df[\"0\"]"
   ]
  },
  {
   "cell_type": "code",
   "execution_count": null,
   "id": "scientific-siemens",
   "metadata": {},
   "outputs": [],
   "source": [
    "df.rename(columns = {\"0\": \"JSON\"})"
   ]
  },
  {
   "cell_type": "code",
   "execution_count": null,
   "id": "prospective-landscape",
   "metadata": {},
   "outputs": [],
   "source": [
    "df.head(5)"
   ]
  },
  {
   "cell_type": "code",
   "execution_count": null,
   "id": "invisible-romance",
   "metadata": {},
   "outputs": [],
   "source": [
    "df[\"Text\"] = pd.read_json(df[\"0\"])"
   ]
  },
  {
   "cell_type": "code",
   "execution_count": null,
   "id": "moved-dakota",
   "metadata": {},
   "outputs": [],
   "source": []
  }
 ],
 "metadata": {
  "kernelspec": {
   "display_name": "Python [conda env:PIC16B] *",
   "language": "python",
   "name": "conda-env-PIC16B-py"
  },
  "language_info": {
   "codemirror_mode": {
    "name": "ipython",
    "version": 3
   },
   "file_extension": ".py",
   "mimetype": "text/x-python",
   "name": "python",
   "nbconvert_exporter": "python",
   "pygments_lexer": "ipython3",
   "version": "3.7.10"
  }
 },
 "nbformat": 4,
 "nbformat_minor": 5
}
