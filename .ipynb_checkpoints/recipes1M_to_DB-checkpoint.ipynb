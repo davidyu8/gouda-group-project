{
 "cells": [
  {
   "cell_type": "code",
   "execution_count": 1,
   "id": "hearing-server",
   "metadata": {},
   "outputs": [],
   "source": [
    "import tarfile\n",
    "import sqlite3\n",
    "import json\n",
    "import pandas as pd"
   ]
  },
  {
   "cell_type": "code",
   "execution_count": 3,
   "id": "guided-radius",
   "metadata": {},
   "outputs": [],
   "source": [
    "tar = tarfile.open(\"C:/Users/david/Downloads/recipe1M_layers.tar.gz\")\n",
    "files = tar.getmembers()"
   ]
  },
  {
   "cell_type": "code",
   "execution_count": 4,
   "id": "contained-utilization",
   "metadata": {},
   "outputs": [
    {
     "data": {
      "text/plain": [
       "[<TarInfo 'layer1.json' at 0x259cd9395f8>,\n",
       " <TarInfo 'layer2.json' at 0x259cd939528>]"
      ]
     },
     "execution_count": 4,
     "metadata": {},
     "output_type": "execute_result"
    }
   ],
   "source": [
    "files"
   ]
  },
  {
   "cell_type": "code",
   "execution_count": 8,
   "id": "reflected-criticism",
   "metadata": {
    "scrolled": true
   },
   "outputs": [],
   "source": [
    "f = tar.extractfile(files[0])"
   ]
  },
  {
   "cell_type": "code",
   "execution_count": 9,
   "id": "small-circular",
   "metadata": {},
   "outputs": [],
   "source": [
    "df = pd.DataFrame(f)"
   ]
  },
  {
   "cell_type": "code",
   "execution_count": 14,
   "id": "scientific-siemens",
   "metadata": {},
   "outputs": [
    {
     "data": {
      "text/plain": [
       "(1029722, 1)"
      ]
     },
     "execution_count": 14,
     "metadata": {},
     "output_type": "execute_result"
    }
   ],
   "source": [
    "df.shape"
   ]
  }
 ],
 "metadata": {
  "kernelspec": {
   "display_name": "Python [conda env:PIC16B] *",
   "language": "python",
   "name": "conda-env-PIC16B-py"
  },
  "language_info": {
   "codemirror_mode": {
    "name": "ipython",
    "version": 3
   },
   "file_extension": ".py",
   "mimetype": "text/x-python",
   "name": "python",
   "nbconvert_exporter": "python",
   "pygments_lexer": "ipython3",
   "version": "3.7.10"
  }
 },
 "nbformat": 4,
 "nbformat_minor": 5
}
