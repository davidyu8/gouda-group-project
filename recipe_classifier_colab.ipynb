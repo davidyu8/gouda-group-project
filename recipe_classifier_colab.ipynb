{
  "nbformat": 4,
  "nbformat_minor": 5,
  "metadata": {
    "kernelspec": {
      "display_name": "Python [conda env:PIC16B] *",
      "language": "python",
      "name": "conda-env-PIC16B-py"
    },
    "language_info": {
      "codemirror_mode": {
        "name": "ipython",
        "version": 3
      },
      "file_extension": ".py",
      "mimetype": "text/x-python",
      "name": "python",
      "nbconvert_exporter": "python",
      "pygments_lexer": "ipython3",
      "version": "3.7.10"
    },
    "colab": {
      "name": "recipe_classifier.ipynb",
      "provenance": [],
      "include_colab_link": true
    },
    "accelerator": "GPU"
  },
  "cells": [
    {
      "cell_type": "markdown",
      "metadata": {
        "id": "view-in-github",
        "colab_type": "text"
      },
      "source": [
        "<a href=\"https://colab.research.google.com/github/davidyu8/gouda-group-project/blob/main/recipe_classifier_colab.ipynb\" target=\"_parent\"><img src=\"https://colab.research.google.com/assets/colab-badge.svg\" alt=\"Open In Colab\"/></a>"
      ]
    },
    {
      "cell_type": "markdown",
      "metadata": {
        "id": "affected-power"
      },
      "source": [
        "Purpose: Classify recipes using the machine learning techniques we practiced in class. Specifically, we will do the classification by cuisine.\n",
        "\n",
        "Data: https://www.kaggle.com/c/whats-cooking/data\n",
        "\n",
        "Much of the code of the original draft was taken from Phil's lecture (https://github.com/PhilChodrow/PIC16B/blob/master/lectures/tf/tf-3.ipynb)\n",
        "\n",
        "Outline:\n",
        "1. Set up the data into a TensorFlow dataset\n",
        "2. Build and compile the model\n",
        "3. Classify!"
      ],
      "id": "affected-power"
    },
    {
      "cell_type": "code",
      "metadata": {
        "id": "burning-joint"
      },
      "source": [
        "# imports\n",
        "import json\n",
        "import pandas as pd\n",
        "import numpy as np\n",
        "\n",
        "import re\n",
        "import string\n",
        "\n",
        "import tensorflow as tf\n",
        "from tensorflow.keras import layers\n",
        "from tensorflow.keras import losses\n",
        "from tensorflow.keras.layers.experimental.preprocessing import TextVectorization\n",
        "from tensorflow.keras.layers.experimental.preprocessing import StringLookup\n",
        "\n",
        "from sklearn.model_selection import train_test_split\n",
        "from sklearn.preprocessing import LabelEncoder\n",
        "\n",
        "import plotly.express as px \n",
        "import plotly.io as pio\n",
        "pio.templates.default = \"plotly_white\""
      ],
      "id": "burning-joint",
      "execution_count": 1,
      "outputs": []
    },
    {
      "cell_type": "code",
      "metadata": {
        "colab": {
          "resources": {
            "http://localhost:8080/nbextensions/google.colab/files.js": {
              "data": "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",
              "ok": true,
              "headers": [
                [
                  "content-type",
                  "application/javascript"
                ]
              ],
              "status": 200,
              "status_text": ""
            }
          },
          "base_uri": "https://localhost:8080/",
          "height": 73
        },
        "id": "compatible-mexican",
        "outputId": "63c24770-e795-47a4-b38b-657a647c0916"
      },
      "source": [
        "# read in data\n",
        "from google.colab import files\n",
        "uploaded = files.upload()"
      ],
      "id": "compatible-mexican",
      "execution_count": 3,
      "outputs": [
        {
          "output_type": "display_data",
          "data": {
            "text/html": [
              "\n",
              "     <input type=\"file\" id=\"files-86fbd5be-7d62-472e-a1a8-6f15cbc1f88d\" name=\"files[]\" multiple disabled\n",
              "        style=\"border:none\" />\n",
              "     <output id=\"result-86fbd5be-7d62-472e-a1a8-6f15cbc1f88d\">\n",
              "      Upload widget is only available when the cell has been executed in the\n",
              "      current browser session. Please rerun this cell to enable.\n",
              "      </output>\n",
              "      <script src=\"/nbextensions/google.colab/files.js\"></script> "
            ],
            "text/plain": [
              "<IPython.core.display.HTML object>"
            ]
          },
          "metadata": {
            "tags": []
          }
        },
        {
          "output_type": "stream",
          "text": [
            "Saving train.json to train.json\n"
          ],
          "name": "stdout"
        }
      ]
    },
    {
      "cell_type": "code",
      "metadata": {
        "colab": {
          "base_uri": "https://localhost:8080/",
          "height": 415
        },
        "id": "UulbOn5V0bgH",
        "outputId": "69b8ace9-b2f2-4004-ffb8-adec014ae19c"
      },
      "source": [
        "df = pd.read_json('train.json')\n",
        "df"
      ],
      "id": "UulbOn5V0bgH",
      "execution_count": 13,
      "outputs": [
        {
          "output_type": "execute_result",
          "data": {
            "text/html": [
              "<div>\n",
              "<style scoped>\n",
              "    .dataframe tbody tr th:only-of-type {\n",
              "        vertical-align: middle;\n",
              "    }\n",
              "\n",
              "    .dataframe tbody tr th {\n",
              "        vertical-align: top;\n",
              "    }\n",
              "\n",
              "    .dataframe thead th {\n",
              "        text-align: right;\n",
              "    }\n",
              "</style>\n",
              "<table border=\"1\" class=\"dataframe\">\n",
              "  <thead>\n",
              "    <tr style=\"text-align: right;\">\n",
              "      <th></th>\n",
              "      <th>id</th>\n",
              "      <th>cuisine</th>\n",
              "      <th>ingredients</th>\n",
              "    </tr>\n",
              "  </thead>\n",
              "  <tbody>\n",
              "    <tr>\n",
              "      <th>0</th>\n",
              "      <td>10259</td>\n",
              "      <td>greek</td>\n",
              "      <td>[romaine lettuce, black olives, grape tomatoes...</td>\n",
              "    </tr>\n",
              "    <tr>\n",
              "      <th>1</th>\n",
              "      <td>25693</td>\n",
              "      <td>southern_us</td>\n",
              "      <td>[plain flour, ground pepper, salt, tomatoes, g...</td>\n",
              "    </tr>\n",
              "    <tr>\n",
              "      <th>2</th>\n",
              "      <td>20130</td>\n",
              "      <td>filipino</td>\n",
              "      <td>[eggs, pepper, salt, mayonaise, cooking oil, g...</td>\n",
              "    </tr>\n",
              "    <tr>\n",
              "      <th>3</th>\n",
              "      <td>22213</td>\n",
              "      <td>indian</td>\n",
              "      <td>[water, vegetable oil, wheat, salt]</td>\n",
              "    </tr>\n",
              "    <tr>\n",
              "      <th>4</th>\n",
              "      <td>13162</td>\n",
              "      <td>indian</td>\n",
              "      <td>[black pepper, shallots, cornflour, cayenne pe...</td>\n",
              "    </tr>\n",
              "    <tr>\n",
              "      <th>...</th>\n",
              "      <td>...</td>\n",
              "      <td>...</td>\n",
              "      <td>...</td>\n",
              "    </tr>\n",
              "    <tr>\n",
              "      <th>39769</th>\n",
              "      <td>29109</td>\n",
              "      <td>irish</td>\n",
              "      <td>[light brown sugar, granulated sugar, butter, ...</td>\n",
              "    </tr>\n",
              "    <tr>\n",
              "      <th>39770</th>\n",
              "      <td>11462</td>\n",
              "      <td>italian</td>\n",
              "      <td>[KRAFT Zesty Italian Dressing, purple onion, b...</td>\n",
              "    </tr>\n",
              "    <tr>\n",
              "      <th>39771</th>\n",
              "      <td>2238</td>\n",
              "      <td>irish</td>\n",
              "      <td>[eggs, citrus fruit, raisins, sourdough starte...</td>\n",
              "    </tr>\n",
              "    <tr>\n",
              "      <th>39772</th>\n",
              "      <td>41882</td>\n",
              "      <td>chinese</td>\n",
              "      <td>[boneless chicken skinless thigh, minced garli...</td>\n",
              "    </tr>\n",
              "    <tr>\n",
              "      <th>39773</th>\n",
              "      <td>2362</td>\n",
              "      <td>mexican</td>\n",
              "      <td>[green chile, jalapeno chilies, onions, ground...</td>\n",
              "    </tr>\n",
              "  </tbody>\n",
              "</table>\n",
              "<p>39774 rows × 3 columns</p>\n",
              "</div>"
            ],
            "text/plain": [
              "          id      cuisine                                        ingredients\n",
              "0      10259        greek  [romaine lettuce, black olives, grape tomatoes...\n",
              "1      25693  southern_us  [plain flour, ground pepper, salt, tomatoes, g...\n",
              "2      20130     filipino  [eggs, pepper, salt, mayonaise, cooking oil, g...\n",
              "3      22213       indian                [water, vegetable oil, wheat, salt]\n",
              "4      13162       indian  [black pepper, shallots, cornflour, cayenne pe...\n",
              "...      ...          ...                                                ...\n",
              "39769  29109        irish  [light brown sugar, granulated sugar, butter, ...\n",
              "39770  11462      italian  [KRAFT Zesty Italian Dressing, purple onion, b...\n",
              "39771   2238        irish  [eggs, citrus fruit, raisins, sourdough starte...\n",
              "39772  41882      chinese  [boneless chicken skinless thigh, minced garli...\n",
              "39773   2362      mexican  [green chile, jalapeno chilies, onions, ground...\n",
              "\n",
              "[39774 rows x 3 columns]"
            ]
          },
          "metadata": {
            "tags": []
          },
          "execution_count": 13
        }
      ]
    },
    {
      "cell_type": "code",
      "metadata": {
        "colab": {
          "base_uri": "https://localhost:8080/"
        },
        "id": "awful-flower",
        "outputId": "c7268b24-b3e3-4abd-e244-7a4b5242d780"
      },
      "source": [
        "df.drop(columns = [\"id\"])\n",
        "df.groupby(\"cuisine\").size()"
      ],
      "id": "awful-flower",
      "execution_count": 14,
      "outputs": [
        {
          "output_type": "execute_result",
          "data": {
            "text/plain": [
              "cuisine\n",
              "brazilian        467\n",
              "british          804\n",
              "cajun_creole    1546\n",
              "chinese         2673\n",
              "filipino         755\n",
              "french          2646\n",
              "greek           1175\n",
              "indian          3003\n",
              "irish            667\n",
              "italian         7838\n",
              "jamaican         526\n",
              "japanese        1423\n",
              "korean           830\n",
              "mexican         6438\n",
              "moroccan         821\n",
              "russian          489\n",
              "southern_us     4320\n",
              "spanish          989\n",
              "thai            1539\n",
              "vietnamese       825\n",
              "dtype: int64"
            ]
          },
          "metadata": {
            "tags": []
          },
          "execution_count": 14
        }
      ]
    },
    {
      "cell_type": "code",
      "metadata": {
        "colab": {
          "base_uri": "https://localhost:8080/",
          "height": 415
        },
        "id": "olympic-denial",
        "outputId": "5e277810-0d8a-4766-92c0-b34226837e0a"
      },
      "source": [
        "# send column from list to str\n",
        "df[\"ingredients\"] = df[\"ingredients\"].apply(lambda x: ' '.join(map(str, x)))\n",
        "df"
      ],
      "id": "olympic-denial",
      "execution_count": 15,
      "outputs": [
        {
          "output_type": "execute_result",
          "data": {
            "text/html": [
              "<div>\n",
              "<style scoped>\n",
              "    .dataframe tbody tr th:only-of-type {\n",
              "        vertical-align: middle;\n",
              "    }\n",
              "\n",
              "    .dataframe tbody tr th {\n",
              "        vertical-align: top;\n",
              "    }\n",
              "\n",
              "    .dataframe thead th {\n",
              "        text-align: right;\n",
              "    }\n",
              "</style>\n",
              "<table border=\"1\" class=\"dataframe\">\n",
              "  <thead>\n",
              "    <tr style=\"text-align: right;\">\n",
              "      <th></th>\n",
              "      <th>id</th>\n",
              "      <th>cuisine</th>\n",
              "      <th>ingredients</th>\n",
              "    </tr>\n",
              "  </thead>\n",
              "  <tbody>\n",
              "    <tr>\n",
              "      <th>0</th>\n",
              "      <td>10259</td>\n",
              "      <td>greek</td>\n",
              "      <td>romaine lettuce black olives grape tomatoes ga...</td>\n",
              "    </tr>\n",
              "    <tr>\n",
              "      <th>1</th>\n",
              "      <td>25693</td>\n",
              "      <td>southern_us</td>\n",
              "      <td>plain flour ground pepper salt tomatoes ground...</td>\n",
              "    </tr>\n",
              "    <tr>\n",
              "      <th>2</th>\n",
              "      <td>20130</td>\n",
              "      <td>filipino</td>\n",
              "      <td>eggs pepper salt mayonaise cooking oil green c...</td>\n",
              "    </tr>\n",
              "    <tr>\n",
              "      <th>3</th>\n",
              "      <td>22213</td>\n",
              "      <td>indian</td>\n",
              "      <td>water vegetable oil wheat salt</td>\n",
              "    </tr>\n",
              "    <tr>\n",
              "      <th>4</th>\n",
              "      <td>13162</td>\n",
              "      <td>indian</td>\n",
              "      <td>black pepper shallots cornflour cayenne pepper...</td>\n",
              "    </tr>\n",
              "    <tr>\n",
              "      <th>...</th>\n",
              "      <td>...</td>\n",
              "      <td>...</td>\n",
              "      <td>...</td>\n",
              "    </tr>\n",
              "    <tr>\n",
              "      <th>39769</th>\n",
              "      <td>29109</td>\n",
              "      <td>irish</td>\n",
              "      <td>light brown sugar granulated sugar butter warm...</td>\n",
              "    </tr>\n",
              "    <tr>\n",
              "      <th>39770</th>\n",
              "      <td>11462</td>\n",
              "      <td>italian</td>\n",
              "      <td>KRAFT Zesty Italian Dressing purple onion broc...</td>\n",
              "    </tr>\n",
              "    <tr>\n",
              "      <th>39771</th>\n",
              "      <td>2238</td>\n",
              "      <td>irish</td>\n",
              "      <td>eggs citrus fruit raisins sourdough starter fl...</td>\n",
              "    </tr>\n",
              "    <tr>\n",
              "      <th>39772</th>\n",
              "      <td>41882</td>\n",
              "      <td>chinese</td>\n",
              "      <td>boneless chicken skinless thigh minced garlic ...</td>\n",
              "    </tr>\n",
              "    <tr>\n",
              "      <th>39773</th>\n",
              "      <td>2362</td>\n",
              "      <td>mexican</td>\n",
              "      <td>green chile jalapeno chilies onions ground bla...</td>\n",
              "    </tr>\n",
              "  </tbody>\n",
              "</table>\n",
              "<p>39774 rows × 3 columns</p>\n",
              "</div>"
            ],
            "text/plain": [
              "          id      cuisine                                        ingredients\n",
              "0      10259        greek  romaine lettuce black olives grape tomatoes ga...\n",
              "1      25693  southern_us  plain flour ground pepper salt tomatoes ground...\n",
              "2      20130     filipino  eggs pepper salt mayonaise cooking oil green c...\n",
              "3      22213       indian                     water vegetable oil wheat salt\n",
              "4      13162       indian  black pepper shallots cornflour cayenne pepper...\n",
              "...      ...          ...                                                ...\n",
              "39769  29109        irish  light brown sugar granulated sugar butter warm...\n",
              "39770  11462      italian  KRAFT Zesty Italian Dressing purple onion broc...\n",
              "39771   2238        irish  eggs citrus fruit raisins sourdough starter fl...\n",
              "39772  41882      chinese  boneless chicken skinless thigh minced garlic ...\n",
              "39773   2362      mexican  green chile jalapeno chilies onions ground bla...\n",
              "\n",
              "[39774 rows x 3 columns]"
            ]
          },
          "metadata": {
            "tags": []
          },
          "execution_count": 15
        }
      ]
    },
    {
      "cell_type": "code",
      "metadata": {
        "colab": {
          "base_uri": "https://localhost:8080/",
          "height": 415
        },
        "id": "successful-slovenia",
        "outputId": "b1fa6e9c-6135-4907-ee7d-66184e4f200d"
      },
      "source": [
        "le = LabelEncoder()\n",
        "df[\"cuisine\"] = le.fit_transform(df[\"cuisine\"])\n",
        "df"
      ],
      "id": "successful-slovenia",
      "execution_count": 16,
      "outputs": [
        {
          "output_type": "execute_result",
          "data": {
            "text/html": [
              "<div>\n",
              "<style scoped>\n",
              "    .dataframe tbody tr th:only-of-type {\n",
              "        vertical-align: middle;\n",
              "    }\n",
              "\n",
              "    .dataframe tbody tr th {\n",
              "        vertical-align: top;\n",
              "    }\n",
              "\n",
              "    .dataframe thead th {\n",
              "        text-align: right;\n",
              "    }\n",
              "</style>\n",
              "<table border=\"1\" class=\"dataframe\">\n",
              "  <thead>\n",
              "    <tr style=\"text-align: right;\">\n",
              "      <th></th>\n",
              "      <th>id</th>\n",
              "      <th>cuisine</th>\n",
              "      <th>ingredients</th>\n",
              "    </tr>\n",
              "  </thead>\n",
              "  <tbody>\n",
              "    <tr>\n",
              "      <th>0</th>\n",
              "      <td>10259</td>\n",
              "      <td>6</td>\n",
              "      <td>romaine lettuce black olives grape tomatoes ga...</td>\n",
              "    </tr>\n",
              "    <tr>\n",
              "      <th>1</th>\n",
              "      <td>25693</td>\n",
              "      <td>16</td>\n",
              "      <td>plain flour ground pepper salt tomatoes ground...</td>\n",
              "    </tr>\n",
              "    <tr>\n",
              "      <th>2</th>\n",
              "      <td>20130</td>\n",
              "      <td>4</td>\n",
              "      <td>eggs pepper salt mayonaise cooking oil green c...</td>\n",
              "    </tr>\n",
              "    <tr>\n",
              "      <th>3</th>\n",
              "      <td>22213</td>\n",
              "      <td>7</td>\n",
              "      <td>water vegetable oil wheat salt</td>\n",
              "    </tr>\n",
              "    <tr>\n",
              "      <th>4</th>\n",
              "      <td>13162</td>\n",
              "      <td>7</td>\n",
              "      <td>black pepper shallots cornflour cayenne pepper...</td>\n",
              "    </tr>\n",
              "    <tr>\n",
              "      <th>...</th>\n",
              "      <td>...</td>\n",
              "      <td>...</td>\n",
              "      <td>...</td>\n",
              "    </tr>\n",
              "    <tr>\n",
              "      <th>39769</th>\n",
              "      <td>29109</td>\n",
              "      <td>8</td>\n",
              "      <td>light brown sugar granulated sugar butter warm...</td>\n",
              "    </tr>\n",
              "    <tr>\n",
              "      <th>39770</th>\n",
              "      <td>11462</td>\n",
              "      <td>9</td>\n",
              "      <td>KRAFT Zesty Italian Dressing purple onion broc...</td>\n",
              "    </tr>\n",
              "    <tr>\n",
              "      <th>39771</th>\n",
              "      <td>2238</td>\n",
              "      <td>8</td>\n",
              "      <td>eggs citrus fruit raisins sourdough starter fl...</td>\n",
              "    </tr>\n",
              "    <tr>\n",
              "      <th>39772</th>\n",
              "      <td>41882</td>\n",
              "      <td>3</td>\n",
              "      <td>boneless chicken skinless thigh minced garlic ...</td>\n",
              "    </tr>\n",
              "    <tr>\n",
              "      <th>39773</th>\n",
              "      <td>2362</td>\n",
              "      <td>13</td>\n",
              "      <td>green chile jalapeno chilies onions ground bla...</td>\n",
              "    </tr>\n",
              "  </tbody>\n",
              "</table>\n",
              "<p>39774 rows × 3 columns</p>\n",
              "</div>"
            ],
            "text/plain": [
              "          id  cuisine                                        ingredients\n",
              "0      10259        6  romaine lettuce black olives grape tomatoes ga...\n",
              "1      25693       16  plain flour ground pepper salt tomatoes ground...\n",
              "2      20130        4  eggs pepper salt mayonaise cooking oil green c...\n",
              "3      22213        7                     water vegetable oil wheat salt\n",
              "4      13162        7  black pepper shallots cornflour cayenne pepper...\n",
              "...      ...      ...                                                ...\n",
              "39769  29109        8  light brown sugar granulated sugar butter warm...\n",
              "39770  11462        9  KRAFT Zesty Italian Dressing purple onion broc...\n",
              "39771   2238        8  eggs citrus fruit raisins sourdough starter fl...\n",
              "39772  41882        3  boneless chicken skinless thigh minced garlic ...\n",
              "39773   2362       13  green chile jalapeno chilies onions ground bla...\n",
              "\n",
              "[39774 rows x 3 columns]"
            ]
          },
          "metadata": {
            "tags": []
          },
          "execution_count": 16
        }
      ]
    },
    {
      "cell_type": "code",
      "metadata": {
        "colab": {
          "base_uri": "https://localhost:8080/"
        },
        "id": "labeled-project",
        "outputId": "3e0ba346-dc9d-4b6c-dff2-85ca233f54d7"
      },
      "source": [
        "# build a TensorFlow dataset\n",
        "data = tf.data.Dataset.from_tensor_slices((df[\"ingredients\"], df[\"cuisine\"]))\n",
        "\n",
        "for ingredients, cuisine in data.take(5):\n",
        "    print(cuisine)\n",
        "    print(ingredients)\n",
        "    print(\"\")"
      ],
      "id": "labeled-project",
      "execution_count": 17,
      "outputs": [
        {
          "output_type": "stream",
          "text": [
            "tf.Tensor(6, shape=(), dtype=int64)\n",
            "tf.Tensor(b'romaine lettuce black olives grape tomatoes garlic pepper purple onion seasoning garbanzo beans feta cheese crumbles', shape=(), dtype=string)\n",
            "\n",
            "tf.Tensor(16, shape=(), dtype=int64)\n",
            "tf.Tensor(b'plain flour ground pepper salt tomatoes ground black pepper thyme eggs green tomatoes yellow corn meal milk vegetable oil', shape=(), dtype=string)\n",
            "\n",
            "tf.Tensor(4, shape=(), dtype=int64)\n",
            "tf.Tensor(b'eggs pepper salt mayonaise cooking oil green chilies grilled chicken breasts garlic powder yellow onion soy sauce butter chicken livers', shape=(), dtype=string)\n",
            "\n",
            "tf.Tensor(7, shape=(), dtype=int64)\n",
            "tf.Tensor(b'water vegetable oil wheat salt', shape=(), dtype=string)\n",
            "\n",
            "tf.Tensor(7, shape=(), dtype=int64)\n",
            "tf.Tensor(b'black pepper shallots cornflour cayenne pepper onions garlic paste milk butter salt lemon juice water chili powder passata oil ground cumin boneless chicken skinless thigh garam masala double cream natural yogurt bay leaf', shape=(), dtype=string)\n",
            "\n"
          ],
          "name": "stdout"
        }
      ]
    },
    {
      "cell_type": "code",
      "metadata": {
        "id": "military-rebecca"
      },
      "source": [
        "data = data.shuffle(buffer_size = len(data))\n",
        "\n",
        "train_size = int(0.75*len(data))\n",
        "val_size   = int(0.1*len(data))\n",
        "\n",
        "train = data.take(train_size)\n",
        "val   = data.skip(train_size).take(val_size)\n",
        "test  = data.skip(train_size + val_size)"
      ],
      "id": "military-rebecca",
      "execution_count": 18,
      "outputs": []
    },
    {
      "cell_type": "code",
      "metadata": {
        "id": "handy-steps"
      },
      "source": [
        "def standardization(input_data):\n",
        "    lowercase = tf.strings.lower(input_data)\n",
        "    no_punctuation = tf.strings.regex_replace(lowercase, '[%s]' % re.escape(string.punctuation),'')\n",
        "    return no_punctuation\n",
        "\n",
        "max_tokens = 1500 # how many words to keep track of\n",
        "\n",
        "sequence_length = 40 # length\n",
        "\n",
        "vectorize_layer = TextVectorization(\n",
        "    standardize = standardization,\n",
        "    max_tokens = max_tokens,\n",
        "    output_mode = 'int',\n",
        "    output_sequence_length = sequence_length)"
      ],
      "id": "handy-steps",
      "execution_count": 19,
      "outputs": []
    },
    {
      "cell_type": "code",
      "metadata": {
        "id": "packed-trademark"
      },
      "source": [
        "ingredients = train.map(lambda x, y: x)\n",
        "vectorize_layer.adapt(ingredients)"
      ],
      "id": "packed-trademark",
      "execution_count": 20,
      "outputs": []
    },
    {
      "cell_type": "code",
      "metadata": {
        "id": "reduced-effects"
      },
      "source": [
        "def vectorize_ingr(text, label):\n",
        "    text = tf.expand_dims(text, -1)\n",
        "    return vectorize_layer(text), [label]\n",
        "\n",
        "train_vec = train.map(vectorize_ingr)\n",
        "val_vec   = val.map(vectorize_ingr)\n",
        "test_vec  = test.map(vectorize_ingr)"
      ],
      "id": "reduced-effects",
      "execution_count": 21,
      "outputs": []
    },
    {
      "cell_type": "code",
      "metadata": {
        "colab": {
          "base_uri": "https://localhost:8080/"
        },
        "id": "noticed-shirt",
        "outputId": "f95c0489-2a93-41d2-96d9-40bbed0a5bb6"
      },
      "source": [
        "list(train_vec.take(2))"
      ],
      "id": "noticed-shirt",
      "execution_count": 22,
      "outputs": [
        {
          "output_type": "execute_result",
          "data": {
            "text/plain": [
              "[(<tf.Tensor: shape=(1, 40), dtype=int64, numpy=\n",
              "  array([[ 176, 1058,   89,   13,    4,  257,  760,  254,   34,  120,  166,\n",
              "           233,   84,   12,   44,  435,  841,  254,  117,  663,    8,    6,\n",
              "            14,    2,    3,  446,   91,    5,  262,    0,    0,    0,    0,\n",
              "             0,    0,    0,    0,    0,    0,    0]])>,\n",
              "  <tf.Tensor: shape=(1,), dtype=int64, numpy=array([9])>),\n",
              " (<tf.Tensor: shape=(1, 40), dtype=int64, numpy=\n",
              "  array([[  69,   60, 1486, 1214,  135,    3,   90,  190,    7,  165,   13,\n",
              "             4,  267,   14,    2,   10,   12,   44,   38,  572,   89,   51,\n",
              "            59,   11,    5,   23,  446,   18,    1,   92,   34,   53,    0,\n",
              "             0,    0,    0,    0,    0,    0,    0]])>,\n",
              "  <tf.Tensor: shape=(1,), dtype=int64, numpy=array([9])>)]"
            ]
          },
          "metadata": {
            "tags": []
          },
          "execution_count": 22
        }
      ]
    },
    {
      "cell_type": "code",
      "metadata": {
        "id": "certified-walter"
      },
      "source": [
        "# build model\n",
        "model = tf.keras.Sequential([\n",
        "  layers.Embedding(max_tokens, output_dim = 20, name=\"embedding\"),\n",
        "  layers.Dropout(0.2),\n",
        "  layers.GlobalAveragePooling1D(),\n",
        "  layers.Dropout(0.2),\n",
        "  layers.Dense(len(le.classes_))]\n",
        ")"
      ],
      "id": "certified-walter",
      "execution_count": 25,
      "outputs": []
    },
    {
      "cell_type": "code",
      "metadata": {
        "id": "painted-wagon"
      },
      "source": [
        "model.compile(loss=losses.SparseCategoricalCrossentropy(from_logits=True),\n",
        "              optimizer='adam', \n",
        "              metrics=['accuracy'])"
      ],
      "id": "painted-wagon",
      "execution_count": 26,
      "outputs": []
    },
    {
      "cell_type": "code",
      "metadata": {
        "colab": {
          "base_uri": "https://localhost:8080/"
        },
        "id": "israeli-testament",
        "outputId": "b79d4a13-3505-4e7e-cc79-cf30dbe3fd06"
      },
      "source": [
        "history = model.fit(train_vec, epochs = 10, validation_data = val_vec)\n",
        "# we are able to obtain 77% accuracy"
      ],
      "id": "israeli-testament",
      "execution_count": 27,
      "outputs": [
        {
          "output_type": "stream",
          "text": [
            "Epoch 1/10\n",
            "29830/29830 [==============================] - 87s 3ms/step - loss: 2.0731 - accuracy: 0.4088 - val_loss: 1.1916 - val_accuracy: 0.6492\n",
            "Epoch 2/10\n",
            "29830/29830 [==============================] - 85s 3ms/step - loss: 1.1568 - accuracy: 0.6605 - val_loss: 0.9572 - val_accuracy: 0.7161\n",
            "Epoch 3/10\n",
            "29830/29830 [==============================] - 86s 3ms/step - loss: 0.9888 - accuracy: 0.7069 - val_loss: 0.8396 - val_accuracy: 0.7591\n",
            "Epoch 4/10\n",
            "29830/29830 [==============================] - 85s 3ms/step - loss: 0.9123 - accuracy: 0.7324 - val_loss: 0.8075 - val_accuracy: 0.7646\n",
            "Epoch 5/10\n",
            "29830/29830 [==============================] - 85s 3ms/step - loss: 0.8908 - accuracy: 0.7369 - val_loss: 0.7805 - val_accuracy: 0.7757\n",
            "Epoch 6/10\n",
            "29830/29830 [==============================] - 85s 3ms/step - loss: 0.8404 - accuracy: 0.7521 - val_loss: 0.7613 - val_accuracy: 0.7772\n",
            "Epoch 7/10\n",
            "29830/29830 [==============================] - 85s 3ms/step - loss: 0.8244 - accuracy: 0.7624 - val_loss: 0.6885 - val_accuracy: 0.7966\n",
            "Epoch 8/10\n",
            "29830/29830 [==============================] - 82s 3ms/step - loss: 0.8006 - accuracy: 0.7650 - val_loss: 0.6714 - val_accuracy: 0.8009\n",
            "Epoch 9/10\n",
            "29830/29830 [==============================] - 83s 3ms/step - loss: 0.8134 - accuracy: 0.7624 - val_loss: 0.6835 - val_accuracy: 0.7961\n",
            "Epoch 10/10\n",
            "29830/29830 [==============================] - 87s 3ms/step - loss: 0.7897 - accuracy: 0.7700 - val_loss: 0.6648 - val_accuracy: 0.8006\n"
          ],
          "name": "stdout"
        }
      ]
    },
    {
      "cell_type": "code",
      "metadata": {
        "colab": {
          "base_uri": "https://localhost:8080/",
          "height": 297
        },
        "id": "reverse-barbados",
        "outputId": "db338fbc-c22b-45b7-e299-5ebfacf451e3"
      },
      "source": [
        "from matplotlib import pyplot as plt\n",
        "plt.plot(history.history[\"accuracy\"], label = \"training\")\n",
        "plt.plot(history.history[\"val_accuracy\"], label = \"validation\")\n",
        "plt.gca().set(xlabel = \"epoch\", ylabel = \"accuracy\")\n",
        "plt.legend()"
      ],
      "id": "reverse-barbados",
      "execution_count": 28,
      "outputs": [
        {
          "output_type": "execute_result",
          "data": {
            "text/plain": [
              "<matplotlib.legend.Legend at 0x7f6a93d882d0>"
            ]
          },
          "metadata": {
            "tags": []
          },
          "execution_count": 28
        },
        {
          "output_type": "display_data",
          "data": {
            "image/png": "[encoded data removed]",
            "text/plain": [
              "<Figure size 432x288 with 1 Axes>"
            ]
          },
          "metadata": {
            "tags": [],
            "needs_background": "light"
          }
        }
      ]
    },
    {
      "cell_type": "code",
      "metadata": {
        "colab": {
          "base_uri": "https://localhost:8080/"
        },
        "id": "postal-enforcement",
        "outputId": "e574cb33-8b95-4226-9070-b95170a1f63d"
      },
      "source": [
        "model.evaluate(test_vec)"
      ],
      "id": "postal-enforcement",
      "execution_count": 29,
      "outputs": [
        {
          "output_type": "stream",
          "text": [
            "5967/5967 [==============================] - 10s 2ms/step - loss: 0.6566 - accuracy: 0.7994\n"
          ],
          "name": "stdout"
        },
        {
          "output_type": "execute_result",
          "data": {
            "text/plain": [
              "[0.6565951108932495, 0.7993966937065125]"
            ]
          },
          "metadata": {
            "tags": []
          },
          "execution_count": 29
        }
      ]
    },
    {
      "cell_type": "code",
      "metadata": {
        "id": "engaging-milwaukee"
      },
      "source": [
        "weights = model.get_layer('embedding').get_weights()[0] # get the weights from the embedding layer\n",
        "vocab = vectorize_layer.get_vocabulary()                # get the vocabulary from our data prep for later"
      ],
      "id": "engaging-milwaukee",
      "execution_count": 33,
      "outputs": []
    },
    {
      "cell_type": "code",
      "metadata": {
        "id": "higher-candy"
      },
      "source": [
        "from sklearn.decomposition import PCA\n",
        "pca = PCA(n_components=2)\n",
        "weights = pca.fit_transform(weights)"
      ],
      "id": "higher-candy",
      "execution_count": 31,
      "outputs": []
    },
    {
      "cell_type": "code",
      "metadata": {
        "colab": {
          "base_uri": "https://localhost:8080/",
          "height": 415
        },
        "id": "assumed-adams",
        "outputId": "bed91f2b-78ca-41a0-fd08-5ce9e904101c"
      },
      "source": [
        "embedding_df = pd.DataFrame({\n",
        "    'word' : vocab, \n",
        "    'x0'   : weights[:,0],\n",
        "    'x1'   : weights[:,1]\n",
        "})\n",
        "embedding_df"
      ],
      "id": "assumed-adams",
      "execution_count": 34,
      "outputs": [
        {
          "output_type": "execute_result",
          "data": {
            "text/html": [
              "<div>\n",
              "<style scoped>\n",
              "    .dataframe tbody tr th:only-of-type {\n",
              "        vertical-align: middle;\n",
              "    }\n",
              "\n",
              "    .dataframe tbody tr th {\n",
              "        vertical-align: top;\n",
              "    }\n",
              "\n",
              "    .dataframe thead th {\n",
              "        text-align: right;\n",
              "    }\n",
              "</style>\n",
              "<table border=\"1\" class=\"dataframe\">\n",
              "  <thead>\n",
              "    <tr style=\"text-align: right;\">\n",
              "      <th></th>\n",
              "      <th>word</th>\n",
              "      <th>x0</th>\n",
              "      <th>x1</th>\n",
              "    </tr>\n",
              "  </thead>\n",
              "  <tbody>\n",
              "    <tr>\n",
              "      <th>0</th>\n",
              "      <td></td>\n",
              "      <td>-0.013526</td>\n",
              "      <td>0.020223</td>\n",
              "    </tr>\n",
              "    <tr>\n",
              "      <th>1</th>\n",
              "      <td>[UNK]</td>\n",
              "      <td>-0.302417</td>\n",
              "      <td>0.423590</td>\n",
              "    </tr>\n",
              "    <tr>\n",
              "      <th>2</th>\n",
              "      <td>pepper</td>\n",
              "      <td>0.049225</td>\n",
              "      <td>0.189311</td>\n",
              "    </tr>\n",
              "    <tr>\n",
              "      <th>3</th>\n",
              "      <td>salt</td>\n",
              "      <td>0.412844</td>\n",
              "      <td>-0.260715</td>\n",
              "    </tr>\n",
              "    <tr>\n",
              "      <th>4</th>\n",
              "      <td>oil</td>\n",
              "      <td>1.156017</td>\n",
              "      <td>-0.317406</td>\n",
              "    </tr>\n",
              "    <tr>\n",
              "      <th>...</th>\n",
              "      <td>...</td>\n",
              "      <td>...</td>\n",
              "      <td>...</td>\n",
              "    </tr>\n",
              "    <tr>\n",
              "      <th>1495</th>\n",
              "      <td>yuzu</td>\n",
              "      <td>-0.381230</td>\n",
              "      <td>0.293584</td>\n",
              "    </tr>\n",
              "    <tr>\n",
              "      <th>1496</th>\n",
              "      <td>wraps</td>\n",
              "      <td>-0.510117</td>\n",
              "      <td>-0.112086</td>\n",
              "    </tr>\n",
              "    <tr>\n",
              "      <th>1497</th>\n",
              "      <td>wing</td>\n",
              "      <td>0.386785</td>\n",
              "      <td>0.095683</td>\n",
              "    </tr>\n",
              "    <tr>\n",
              "      <th>1498</th>\n",
              "      <td>uncle</td>\n",
              "      <td>-0.713734</td>\n",
              "      <td>-0.588609</td>\n",
              "    </tr>\n",
              "    <tr>\n",
              "      <th>1499</th>\n",
              "      <td>tritip</td>\n",
              "      <td>-0.656426</td>\n",
              "      <td>-0.333043</td>\n",
              "    </tr>\n",
              "  </tbody>\n",
              "</table>\n",
              "<p>1500 rows × 3 columns</p>\n",
              "</div>"
            ],
            "text/plain": [
              "        word        x0        x1\n",
              "0            -0.013526  0.020223\n",
              "1      [UNK] -0.302417  0.423590\n",
              "2     pepper  0.049225  0.189311\n",
              "3       salt  0.412844 -0.260715\n",
              "4        oil  1.156017 -0.317406\n",
              "...      ...       ...       ...\n",
              "1495    yuzu -0.381230  0.293584\n",
              "1496   wraps -0.510117 -0.112086\n",
              "1497    wing  0.386785  0.095683\n",
              "1498   uncle -0.713734 -0.588609\n",
              "1499  tritip -0.656426 -0.333043\n",
              "\n",
              "[1500 rows x 3 columns]"
            ]
          },
          "metadata": {
            "tags": []
          },
          "execution_count": 34
        }
      ]
    },
    {
      "cell_type": "code",
      "metadata": {
        "colab": {
          "base_uri": "https://localhost:8080/",
          "height": 542
        },
        "id": "behavioral-volume",
        "outputId": "9e252c86-a708-43f9-a179-96d1f51b5545"
      },
      "source": [
        "import plotly.express as px \n",
        "fig = px.scatter(embedding_df, \n",
        "                 x = \"x0\", \n",
        "                 y = \"x1\", \n",
        "                 size = list(np.ones(len(embedding_df))),\n",
        "                 size_max = 2,\n",
        "                 hover_name = \"word\")\n",
        "\n",
        "fig.show()"
      ],
      "id": "behavioral-volume",
      "execution_count": 35,
      "outputs": [
        {
          "output_type": "display_data",
          "data": {
            "text/html": [
              "<html>\n",
              "<head><meta charset=\"utf-8\" /></head>\n",
              "<body>\n",
              "    <div>\n",
              "            <script src=\"https://cdnjs.cloudflare.com/ajax/libs/mathjax/2.7.5/MathJax.js?config=TeX-AMS-MML_SVG\"></script><script type=\"text/javascript\">if (window.MathJax) {MathJax.Hub.Config({SVG: {font: \"STIX-Web\"}});}</script>\n",
              "                <script type=\"text/javascript\">window.PlotlyConfig = {MathJaxConfig: 'local'};</script>\n",
              "        <script src=\"https://cdn.plot.ly/plotly-latest.min.js\"></script>    \n",
              "            <div id=\"6d321466-0d33-4cdf-9e13-157fa13525c4\" class=\"plotly-graph-div\" style=\"height:525px; width:100%;\"></div>\n",
              "            <script type=\"text/javascript\">\n",
              "                \n",
              "                    window.PLOTLYENV=window.PLOTLYENV || {};\n",
              "                    \n",
              "                if (document.getElementById(\"6d321466-0d33-4cdf-9e13-157fa13525c4\")) {\n",
              "                    Plotly.newPlot(\n",
              "                        '6d321466-0d33-4cdf-9e13-157fa13525c4',\n",
              "                        [{\"hoverlabel\": {\"namelength\": 0}, \"hovertemplate\": \"<b>%{hovertext}</b><br><br>x0=%{x}<br>x1=%{y}<br>size=%{marker.size}\", \"hovertext\": [\"\", \"[UNK]\", \"pepper\", \"salt\", \"oil\", \"garlic\", \"ground\", \"fresh\", \"sauce\", \"sugar\", \"onions\", \"cheese\", \"chicken\", \"olive\", \"black\", \"water\", \"red\", \"flour\", \"tomatoes\", \"butter\", \"green\", \"powder\", \"chopped\", \"cloves\", \"juice\", \"white\", \"onion\", \"eggs\", \"cream\", \"rice\", \"cilantro\", \"lemon\", \"milk\", \"vegetable\", \"leaves\", \"large\", \"corn\", \"ginger\", \"dried\", \"soy\", \"vinegar\", \"lime\", \"allpurpose\", \"cumin\", \"broth\", \"chili\", \"wine\", \"bell\", \"parsley\", \"sesame\", \"beans\", \"grated\", \"kosher\", \"carrots\", \"basil\", \"dry\", \"beef\", \"brown\", \"seeds\", \"parmesan\", \"paste\", \"unsalted\", \"baking\", \"oregano\", \"chilies\", \"boneless\", \"extravirgin\", \"shredded\", \"cinnamon\", \"tomato\", \"egg\", \"potatoes\", \"thyme\", \"pork\", \"cooking\", \"shrimp\", \"seasoning\", \"bread\", \"yellow\", \"tortillas\", \"chile\", \"diced\", \"skinless\", \"vanilla\", \"sodium\", \"coconut\", \"coriander\", \"breasts\", \"cayenne\", \"mushrooms\", \"celery\", \"minced\", \"bay\", \"leaf\", \"spray\", \"sour\", \"crushed\", \"whole\", \"flakes\", \"starch\", \"paprika\", \"scallions\", \"stock\", \"purple\", \"cheddar\", \"hot\", \"fish\", \"orange\", \"extract\", \"mustard\", \"jalapeno\", \"frozen\", \"curry\", \"low\", \"sweet\", \"shallots\", \"sea\", \"light\", \"peppers\", \"cooked\", \"fat\", \"honey\", \"spinach\", \"noodles\", \"mozzarella\", \"olives\", \"italian\", \"salsa\", \"peas\", \"heavy\", \"sliced\", \"mint\", \"avocado\", \"canola\", \"cabbage\", \"pasta\", \"bacon\", \"breast\", \"lettuce\", \"sausage\", \"yogurt\", \"flat\", \"yolks\", \"cucumber\", \"dark\", \"seed\", \"freshly\", \"nutmeg\", \"soda\", \"fillets\", \"masala\", \"halves\", \"jack\", \"buttermilk\", \"peanut\", \"turmeric\", \"plum\", \"zucchini\", \"whites\", \"granulated\", \"garam\", \"zest\", \"plain\", \"chocolate\", \"toasted\", \"rosemary\", \"free\", \"smoked\", \"whipping\", \"peeled\", \"almonds\", \"crumbs\", \"sprigs\", \"peanuts\", \"peppercorns\", \"mayonaise\", \"baby\", \"chinese\", \"yeast\", \"reduced\", \"tumeric\", \"ricotta\", \"roasted\", \"thai\", \"half\", \"raisins\", \"worcestershire\", \"cardamom\", \"of\", \"coarse\", \"ribs\", \"lowfat\", \"taco\", \"ham\", \"sticks\", \"mix\", \"fennel\", \"steak\", \"feta\", \"cider\", \"medium\", \"chiles\", \"chives\", \"meat\", \"wheat\", \"shiitake\", \"sherry\", \"turkey\", \"ice\", \"syrup\", \"tofu\", \"monterey\", \"clove\", \"balsamic\", \"warm\", \"lamb\", \"greens\", \"finely\", \"condensed\", \"powdered\", \"dijon\", \"allspice\", \"serrano\", \"unsweetened\", \"chips\", \"lean\", \"capers\", \"broccoli\", \"cold\", \"bean\", \"root\", \"mexican\", \"oyster\", \"less\", \"cornmeal\", \"soup\", \"mirin\", \"and\", \"slices\", \"roast\", \"wedges\", \"ketchup\", \"eggplant\", \"greek\", \"spring\", \"saffron\", \"sharp\", \"cherry\", \"peel\", \"boiling\", \"beansprouts\", \"spaghetti\", \"dill\", \"pecans\", \"sage\", \"kernels\", \"hoisin\", \"potato\", \"thighs\", \"enchilada\", \"chickpeas\", \"dressing\", \"leeks\", \"in\", \"apples\", \"tortilla\", \"apple\", \"cracked\", \"squash\", \"thigh\", \"golden\", \"nonfat\", \"kalamata\", \"cocoa\", \"shoulder\", \"grain\", \"confectioners\", \"crumbles\", \"anise\", \"pitted\", \"meal\", \"wrappers\", \"partskim\", \"cajun\", \"sausages\", \"fine\", \"lemongrass\", \"active\", \"pinenuts\", \"canned\", \"pastry\", \"dough\", \"pineapple\", \"firm\", \"chipotle\", \"shortening\", \"tenderloin\", \"sake\", \"reggiano\", \"pizza\", \"creole\", \"style\", \"salad\", \"mango\", \"sweetened\", \"long\", \"cake\", \"parmigiano\", \"okra\", \"nuts\", \"basmati\", \"baguette\", \"asparagus\", \"penne\", \"poblano\", \"salmon\", \"romaine\", \"longgrain\", \"french\", \"tomatillos\", \"mushroom\", \"adobo\", \"lentils\", \"florets\", \"almond\", \"kidney\", \"sriracha\", \"instant\", \"extra\", \"lasagna\", \"ghee\", \"refried\", \"threads\", \"cauliflower\", \"arborio\", \"shaoxing\", \"vegetables\", \"prosciutto\", \"beer\", \"andouille\", \"steaks\", \"pods\", \"radishes\", \"loin\", \"shells\", \"grape\", \"grits\", \"fivespice\", \"sirloin\", \"melted\", \"romano\", \"peaches\", \"anchovy\", \"walnuts\", \"whiskey\", \"yoghurt\", \"flank\", \"chorizo\", \"bouillon\", \"star\", \"miso\", \"russet\", \"ancho\", \"gold\", \"semisweet\", \"rib\", \"rum\", \"chestnuts\", \"asian\", \"linguine\", \"evaporated\", \"chops\", \"blend\", \"tarragon\", \"crab\", \"pur\\u00e9e\", \"napa\", \"panko\", \"apricot\", \"rolls\", \"de\", \"marinara\", \"goat\", \"coffee\", \"chuck\", \"wedge\", \"pie\", \"margarine\", \"strawberries\", \"cashew\", \"roma\", \"arugula\", \"queso\", \"packed\", \"bananas\", \"yukon\", \"english\", \"breadcrumbs\", \"bulb\", \"seasoned\", \"pesto\", \"liqueur\", \"choy\", \"tabasco\", \"kernel\", \"pure\", \"spices\", \"pecorino\", \"pinto\", \"crust\", \"sundried\", \"couscous\", \"base\", \"tuna\", \"swiss\", \"guacamole\", \"food\", \"bok\", \"salted\", \"mixed\", \"kale\", \"cubes\", \"cannellini\", \"snow\", \"tamarind\", \"all\", \"stewed\", \"fresco\", \"drain\", \"clams\", \"chipotles\", \"bourbon\", \"scallops\", \"button\", \"purpose\", \"pumpkin\", \"hearts\", \"crumb\", \"cottage\", \"self\", \"rind\", \"old\", \"1\", \"tartar\", \"blackeyed\", \"rising\", \"pancetta\", \"veal\", \"raspberries\", \"refrigerated\", \"mussels\", \"puff\", \"provolone\", \"unbleached\", \"collard\", \"whipped\", \"tea\", \"reducedfat\", \"herbs\", \"brandy\", \"vermicelli\", \"dal\", \"marjoram\", \"small\", \"with\", \"sprouts\", \"slivered\", \"wonton\", \"spanish\", \"garbanzo\", \"daikon\", \"mayonnaise\", \"jasmine\", \"iceberg\", \"fettucine\", \"country\", \"soften\", \"hominy\", \"butternut\", \"artichoke\", \"quinoa\", \"dashi\", \"cherries\", \"caster\", \"fenugreek\", \"palm\", \"szechwan\", \"polenta\", \"lard\", \"tequila\", \"prepared\", \"gelatin\", \"bittersweet\", \"verde\", \"sheets\", \"cr\\u00e8me\", \"cremini\", \"wings\", \"pimentos\", \"maple\", \"lower\", \"mascarpone\", \"firmly\", \"duck\", \"masa\", \"kaffir\", \"horseradish\", \"chunky\", \"pears\", \"japanese\", \"fatfree\", \"fra\\u00eeche\", \"shoots\", \"pecan\", \"molasses\", \"leg\", \"gochujang\", \"espresso\", \"barbecue\", \"nori\", \"phyllo\", \"orzo\", \"pea\", \"cotija\", \"macaroni\", \"concentrate\", \"pearl\", \"fruit\", \"clam\", \"bamboo\", \"fontina\", \"soft\", \"smith\", \"round\", \"granny\", \"mung\", \"semolina\", \"mild\", \"hazelnuts\", \"creamy\", \"chard\", \"catfish\", \"short\", \"marsala\", \"legs\", \"chees\", \"pistachios\", \"berries\", \"beets\", \"stew\", \"roll\", \"granules\", \"gingerroot\", \"casings\", \"doughs\", \"cod\", \"chillies\", \"nectar\", \"lump\", \"crawfish\", \"liquid\", \"kimchi\", \"drumsticks\", \"belly\", \"sunflower\", \"pieces\", \"paneer\", \"caps\", \"raw\", \"chop\", \"butt\", \"quickcooking\", \"porcini\", \"chutney\", \"buns\", \"angel\", \"vidalia\", \"unflavored\", \"spice\", \"seedless\", \"prawns\", \"drippings\", \"turnips\", \"soba\", \"skim\", \"jumbo\", \"harina\", \"crumbled\", \"pickled\", \"cognac\", \"cashews\", \"blanched\", \"hair\", \"morsels\", \"tilapia\", \"tapioca\", \"ranch\", \"pita\", \"organic\", \"leav\", \"hardboiled\", \"grass\", \"tamari\", \"cut\", \"cornflour\", \"sushi\", \"halibut\", \"guajillo\", \"elbow\", \"coloring\", \"banana\", \"watercress\", \"oranges\", \"oats\", \"crema\", \"blackberries\", \"squid\", \"asafoetida\", \"salami\", \"currants\", \"bowtie\", \"ripe\", \"pepperoni\", \"galangal\", \"cranberries\", \"marinade\", \"gruyere\", \"wild\", \"oysters\", \"el\", \"edamame\", \"bonito\", \"artichokes\", \"top\", \"skimmed\", \"pickles\", \"links\", \"jam\", \"husks\", \"fillet\", \"caraway\", \"blue\", \"biscuits\", \"steamed\", \"agave\", \"2\", \"pico\", \"grapeseed\", \"graham\", \"gallo\", \"eggplants\", \"wasabi\", \"topping\", \"rigatoni\", \"colby\", \"table\", \"sandwich\", \"preserves\", \"jicama\", \"ear\", \"chickens\", \"brisket\", \"asiago\", \"alfredo\", \"substitute\", \"irish\", \"crabmeat\", \"blueberries\", \"bass\", \"vinaigrette\", \"tortellini\", \"stems\", \"sourdough\", \"shanks\", \"harissa\", \"amchur\", \"spread\", \"crackers\", \"bones\", \"bone\", \"stick\", \"mini\", \"mace\", \"cachaca\", \"whip\", \"superfine\", \"shell\", \"peach\", \"cutlets\", \"vodka\", \"tahini\", \"slaw\", \"poppy\", \"piecrusts\", \"pear\", \"flavored\", \"manchego\", \"lima\", \"hamburger\", \"baked\", \"bags\", \"snapper\", \"figs\", \"candied\", \"california\", \"bonein\", \"rotisserie\", \"new\", \"dri\", \"date\", \"cracker\", \"urad\", \"ramen\", \"prunes\", \"parsnips\", \"methi\", \"mashed\", \"habanero\", \"grating\", \"fettuccine\", \"brewed\", \"skirt\", \"littleneck\", \"vietnamese\", \"vermouth\", \"spears\", \"rotini\", \"poultry\", \"plums\", \"pickle\", \"gorgonzola\", \"sambal\", \"parmigianoreggiano\", \"malt\", \"herbes\", \"escarole\", \"udon\", \"preserved\", \"portabello\", \"mein\", \"lobster\", \"heart\", \"grapefruit\", \"teriyaki\", \"roasting\", \"relish\", \"papaya\", \"eye\", \"dipping\", \"dates\", \"whitefish\", \"stuffed\", \"scotch\", \"scallion\", \"sauces\", \"pudding\", \"pimento\", \"navel\", \"gruy\\u00e8re\", \"gram\", \"gnocchi\", \"for\", \"cookies\", \"champagne\", \"center\", \"slice\", \"shortgrain\", \"radicchio\", \"provence\", \"pomegranate\", \"picante\", \"paper\", \"file\", \"curds\", \"crimini\", \"beaten\", \"rock\", \"natural\", \"knorr\", \"hocks\", \"gluten\", \"deveined\", \"curd\", \"bird\", \"ulek\", \"raspberry\", \"marshmallows\", \"hungarian\", \"currant\", \"vine\", \"silken\", \"prepar\", \"port\", \"or\", \"livers\", \"boston\", \"walnut\", \"seafood\", \"marmalade\", \"crusty\", \"clarified\", \"capsicum\", \"bottled\", \"back\", \"verts\", \"uncook\", \"thickcut\", \"softened\", \"savoy\", \"ladyfingers\", \"konbu\", \"kielbasa\", \"haricots\", \"gravy\", \"endive\", \"anchovies\", \"anaheim\", \"wholemilk\", \"sprinkles\", \"split\", \"jerk\", \"filet\", \"shelled\", \"pitas\", \"marin\", \"liver\", \"kasuri\", \"homemade\", \"grapes\", \"glutinous\", \"fingers\", \"drained\", \"crusts\", \"cocktail\", \"chaat\", \"best\", \"artichok\", \"arbol\", \"store\", \"spicy\", \"seaweed\", \"rubbed\", \"rocket\", \"nonstick\", \"jeera\", \"flaked\", \"enokitake\", \"candy\", \"bought\", \"barley\", \"won\", \"wafers\", \"ton\", \"marnier\", \"flower\", \"chickpea\", \"carrot\", \"cane\", \"yams\", \"turbinado\", \"tart\", \"spareribs\", \"regular\", \"northern\", \"mayonnais\", \"great\", \"cornbread\", \"club\", \"ciabatta\", \"asafetida\", \"watermelon\", \"truffle\", \"sweetener\", \"ravioli\", \"kraft\", \"jelly\", \"hellmann\", \"gari\", \"fusilli\", \"essence\", \"crescent\", \"chunks\", \"bonnet\", \"simple\", \"range\", \"pickling\", \"mandarin\", \"hock\", \"fermented\", \"dusting\", \"cucumbers\", \"rub\", \"ras\", \"pasilla\", \"ovenready\", \"key\", \"hass\", \"hanout\", \"fried\", \"epazote\", \"double\", \"vegan\", \"sauc\", \"safflower\", \"processed\", \"plantains\", \"naan\", \"fava\", \"delicious\", \"deli\", \"crystallized\", \"thin\", \"shellon\", \"saltines\", \"rose\", \"real\", \"rabe\", \"orecchiette\", \"lan\", \"gai\", \"croutons\", \"belgian\", \"american\", \"ziti\", \"wood\", \"tops\", \"teas\", \"sweeten\", \"stuffing\", \"selfrising\", \"salata\", \"rounds\", \"pink\", \"neutral\", \"meatballs\", \"kiwi\", \"jaggery\", \"sticky\", \"ripened\", \"oz\", \"muffin\", \"madras\", \"madeira\", \"loaf\", \"jamaican\", \"hothouse\", \"gyoza\", \"fig\", \"coleslaw\", \"brussels\", \"breakfast\", \"korean\", \"fry\", \"fronds\", \"dumpling\", \"cakes\", \"buckwheat\", \"brinecured\", \"brie\", \"turnip\", \"trout\", \"triple\", \"skins\", \"sec\", \"rotel\", \"rolled\", \"pine\", \"mahi\", \"lowsodium\", \"herb\", \"glass\", \"flavor\", \"calamansi\", \"togarashi\", \"shank\", \"quarters\", \"loosely\", \"grate\", \"filling\", \"fajita\", \"cranberry\", \"chow\", \"cereal\", \"caramel\", \"amaretto\", \"ale\", \"straw\", \"stir\", \"soybean\", \"ragu\", \"puree\", \"prawn\", \"not\", \"nosaltadded\", \"melon\", \"jalapenos\", \"grand\", \"gochugaru\", \"glaze\", \"frosting\", \"flavoring\", \"cube\", \"cook\", \"colouring\", \"chayotes\", \"bitters\", \"waxy\", \"tangerine\", \"tandoori\", \"stilton\", \"stewing\", \"splenda\", \"smoke\", \"rye\", \"rotelle\", \"philadelphia\", \"peppercorn\", \"oxtails\", \"on\", \"meyer\", \"lager\", \"heirloom\", \"dillweed\", \"crabs\", \"bbq\", \"arrowroot\", \"wide\", \"velveeta\", \"thawed\", \"sauerkraut\", \"pistachio\", \"hens\", \"gouda\", \"genoa\", \"dumplings\", \"chervil\", \"apricots\", \"veggies\", \"tenders\", \"quick\", \"paso\\u2122\", \"original\", \"nectarines\", \"manicotti\", \"lo\", \"lemonade\", \"kirby\", \"hard\", \"guinness\", \"cutlet\", \"clear\", \"brine\", \"bertolli\\u00ae\", \"toast\", \"tiger\", \"summer\", \"shiso\", \"sausag\", \"portobello\", \"piloncillo\", \"muscovado\", \"msg\", \"flatbread\", \"demiglace\", \"cornish\", \"chilli\", \"cantaloupe\", \"canadian\", \"bouquet\", \"bosc\", \"biscuit\", \"beefsteak\", \"zesty\", \"swordfish\", \"spaghettini\", \"skin\", \"pound\", \"nutritional\", \"ni\\u00e7oise\", \"medjool\", \"i\", \"garden\", \"fingerling\", \"ditalini\", \"cubed\", \"cornichons\", \"chana\", \"cant\", \"boil\", \"achiote\", \"tostada\", \"strip\", \"sel\", \"rhubarb\", \"radish\", \"pernod\", \"pepperoncini\", \"pancake\", \"nopales\", \"moong\", \"mole\", \"mission\", \"mexicana\", \"kelp\", \"juniper\", \"johnsonville\", \"hummus\", \"haddock\", \"glutenfree\", \"fleur\", \"dutchprocessed\", \"curly\", \"crush\", \"crock\\u00ae\", \"corned\", \"bulk\", \"bulgur\", \"bran\", \"applesauce\", \"weed\", \"stout\", \"savory\", \"rabbit\", \"ponzu\", \"pepitas\", \"non\", \"navy\", \"maggi\", \"lumpia\", \"limeade\", \"lentil\", \"kahl\\u00faa\", \"its\", \"hoagie\", \"full\", \"farro\", \"dogs\", \"cured\", \"creme\", \"color\", \"codfish\", \"chinkiang\", \"chickenflavored\", \"campbells\", \"butter\\u00ae\", \"buffalo\", \"blood\", \"bisquick\", \"bibb\", \"believe\", \"asadero\", \"aminos\", \"yardlong\", \"tips\", \"tasso\", \"tagliatelle\", \"squeezed\", \"solid\", \"shoyu\", \"shichimi\", \"sardines\", \"risotto\", \"rins\", \"persian\", \"oilcured\", \"neck\", \"mediumgrain\", \"lavender\", \"kumquats\", \"imitation\", \"goreng\", \"goats\", \"dinner\", \"calvados\", \"buttermargarine\", \"bits\", \"bawang\", \"a\\u00e7ai\", \"york\", \"unbaked\", \"truffles\", \"tenderloins\", \"swanson\", \"strawberry\", \"size\", \"shucked\", \"shahi\", \"rump\", \"pace\", \"nigella\", \"king\", \"hazelnut\", \"hash\", \"guanciale\", \"grease\", \"garni\", \"frisee\", \"flowers\", \"fire\", \"field\", \"doubleacting\", \"crepes\", \"cointreau\", \"chip\", \"balls\", \"varnish\", \"uncooked\", \"tongue\", \"toffee\", \"strong\", \"sole\", \"shavings\", \"picholine\", \"paso\", \"pappardelle\", \"pandanus\", \"nuoc\", \"mutton\", \"mexicorn\", \"lasagne\", \"into\", \"honeydew\", \"gemelli\", \"five\", \"distilled\", \"devein\", \"cornflake\", \"collards\", \"classico\", \"browning\", \"batter\", \"applewood\", \"aged\", \"acorn\", \"world\", \"virgin\", \"vegetarian\", \"tawny\", \"tapenade\", \"sultana\", \"suet\", \"string\", \"silver\", \"sichuan\", \"season\", \"roquefort\", \"rise\", \"reducedsodium\", \"rapid\", \"rack\", \"quail\", \"pig\", \"passata\", \"nam\", \"lite\", \"lily\", \"kombu\", \"jackfruit\", \"gumbo\", \"freerange\", \"char\", \"burgundy\", \"broccolini\", \"brioche\", \"blanc\", \"wishbone\", \"tostadas\", \"taro\", \"spare\", \"sauvignon\", \"rings\", \"rigate\", \"pulp\", \"parts\", \"pan\", \"no\", \"meringue\", \"maida\", \"louisiana\", \"kirsch\", \"idaho\", \"hand\", \"gran\", \"farmer\", \"custard\", \"chilegarlic\", \"chevre\", \"cardamon\", \"bartlett\", \"bars\", \"xanthan\", \"wafer\", \"turkish\", \"toor\", \"tip\", \"tempeh\", \"strips\", \"stevia\", \"sorrel\", \"sorghum\", \"soppressata\", \"softboiled\", \"single\", \"schnapps\", \"oldfashioned\", \"nutmegs\", \"morel\", \"min\", \"mignon\", \"lotus\", \"kidnei\", \"jello\", \"gum\", \"grenadine\", \"gingersnap\", \"gin\", \"fully\", \"fryer\", \"fresno\", \"flounder\", \"dungeness\", \"dip\", \"cool\", \"cookie\", \"confit\", \"chestnut\", \"chat\", \"caviar\", \"carnaroli\", \"carbonated\", \"caesar\", \"buds\", \"boiled\", \"bocconcini\", \"blossom\", \"barbecued\", \"armagnac\", \"annatto\", \"amaretti\", \"ajwain\", \"yolk\", \"up\", \"tzatziki\", \"traditional\", \"tentacles\", \"sponge\", \"spike\", \"sparkling\", \"ruby\", \"riesling\", \"quinces\", \"prosecco\", \"pinot\", \"perilla\", \"pack\", \"oatmeal\", \"nilla\", \"mirlitons\", \"mincemeat\", \"loaves\", \"jalape\", \"gras\", \"giardiniera\", \"game\", \"fresca\", \"foie\", \"flax\", \"feet\", \"extralean\", \"converted\", \"cocacola\", \"canela\", \"calimyrna\", \"calamari\", \"bucatini\", \"blossoms\", \"blanco\", \"bicarbonate\", \"bertolli\", \"bells\", \"angostura\", \"zinfandel\", \"wakame\", \"valley\\u00ae\", \"tonkatsu\", \"tails\", \"sum\", \"sprite\", \"spelt\", \"soya\", \"snails\", \"siu\", \"shaved\", \"sazon\", \"rutabaga\", \"ramps\", \"poha\", \"peasant\", \"passion\", \"parmagiano\", \"parboiled\", \"ouzo\", \"mulato\", \"muffins\", \"monkfish\", \"minicub\", \"matzo\", \"matcha\", \"marshmallow\", \"marmite\", \"manis\", \"manioc\", \"kefalotyri\", \"kecap\", \"hidden\", \"herdez\", \"grouper\", \"granola\", \"giblet\", \"germ\", \"gala\", \"fruits\", \"forest\", \"focaccia\", \"fleshed\", \"equal\", \"doritos\", \"cuban\", \"consomme\", \"chardonnay\", \"chanterelle\", \"cassava\", \"carne\", \"capellini\", \"breadstick\", \"baileys\", \"aleppo\", \"albacore\", \"wheels\", \"treacle\", \"tomatillo\", \"sugars\", \"steamer\", \"snappers\", \"shuck\", \"segments\", \"runny\", \"roux\", \"rapeseed\", \"prebaked\", \"popcorn\", \"pineapples\", \"pigeon\", \"peppermint\", \"mochiko\", \"masoor\", \"margarita\", \"lemonlime\", \"lacinato\", \"knorr\\u00ae\", \"kikkoman\", \"icing\", \"himalayan\", \"head\", \"hanger\", \"groundnut\", \"grilled\", \"grappa\", \"gherkins\", \"fries\", \"four\", \"fishcake\", \"fatback\", \"empanada\", \"edible\", \"demerara\", \"decorating\", \"crookneck\", \"crisco\", \"countrystyle\", \"cornonthecob\", \"cornflakes\", \"condiments\", \"cockles\", \"citrus\", \"chihuahua\", \"chianti\", \"celtic\", \"cavatelli\", \"cacao\", \"biryani\", \"bengal\", \"atta\", \"ahi\", \"4\", \"yuzu\", \"wraps\", \"wing\", \"uncle\", \"tritip\"], \"legendgroup\": \"\", \"marker\": {\"color\": \"#636efa\", \"size\": [1.0, 1.0, 1.0, 1.0, 1.0, 1.0, 1.0, 1.0, 1.0, 1.0, 1.0, 1.0, 1.0, 1.0, 1.0, 1.0, 1.0, 1.0, 1.0, 1.0, 1.0, 1.0, 1.0, 1.0, 1.0, 1.0, 1.0, 1.0, 1.0, 1.0, 1.0, 1.0, 1.0, 1.0, 1.0, 1.0, 1.0, 1.0, 1.0, 1.0, 1.0, 1.0, 1.0, 1.0, 1.0, 1.0, 1.0, 1.0, 1.0, 1.0, 1.0, 1.0, 1.0, 1.0, 1.0, 1.0, 1.0, 1.0, 1.0, 1.0, 1.0, 1.0, 1.0, 1.0, 1.0, 1.0, 1.0, 1.0, 1.0, 1.0, 1.0, 1.0, 1.0, 1.0, 1.0, 1.0, 1.0, 1.0, 1.0, 1.0, 1.0, 1.0, 1.0, 1.0, 1.0, 1.0, 1.0, 1.0, 1.0, 1.0, 1.0, 1.0, 1.0, 1.0, 1.0, 1.0, 1.0, 1.0, 1.0, 1.0, 1.0, 1.0, 1.0, 1.0, 1.0, 1.0, 1.0, 1.0, 1.0, 1.0, 1.0, 1.0, 1.0, 1.0, 1.0, 1.0, 1.0, 1.0, 1.0, 1.0, 1.0, 1.0, 1.0, 1.0, 1.0, 1.0, 1.0, 1.0, 1.0, 1.0, 1.0, 1.0, 1.0, 1.0, 1.0, 1.0, 1.0, 1.0, 1.0, 1.0, 1.0, 1.0, 1.0, 1.0, 1.0, 1.0, 1.0, 1.0, 1.0, 1.0, 1.0, 1.0, 1.0, 1.0, 1.0, 1.0, 1.0, 1.0, 1.0, 1.0, 1.0, 1.0, 1.0, 1.0, 1.0, 1.0, 1.0, 1.0, 1.0, 1.0, 1.0, 1.0, 1.0, 1.0, 1.0, 1.0, 1.0, 1.0, 1.0, 1.0, 1.0, 1.0, 1.0, 1.0, 1.0, 1.0, 1.0, 1.0, 1.0, 1.0, 1.0, 1.0, 1.0, 1.0, 1.0, 1.0, 1.0, 1.0, 1.0, 1.0, 1.0, 1.0, 1.0, 1.0, 1.0, 1.0, 1.0, 1.0, 1.0, 1.0, 1.0, 1.0, 1.0, 1.0, 1.0, 1.0, 1.0, 1.0, 1.0, 1.0, 1.0, 1.0, 1.0, 1.0, 1.0, 1.0, 1.0, 1.0, 1.0, 1.0, 1.0, 1.0, 1.0, 1.0, 1.0, 1.0, 1.0, 1.0, 1.0, 1.0, 1.0, 1.0, 1.0, 1.0, 1.0, 1.0, 1.0, 1.0, 1.0, 1.0, 1.0, 1.0, 1.0, 1.0, 1.0, 1.0, 1.0, 1.0, 1.0, 1.0, 1.0, 1.0, 1.0, 1.0, 1.0, 1.0, 1.0, 1.0, 1.0, 1.0, 1.0, 1.0, 1.0, 1.0, 1.0, 1.0, 1.0, 1.0, 1.0, 1.0, 1.0, 1.0, 1.0, 1.0, 1.0, 1.0, 1.0, 1.0, 1.0, 1.0, 1.0, 1.0, 1.0, 1.0, 1.0, 1.0, 1.0, 1.0, 1.0, 1.0, 1.0, 1.0, 1.0, 1.0, 1.0, 1.0, 1.0, 1.0, 1.0, 1.0, 1.0, 1.0, 1.0, 1.0, 1.0, 1.0, 1.0, 1.0, 1.0, 1.0, 1.0, 1.0, 1.0, 1.0, 1.0, 1.0, 1.0, 1.0, 1.0, 1.0, 1.0, 1.0, 1.0, 1.0, 1.0, 1.0, 1.0, 1.0, 1.0, 1.0, 1.0, 1.0, 1.0, 1.0, 1.0, 1.0, 1.0, 1.0, 1.0, 1.0, 1.0, 1.0, 1.0, 1.0, 1.0, 1.0, 1.0, 1.0, 1.0, 1.0, 1.0, 1.0, 1.0, 1.0, 1.0, 1.0, 1.0, 1.0, 1.0, 1.0, 1.0, 1.0, 1.0, 1.0, 1.0, 1.0, 1.0, 1.0, 1.0, 1.0, 1.0, 1.0, 1.0, 1.0, 1.0, 1.0, 1.0, 1.0, 1.0, 1.0, 1.0, 1.0, 1.0, 1.0, 1.0, 1.0, 1.0, 1.0, 1.0, 1.0, 1.0, 1.0, 1.0, 1.0, 1.0, 1.0, 1.0, 1.0, 1.0, 1.0, 1.0, 1.0, 1.0, 1.0, 1.0, 1.0, 1.0, 1.0, 1.0, 1.0, 1.0, 1.0, 1.0, 1.0, 1.0, 1.0, 1.0, 1.0, 1.0, 1.0, 1.0, 1.0, 1.0, 1.0, 1.0, 1.0, 1.0, 1.0, 1.0, 1.0, 1.0, 1.0, 1.0, 1.0, 1.0, 1.0, 1.0, 1.0, 1.0, 1.0, 1.0, 1.0, 1.0, 1.0, 1.0, 1.0, 1.0, 1.0, 1.0, 1.0, 1.0, 1.0, 1.0, 1.0, 1.0, 1.0, 1.0, 1.0, 1.0, 1.0, 1.0, 1.0, 1.0, 1.0, 1.0, 1.0, 1.0, 1.0, 1.0, 1.0, 1.0, 1.0, 1.0, 1.0, 1.0, 1.0, 1.0, 1.0, 1.0, 1.0, 1.0, 1.0, 1.0, 1.0, 1.0, 1.0, 1.0, 1.0, 1.0, 1.0, 1.0, 1.0, 1.0, 1.0, 1.0, 1.0, 1.0, 1.0, 1.0, 1.0, 1.0, 1.0, 1.0, 1.0, 1.0, 1.0, 1.0, 1.0, 1.0, 1.0, 1.0, 1.0, 1.0, 1.0, 1.0, 1.0, 1.0, 1.0, 1.0, 1.0, 1.0, 1.0, 1.0, 1.0, 1.0, 1.0, 1.0, 1.0, 1.0, 1.0, 1.0, 1.0, 1.0, 1.0, 1.0, 1.0, 1.0, 1.0, 1.0, 1.0, 1.0, 1.0, 1.0, 1.0, 1.0, 1.0, 1.0, 1.0, 1.0, 1.0, 1.0, 1.0, 1.0, 1.0, 1.0, 1.0, 1.0, 1.0, 1.0, 1.0, 1.0, 1.0, 1.0, 1.0, 1.0, 1.0, 1.0, 1.0, 1.0, 1.0, 1.0, 1.0, 1.0, 1.0, 1.0, 1.0, 1.0, 1.0, 1.0, 1.0, 1.0, 1.0, 1.0, 1.0, 1.0, 1.0, 1.0, 1.0, 1.0, 1.0, 1.0, 1.0, 1.0, 1.0, 1.0, 1.0, 1.0, 1.0, 1.0, 1.0, 1.0, 1.0, 1.0, 1.0, 1.0, 1.0, 1.0, 1.0, 1.0, 1.0, 1.0, 1.0, 1.0, 1.0, 1.0, 1.0, 1.0, 1.0, 1.0, 1.0, 1.0, 1.0, 1.0, 1.0, 1.0, 1.0, 1.0, 1.0, 1.0, 1.0, 1.0, 1.0, 1.0, 1.0, 1.0, 1.0, 1.0, 1.0, 1.0, 1.0, 1.0, 1.0, 1.0, 1.0, 1.0, 1.0, 1.0, 1.0, 1.0, 1.0, 1.0, 1.0, 1.0, 1.0, 1.0, 1.0, 1.0, 1.0, 1.0, 1.0, 1.0, 1.0, 1.0, 1.0, 1.0, 1.0, 1.0, 1.0, 1.0, 1.0, 1.0, 1.0, 1.0, 1.0, 1.0, 1.0, 1.0, 1.0, 1.0, 1.0, 1.0, 1.0, 1.0, 1.0, 1.0, 1.0, 1.0, 1.0, 1.0, 1.0, 1.0, 1.0, 1.0, 1.0, 1.0, 1.0, 1.0, 1.0, 1.0, 1.0, 1.0, 1.0, 1.0, 1.0, 1.0, 1.0, 1.0, 1.0, 1.0, 1.0, 1.0, 1.0, 1.0, 1.0, 1.0, 1.0, 1.0, 1.0, 1.0, 1.0, 1.0, 1.0, 1.0, 1.0, 1.0, 1.0, 1.0, 1.0, 1.0, 1.0, 1.0, 1.0, 1.0, 1.0, 1.0, 1.0, 1.0, 1.0, 1.0, 1.0, 1.0, 1.0, 1.0, 1.0, 1.0, 1.0, 1.0, 1.0, 1.0, 1.0, 1.0, 1.0, 1.0, 1.0, 1.0, 1.0, 1.0, 1.0, 1.0, 1.0, 1.0, 1.0, 1.0, 1.0, 1.0, 1.0, 1.0, 1.0, 1.0, 1.0, 1.0, 1.0, 1.0, 1.0, 1.0, 1.0, 1.0, 1.0, 1.0, 1.0, 1.0, 1.0, 1.0, 1.0, 1.0, 1.0, 1.0, 1.0, 1.0, 1.0, 1.0, 1.0, 1.0, 1.0, 1.0, 1.0, 1.0, 1.0, 1.0, 1.0, 1.0, 1.0, 1.0, 1.0, 1.0, 1.0, 1.0, 1.0, 1.0, 1.0, 1.0, 1.0, 1.0, 1.0, 1.0, 1.0, 1.0, 1.0, 1.0, 1.0, 1.0, 1.0, 1.0, 1.0, 1.0, 1.0, 1.0, 1.0, 1.0, 1.0, 1.0, 1.0, 1.0, 1.0, 1.0, 1.0, 1.0, 1.0, 1.0, 1.0, 1.0, 1.0, 1.0, 1.0, 1.0, 1.0, 1.0, 1.0, 1.0, 1.0, 1.0, 1.0, 1.0, 1.0, 1.0, 1.0, 1.0, 1.0, 1.0, 1.0, 1.0, 1.0, 1.0, 1.0, 1.0, 1.0, 1.0, 1.0, 1.0, 1.0, 1.0, 1.0, 1.0, 1.0, 1.0, 1.0, 1.0, 1.0, 1.0, 1.0, 1.0, 1.0, 1.0, 1.0, 1.0, 1.0, 1.0, 1.0, 1.0, 1.0, 1.0, 1.0, 1.0, 1.0, 1.0, 1.0, 1.0, 1.0, 1.0, 1.0, 1.0, 1.0, 1.0, 1.0, 1.0, 1.0, 1.0, 1.0, 1.0, 1.0, 1.0, 1.0, 1.0, 1.0, 1.0, 1.0, 1.0, 1.0, 1.0, 1.0, 1.0, 1.0, 1.0, 1.0, 1.0, 1.0, 1.0, 1.0, 1.0, 1.0, 1.0, 1.0, 1.0, 1.0, 1.0, 1.0, 1.0, 1.0, 1.0, 1.0, 1.0, 1.0, 1.0, 1.0, 1.0, 1.0, 1.0, 1.0, 1.0, 1.0, 1.0, 1.0, 1.0, 1.0, 1.0, 1.0, 1.0, 1.0, 1.0, 1.0, 1.0, 1.0, 1.0, 1.0, 1.0, 1.0, 1.0, 1.0, 1.0, 1.0, 1.0, 1.0, 1.0, 1.0, 1.0, 1.0, 1.0, 1.0, 1.0, 1.0, 1.0, 1.0, 1.0, 1.0, 1.0, 1.0, 1.0, 1.0, 1.0, 1.0, 1.0, 1.0, 1.0, 1.0, 1.0, 1.0, 1.0, 1.0, 1.0, 1.0, 1.0, 1.0, 1.0, 1.0, 1.0, 1.0, 1.0, 1.0, 1.0, 1.0, 1.0, 1.0, 1.0, 1.0, 1.0, 1.0, 1.0, 1.0, 1.0, 1.0, 1.0, 1.0, 1.0, 1.0, 1.0, 1.0, 1.0, 1.0, 1.0, 1.0, 1.0, 1.0, 1.0, 1.0, 1.0, 1.0, 1.0, 1.0, 1.0, 1.0, 1.0, 1.0, 1.0, 1.0, 1.0, 1.0, 1.0, 1.0, 1.0, 1.0, 1.0, 1.0, 1.0, 1.0, 1.0, 1.0, 1.0, 1.0, 1.0, 1.0, 1.0, 1.0, 1.0, 1.0, 1.0, 1.0, 1.0, 1.0, 1.0, 1.0, 1.0, 1.0, 1.0, 1.0, 1.0, 1.0, 1.0, 1.0, 1.0, 1.0, 1.0, 1.0, 1.0, 1.0, 1.0, 1.0, 1.0, 1.0, 1.0, 1.0, 1.0, 1.0, 1.0, 1.0, 1.0, 1.0, 1.0, 1.0, 1.0, 1.0, 1.0, 1.0, 1.0, 1.0, 1.0, 1.0, 1.0, 1.0, 1.0, 1.0, 1.0, 1.0, 1.0, 1.0, 1.0, 1.0, 1.0, 1.0, 1.0, 1.0, 1.0, 1.0, 1.0, 1.0, 1.0, 1.0, 1.0, 1.0, 1.0, 1.0, 1.0, 1.0, 1.0, 1.0, 1.0, 1.0, 1.0, 1.0, 1.0, 1.0, 1.0, 1.0, 1.0, 1.0, 1.0, 1.0, 1.0, 1.0, 1.0, 1.0, 1.0, 1.0, 1.0, 1.0, 1.0, 1.0, 1.0, 1.0, 1.0, 1.0, 1.0, 1.0, 1.0, 1.0, 1.0, 1.0, 1.0, 1.0, 1.0, 1.0, 1.0, 1.0, 1.0, 1.0, 1.0, 1.0, 1.0, 1.0, 1.0, 1.0, 1.0, 1.0, 1.0, 1.0, 1.0, 1.0, 1.0, 1.0, 1.0, 1.0, 1.0, 1.0, 1.0, 1.0, 1.0, 1.0, 1.0, 1.0, 1.0, 1.0, 1.0, 1.0, 1.0, 1.0, 1.0, 1.0, 1.0, 1.0, 1.0, 1.0, 1.0, 1.0, 1.0, 1.0, 1.0, 1.0, 1.0, 1.0, 1.0, 1.0, 1.0, 1.0, 1.0, 1.0, 1.0, 1.0, 1.0, 1.0, 1.0, 1.0, 1.0, 1.0, 1.0, 1.0, 1.0, 1.0, 1.0, 1.0, 1.0, 1.0, 1.0, 1.0, 1.0, 1.0, 1.0, 1.0, 1.0, 1.0, 1.0, 1.0, 1.0, 1.0, 1.0, 1.0, 1.0, 1.0, 1.0, 1.0, 1.0, 1.0, 1.0, 1.0, 1.0, 1.0, 1.0, 1.0, 1.0, 1.0, 1.0, 1.0, 1.0, 1.0, 1.0, 1.0, 1.0, 1.0, 1.0, 1.0, 1.0, 1.0, 1.0, 1.0, 1.0, 1.0, 1.0, 1.0, 1.0, 1.0, 1.0, 1.0, 1.0, 1.0, 1.0, 1.0, 1.0, 1.0, 1.0, 1.0, 1.0, 1.0, 1.0, 1.0, 1.0, 1.0, 1.0, 1.0, 1.0, 1.0, 1.0, 1.0, 1.0, 1.0, 1.0, 1.0, 1.0, 1.0, 1.0, 1.0, 1.0, 1.0, 1.0, 1.0, 1.0, 1.0, 1.0, 1.0, 1.0, 1.0, 1.0, 1.0, 1.0, 1.0, 1.0, 1.0, 1.0, 1.0, 1.0, 1.0, 1.0, 1.0, 1.0, 1.0, 1.0, 1.0, 1.0, 1.0, 1.0, 1.0, 1.0, 1.0, 1.0, 1.0, 1.0, 1.0, 1.0, 1.0, 1.0, 1.0, 1.0, 1.0, 1.0, 1.0, 1.0, 1.0, 1.0, 1.0, 1.0, 1.0, 1.0, 1.0, 1.0, 1.0, 1.0, 1.0, 1.0, 1.0, 1.0, 1.0, 1.0, 1.0, 1.0, 1.0, 1.0, 1.0, 1.0, 1.0, 1.0, 1.0, 1.0, 1.0, 1.0, 1.0, 1.0, 1.0, 1.0, 1.0, 1.0, 1.0, 1.0, 1.0, 1.0, 1.0, 1.0, 1.0, 1.0, 1.0, 1.0, 1.0, 1.0, 1.0, 1.0, 1.0, 1.0, 1.0, 1.0, 1.0, 1.0, 1.0, 1.0, 1.0, 1.0, 1.0, 1.0, 1.0, 1.0, 1.0, 1.0, 1.0, 1.0, 1.0, 1.0, 1.0, 1.0, 1.0, 1.0, 1.0, 1.0, 1.0, 1.0, 1.0, 1.0, 1.0, 1.0, 1.0, 1.0, 1.0, 1.0, 1.0, 1.0, 1.0, 1.0, 1.0, 1.0, 1.0, 1.0, 1.0, 1.0, 1.0, 1.0, 1.0, 1.0, 1.0, 1.0, 1.0, 1.0, 1.0, 1.0, 1.0, 1.0, 1.0, 1.0, 1.0, 1.0, 1.0, 1.0, 1.0, 1.0, 1.0, 1.0, 1.0, 1.0, 1.0, 1.0, 1.0, 1.0, 1.0, 1.0, 1.0, 1.0, 1.0], \"sizemode\": \"area\", \"sizeref\": 0.25, \"symbol\": \"circle\"}, \"mode\": \"markers\", \"name\": \"\", \"showlegend\": false, \"type\": \"scattergl\", \"x\": [-0.013525716960430145, -0.3024173974990845, 0.049224890768527985, 0.4128436744213104, 1.1560169458389282, 0.40278661251068115, 0.19953274726867676, -0.05094831436872482, 1.6715956926345825, 0.850508987903595, 1.2082170248031616, -2.996577501296997, 0.20197315514087677, -2.675879955291748, -0.8324868679046631, 1.3701330423355103, 0.33769917488098145, 0.9086341857910156, -2.4297707080841064, -0.39814186096191406, 0.23917685449123383, 0.37261849641799927, -0.9965180158615112, -0.7325477004051208, -0.7874639630317688, -0.22002899646759033, -0.564756453037262, -0.15942136943340302, 0.8263925313949585, 1.1843622922897339, 0.40559202432632446, -1.1374342441558838, 1.0035159587860107, 1.001815915107727, 0.02713604085147381, -1.5198863744735718, -0.4549335241317749, 5.019564628601074, -0.9657763242721558, 4.030962944030762, 0.2799639105796814, -1.0696241855621338, -1.9042646884918213, 0.2697427570819855, -1.4815020561218262, 0.3362986743450165, -2.0520689487457275, -0.48779428005218506, -2.7968974113464355, 1.3564202785491943, -1.27372407913208, -0.8871381878852844, 0.07731553912162781, 1.5953130722045898, -1.0023510456085205, -0.41015177965164185, 0.9945615530014038, 2.3578784465789795, -0.40183159708976746, -3.0665364265441895, 1.4267774820327759, -0.4230475425720215, -1.1329036951065063, -7.391733169555664, 0.933242917060852, -0.2180429846048355, -1.627872347831726, -1.830636978149414, -1.7486356496810913, -1.8714762926101685, -1.17280912399292, -0.9176332950592041, 2.6922826766967773, -0.04593637213110924, 1.944664716720581, 0.503400981426239, -0.915554940700531, 0.1435302197933197, 0.25523993372917175, -4.063541889190674, 1.1132367849349976, -2.0888755321502686, 0.40935999155044556, -1.3605977296829224, 0.23811614513397217, 2.59098482131958, 1.5627304315567017, 0.23505979776382446, 0.32399243116378784, 0.4455850124359131, -1.1423441171646118, 0.4297928512096405, -3.0698585510253906, -1.6362680196762085, -2.066052198410034, -3.238170862197876, 0.2339082956314087, -0.9073998928070068, -0.043966732919216156, 1.6218111515045166, -0.04002157598733902, 3.080733060836792, -0.8438975811004639, 0.15294358134269714, -0.12511633336544037, -0.07061710208654404, 2.782954216003418, -0.6491382718086243, -0.6590614318847656, 0.9281396269798279, -0.440194308757782, -0.7888237237930298, 7.843023300170898, -0.9298921227455139, 0.1700095683336258, -0.24948999285697937, -0.9724269509315491, 0.8113526105880737, 0.12392733991146088, -0.10817104578018188, -0.8342666625976562, -1.8167707920074463, 0.017758941277861595, 0.7602655291557312, -1.991195559501648, -2.059495687484741, -2.9930238723754883, -5.252028942108154, 0.6857283711433411, 0.651634931564331, 0.5991628170013428, -0.28652632236480713, -4.116598129272461, 0.20402328670024872, -1.3416861295700073, -3.50481915473938, -4.049278259277344, 0.1789129078388214, -0.04216141253709793, -1.2430098056793213, -0.00850498117506504, -1.7301826477050781, -1.4054830074310303, -1.30210542678833, 0.48467880487442017, 0.6869677901268005, -1.4090044498443604, 0.9985263347625732, -0.49047183990478516, -0.13978923857212067, 3.9343197345733643, -0.29062747955322266, -3.370966672897339, -3.704857110977173, 2.133396625518799, 2.6699280738830566, -1.3739033937454224, 0.16480796039104462, -1.3415043354034424, -1.1603498458862305, 3.1473276615142822, -1.2205311059951782, 1.1080743074417114, -3.1918492317199707, 0.06680186092853546, -2.727220058441162, -0.3894471824169159, -2.8534293174743652, -0.8180688619613647, 1.1729190349578857, -0.3167426288127899, 0.7357052564620972, -2.745507001876831, 0.7183491587638855, 2.815460681915283, -1.7651814222335815, -0.34734824299812317, 4.067736625671387, 0.8905162215232849, -0.44866761565208435, 2.744427442550659, -2.8828799724578857, -0.1663171947002411, 4.1941914558410645, -0.3914366364479065, 1.2795981168746948, -1.5203627347946167, 2.793140172958374, -0.15704345703125, -0.15587842464447021, -0.7794951796531677, -1.7508940696716309, -5.342470169067383, -2.336517572402954, -1.274728775024414, -2.107389450073242, -0.44001227617263794, -1.3903203010559082, -4.7115607261657715, -1.307093858718872, 0.20612365007400513, -0.4364107549190521, -0.8880985975265503, 0.6552309989929199, -0.01921987533569336, 0.0763690322637558, 0.33500543236732483, -1.1169921159744263, -1.2897627353668213, 0.46573615074157715, 1.9684491157531738, -2.073051929473877, -0.6936966776847839, -0.8608150482177734, -0.37624990940093994, -0.7243702411651611, -0.6868041157722473, -0.24167287349700928, -0.07178505510091782, 0.9027406573295593, -2.561232328414917, 2.05694317817688, 0.6531452536582947, -0.7332139611244202, -2.1492044925689697, -1.0084694623947144, -1.0372670888900757, 1.4188998937606812, -0.19747158885002136, 0.7077812552452087, 2.4885077476501465, -3.817249059677124, 4.236979007720947, -0.022768156602978706, -1.356217384338379, -2.6868178844451904, -3.306007146835327, -0.36968323588371277, -0.9402543306350708, -1.4150792360305786, -0.6875090003013611, 1.865664005279541, 0.34129995107650757, -3.2395715713500977, 1.5695966482162476, 0.613232433795929, -0.3595990538597107, 0.2824065089225769, 0.2972598075866699, -0.22204415500164032, 1.309262990951538, -2.4875285625457764, -5.876612663269043, -1.9197195768356323, -1.6078990697860718, -1.9447790384292603, 2.374384880065918, -3.659318208694458, 0.021818865090608597, -5.1105475425720215, 0.870808482170105, -2.2220256328582764, -1.300635814666748, -0.649958610534668, -2.1258344650268555, -3.569918394088745, -0.4495725929737091, -1.9512157440185547, 1.3805018663406372, 0.3282546401023865, 0.7070596218109131, -1.6578587293624878, -2.052494525909424, -3.987373113632202, -2.1374340057373047, -1.331505298614502, -1.0876013040542603, -1.736277461051941, -2.8150441646575928, -0.2435653656721115, -3.0378313064575195, 2.9789936542510986, -0.44722646474838257, 1.5163058042526245, -1.5505238771438599, -0.6781458854675293, 0.6235485076904297, -0.557648777961731, -1.6817940473556519, -2.309356689453125, 1.072939395904541, -2.416335344314575, 1.8780484199523926, 0.9679805040359497, -3.3582940101623535, -1.2908580303192139, 1.1870783567428589, -3.0137224197387695, -2.0846166610717773, -2.830336809158325, 0.39514216780662537, -1.4593336582183838, -1.4121861457824707, 2.411769151687622, -1.5465919971466064, -0.7235671281814575, 0.9462197422981262, -1.6598867177963257, 1.090855598449707, -0.39135658740997314, 3.2538259029388428, -2.3568150997161865, -0.5691654682159424, -2.7112128734588623, -3.1284308433532715, 0.7452505826950073, -0.973300039768219, -0.5543037056922913, -1.0333267450332642, -4.053845405578613, -1.1732240915298462, -1.900641918182373, 1.2661155462265015, 1.545477032661438, -1.992510199546814, 1.7682867050170898, 1.361697793006897, -0.6607720255851746, -0.3366439640522003, -3.573345422744751, 3.2544593811035156, -3.0182154178619385, 0.4741712808609009, 1.6599924564361572, -4.21524715423584, 4.2968220710754395, -0.14663609862327576, -2.343693733215332, -1.8112144470214844, 0.5703139305114746, -0.3283650577068329, 2.037247896194458, -1.3560198545455933, -0.09016263484954834, -0.6595770716667175, -2.7941908836364746, -0.03734384849667549, 2.9668712615966797, -0.4349721372127533, 0.860137939453125, -3.012291431427002, -4.697291374206543, -1.5776149034500122, -1.9194422960281372, -3.5539159774780273, 3.0299692153930664, -0.33875831961631775, -2.998776912689209, -2.5371570587158203, 1.877954125404358, -1.6720985174179077, -0.7468606233596802, -3.859738826751709, -1.2945655584335327, -1.7908047437667847, -1.024667501449585, 1.1678390502929688, 1.6795135736465454, 2.149805784225464, -1.3271923065185547, 1.0083239078521729, -0.17344820499420166, -0.36748865246772766, -1.9919668436050415, -0.8947726488113403, 0.7532864809036255, 2.2652227878570557, 0.23143403232097626, 0.16388624906539917, 0.38553285598754883, -0.9004348516464233, -3.095820903778076, -1.5464428663253784, -0.8484916090965271, -2.4985790252685547, -1.4410492181777954, -1.782394528388977, -0.6180979609489441, -2.158722400665283, 1.1031864881515503, -0.7630220055580139, -0.9774660468101501, -3.5602009296417236, -2.0937514305114746, 1.569252848625183, -1.232867956161499, 0.5920836329460144, -0.6074703335762024, -0.45075723528862, -1.321418046951294, -3.6327061653137207, -3.1326825618743896, 2.329446315765381, -1.885269284248352, -1.4883089065551758, -1.4226534366607666, 1.1852080821990967, -2.003465175628662, -2.7893307209014893, -1.5574036836624146, -1.9002825021743774, 1.918904423713684, 0.593156099319458, -0.8030336499214172, -1.8308459520339966, -2.6362171173095703, 0.06255559623241425, 1.9553481340408325, 0.10581349581480026, 0.5072378516197205, -1.211558222770691, -0.617224931716919, -1.9126378297805786, 1.2655830383300781, 3.9073071479797363, -0.7981829643249512, -0.03793724253773689, -2.838409423828125, -1.4924379587173462, -0.5862980484962463, -1.6775380373001099, -3.832791328430176, -0.1194060891866684, 0.537179708480835, -0.7689573168754578, -2.1369571685791016, -1.4684536457061768, -0.28210631012916565, -0.9249987006187439, -0.03255637735128403, 0.32801300287246704, -0.9650564789772034, -1.996756911277771, 0.5513333678245544, -1.8630003929138184, 0.046133607625961304, -2.9261972904205322, -1.2491246461868286, -2.0303781032562256, -1.1751705408096313, 0.20558252930641174, 1.872379183769226, -0.4088500738143921, -0.7224355936050415, -2.9219508171081543, -1.5807263851165771, 0.2432669699192047, -0.9109407663345337, -0.859114944934845, -0.5561994910240173, -1.0613821744918823, 3.1501314640045166, -2.354461669921875, -1.485858678817749, -0.3058509826660156, 0.440254271030426, -0.8815996646881104, 2.103252649307251, -2.0668387413024902, 0.7114806771278381, 0.8749487996101379, -0.9107906818389893, 3.155540704727173, 0.5862628221511841, -2.6567604541778564, -1.974349021911621, -0.9536823034286499, -2.687229633331299, 0.5730962753295898, -0.8504540920257568, -0.21300560235977173, -2.99430775642395, -1.7755340337753296, 2.2022955417633057, 2.9776558876037598, -0.16295255720615387, 4.638375759124756, -3.873232841491699, -0.569378137588501, -3.996042251586914, -1.612048864364624, -0.6123663783073425, -2.441328763961792, -2.340508222579956, -0.024131257086992264, -1.502159833908081, -0.02697538211941719, 2.5147929191589355, -0.24297329783439636, -0.9234791994094849, 0.9463351368904114, -3.659562349319458, -1.8746191263198853, 0.10930848866701126, -4.424679756164551, 2.276177167892456, -1.7437077760696411, -0.6107273101806641, -0.5577118992805481, -0.7156503796577454, -0.39213868975639343, -0.94932621717453, 1.2123615741729736, -1.7319377660751343, -0.07660132646560669, -0.35032331943511963, 2.779669761657715, -2.007404088973999, -1.5048091411590576, -1.452990174293518, -2.314236640930176, -2.991176128387451, 2.0896542072296143, -3.926003932952881, -1.8849149942398071, -0.6051415205001831, -0.6881600618362427, 0.09667172282934189, -1.8658994436264038, 1.2066662311553955, -2.2724392414093018, 0.5470666885375977, -1.828351616859436, 0.06555358320474625, -1.721235990524292, 1.4884611368179321, -0.2879602909088135, 0.028476379811763763, -2.7662079334259033, 1.5166901350021362, -1.051300287246704, -1.0299049615859985, -0.2393939197063446, -3.4015610218048096, 1.5484614372253418, -2.3767733573913574, 0.3831644356250763, -0.5469726920127869, -0.7621239423751831, -1.2406361103057861, 2.0975492000579834, -0.9571949243545532, 1.719220519065857, -1.798641324043274, -1.1841481924057007, 0.4462745487689972, 1.6127264499664307, -2.3607337474823, -1.2740294933319092, 0.7800187468528748, -0.6390114426612854, 3.099649429321289, 0.760434627532959, 2.8944308757781982, 1.0325123071670532, 0.1521223485469818, 2.1436405181884766, -0.6809310913085938, -0.23036687076091766, -0.8520011901855469, -1.4326928853988647, -0.955605685710907, -1.3576077222824097, 3.3959641456604004, 0.11311312019824982, -1.4201023578643799, -0.3132668137550354, -1.5950011014938354, 2.090740919113159, -0.555509090423584, 0.7902758717536926, 0.47253185510635376, -0.7939006090164185, -3.3057854175567627, -1.0295565128326416, -0.19839082658290863, -3.5248212814331055, -0.9832620024681091, -0.6678317189216614, -1.2274999618530273, 1.3101983070373535, -0.9425281286239624, -1.0011409521102905, -0.8150286674499512, -0.1520152986049652, -1.1936026811599731, -2.351236343383789, -2.7122080326080322, -0.7639331221580505, 0.8456860184669495, -0.07776611298322678, 1.0016522407531738, 0.4467554986476898, -1.0948032140731812, 1.7991453409194946, -0.5352655053138733, 0.5175499320030212, -2.813302755355835, -0.6828502416610718, 0.5697614550590515, 0.500257670879364, -0.5555181503295898, 0.4275258481502533, -0.8063659071922302, -2.1931960582733154, -2.39070725440979, 0.15422672033309937, 2.261883020401001, 0.3865823447704315, 1.2026169300079346, -0.3049069941043854, -0.21091428399085999, -1.6793384552001953, 3.8608269691467285, 0.5654326677322388, -0.18939541280269623, -1.4488162994384766, -0.4259539246559143, 0.2597006559371948, 1.4907352924346924, 0.4956015646457672, -1.5610196590423584, -1.2143933773040771, -0.4589529037475586, -1.494319200515747, -1.4229456186294556, -0.9522597193717957, 2.2196342945098877, -1.5248059034347534, 2.080198049545288, -1.2836172580718994, -0.09438791871070862, -2.2136435508728027, 1.930643916130066, -1.7089872360229492, -1.3827022314071655, -1.8994770050048828, 0.6215037107467651, -0.12880557775497437, -1.5232305526733398, 0.9357813000679016, -1.8792287111282349, -1.2533005475997925, -2.526813268661499, -1.1588033437728882, -1.4019123315811157, -1.0358504056930542, -0.7217226624488831, -1.8849984407424927, -0.7885429263114929, -0.04639877378940582, -1.925557017326355, -2.2781152725219727, -1.5858052968978882, -0.8135406970977783, -1.84637451171875, 0.4389847218990326, -1.8107969760894775, -1.1351723670959473, -1.1025856733322144, -2.715217351913452, 2.431140422821045, -0.7260271906852722, -0.7156882286071777, 0.7651978731155396, 1.1066330671310425, -1.5402899980545044, -0.8489442467689514, 0.029111869633197784, -0.14029762148857117, -0.3105953633785248, -1.1413848400115967, 0.37862011790275574, -6.061427116394043, -1.6717900037765503, -1.0209643840789795, -2.148040294647217, -1.8294259309768677, -1.9080665111541748, -1.222956657409668, -2.4742913246154785, 0.9347584247589111, 0.721462607383728, -1.2184770107269287, 0.9283151030540466, -0.6815075278282166, -1.2001793384552002, -0.6388669013977051, -0.25168168544769287, -1.3444782495498657, -1.6157344579696655, 1.3186657428741455, 0.3654376268386841, -0.6332947015762329, -1.3743597269058228, -1.699428677558899, -0.6548532843589783, -0.8952293992042542, 0.0168242696672678, 1.2003569602966309, 0.08554284274578094, 3.2123143672943115, -1.2526744604110718, -0.5940603613853455, -0.349861741065979, 0.5685189366340637, -0.66620934009552, 1.4679926633834839, -0.5979958772659302, -1.159060001373291, -1.6375954151153564, -1.5628058910369873, -0.26418226957321167, -2.5959880352020264, -1.7585442066192627, -0.5268352031707764, -2.2919418811798096, -1.7741791009902954, -0.7292147278785706, 0.06661681830883026, -2.1724181175231934, 0.7614884376525879, -1.579196810722351, 1.9511065483093262, 0.2850288152694702, -1.3599324226379395, -1.6168086528778076, 2.049877882003784, -0.8681088089942932, 3.416266441345215, -1.4943758249282837, -1.009447455406189, -0.39472511410713196, 1.3621851205825806, 0.01753396913409233, -1.2341006994247437, 0.5899761319160461, 0.3921241760253906, -0.09082062542438507, 3.322158098220825, 0.6433534622192383, 0.1569484919309616, 2.5660958290100098, 0.32422155141830444, -0.15374645590782166, -0.43723395466804504, 0.1858159303665161, -1.4253387451171875, -0.17994865775108337, 2.3446290493011475, -3.2709975242614746, 0.1781591773033142, -0.6533265113830566, -1.9446526765823364, -1.0401638746261597, 0.1679140329360962, -0.6507629156112671, -1.6459218263626099, 0.5030692219734192, -0.6370066404342651, -2.480581045150757, -0.6328946352005005, -0.038059867918491364, 2.5590381622314453, -1.1488584280014038, 0.8109323382377625, 1.0160553455352783, -0.009509963914752007, -1.2374520301818848, -2.1338067054748535, -0.5370290279388428, -0.22762136161327362, 0.05411538854241371, 1.8866808414459229, 0.3813760280609131, 1.2642533779144287, -1.274239182472229, 0.09169701486825943, 1.3457509279251099, -2.405386447906494, 0.9121896624565125, -1.6111658811569214, 0.9825956225395203, -0.9894252419471741, -0.9768357276916504, -1.2313674688339233, -0.37850508093833923, 0.11434952914714813, 0.18826451897621155, 0.442453533411026, 1.5147619247436523, 2.097898483276367, -0.15257342159748077, -0.05157673358917236, 0.9871982932090759, -0.5100057721138, -1.1791692972183228, 0.3829522132873535, -0.42418161034584045, -2.674884557723999, -1.4873878955841064, -0.7031763195991516, 1.0694823265075684, -0.15854422748088837, -1.0103873014450073, 0.37579548358917236, -0.9421445727348328, 0.42048555612564087, -2.4646174907684326, 1.832419753074646, 4.727444171905518, -0.22891008853912354, -0.36453673243522644, -1.132622480392456, -0.9327242374420166, 1.4084848165512085, 0.921302855014801, -0.3535662293434143, -1.1123707294464111, 3.867128610610962, 0.18554499745368958, 0.11499243974685669, -2.1364524364471436, -0.21940790116786957, 2.7014238834381104, -0.7428209185600281, -1.1264303922653198, -0.25871551036834717, -0.01725299097597599, -1.2639565467834473, -0.7093077898025513, -0.345804363489151, -1.579368233680725, -0.8006280064582825, 1.4292831420898438, -0.5572991967201233, 0.22263965010643005, -1.8910094499588013, 0.07912348210811615, -0.37135592103004456, 0.7001469731330872, -1.9173246622085571, 0.8850024938583374, -0.19555874168872833, 1.1832945346832275, 2.4515769481658936, -0.6699437499046326, 0.22829103469848633, 0.7952181696891785, -1.8106582164764404, -0.7545776963233948, 0.2057408094406128, -0.09125594794750214, -0.611294150352478, -1.1256885528564453, -0.6568763852119446, -0.649986743927002, -1.726574420928955, -1.8856414556503296, 1.0440982580184937, -2.1219921112060547, -2.413055658340454, -0.37596946954727173, -2.576857328414917, -1.114864706993103, -0.7824713587760925, -0.6945825219154358, -1.4813801050186157, -1.5771965980529785, 1.7034980058670044, -0.8132372498512268, 0.9143972992897034, 1.8946775197982788, -0.366384357213974, -0.7359311580657959, -0.8118971586227417, 2.2514209747314453, -2.161177635192871, 3.0315349102020264, 0.08502202481031418, -0.2904989719390869, -0.9306739568710327, 1.8898454904556274, -1.3934601545333862, -1.056067943572998, -1.3313424587249756, -1.177093267440796, 2.0371108055114746, 2.01364803314209, -1.6167575120925903, 0.9338038563728333, -0.07532017678022385, -0.5689135789871216, -0.4658767580986023, -1.1778490543365479, 0.759357750415802, 1.715356707572937, -0.6662911176681519, -1.8673087358474731, -1.118353009223938, -0.2007066309452057, -0.5312831401824951, -0.40939387679100037, -1.9582140445709229, 0.9431395530700684, -1.3573999404907227, -2.204258918762207, -1.5073260068893433, 1.6226952075958252, 2.096545696258545, -1.017556071281433, -0.8212476372718811, -1.7514967918395996, -1.7851369380950928, 0.041242390871047974, 0.2972436547279358, 1.122986912727356, -0.6782267689704895, -1.0983290672302246, -1.217919945716858, -0.9989264011383057, -1.5400781631469727, -0.6086217761039734, 0.9407251477241516, -1.2169878482818604, 0.007591016590595245, 1.975973129272461, 1.898061990737915, -1.6315127611160278, -0.0005723792128264904, -0.555753231048584, 0.8786590695381165, -0.7380581498146057, -0.7555060982704163, 3.6846563816070557, -0.39652302861213684, -1.1417852640151978, -1.1408700942993164, 0.3386971354484558, 0.8412585258483887, -1.4485197067260742, 1.2841813564300537, 1.4724929332733154, -0.9259625673294067, 1.330662488937378, 1.5807121992111206, -1.7179107666015625, -0.43550559878349304, -2.0922436714172363, -0.7957503199577332, 1.1832977533340454, -1.8216913938522339, 1.351711392402649, -1.5905781984329224, -0.8152535557746887, 0.21149075031280518, -1.2986383438110352, -0.8072127103805542, -0.043548405170440674, -1.1710741519927979, -0.07008115947246552, -0.5970838069915771, 2.7639710903167725, -1.288126826286316, 0.08961297571659088, 0.7141906023025513, -0.7901117205619812, 0.257272869348526, -0.8024709820747375, -1.7039973735809326, -0.954718291759491, 2.0946271419525146, -0.5479053854942322, -1.6658493280410767, -1.7342439889907837, 0.32327181100845337, 2.190983772277832, 1.4518502950668335, 1.4130985736846924, -1.9258244037628174, -0.507803201675415, 0.1612028032541275, -0.8256202936172485, -0.8713371157646179, 0.5385228991508484, -0.9846116304397583, -0.040849875658750534, 1.566636323928833, 0.0931965634226799, -1.1343079805374146, -1.3056962490081787, 0.35665106773376465, -1.598058819770813, 0.41596150398254395, -0.40748023986816406, -0.036460988223552704, -1.166814923286438, -0.24434234201908112, 2.2448394298553467, 3.1369705200195312, 0.18364499509334564, 0.743799090385437, -0.6709004044532776, -1.3277682065963745, -1.342309594154358, -0.4896596372127533, 1.0364707708358765, 0.40996620059013367, -0.2626473903656006, -0.03762570023536682, 0.5688250064849854, -0.17961856722831726, -1.3385896682739258, -0.009066758677363396, -0.9013959169387817, 1.3645939826965332, 0.3563013970851898, -1.3269635438919067, -0.8097745180130005, -1.193692684173584, 0.5674991607666016, -0.5234972834587097, -2.1746327877044678, 0.2797761857509613, 0.024773387238383293, -0.19400492310523987, -1.3407961130142212, 0.8190907835960388, -0.2574020326137543, -1.3849557638168335, -1.0951826572418213, -1.2996394634246826, -1.444714069366455, -1.3711836338043213, 2.0157198905944824, -0.9227505326271057, -0.6215370297431946, -0.21433620154857635, -0.5494800806045532, -1.2387984991073608, 0.7566689252853394, -0.3700903356075287, -1.3067914247512817, 0.9146710634231567, 0.1709883213043213, -0.5382307171821594, -0.7518712878227234, -0.7380508184432983, -1.1429160833358765, -1.847854495048523, 0.853321373462677, 0.5191382765769958, -0.21280965209007263, -0.6229034662246704, -0.2839181423187256, 1.147749423980713, -0.38822948932647705, -0.6646183133125305, -1.245735764503479, -0.874060869216919, -0.6939183473587036, -0.8935592770576477, -1.1999799013137817, -0.2668984830379486, -1.882575273513794, -0.2718240022659302, 0.25910037755966187, -1.7980892658233643, 1.3161879777908325, -0.009424684569239616, -0.47787150740623474, -0.5190094113349915, -0.2331022024154663, -1.2968400716781616, -0.205799400806427, -0.19600242376327515, 1.608799695968628, -0.6158239245414734, 0.15007153153419495, -1.429141640663147, -1.4403414726257324, 0.9092124700546265, -0.7684884071350098, -0.023003026843070984, 0.32619190216064453, -0.3101253807544708, -0.6296122670173645, 0.5803394913673401, -1.5193132162094116, 1.1073747873306274, -1.6353236436843872, -0.053747229278087616, -1.2052791118621826, 1.1122004985809326, -0.30790334939956665, 0.09996582567691803, -1.4816648960113525, 1.5966472625732422, -0.1973806619644165, -0.6961511373519897, -0.36505457758903503, -0.7121089696884155, -0.8950764536857605, -0.5108070373535156, -1.766513705253601, -0.6770477890968323, -1.3150466680526733, -0.9856677055358887, -0.5020753145217896, -0.7318047881126404, 0.42269790172576904, -0.8206721544265747, -0.7405713796615601, -0.3741389214992523, -1.1682124137878418, -0.02478880248963833, -0.7616000175476074, 1.2552008628845215, 2.679536819458008, -1.3136048316955566, -0.4528607130050659, -1.6865088939666748, -0.47435441613197327, -0.924694836139679, 0.646536648273468, -1.1749850511550903, 1.1578236818313599, -0.048197440803050995, -0.2393873780965805, -0.6353022456169128, 0.7264213562011719, 1.6977366209030151, -0.17436929047107697, -1.4304358959197998, -0.5103750824928284, -0.7396291494369507, -0.3322967290878296, -1.4699387550354004, -0.7553150653839111, -0.40039095282554626, -1.3328653573989868, 0.5933777689933777, 0.8482195734977722, -0.5140098333358765, 0.775048553943634, -1.043526530265808, -0.6478305459022522, -0.8017486929893494, -0.5552358627319336, -0.9123104214668274, -0.16500972211360931, -1.7434289455413818, -0.5570831894874573, -1.1480722427368164, 0.7795152068138123, -0.11361020058393478, -0.27139461040496826, 0.31271421909332275, -0.43012288212776184, -0.13588494062423706, -1.128589153289795, -0.5615859627723694, -0.125723198056221, -1.5695044994354248, -0.4926150143146515, -0.5153189301490784, -1.21396803855896, -2.450004816055298, 0.4995441734790802, -1.3327720165252686, -0.566668689250946, -0.3295838534832001, -1.5596771240234375, 0.16480493545532227, -0.748261570930481, 0.03212393820285797, 1.9897849559783936, -0.33112961053848267, -1.2374823093414307, 1.7041343450546265, 0.5185055732727051, -0.9969252347946167, -0.5191882848739624, -0.5866161584854126, -0.8448396921157837, -0.6612647175788879, -0.49824848771095276, -0.0804767832159996, -0.4668409526348114, -0.04691275954246521, 0.27806422114372253, -0.19744868576526642, -1.2890489101409912, -0.7600447535514832, -0.0654408186674118, 0.057806726545095444, -0.6200334429740906, -0.5270212292671204, 0.7023146152496338, 0.7014803886413574, 0.14502489566802979, -0.45089417695999146, 0.46271148324012756, -0.8681678175926208, -1.3700231313705444, 1.394546389579773, -1.5414087772369385, 0.7580735683441162, -1.6556044816970825, -0.5930578112602234, -0.684367835521698, -0.1497008055448532, -0.5505625009536743, 1.4033081531524658, 0.07640139758586884, 0.3585900068283081, -1.2596533298492432, -0.5024679899215698, -1.262061357498169, 1.0885541439056396, -0.15691015124320984, -1.3287897109985352, -0.01074014138430357, -0.047505564987659454, -1.127524971961975, 0.8256142735481262, -0.6166731119155884, 0.7590852975845337, 0.24866856634616852, 1.0521680116653442, 1.7850569486618042, 0.6586431860923767, -0.7307574152946472, 1.7799359560012817, 2.0877838134765625, -0.44736167788505554, -0.49430254101753235, -0.4050981402397156, -0.7079039216041565, -0.1867903470993042, 0.3266959488391876, 0.19947780668735504, 0.4419918358325958, 0.3949476182460785, 0.940587043762207, 0.8412682414054871, -0.12616369128227234, 1.21213960647583, 0.2824240028858185, 0.3029787838459015, 1.4827479124069214, -1.061468243598938, 0.24381981790065765, 0.008154414594173431, -0.34312552213668823, -0.6791520714759827, -0.9564528465270996, 1.7314079999923706, 0.5458561182022095, -0.38637861609458923, -0.056039534509181976, -0.881550133228302, 0.9371230006217957, -0.7704913020133972, -0.8217694163322449, -0.30712881684303284, 1.0270540714263916, 0.917044997215271, -0.04573630169034004, 0.07971908897161484, -0.5170765519142151, -0.19356441497802734, -0.30848148465156555, -0.2262684404850006, 1.5565556287765503, 0.31319481134414673, -1.3707274198532104, 1.6411417722702026, -0.7866344451904297, -1.3812321424484253, -0.298623651266098, -0.2263251692056656, -0.2610503137111664, 1.006818175315857, -1.479499340057373, 0.0708036944270134, 0.25929006934165955, 0.15872697532176971, 0.12039107084274292, -0.8403008580207825, -0.7363612055778503, -1.5744974613189697, -0.3567053973674774, -0.1386583298444748, -0.6156384944915771, 0.1461978554725647, -0.7668205499649048, 0.5144086480140686, -0.3008914589881897, 0.6299044489860535, -0.27042317390441895, 0.18052135407924652, -0.47547999024391174, -0.17772018909454346, -0.6291586756706238, 0.3397185802459717, -0.34757572412490845, -0.836681604385376, 0.08678794652223587, -0.4134122431278229, -0.24941003322601318, -0.5562630891799927, -0.6309795379638672, -0.5212951898574829, -0.3866147994995117, -0.27795520424842834, 0.5385730266571045, -0.5934097170829773, -1.2237298488616943, -1.4524842500686646, -0.12242663651704788, 0.8525066375732422, -0.06338578462600708, -1.2854629755020142, -0.45345407724380493, 0.06403040140867233, -0.998595654964447, 0.6655401587486267, -1.5124115943908691, 0.5195506811141968, -0.2903982698917389, 0.27931347489356995, -1.365297794342041, -0.8616610169410706, -1.3463051319122314, 1.0646755695343018, -0.7607283592224121, -0.05996212735772133, 0.20776785910129547, -0.05699624866247177, -0.4854317605495453, -1.6436513662338257, -1.10770845413208, -0.4090556800365448, -1.0015113353729248, -0.620093584060669, -1.0825440883636475, 0.8219614624977112, 1.4705251455307007, -0.7903596758842468, -0.49536073207855225, -0.028447166085243225, 0.3070845901966095, -0.43896886706352234, -0.47169211506843567, -0.19106221199035645, -0.451938658952713, 0.12965482473373413, -0.12108246237039566, -0.7098271250724792, -0.08482839912176132, -1.1926250457763672, -0.35536569356918335, -0.9878174066543579, -1.215710163116455, -0.18182426691055298, -1.006596565246582, 0.9098737239837646, -0.6419591903686523, -0.4924328923225403, 0.3508140742778778, -0.9468013048171997, -1.2441303730010986, -0.8887383937835693, -0.6369246244430542, 0.0739324539899826, 0.49165889620780945, 0.9860886931419373, 0.0918867290019989, 0.37056276202201843, -0.3369534909725189, 1.0404521226882935, -0.34696483612060547, -0.6696754097938538, -0.6902007460594177, 0.19146867096424103, 0.6676494479179382, -0.42986148595809937, -1.3801296949386597, -1.137691855430603, 1.114762783050537, -1.5727753639221191, -0.30291488766670227, -0.22261063754558563, 0.18560992181301117, -1.1155004501342773, 0.08990658074617386, 0.29868659377098083, -0.8203374147415161, 0.8854251503944397, 0.6750611662864685, -1.37412691116333, -0.8360462784767151, 0.5626202821731567, -0.9283785820007324, -0.6292213201522827, 0.012535146437585354, -1.431355595588684, -0.4546450972557068, -0.8092314004898071, -0.6763948798179626, -0.24588574469089508, -0.6661286354064941, -1.006386637687683, -0.038932546973228455, -0.09152529388666153, -1.242835521697998, -0.5398765802383423, -0.7113109230995178, -0.5483831763267517, -0.9266736507415771, 0.40735140442848206, -0.6410775780677795, -0.19133611023426056, -1.0298669338226318, -0.48734477162361145, 0.32701706886291504, -0.18006059527397156, -0.4935697615146637, 0.9028369784355164, -0.7310804724693298, 0.1370421051979065, 0.49435746669769287, 0.18521954119205475, -0.9708349704742432, 0.7248781323432922, 0.6350609064102173, 0.30603572726249695, 0.328005850315094, -1.1119951009750366, 0.21560008823871613, 0.13576193153858185, 0.8223533630371094, 0.2479952573776245, 0.6419275999069214, 1.0414081811904907, -0.37278637290000916, -0.7259334325790405, -0.29259705543518066, -0.5726028084754944, 0.5328059792518616, -0.4753844738006592, 0.16369956731796265, -0.0650482252240181, 0.21038217842578888, 0.8174399733543396, -0.43666088581085205, -1.145352840423584, -0.44719603657722473, 0.26043325662612915, -0.7113355398178101, 0.8312838077545166, -0.7016052007675171, -0.597752571105957, 0.21946696937084198, 0.4702245593070984, -0.14325112104415894, -0.42559099197387695, -0.1933494359254837, -0.9693599343299866, -0.5645479559898376, -0.504252552986145, -0.44067323207855225, -0.40210869908332825, -0.526999294757843, -0.556634783744812, -0.8374421000480652, -0.4586655795574188, -0.8565900921821594, -0.3794548511505127, 1.1212283372879028, 1.0341293811798096, 1.0821613073349, -0.3961118161678314, -0.7683717608451843, -0.38122954964637756, -0.5101171731948853, 0.3867846131324768, -0.7137337327003479, -0.6564257740974426], \"xaxis\": \"x\", \"y\": [0.020222662016749382, 0.42358964681625366, 0.1893107146024704, -0.26071515679359436, -0.3174055218696594, 0.3736438751220703, -0.27717235684394836, -0.505277693271637, 0.5248567461967468, 1.6639615297317505, -0.23679763078689575, 0.05267304182052612, -0.6478691101074219, -1.0449713468551636, -0.02707899548113346, 0.16798467934131622, -0.12810741364955902, 0.23508034646511078, -0.9339460134506226, 0.06277569383382797, 0.3964633643627167, 0.05310698598623276, -0.31963327527046204, -0.27664342522621155, -0.3763543963432312, 0.24491630494594574, -0.925525426864624, 0.3044157028198242, 0.6743824481964111, 1.0683109760284424, -3.318936347961426, -0.42048022150993347, -2.240527868270874, -0.9362622499465942, -0.6977601051330566, 0.14241765439510345, -0.8014419674873352, 0.810177206993103, 0.6648135185241699, 0.6578429937362671, -0.6208016276359558, -3.4497122764587402, 0.4078187346458435, -3.9352872371673584, -0.16959744691848755, 0.010422615334391594, 0.4020122289657593, -0.793096661567688, -0.03431960195302963, 2.5687036514282227, -0.28720661997795105, -0.05528145655989647, -0.29702043533325195, 0.4077889919281006, 2.6910057067871094, -0.2574785053730011, 0.5449740290641785, -0.552757740020752, -0.03835871070623398, 1.5694248676300049, 1.0194681882858276, 0.5929458141326904, -1.0513938665390015, 1.1117000579833984, -2.182729959487915, 0.5992105603218079, -0.23225459456443787, 0.430204838514328, -3.005521535873413, -0.46281078457832336, 1.3968830108642578, -1.5813709497451782, 1.585490345954895, 0.588370144367218, -0.08086284250020981, 0.7301883697509766, 0.9045340418815613, 0.4897967576980591, -0.4954299330711365, -5.055445194244385, -2.2891812324523926, 0.09339484572410583, 0.25756365060806274, 0.8250494599342346, 0.2777923345565796, -2.8234853744506836, -0.9762571454048157, 0.40921416878700256, 0.39793261885643005, 1.9485982656478882, 2.46628475189209, 0.30295419692993164, 0.4691230356693268, 0.2261614054441452, -0.7235720753669739, 1.3315973281860352, -0.16657373309135437, -0.3561009168624878, 0.8562604784965515, 1.5782692432403564, -1.3703536987304688, 1.951401710510254, -0.42940467596054077, -0.4809383451938629, -1.6293156147003174, -0.3224126994609833, 1.8618515729904175, -0.9082838296890259, 0.396155446767807, -0.10877687484025955, -1.0701026916503906, -0.8980172276496887, -4.120022296905518, 0.3265411853790283, -0.7278984189033508, 1.8875311613082886, 0.6879538893699646, -0.9247751832008362, 0.36262795329093933, 1.1156989336013794, -0.4931619465351105, -0.1254984587430954, 1.1893254518508911, 1.6484755277633667, 1.5381062030792236, -0.3010016977787018, 2.553598165512085, -4.661884784698486, -1.1675925254821777, 1.4465136528015137, 0.14241738617420197, -1.6546216011047363, -2.6822636127471924, 0.42522409558296204, -0.01188790611922741, 2.4574005603790283, -2.126718282699585, 0.14686045050621033, 1.848933458328247, 1.5372658967971802, -3.6743571758270264, 0.26718059182167053, 0.6282506585121155, -0.38738349080085754, 0.0393282026052475, -1.53401780128479, 0.06974190473556519, 0.4109538197517395, -1.1567398309707642, 1.1881697177886963, -2.165573835372925, 0.24031753838062286, -1.006757378578186, -2.5539045333862305, -1.3310160636901855, -1.120427131652832, 0.17077486217021942, 1.5629628896713257, 0.47899162769317627, 0.2070716917514801, -1.6346628665924072, -0.3393539488315582, -1.3984233140945435, -0.10113624483346939, 1.4629086256027222, 1.730391502380371, -0.9164280295372009, -0.20650719106197357, 0.6990912556648254, 0.12660938501358032, -0.9831639528274536, -0.9863120913505554, -0.1342800110578537, -2.959916114807129, 1.1682463884353638, 1.625488519668579, -0.18450430035591125, 3.333512544631958, 2.414401054382324, 0.6403606534004211, -2.1374900341033936, 3.2184810638427734, -0.20645077526569366, -0.7065407037734985, 0.0810014083981514, -1.2522990703582764, 0.3699630796909332, -2.1970551013946533, -0.4382226765155792, 0.5206354260444641, 1.1800862550735474, -0.5600512623786926, -5.659484386444092, 0.8008376359939575, -0.7340524196624756, -0.8541644215583801, 1.970689296722412, 0.1793801337480545, -0.9403882622718811, -0.4251127243041992, 1.0120599269866943, -1.93681800365448, 1.8387552499771118, 1.1386158466339111, -1.5980628728866577, 1.2037713527679443, -1.603993535041809, -0.7573314905166626, -0.8015555143356323, 1.2187572717666626, 1.1365978717803955, -0.6465585827827454, -0.5484089255332947, 2.062220811843872, 1.160382628440857, -3.299014091491699, -0.26998162269592285, -0.20115971565246582, -1.406769871711731, 2.109236478805542, 1.3194268941879272, -1.0533519983291626, -3.0757088661193848, -2.095245838165283, -1.6147807836532593, 1.5830589532852173, 3.401883602142334, 1.1919516324996948, 1.2076141834259033, 2.435194492340088, -0.6005674004554749, -3.3203916549682617, 0.40936478972435, 0.185214102268219, -1.5893454551696777, 0.6724259853363037, -0.9740306735038757, -0.6850800514221191, 0.3148189187049866, -0.6301190257072449, -1.5271247625350952, -0.9539722800254822, -0.12848101556301117, -2.5282084941864014, 1.813897967338562, -3.6833081245422363, 0.44694146513938904, 0.11128190904855728, 1.742669701576233, 0.1176360622048378, 0.9797974824905396, 4.116939067840576, 2.424325466156006, -0.670020580291748, 1.3179600238800049, -1.5864797830581665, 4.086807727813721, -1.5439560413360596, -1.191877007484436, -4.884444236755371, -2.388883590698242, 0.8281270265579224, 0.9675130248069763, -0.3356376886367798, 0.9487890601158142, -2.901486873626709, -0.8989757299423218, -0.1375945806503296, 0.14143480360507965, -1.4231643676757812, 0.12524963915348053, -0.9279932975769043, 1.6330251693725586, -0.4803234338760376, -1.2172973155975342, 0.3349466025829315, 2.3456711769104004, 0.6144671440124512, 1.5411159992218018, 1.967505693435669, -0.32210543751716614, 1.240100622177124, 1.2465876340866089, 3.609440565109253, 0.9065532684326172, 1.5098260641098022, 1.2364485263824463, 2.462625026702881, 2.139481782913208, 0.1525472104549408, -0.040514878928661346, 0.08256631344556808, -0.08370377123355865, 0.34883254766464233, -2.6602702140808105, -1.0278880596160889, 0.7763135433197021, -1.5332987308502197, 1.8189338445663452, 1.4557808637619019, 3.920311212539673, -0.8841480612754822, 2.2198100090026855, -1.990716814994812, -1.4392786026000977, -0.3723434507846832, 0.9915825128555298, 2.1846160888671875, 1.8004392385482788, 0.3850356936454773, -2.315109968185425, 3.457624912261963, 1.9752646684646606, 1.6908056735992432, -1.9767013788223267, 0.8328843116760254, 0.31219449639320374, -0.8712427616119385, 3.3215532302856445, -3.416010856628418, 1.1613025665283203, -2.7883992195129395, -2.306870460510254, -0.9680857062339783, 0.8489331603050232, 1.2279493808746338, 0.4828607141971588, 0.6152698993682861, 0.57302325963974, 3.151195526123047, -2.3229329586029053, -3.6152021884918213, -1.4737975597381592, -1.6302387714385986, 3.0875937938690186, 2.8842668533325195, 0.925995945930481, 1.9947603940963745, -2.480147123336792, 2.389554262161255, 1.6184768676757812, -0.9006694555282593, 1.8157525062561035, 0.3657418489456177, 0.6628439426422119, -0.9163002967834473, -2.79408860206604, 3.4416491985321045, 1.3215442895889282, -0.8326839804649353, 2.9660677909851074, -2.724431037902832, 3.513017416000366, 2.3236894607543945, -2.445435047149658, -3.8152389526367188, 0.5124505758285522, -3.7788681983947754, -1.2358511686325073, 2.4547128677368164, 0.26438310742378235, -0.39183035492897034, -3.1032018661499023, -0.2063276171684265, 0.8521333932876587, 1.6330090761184692, 0.1361059546470642, 1.1906282901763916, 1.258829116821289, 3.235807180404663, 1.4362263679504395, -0.003441931214183569, -0.6291849613189697, 1.6404099464416504, 0.9951947331428528, 0.5234764218330383, 1.2594586610794067, -0.2168947160243988, -0.7961016297340393, 1.2722874879837036, 1.21775221824646, 3.5400311946868896, 1.7919604778289795, 0.9430420398712158, 0.6165274381637573, -0.25773870944976807, -0.6343350410461426, -0.4852696657180786, -0.08768627792596817, -0.719439685344696, -0.39457616209983826, 1.8198963403701782, -2.998032331466675, -1.062936782836914, -1.5726168155670166, -0.572534441947937, 0.8631665706634521, -0.728521466255188, 0.5324524641036987, -0.5321309566497803, 3.9718353748321533, -0.7301481366157532, 1.3612570762634277, 0.23862385749816895, -0.8644785284996033, -1.4484822750091553, -1.7856279611587524, 2.634071111679077, -2.33986759185791, -0.04127126932144165, 2.0456180572509766, -3.124962091445923, 1.3254239559173584, 1.4651503562927246, 1.8007570505142212, -2.8933231830596924, -0.10193370282649994, 1.646795392036438, -1.436654806137085, -0.17200332880020142, 0.13583096861839294, -2.0049540996551514, 3.713125228881836, 1.2275798320770264, -4.703408241271973, 0.6839479207992554, 1.1716176271438599, -2.6228184700012207, -0.2935570478439331, 0.021186741068959236, -2.199392557144165, -1.2577612400054932, 1.193315863609314, 0.48968514800071716, 1.0849348306655884, -2.236528158187866, 1.1149684190750122, 0.8319806456565857, 2.1656696796417236, -0.5875287055969238, 1.5601778030395508, -1.1006022691726685, 0.4528639018535614, 0.727985143661499, -1.1509113311767578, -0.8324224352836609, 2.831015110015869, 2.7956361770629883, 1.436116099357605, -0.5871314406394958, 0.7606248259544373, 1.3958778381347656, 3.0409088134765625, 0.960317075252533, -3.7513275146484375, 1.0386831760406494, -1.4432018995285034, 0.23341332376003265, 1.781005859375, 1.2247886657714844, 2.7978193759918213, -2.379884719848633, 0.21838216483592987, 0.9109935164451599, 0.6842250227928162, 1.770138144493103, 0.4006383419036865, 2.5885252952575684, -1.6361544132232666, -2.1799399852752686, 4.242112636566162, 0.7698670029640198, -1.1146563291549683, 0.7846508622169495, 4.913908958435059, -1.67006516456604, -0.26300516724586487, -1.9935240745544434, -0.2378244400024414, 2.4409945011138916, -1.5329954624176025, -1.814338207244873, 0.6532415151596069, 2.5431878566741943, -2.708953619003296, -2.746403694152832, 4.024925231933594, 4.10497522354126, 0.2395777851343155, -2.9964308738708496, 0.14484308660030365, 2.6326887607574463, 2.3751442432403564, -1.4627984762191772, 1.5796287059783936, 2.5349135398864746, 1.5403282642364502, 1.106546401977539, -1.0204191207885742, 0.8635603785514832, 1.1053293943405151, 3.9335200786590576, -1.5234586000442505, 3.8918814659118652, -3.7988200187683105, -1.8775707483291626, 1.4849294424057007, -2.053417444229126, 2.449751377105713, -0.6836935877799988, -0.02579328790307045, 2.8910071849823, 0.39393582940101624, -0.7211108803749084, -0.831883430480957, -1.0054802894592285, 5.015860080718994, 1.7543498277664185, -1.5051748752593994, -0.24360394477844238, -1.6450620889663696, -0.3162332773208618, 0.6208935379981995, -3.2083675861358643, -0.6927999258041382, -1.6442928314208984, 2.1897940635681152, 0.5380280017852783, -0.00947304256260395, 0.8245382308959961, 2.605401039123535, 1.593579888343811, -0.27431637048721313, 1.1073760986328125, -0.522742748260498, 1.341273307800293, -0.14017173647880554, -1.036444067955017, 3.0185163021087646, -1.7033638954162598, 0.24247397482395172, 1.2062186002731323, 2.5670838356018066, 3.8467276096343994, 0.41704705357551575, 1.6245324611663818, 0.10670699924230576, 0.03018062561750412, 4.622349262237549, -1.604385495185852, 1.1267460584640503, -0.1357911378145218, -0.4510461986064911, 0.3901543617248535, 2.1687934398651123, 1.0723576545715332, -0.27114138007164, -0.941886305809021, 0.5590645670890808, 2.056140899658203, 0.328113853931427, 5.254450798034668, 0.13543501496315002, 1.5581437349319458, -0.16464489698410034, -1.4460914134979248, -2.079799175262451, 1.9739773273468018, -1.6507195234298706, -0.5763546824455261, -0.30235955119132996, -0.9485944509506226, 1.932751178741455, -2.3164243698120117, 0.5194949507713318, 1.8242465257644653, -1.3973143100738525, 2.904604196548462, -0.43946927785873413, -0.7592736482620239, 0.3166855275630951, -0.20043350756168365, -0.8442090749740601, -2.4561190605163574, -0.5492135882377625, 0.4597739577293396, -3.23655104637146, 0.8923385739326477, 1.5528292655944824, 3.9251606464385986, -1.9435408115386963, -0.7998365759849548, 1.4552056789398193, -0.10905039310455322, 0.6479719877243042, -1.6016473770141602, -2.307159423828125, -0.3424059748649597, 0.36299437284469604, 1.8060860633850098, 0.9227097630500793, 0.03764377906918526, 0.14657282829284668, -0.28350791335105896, 0.6892513036727905, 0.18664614856243134, 0.12445662170648575, -2.150035858154297, -1.0820194482803345, -0.35386404395103455, -0.08227480202913284, 1.4587911367416382, 1.1381194591522217, -0.5981205701828003, -2.158170223236084, -0.6416275501251221, 0.9743415713310242, -2.185551166534424, 2.87138295173645, 0.24407008290290833, 2.0180504322052, 0.4938555657863617, 2.563422203063965, -3.1394543647766113, -1.4451587200164795, -0.488584041595459, 4.354775905609131, 2.171795606613159, 0.1316213756799698, -2.657097339630127, -1.2106120586395264, -0.6045164465904236, 1.7617547512054443, 1.260737657546997, 0.786660373210907, 0.6213839054107666, 0.7329487800598145, 1.8745871782302856, -1.109086275100708, 1.646801471710205, 0.5353841781616211, 1.5010086297988892, -2.0934622287750244, 1.3507888317108154, -0.29538464546203613, 0.13728119432926178, -1.6628503799438477, 0.8039308786392212, -0.3025365471839905, -1.4998908042907715, 0.053337182849645615, -1.0860117673873901, 0.35704314708709717, 2.5875213146209717, -0.9583339691162109, 0.3331129550933838, -0.9568996429443359, 0.13027988374233246, -1.4455140829086304, 0.5052146315574646, -0.294562965631485, -1.859537959098816, 2.685783863067627, 2.8488776683807373, 1.111644983291626, -4.719507217407227, 1.6874269247055054, 0.5334599614143372, 0.8983909487724304, 0.5277442932128906, 3.4552993774414062, -0.45360472798347473, 1.2030198574066162, -0.4175063371658325, -2.079277276992798, -0.06648615747690201, -0.4362044334411621, 0.07266420871019363, 1.966369390487671, 0.3962307870388031, 0.20434391498565674, -1.0514594316482544, -1.2231950759887695, -6.259331226348877, -0.5884528160095215, 0.4605991244316101, -0.7115302681922913, -1.6322853565216064, 2.2190918922424316, 0.2919866442680359, 0.15279024839401245, 0.005713019520044327, 0.29894816875457764, -1.3127360343933105, 3.2293472290039062, 1.5542246103286743, -2.8574724197387695, -0.9447439908981323, 0.10487287491559982, -0.2112971842288971, -1.3839592933654785, 0.13264666497707367, 0.4305884838104248, 2.4244232177734375, 1.0975227355957031, 0.5652984380722046, -0.7499063014984131, 0.7674878835678101, 1.3078625202178955, -1.7208631038665771, -0.39366963505744934, -3.1221959590911865, -1.4221930503845215, 0.3691614866256714, 0.2927713394165039, -0.6583696007728577, -0.937181293964386, -2.1677916049957275, -1.3319079875946045, 3.2338128089904785, 0.5504646897315979, -1.2449407577514648, 0.5232706665992737, 3.737208366394043, 1.7380146980285645, 1.1830741167068481, 1.7377034425735474, -1.2363784313201904, 2.079674005508423, 0.003164073685184121, 2.3442037105560303, 1.2242600917816162, 2.859971284866333, 0.493992418050766, 2.71482515335083, 1.6471220254898071, -1.1238538026809692, -1.753158688545227, 0.21924886107444763, 1.7189933061599731, 0.36002907156944275, -0.02452891319990158, 0.6912923455238342, 1.0135234594345093, 0.10505995899438858, -1.0770429372787476, -0.5788457989692688, 1.917694330215454, 0.2825886905193329, 0.6193249821662903, -0.5198181867599487, 0.08585119247436523, -0.5806217789649963, 1.2043689489364624, 0.2543066740036011, -1.1619189977645874, -0.15867839753627777, -0.19057705998420715, 3.353851556777954, -2.260423183441162, 3.1740968227386475, 0.9474583864212036, -0.5531181693077087, 0.8862122297286987, -0.04037923738360405, -0.04101025313138962, 0.020885402336716652, 1.7635514736175537, 2.3880369663238525, -0.3134874999523163, -1.9730253219604492, 1.8283436298370361, 2.484062910079956, -2.6632165908813477, 1.328933596611023, -0.17608147859573364, 2.0462429523468018, -0.8654425740242004, -1.1931524276733398, -0.7866507768630981, 0.3746057152748108, -0.22104167938232422, 1.7315897941589355, 0.03717690706253052, 0.8445145487785339, 0.7153377532958984, -1.9954127073287964, -0.6273461580276489, 0.14894014596939087, -0.6611942648887634, 1.0114496946334839, 0.24076993763446808, 1.769705057144165, -0.6155365705490112, 2.233571767807007, 0.5225226879119873, 1.6029372215270996, 1.8131130933761597, 0.10039715468883514, 0.529758870601654, -0.3043689727783203, -0.8830515742301941, 0.8661924004554749, -1.4449617862701416, 1.6936768293380737, -0.3621590733528137, -0.14198437333106995, 0.3795423209667206, 1.2556607723236084, 2.8850927352905273, -0.1704980432987213, 1.1869096755981445, 1.6295720338821411, -0.5962333679199219, 1.3431836366653442, 2.497142791748047, -1.7232129573822021, -0.9797272086143494, -0.017712071537971497, -0.9390959143638611, -1.7405493259429932, 1.0254749059677124, 0.2108982801437378, 0.20440971851348877, 0.4580158591270447, 1.7954813241958618, -0.5585510730743408, 0.8081576228141785, -0.20861445367336273, 1.6965882778167725, -0.7973828315734863, 0.35350528359413147, -0.22542329132556915, -0.5621058344841003, -2.3911325931549072, -0.11190558224916458, 0.35265618562698364, -1.3124377727508545, -0.051363807171583176, -1.0120484828948975, -0.004382966551929712, -0.8828498125076294, 1.3674054145812988, -0.994464635848999, -1.8710576295852661, -0.8863943219184875, 0.4855693578720093, 1.2652944326400757, 0.16560101509094238, 0.20594443380832672, 1.2052948474884033, -2.2497239112854004, 1.3846733570098877, 1.7569588422775269, -1.3485627174377441, -2.031843900680542, 0.5412606596946716, 0.5993766784667969, -1.0972776412963867, 0.8972541689872742, 0.5336237549781799, 0.363222599029541, 0.7938833832740784, 1.9459508657455444, -0.16271065175533295, 1.6919869184494019, -0.8835891485214233, -0.8870220184326172, 2.032289981842041, -0.7467882037162781, -0.8422700762748718, 1.8043749332427979, -0.7581952214241028, 3.4064979553222656, -0.3912326693534851, 1.3168599605560303, -0.2494603395462036, -1.3825312852859497, 1.9773638248443604, -0.22506655752658844, -0.28269293904304504, 0.5107929706573486, -0.7100293636322021, -1.265915036201477, 0.3307812511920929, 0.1604251265525818, 1.7088465690612793, -0.6278841495513916, 3.0585875511169434, 0.41218501329421997, 1.7146517038345337, -1.2036099433898926, -2.4953463077545166, -1.2234127521514893, 1.1470588445663452, -1.1016554832458496, -0.5435171127319336, -2.3166463375091553, -0.03165753558278084, -1.3757312297821045, 1.178849458694458, 1.091956615447998, 0.5106562972068787, -0.30505555868148804, -1.249686598777771, -1.0967769622802734, -2.1495420932769775, 0.692825436592102, 1.100780963897705, 1.3205702304840088, 0.4905869662761688, 1.0816987752914429, -0.7171016335487366, -1.1337306499481201, -1.4399652481079102, -0.24623176455497742, 2.6436667442321777, 2.6163947582244873, 0.8406428098678589, 0.5081214904785156, 0.45410144329071045, 1.1105812788009644, -1.3573174476623535, 1.58882474899292, 2.117482900619507, -0.32054758071899414, -1.430480718612671, -0.7171957492828369, -0.6487199068069458, -1.2875609397888184, 1.3963690996170044, -0.6229600310325623, 0.30596810579299927, -0.04745554178953171, 1.3002899885177612, 0.3551110625267029, -2.0894618034362793, -0.17672620713710785, 0.14887598156929016, -0.041034430265426636, 0.015681428834795952, -0.603380024433136, 0.6893516778945923, 0.6962331533432007, -0.586174726486206, -0.744047999382019, -0.8870952129364014, 1.0373657941818237, -0.4284047484397888, 1.2392892837524414, -1.464247465133667, 3.017127275466919, 1.42833411693573, 1.4564560651779175, 0.3217642307281494, 2.3522372245788574, 1.6636266708374023, 2.0726051330566406, 2.612255811691284, -0.9650866985321045, 0.8722571730613708, -1.4471209049224854, 0.5062829256057739, -1.5296621322631836, -0.5604294538497925, -0.42684343457221985, 1.2712132930755615, 0.06081903353333473, -0.14390616118907928, 1.645308494567871, 1.126012921333313, -1.0289759635925293, -0.9145210385322571, -0.4327174723148346, 0.6915950179100037, 0.46518027782440186, 0.8640521764755249, -0.4778166711330414, -0.3239920437335968, -1.8124281167984009, -0.1497611403465271, 1.2893747091293335, -0.3089168667793274, 0.987169086933136, 1.6421984434127808, 0.08935727179050446, -1.4691554307937622, 1.1625698804855347, 1.936449646949768, 0.5870004296302795, -1.1142851114273071, -0.2643900513648987, -0.7978847622871399, -0.4087274372577667, 2.120387077331543, -0.8391238451004028, 1.6260058879852295, 2.517577648162842, 1.2145984172821045, -1.2399462461471558, -0.5962764620780945, -0.07261452078819275, 1.2829978466033936, 0.6905907392501831, -1.0142267942428589, 0.32085201144218445, 0.17373797297477722, 0.17307327687740326, -2.3271260261535645, 0.16446176171302795, -1.0097846984863281, -0.43766626715660095, -0.7438302040100098, 0.22289785742759705, -0.28923121094703674, 0.6008890867233276, 0.23951448500156403, 1.0410730838775635, -0.9636746644973755, -0.0624113529920578, -0.6739354729652405, 0.028155606240034103, 0.34038469195365906, 1.199864149093628, -0.1867898851633072, -0.4059431552886963, -0.9573158025741577, -0.8295749425888062, 0.6963943839073181, 2.3987369537353516, -0.7512070536613464, 0.6185274720191956, 0.519354522228241, 1.4609770774841309, -0.1546747386455536, 1.0318667888641357, 0.8053311109542847, -0.15991245210170746, -0.5799978971481323, -0.837999165058136, -1.2659332752227783, -0.4781982898712158, 0.15254998207092285, 1.8776575326919556, 1.438567876815796, -0.9411293268203735, 0.659809947013855, 0.23853440582752228, -2.036043643951416, 0.3436359763145447, -0.10775680840015411, 0.3562357425689697, 1.6336373090744019, 2.0259439945220947, -0.08411113917827606, 0.5301715731620789, -0.13426019251346588, 1.1524701118469238, 0.7336398363113403, -1.8210945129394531, -0.13687504827976227, 0.7843222618103027, -0.9798597693443298, -0.12692207098007202, 0.3169820308685303, 0.4055357873439789, 0.6017698645591736, 0.7519020438194275, 1.7427594661712646, 1.3477226495742798, -0.40949270129203796, -0.12375674396753311, 0.2960997521877289, 0.7546242475509644, 2.1033639907836914, -0.5716950297355652, -0.11929856985807419, 0.36953312158584595, 1.7655469179153442, -1.2160338163375854, 0.05205336958169937, -0.19702383875846863, 0.17317815124988556, 1.7358392477035522, -0.011180995963513851, 1.776241660118103, -1.980185627937317, -0.37862125039100647, 0.1507730931043625, -1.5381503105163574, -1.2267142534255981, 0.3498934507369995, 1.1976202726364136, 0.8433547019958496, 0.8112203478813171, 0.7024375796318054, 1.0035579204559326, 0.7974477410316467, -1.2868502140045166, -1.053176999092102, -1.8306750059127808, 0.3463905155658722, -1.1265288591384888, 0.6501478552818298, 1.1271337270736694, 1.8608217239379883, -0.5642457604408264, 1.386921763420105, 0.6486926674842834, 1.3748453855514526, 0.8611701726913452, 0.43283358216285706, 0.08813823759555817, -1.4542986154556274, -2.1795384883880615, 1.2706669569015503, -0.5413203835487366, -0.3557037115097046, -0.41527557373046875, 0.5648781657218933, -1.447618842124939, 1.3197169303894043, 0.8222975134849548, 0.033753760159015656, -1.1263984441757202, -0.26873230934143066, 0.04764867573976517, 2.105448007583618, -1.0284440517425537, -1.268742322921753, -0.7919216752052307, 1.0618661642074585, -0.17100471258163452, 0.8933720588684082, -0.4265539050102234, 0.6358658075332642, 0.49965813755989075, 0.009387997910380363, -0.045128438621759415, -1.068934679031372, -0.9486421346664429, 1.122575044631958, 0.0011348120169714093, -1.2469595670700073, -0.20090681314468384, 0.4801395833492279, 0.08177657425403595, -0.7902010679244995, 0.48264646530151367, -0.305896133184433, -1.3742104768753052, 1.376062273979187, 1.4864224195480347, 0.26697224378585815, 0.7315543293952942, 1.6790578365325928, 0.38977763056755066, 0.3874405324459076, -0.7647071480751038, -0.04334692284464836, 0.6613774299621582, 1.8420182466506958, -0.2982628047466278, -0.41225430369377136, 0.02796153351664543, 0.3509557545185089, -0.2768392562866211, 1.402003288269043, -0.026617970317602158, 0.5563147068023682, 0.922531247138977, 0.9759008884429932, 0.43061256408691406, 1.5584018230438232, -0.2799150347709656, -0.7286038994789124, 0.8901063799858093, -2.1307926177978516, 0.43648797273635864, -0.5729209184646606, 1.1601735353469849, 0.8120626211166382, 0.6765581965446472, 0.41944020986557007, -0.9589037299156189, -0.11200685054063797, -1.6624014377593994, 0.26295825839042664, -1.3656576871871948, -2.0724310874938965, -0.0264616496860981, 1.7895379066467285, 0.16477756202220917, 1.3881266117095947, -0.23118168115615845, 1.6725127696990967, 1.559274673461914, 0.29095458984375, -0.17143021523952484, 0.6179075837135315, 0.547698438167572, 1.8648637533187866, -0.11395978182554245, 0.04082396626472473, 0.32638081908226013, 0.7502964735031128, 1.446120262145996, -0.9489628672599792, 0.009661017917096615, -0.5787986516952515, 1.2013952732086182, 0.877912700176239, -0.17424391210079193, -0.4504498243331909, 1.2455164194107056, -0.23141340911388397, 2.2822227478027344, -1.1864994764328003, -1.8184393644332886, 1.1200041770935059, 0.5767568945884705, 0.7832701802253723, 1.4232443571090698, 1.2769371271133423, -0.5127639770507812, 0.6358548402786255, -0.9474811553955078, -1.281542420387268, 1.3805862665176392, -0.23223188519477844, -0.9004595279693604, 0.5489565134048462, -0.009024289436638355, -0.05015353858470917, -0.3340890109539032, 0.8608945608139038, -0.5570130348205566, -0.6248934864997864, 1.223509430885315, 0.46338656544685364, 1.295304775238037, 0.12963931262493134, -0.7529188394546509, 1.1620490550994873, 0.016767574474215508, 1.4765608310699463, 0.49038001894950867, 0.10441522300243378, 0.404510498046875, -0.15957874059677124, -0.638129711151123, -0.5646915435791016, -1.12070631980896, 0.24425356090068817, -0.7514116168022156, 0.9526936411857605, 0.34820663928985596, 0.9550994634628296, 1.0826013088226318, 0.9208170175552368, 1.5652029514312744, 1.2666655778884888, 0.009231208823621273, 0.8684942722320557, 1.3165093660354614, 1.199739694595337, -0.9658477902412415, 0.28716808557510376, 0.18067514896392822, 1.5307883024215698, -0.0798363983631134, 1.0748118162155151, -0.8866642713546753, -0.016217119991779327, -0.9524630308151245, 0.17820928990840912, 0.3416484594345093, -1.321009635925293, 1.1069343090057373, 0.7627183794975281, 0.8970338702201843, -0.5391928553581238, 0.798110842704773, 1.3980318307876587, 1.2495312690734863, 0.2945343255996704, -0.1253933161497116, -1.7132365703582764, 0.912730872631073, 0.40628471970558167, 0.27741697430610657, -1.663072943687439, 0.9569191336631775, -0.8792750835418701, 0.5942355394363403, -0.6687363982200623, -0.07658037543296814, 0.04527933523058891, 0.4129147529602051, -0.7243540287017822, 1.420106291770935, -1.1206105947494507, -0.4843263626098633, -0.4380076825618744, -0.2617820203304291, 0.9056782126426697, 0.11569775640964508, -0.3242627680301666, 0.44064319133758545, 0.48407480120658875, -0.26436588168144226, -0.8133772611618042, 0.10843255370855331, -0.3814876973628998, 0.13539129495620728, 0.7042076587677002, 0.8128501772880554, -0.9509641528129578, 0.4222927391529083, 0.6057748794555664, 0.6690261960029602, -0.4126419126987457, -0.5947924852371216, 0.11744707822799683, 1.572588562965393, 0.9537664651870728, -0.33521610498428345, 1.2469466924667358, 0.6989642977714539, -0.6274456977844238, 0.5444852113723755, 0.9205167889595032, 0.12130526453256607, 1.7236825227737427, 0.31128302216529846, 0.1051022931933403, 1.3202879428863525, -0.05890180543065071, 1.4674770832061768, -0.7451862096786499, 0.2310522496700287, -0.34553006291389465, -0.9303270578384399, 0.7228937745094299, 0.8737080097198486, 0.4561719298362732, -0.5489755868911743, 0.0013494340237230062, 0.6891728043556213, 1.2991859912872314, 0.10670866072177887, 1.9630885124206543, 0.910780668258667, 1.0482561588287354, -0.23659229278564453, -0.29605695605278015, -0.9060826897621155, 1.0068175792694092, 0.8301922082901001, 0.40215808153152466, -0.8555498719215393, 0.9160253405570984, 0.8947508931159973, -0.039616987109184265, -0.421086847782135, 0.7609778642654419, 0.06710185110569, -0.2632125914096832, 0.04305719584226608, -0.4147457778453827, -0.17914895713329315, -0.746668815612793, 1.018307089805603, 0.422985315322876, 1.6037729978561401, 0.14659583568572998, -0.6910980343818665, 0.4995640516281128, 0.9930918216705322, -0.37378624081611633, -0.06365003436803818, 0.5577653646469116, -0.19561906158924103, -0.4963274300098419, 0.1553003042936325, 0.7076853513717651, 0.5393102765083313, 0.18000507354736328, 0.8900918960571289, 0.6529794931411743, 1.9960521459579468, 1.1527438163757324, 0.7658519744873047, -0.9869773387908936, -0.15550746023654938, -0.24068322777748108, -0.6218953728675842, 0.7540767192840576, -0.8940039873123169, 1.1014459133148193, -0.8136218190193176, -1.1308473348617554, -0.4424579441547394, 0.7003425359725952, -0.2997259795665741, -0.5067175626754761, -0.8519003391265869, 0.6617083549499512, -1.37877357006073, 0.6712344288825989, 0.49718227982521057, -1.5744426250457764, -0.280560165643692, 0.601685106754303, -0.725685179233551, -0.4272107481956482, 0.260547935962677, -1.0729204416275024, 0.1488589644432068, -0.3833419382572174, 0.651986837387085, 0.29836633801460266, 0.5482242107391357, 0.9864826202392578, -0.03270040452480316, 0.5410167574882507, -1.3054742813110352, -0.01838967204093933, 0.37626051902770996, 0.8995687961578369, 0.6420487761497498, 0.26649150252342224, -0.5490512251853943, 0.8965134024620056, 1.198988676071167, -0.6803280711174011, -0.2148113250732422, 0.8107118010520935, 0.25999072194099426, 0.9854020476341248, -0.6950244307518005, -0.048058249056339264, -0.03856867924332619, -0.35027122497558594, -0.5031893849372864, 0.38829436898231506, -0.4057080149650574, 1.144989013671875, -0.23596420884132385, 1.0253596305847168, 0.33038243651390076, -0.6926600337028503, -0.891082763671875, 0.10938940197229385, 0.5916374921798706, -1.132912039756775, -0.28149476647377014, -0.9225682020187378, 0.30563363432884216, 0.055939510464668274, 0.33163565397262573, -0.10204947739839554, -0.17362083494663239, 0.17331302165985107, 0.26806414127349854, 0.151006817817688, -0.06658998876810074, 0.7055719494819641, 0.43864643573760986, 0.4586223065853119, -0.028137920424342155, 1.2448880672454834, 0.24064356088638306, -0.5954291224479675, 0.14031483232975006, 0.21659348905086517, -0.09543561935424805, 0.3166549503803253, -0.17556704580783844, -0.42591723799705505, -0.6999067068099976, -0.25679871439933777, -0.36412960290908813, 0.34307414293289185, -0.5973138213157654, -0.6880350112915039, 0.9800440669059753, 0.1331806629896164, 1.1710436344146729, -0.010800451040267944, -1.1634067296981812, -1.3277409076690674, -1.1250687837600708, -0.1484212577342987, -0.7424240112304688, 0.2935844659805298, -0.11208616942167282, 0.09568294137716293, -0.5886088013648987, -0.3330429196357727], \"yaxis\": \"y\"}],\n",
              "                        {\"legend\": {\"itemsizing\": \"constant\", \"tracegroupgap\": 0}, \"margin\": {\"t\": 60}, \"template\": {\"data\": {\"bar\": [{\"error_x\": {\"color\": \"#2a3f5f\"}, \"error_y\": {\"color\": \"#2a3f5f\"}, \"marker\": {\"line\": {\"color\": \"white\", \"width\": 0.5}}, \"type\": \"bar\"}], \"barpolar\": [{\"marker\": {\"line\": {\"color\": \"white\", \"width\": 0.5}}, \"type\": \"barpolar\"}], \"carpet\": [{\"aaxis\": {\"endlinecolor\": \"#2a3f5f\", \"gridcolor\": \"#C8D4E3\", \"linecolor\": \"#C8D4E3\", \"minorgridcolor\": \"#C8D4E3\", \"startlinecolor\": \"#2a3f5f\"}, \"baxis\": {\"endlinecolor\": \"#2a3f5f\", \"gridcolor\": \"#C8D4E3\", \"linecolor\": \"#C8D4E3\", \"minorgridcolor\": \"#C8D4E3\", \"startlinecolor\": \"#2a3f5f\"}, \"type\": \"carpet\"}], \"choropleth\": [{\"colorbar\": {\"outlinewidth\": 0, \"ticks\": \"\"}, \"type\": \"choropleth\"}], \"contour\": [{\"colorbar\": {\"outlinewidth\": 0, \"ticks\": \"\"}, \"colorscale\": [[0.0, \"#0d0887\"], [0.1111111111111111, \"#46039f\"], [0.2222222222222222, \"#7201a8\"], [0.3333333333333333, \"#9c179e\"], [0.4444444444444444, \"#bd3786\"], [0.5555555555555556, \"#d8576b\"], [0.6666666666666666, \"#ed7953\"], [0.7777777777777778, \"#fb9f3a\"], [0.8888888888888888, \"#fdca26\"], [1.0, \"#f0f921\"]], \"type\": \"contour\"}], \"contourcarpet\": [{\"colorbar\": {\"outlinewidth\": 0, \"ticks\": \"\"}, \"type\": \"contourcarpet\"}], \"heatmap\": [{\"colorbar\": {\"outlinewidth\": 0, \"ticks\": \"\"}, \"colorscale\": [[0.0, \"#0d0887\"], [0.1111111111111111, \"#46039f\"], [0.2222222222222222, \"#7201a8\"], [0.3333333333333333, \"#9c179e\"], [0.4444444444444444, \"#bd3786\"], [0.5555555555555556, \"#d8576b\"], [0.6666666666666666, \"#ed7953\"], [0.7777777777777778, \"#fb9f3a\"], [0.8888888888888888, \"#fdca26\"], [1.0, \"#f0f921\"]], \"type\": \"heatmap\"}], \"heatmapgl\": [{\"colorbar\": {\"outlinewidth\": 0, \"ticks\": \"\"}, \"colorscale\": [[0.0, \"#0d0887\"], [0.1111111111111111, \"#46039f\"], [0.2222222222222222, \"#7201a8\"], [0.3333333333333333, \"#9c179e\"], [0.4444444444444444, \"#bd3786\"], [0.5555555555555556, \"#d8576b\"], [0.6666666666666666, \"#ed7953\"], [0.7777777777777778, \"#fb9f3a\"], [0.8888888888888888, \"#fdca26\"], [1.0, \"#f0f921\"]], \"type\": \"heatmapgl\"}], \"histogram\": [{\"marker\": {\"colorbar\": {\"outlinewidth\": 0, \"ticks\": \"\"}}, \"type\": \"histogram\"}], \"histogram2d\": [{\"colorbar\": {\"outlinewidth\": 0, \"ticks\": \"\"}, \"colorscale\": [[0.0, \"#0d0887\"], [0.1111111111111111, \"#46039f\"], [0.2222222222222222, \"#7201a8\"], [0.3333333333333333, \"#9c179e\"], [0.4444444444444444, \"#bd3786\"], [0.5555555555555556, \"#d8576b\"], [0.6666666666666666, \"#ed7953\"], [0.7777777777777778, \"#fb9f3a\"], [0.8888888888888888, \"#fdca26\"], [1.0, \"#f0f921\"]], \"type\": \"histogram2d\"}], \"histogram2dcontour\": [{\"colorbar\": {\"outlinewidth\": 0, \"ticks\": \"\"}, \"colorscale\": [[0.0, \"#0d0887\"], [0.1111111111111111, \"#46039f\"], [0.2222222222222222, \"#7201a8\"], [0.3333333333333333, \"#9c179e\"], [0.4444444444444444, \"#bd3786\"], [0.5555555555555556, \"#d8576b\"], [0.6666666666666666, \"#ed7953\"], [0.7777777777777778, \"#fb9f3a\"], [0.8888888888888888, \"#fdca26\"], [1.0, \"#f0f921\"]], \"type\": \"histogram2dcontour\"}], \"mesh3d\": [{\"colorbar\": {\"outlinewidth\": 0, \"ticks\": \"\"}, \"type\": \"mesh3d\"}], \"parcoords\": [{\"line\": {\"colorbar\": {\"outlinewidth\": 0, \"ticks\": \"\"}}, \"type\": \"parcoords\"}], \"pie\": [{\"automargin\": true, \"type\": \"pie\"}], \"scatter\": [{\"marker\": {\"colorbar\": {\"outlinewidth\": 0, \"ticks\": \"\"}}, \"type\": \"scatter\"}], \"scatter3d\": [{\"line\": {\"colorbar\": {\"outlinewidth\": 0, \"ticks\": \"\"}}, \"marker\": {\"colorbar\": {\"outlinewidth\": 0, \"ticks\": \"\"}}, \"type\": \"scatter3d\"}], \"scattercarpet\": [{\"marker\": {\"colorbar\": {\"outlinewidth\": 0, \"ticks\": \"\"}}, \"type\": \"scattercarpet\"}], \"scattergeo\": [{\"marker\": {\"colorbar\": {\"outlinewidth\": 0, \"ticks\": \"\"}}, \"type\": \"scattergeo\"}], \"scattergl\": [{\"marker\": {\"colorbar\": {\"outlinewidth\": 0, \"ticks\": \"\"}}, \"type\": \"scattergl\"}], \"scattermapbox\": [{\"marker\": {\"colorbar\": {\"outlinewidth\": 0, \"ticks\": \"\"}}, \"type\": \"scattermapbox\"}], \"scatterpolar\": [{\"marker\": {\"colorbar\": {\"outlinewidth\": 0, \"ticks\": \"\"}}, \"type\": \"scatterpolar\"}], \"scatterpolargl\": [{\"marker\": {\"colorbar\": {\"outlinewidth\": 0, \"ticks\": \"\"}}, \"type\": \"scatterpolargl\"}], \"scatterternary\": [{\"marker\": {\"colorbar\": {\"outlinewidth\": 0, \"ticks\": \"\"}}, \"type\": \"scatterternary\"}], \"surface\": [{\"colorbar\": {\"outlinewidth\": 0, \"ticks\": \"\"}, \"colorscale\": [[0.0, \"#0d0887\"], [0.1111111111111111, \"#46039f\"], [0.2222222222222222, \"#7201a8\"], [0.3333333333333333, \"#9c179e\"], [0.4444444444444444, \"#bd3786\"], [0.5555555555555556, \"#d8576b\"], [0.6666666666666666, \"#ed7953\"], [0.7777777777777778, \"#fb9f3a\"], [0.8888888888888888, \"#fdca26\"], [1.0, \"#f0f921\"]], \"type\": \"surface\"}], \"table\": [{\"cells\": {\"fill\": {\"color\": \"#EBF0F8\"}, \"line\": {\"color\": \"white\"}}, \"header\": {\"fill\": {\"color\": \"#C8D4E3\"}, \"line\": {\"color\": \"white\"}}, \"type\": \"table\"}]}, \"layout\": {\"annotationdefaults\": {\"arrowcolor\": \"#2a3f5f\", \"arrowhead\": 0, \"arrowwidth\": 1}, \"coloraxis\": {\"colorbar\": {\"outlinewidth\": 0, \"ticks\": \"\"}}, \"colorscale\": {\"diverging\": [[0, \"#8e0152\"], [0.1, \"#c51b7d\"], [0.2, \"#de77ae\"], [0.3, \"#f1b6da\"], [0.4, \"#fde0ef\"], [0.5, \"#f7f7f7\"], [0.6, \"#e6f5d0\"], [0.7, \"#b8e186\"], [0.8, \"#7fbc41\"], [0.9, \"#4d9221\"], [1, \"#276419\"]], \"sequential\": [[0.0, \"#0d0887\"], [0.1111111111111111, \"#46039f\"], [0.2222222222222222, \"#7201a8\"], [0.3333333333333333, \"#9c179e\"], [0.4444444444444444, \"#bd3786\"], [0.5555555555555556, \"#d8576b\"], [0.6666666666666666, \"#ed7953\"], [0.7777777777777778, \"#fb9f3a\"], [0.8888888888888888, \"#fdca26\"], [1.0, \"#f0f921\"]], \"sequentialminus\": [[0.0, \"#0d0887\"], [0.1111111111111111, \"#46039f\"], [0.2222222222222222, \"#7201a8\"], [0.3333333333333333, \"#9c179e\"], [0.4444444444444444, \"#bd3786\"], [0.5555555555555556, \"#d8576b\"], [0.6666666666666666, \"#ed7953\"], [0.7777777777777778, \"#fb9f3a\"], [0.8888888888888888, \"#fdca26\"], [1.0, \"#f0f921\"]]}, \"colorway\": [\"#636efa\", \"#EF553B\", \"#00cc96\", \"#ab63fa\", \"#FFA15A\", \"#19d3f3\", \"#FF6692\", \"#B6E880\", \"#FF97FF\", \"#FECB52\"], \"font\": {\"color\": \"#2a3f5f\"}, \"geo\": {\"bgcolor\": \"white\", \"lakecolor\": \"white\", \"landcolor\": \"white\", \"showlakes\": true, \"showland\": true, \"subunitcolor\": \"#C8D4E3\"}, \"hoverlabel\": {\"align\": \"left\"}, \"hovermode\": \"closest\", \"mapbox\": {\"style\": \"light\"}, \"paper_bgcolor\": \"white\", \"plot_bgcolor\": \"white\", \"polar\": {\"angularaxis\": {\"gridcolor\": \"#EBF0F8\", \"linecolor\": \"#EBF0F8\", \"ticks\": \"\"}, \"bgcolor\": \"white\", \"radialaxis\": {\"gridcolor\": \"#EBF0F8\", \"linecolor\": \"#EBF0F8\", \"ticks\": \"\"}}, \"scene\": {\"xaxis\": {\"backgroundcolor\": \"white\", \"gridcolor\": \"#DFE8F3\", \"gridwidth\": 2, \"linecolor\": \"#EBF0F8\", \"showbackground\": true, \"ticks\": \"\", \"zerolinecolor\": \"#EBF0F8\"}, \"yaxis\": {\"backgroundcolor\": \"white\", \"gridcolor\": \"#DFE8F3\", \"gridwidth\": 2, \"linecolor\": \"#EBF0F8\", \"showbackground\": true, \"ticks\": \"\", \"zerolinecolor\": \"#EBF0F8\"}, \"zaxis\": {\"backgroundcolor\": \"white\", \"gridcolor\": \"#DFE8F3\", \"gridwidth\": 2, \"linecolor\": \"#EBF0F8\", \"showbackground\": true, \"ticks\": \"\", \"zerolinecolor\": \"#EBF0F8\"}}, \"shapedefaults\": {\"line\": {\"color\": \"#2a3f5f\"}}, \"ternary\": {\"aaxis\": {\"gridcolor\": \"#DFE8F3\", \"linecolor\": \"#A2B1C6\", \"ticks\": \"\"}, \"baxis\": {\"gridcolor\": \"#DFE8F3\", \"linecolor\": \"#A2B1C6\", \"ticks\": \"\"}, \"bgcolor\": \"white\", \"caxis\": {\"gridcolor\": \"#DFE8F3\", \"linecolor\": \"#A2B1C6\", \"ticks\": \"\"}}, \"title\": {\"x\": 0.05}, \"xaxis\": {\"automargin\": true, \"gridcolor\": \"#EBF0F8\", \"linecolor\": \"#EBF0F8\", \"ticks\": \"\", \"title\": {\"standoff\": 15}, \"zerolinecolor\": \"#EBF0F8\", \"zerolinewidth\": 2}, \"yaxis\": {\"automargin\": true, \"gridcolor\": \"#EBF0F8\", \"linecolor\": \"#EBF0F8\", \"ticks\": \"\", \"title\": {\"standoff\": 15}, \"zerolinecolor\": \"#EBF0F8\", \"zerolinewidth\": 2}}}, \"xaxis\": {\"anchor\": \"y\", \"domain\": [0.0, 1.0], \"title\": {\"text\": \"x0\"}}, \"yaxis\": {\"anchor\": \"x\", \"domain\": [0.0, 1.0], \"title\": {\"text\": \"x1\"}}},\n",
              "                        {\"responsive\": true}\n",
              "                    ).then(function(){\n",
              "                            \n",
              "var gd = document.getElementById('6d321466-0d33-4cdf-9e13-157fa13525c4');\n",
              "var x = new MutationObserver(function (mutations, observer) {{\n",
              "        var display = window.getComputedStyle(gd).display;\n",
              "        if (!display || display === 'none') {{\n",
              "            console.log([gd, 'removed!']);\n",
              "            Plotly.purge(gd);\n",
              "            observer.disconnect();\n",
              "        }}\n",
              "}});\n",
              "\n",
              "// Listen for the removal of the full notebook cells\n",
              "var notebookContainer = gd.closest('#notebook-container');\n",
              "if (notebookContainer) {{\n",
              "    x.observe(notebookContainer, {childList: true});\n",
              "}}\n",
              "\n",
              "// Listen for the clearing of the current output cell\n",
              "var outputEl = gd.closest('.output');\n",
              "if (outputEl) {{\n",
              "    x.observe(outputEl, {childList: true});\n",
              "}}\n",
              "\n",
              "                        })\n",
              "                };\n",
              "                \n",
              "            </script>\n",
              "        </div>\n",
              "</body>\n",
              "</html>"
            ]
          },
          "metadata": {
            "tags": []
          }
        }
      ]
    },
    {
      "cell_type": "code",
      "metadata": {
        "id": "electrical-chocolate"
      },
      "source": [
        "model2 = tf.keras.Sequential([\n",
        "  layers.Embedding(max_tokens, output_dim = 20, name=\"embedding\"),\n",
        "  layers.Dropout(0.2),\n",
        "  layers.GlobalAveragePooling1D(),\n",
        "  layers.Dropout(0.2),\n",
        "  layers.Dense(500, activation='relu'),\n",
        "  layers.Dense(500, activation='relu'),\n",
        "  layers.Dense(len(le.classes_))]\n",
        ")"
      ],
      "id": "electrical-chocolate",
      "execution_count": 36,
      "outputs": []
    },
    {
      "cell_type": "code",
      "metadata": {
        "colab": {
          "base_uri": "https://localhost:8080/"
        },
        "id": "WKAepdv1512L",
        "outputId": "f7c69a30-c834-4d63-abdf-a65064c04fd0"
      },
      "source": [
        "model2.summary()"
      ],
      "id": "WKAepdv1512L",
      "execution_count": 37,
      "outputs": [
        {
          "output_type": "stream",
          "text": [
            "Model: \"sequential_2\"\n",
            "_________________________________________________________________\n",
            "Layer (type)                 Output Shape              Param #   \n",
            "=================================================================\n",
            "embedding (Embedding)        (None, None, 20)          30000     \n",
            "_________________________________________________________________\n",
            "dropout_5 (Dropout)          (None, None, 20)          0         \n",
            "_________________________________________________________________\n",
            "global_average_pooling1d_3 ( (None, 20)                0         \n",
            "_________________________________________________________________\n",
            "dropout_6 (Dropout)          (None, 20)                0         \n",
            "_________________________________________________________________\n",
            "dense_2 (Dense)              (None, 500)               10500     \n",
            "_________________________________________________________________\n",
            "dense_3 (Dense)              (None, 500)               250500    \n",
            "_________________________________________________________________\n",
            "dense_4 (Dense)              (None, 20)                10020     \n",
            "=================================================================\n",
            "Total params: 301,020\n",
            "Trainable params: 301,020\n",
            "Non-trainable params: 0\n",
            "_________________________________________________________________\n"
          ],
          "name": "stdout"
        }
      ]
    },
    {
      "cell_type": "code",
      "metadata": {
        "id": "Oz_gNFDL53W-"
      },
      "source": [
        "model2.compile(loss=losses.SparseCategoricalCrossentropy(from_logits=True),\n",
        "              optimizer='adam', \n",
        "              metrics=['accuracy'])"
      ],
      "id": "Oz_gNFDL53W-",
      "execution_count": 38,
      "outputs": []
    },
    {
      "cell_type": "code",
      "metadata": {
        "colab": {
          "base_uri": "https://localhost:8080/"
        },
        "id": "Mvq2qckU59uG",
        "outputId": "ef67c962-396b-4384-c10b-fb45499dd9f9"
      },
      "source": [
        "history2 = model2.fit(train_vec, epochs = 10, validation_data = val_vec)"
      ],
      "id": "Mvq2qckU59uG",
      "execution_count": 39,
      "outputs": [
        {
          "output_type": "stream",
          "text": [
            "Epoch 1/10\n",
            "29830/29830 [==============================] - 96s 3ms/step - loss: 1.7861 - accuracy: 0.4448 - val_loss: 1.1531 - val_accuracy: 0.6427\n",
            "Epoch 2/10\n",
            "29830/29830 [==============================] - 95s 3ms/step - loss: 1.1347 - accuracy: 0.6605 - val_loss: 0.9045 - val_accuracy: 0.7322\n",
            "Epoch 3/10\n",
            "29830/29830 [==============================] - 96s 3ms/step - loss: 1.0214 - accuracy: 0.6969 - val_loss: 0.8463 - val_accuracy: 0.7508\n",
            "Epoch 4/10\n",
            "29830/29830 [==============================] - 95s 3ms/step - loss: 0.9388 - accuracy: 0.7194 - val_loss: 0.8149 - val_accuracy: 0.7571\n",
            "Epoch 5/10\n",
            "29830/29830 [==============================] - 95s 3ms/step - loss: 0.9322 - accuracy: 0.7240 - val_loss: 0.7805 - val_accuracy: 0.7669\n",
            "Epoch 6/10\n",
            "29830/29830 [==============================] - 95s 3ms/step - loss: 0.9258 - accuracy: 0.7298 - val_loss: 0.7993 - val_accuracy: 0.7740\n",
            "Epoch 7/10\n",
            "29830/29830 [==============================] - 96s 3ms/step - loss: 0.8812 - accuracy: 0.7373 - val_loss: 0.7245 - val_accuracy: 0.7767\n",
            "Epoch 8/10\n",
            "29830/29830 [==============================] - 95s 3ms/step - loss: 0.8700 - accuracy: 0.7426 - val_loss: 0.7023 - val_accuracy: 0.7953\n",
            "Epoch 9/10\n",
            "29830/29830 [==============================] - 95s 3ms/step - loss: 0.8846 - accuracy: 0.7456 - val_loss: 0.7693 - val_accuracy: 0.7644\n",
            "Epoch 10/10\n",
            "29830/29830 [==============================] - 95s 3ms/step - loss: 0.8575 - accuracy: 0.7524 - val_loss: 0.7092 - val_accuracy: 0.7900\n"
          ],
          "name": "stdout"
        }
      ]
    },
    {
      "cell_type": "code",
      "metadata": {
        "id": "88ShCKXd6FlB"
      },
      "source": [
        "model3 = tf.keras.Sequential([\n",
        "  layers.Embedding(max_tokens, output_dim = 20, name = \"embedding\"),\n",
        "  layers.Dropout(0.2),\n",
        "  layers.GlobalAveragePooling1D(),\n",
        "  layers.Dense(500, activation = 'relu'),\n",
        "  layers.Dropout(0.2),\n",
        "  layers.Dense(500, activation = 'relu'),\n",
        "  layers.Dense(500, activation = 'sigmoid'),\n",
        "  layers.Dense(500, activation = 'relu'),\n",
        "  layers.Dense(len(le.classes_))]\n",
        ")"
      ],
      "id": "88ShCKXd6FlB",
      "execution_count": 46,
      "outputs": []
    },
    {
      "cell_type": "code",
      "metadata": {
        "colab": {
          "base_uri": "https://localhost:8080/"
        },
        "id": "K83emozA_-XP",
        "outputId": "8a36d1f4-b126-4540-bf5c-8b2eaba36641"
      },
      "source": [
        "model3.summary()"
      ],
      "id": "K83emozA_-XP",
      "execution_count": 47,
      "outputs": [
        {
          "output_type": "stream",
          "text": [
            "Model: \"sequential_5\"\n",
            "_________________________________________________________________\n",
            "Layer (type)                 Output Shape              Param #   \n",
            "=================================================================\n",
            "embedding (Embedding)        (None, None, 20)          30000     \n",
            "_________________________________________________________________\n",
            "dropout_12 (Dropout)         (None, None, 20)          0         \n",
            "_________________________________________________________________\n",
            "global_average_pooling1d_6 ( (None, 20)                0         \n",
            "_________________________________________________________________\n",
            "dense_14 (Dense)             (None, 500)               10500     \n",
            "_________________________________________________________________\n",
            "dropout_13 (Dropout)         (None, 500)               0         \n",
            "_________________________________________________________________\n",
            "dense_15 (Dense)             (None, 500)               250500    \n",
            "_________________________________________________________________\n",
            "dense_16 (Dense)             (None, 500)               250500    \n",
            "_________________________________________________________________\n",
            "dense_17 (Dense)             (None, 500)               250500    \n",
            "_________________________________________________________________\n",
            "dense_18 (Dense)             (None, 20)                10020     \n",
            "=================================================================\n",
            "Total params: 802,020\n",
            "Trainable params: 802,020\n",
            "Non-trainable params: 0\n",
            "_________________________________________________________________\n"
          ],
          "name": "stdout"
        }
      ]
    },
    {
      "cell_type": "code",
      "metadata": {
        "id": "uibkpZ6YACeN"
      },
      "source": [
        "model3.compile(loss = losses.SparseCategoricalCrossentropy(from_logits = True),\n",
        "              optimizer = 'adam', \n",
        "              metrics = ['accuracy'])"
      ],
      "id": "uibkpZ6YACeN",
      "execution_count": 48,
      "outputs": []
    },
    {
      "cell_type": "code",
      "metadata": {
        "colab": {
          "base_uri": "https://localhost:8080/"
        },
        "id": "8E-V_0PGAWLf",
        "outputId": "6d1e5fb9-98d7-4e37-b70b-4de2af5fffe1"
      },
      "source": [
        "history3 = model3.fit(train_vec, epochs = 10, validation_data = val_vec)"
      ],
      "id": "8E-V_0PGAWLf",
      "execution_count": 49,
      "outputs": [
        {
          "output_type": "stream",
          "text": [
            "Epoch 1/10\n",
            "29830/29830 [==============================] - 103s 3ms/step - loss: 1.9418 - accuracy: 0.4036 - val_loss: 1.3185 - val_accuracy: 0.5899\n",
            "Epoch 2/10\n",
            "29830/29830 [==============================] - 104s 3ms/step - loss: 1.2768 - accuracy: 0.6062 - val_loss: 1.1299 - val_accuracy: 0.6666\n",
            "Epoch 3/10\n",
            "29830/29830 [==============================] - 103s 3ms/step - loss: 1.0916 - accuracy: 0.6708 - val_loss: 0.9341 - val_accuracy: 0.7073\n",
            "Epoch 4/10\n",
            "29830/29830 [==============================] - 103s 3ms/step - loss: 1.0322 - accuracy: 0.6967 - val_loss: 0.9035 - val_accuracy: 0.7247\n",
            "Epoch 5/10\n",
            "29830/29830 [==============================] - 104s 3ms/step - loss: 0.9994 - accuracy: 0.7096 - val_loss: 0.9296 - val_accuracy: 0.7337\n",
            "Epoch 6/10\n",
            "29830/29830 [==============================] - 103s 3ms/step - loss: 0.9785 - accuracy: 0.7148 - val_loss: 0.8808 - val_accuracy: 0.7448\n",
            "Epoch 7/10\n",
            "29830/29830 [==============================] - 103s 3ms/step - loss: 0.9845 - accuracy: 0.7207 - val_loss: 0.9189 - val_accuracy: 0.7423\n",
            "Epoch 8/10\n",
            "29830/29830 [==============================] - 103s 3ms/step - loss: 0.9826 - accuracy: 0.7210 - val_loss: 0.9373 - val_accuracy: 0.7302\n",
            "Epoch 9/10\n",
            "29830/29830 [==============================] - 103s 3ms/step - loss: 0.9751 - accuracy: 0.7257 - val_loss: 0.8959 - val_accuracy: 0.7352\n",
            "Epoch 10/10\n",
            "29830/29830 [==============================] - 103s 3ms/step - loss: 0.9553 - accuracy: 0.7304 - val_loss: 0.8740 - val_accuracy: 0.7360\n"
          ],
          "name": "stdout"
        }
      ]
    },
    {
      "cell_type": "code",
      "metadata": {
        "id": "wP0f__lEAZfy"
      },
      "source": [
        ""
      ],
      "id": "wP0f__lEAZfy",
      "execution_count": null,
      "outputs": []
    }
  ]
}