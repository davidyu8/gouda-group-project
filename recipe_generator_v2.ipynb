{
 "cells": [
  {
   "cell_type": "code",
   "execution_count": 1,
   "id": "unlimited-prototype",
   "metadata": {},
   "outputs": [],
   "source": [
    "import numpy as np\n",
    "import pandas as pd\n",
    "import tensorflow as tf\n",
    "import re\n",
    "import string\n",
    "\n",
    "from tensorflow.keras import layers\n",
    "from tensorflow.keras import losses\n",
    "\n",
    "# requires update to tensorflow 2.4\n",
    "# >>> conda activate PIC16B\n",
    "# >>> pip install tensorflow==2.4\n",
    "from tensorflow.keras.layers.experimental.preprocessing import TextVectorization\n",
    "from tensorflow.keras.layers.experimental.preprocessing import StringLookup\n",
    "\n",
    "from sklearn.model_selection import train_test_split\n",
    "from sklearn.preprocessing import LabelEncoder"
   ]
  },
  {
   "cell_type": "code",
   "execution_count": 2,
   "id": "naked-aluminum",
   "metadata": {},
   "outputs": [],
   "source": [
    "import sqlite3\n",
    "\n",
    "def retrieve(word):\n",
    "    '''\n",
    "    queries recipe database for titles including a specified word\n",
    "    Parameters:\n",
    "        word (str): keyword for parsing the recipe data\n",
    "    Returns:\n",
    "        pandas DataFrame with relevant recipes\n",
    "    '''\n",
    "    \n",
    "    with sqlite3.connect(\"recipes1M.db\") as conn:\n",
    "        cmd = \\\n",
    "        f\"\"\"\n",
    "        SELECT R.title\n",
    "        FROM recipes R\n",
    "        WHERE R.title LIKE \"%{word}%\"\n",
    "        \"\"\"\n",
    "        df = pd.read_sql_query(cmd, conn)\n",
    "    \n",
    "    return df"
   ]
  },
  {
   "cell_type": "code",
   "execution_count": 3,
   "id": "delayed-recycling",
   "metadata": {},
   "outputs": [
    {
     "data": {
      "text/html": [
       "<div>\n",
       "<style scoped>\n",
       "    .dataframe tbody tr th:only-of-type {\n",
       "        vertical-align: middle;\n",
       "    }\n",
       "\n",
       "    .dataframe tbody tr th {\n",
       "        vertical-align: top;\n",
       "    }\n",
       "\n",
       "    .dataframe thead th {\n",
       "        text-align: right;\n",
       "    }\n",
       "</style>\n",
       "<table border=\"1\" class=\"dataframe\">\n",
       "  <thead>\n",
       "    <tr style=\"text-align: right;\">\n",
       "      <th></th>\n",
       "      <th>title</th>\n",
       "    </tr>\n",
       "  </thead>\n",
       "  <tbody>\n",
       "    <tr>\n",
       "      <th>0</th>\n",
       "      <td>Salmon &amp; Salad a La SPORTZ</td>\n",
       "    </tr>\n",
       "    <tr>\n",
       "      <th>1</th>\n",
       "      <td>Curried Pumpkin and Smoked Salmon Soup</td>\n",
       "    </tr>\n",
       "    <tr>\n",
       "      <th>2</th>\n",
       "      <td>Grilled Rosemary Salmon Spedini</td>\n",
       "    </tr>\n",
       "    <tr>\n",
       "      <th>3</th>\n",
       "      <td>Garlic and Dill Salmon</td>\n",
       "    </tr>\n",
       "    <tr>\n",
       "      <th>4</th>\n",
       "      <td>Spicy Grilled Orange Salmon</td>\n",
       "    </tr>\n",
       "    <tr>\n",
       "      <th>...</th>\n",
       "      <td>...</td>\n",
       "    </tr>\n",
       "    <tr>\n",
       "      <th>10788</th>\n",
       "      <td>Creamy Smoked Salmon and Dill Frittata</td>\n",
       "    </tr>\n",
       "    <tr>\n",
       "      <th>10789</th>\n",
       "      <td>Salmon and Spaghetti Casserole</td>\n",
       "    </tr>\n",
       "    <tr>\n",
       "      <th>10790</th>\n",
       "      <td>Salmon Pot Pie</td>\n",
       "    </tr>\n",
       "    <tr>\n",
       "      <th>10791</th>\n",
       "      <td>Pesto-Crusted Salmon Fillet With Citrus-Soy Sauce</td>\n",
       "    </tr>\n",
       "    <tr>\n",
       "      <th>10792</th>\n",
       "      <td>Cheese-and-Salmon Quesadilla</td>\n",
       "    </tr>\n",
       "  </tbody>\n",
       "</table>\n",
       "<p>10793 rows × 1 columns</p>\n",
       "</div>"
      ],
      "text/plain": [
       "                                                   title\n",
       "0                             Salmon & Salad a La SPORTZ\n",
       "1                 Curried Pumpkin and Smoked Salmon Soup\n",
       "2                        Grilled Rosemary Salmon Spedini\n",
       "3                                 Garlic and Dill Salmon\n",
       "4                            Spicy Grilled Orange Salmon\n",
       "...                                                  ...\n",
       "10788             Creamy Smoked Salmon and Dill Frittata\n",
       "10789                     Salmon and Spaghetti Casserole\n",
       "10790                                     Salmon Pot Pie\n",
       "10791  Pesto-Crusted Salmon Fillet With Citrus-Soy Sauce\n",
       "10792                       Cheese-and-Salmon Quesadilla\n",
       "\n",
       "[10793 rows x 1 columns]"
      ]
     },
     "execution_count": 3,
     "metadata": {},
     "output_type": "execute_result"
    }
   ],
   "source": [
    "df = retrieve(\"salmon\")\n",
    "df"
   ]
  },
  {
   "cell_type": "code",
   "execution_count": 10,
   "id": "graphic-movie",
   "metadata": {},
   "outputs": [],
   "source": [
    "data_raw = df.values.tolist()\n",
    "data_str = [item for recipe in data_raw for item in recipe]"
   ]
  },
  {
   "cell_type": "code",
   "execution_count": 17,
   "id": "monetary-conjunction",
   "metadata": {},
   "outputs": [
    {
     "data": {
      "text/plain": [
       "10770"
      ]
     },
     "execution_count": 17,
     "metadata": {},
     "output_type": "execute_result"
    }
   ],
   "source": [
    "max_len = 100\n",
    "data_ftr = [recipe_text for recipe_text in data_str if len(recipe_text) <= max_len]\n",
    "len(data_ftr)"
   ]
  },
  {
   "cell_type": "markdown",
   "id": "frozen-permit",
   "metadata": {},
   "source": [
    "The following code was taken from this website: https://www.kdnuggets.com/2020/07/generating-cooking-recipes-using-tensorflow.html. It is a blog post by Oleksii Trekhleb."
   ]
  },
  {
   "cell_type": "code",
   "execution_count": 18,
   "id": "premier-supervisor",
   "metadata": {},
   "outputs": [
    {
     "data": {
      "text/plain": [
       "{'num_words': None,\n",
       " 'filters': '',\n",
       " 'lower': False,\n",
       " 'split': '',\n",
       " 'char_level': True,\n",
       " 'oov_token': None,\n",
       " 'document_count': 10771,\n",
       " 'word_counts': '{\"\\\\u2423\": 1, \"S\": 18252, \"a\": 33966, \"l\": 21766, \"m\": 16103, \"o\": 23237, \"n\": 21950, \" \": 42005, \"&\": 406, \"d\": 12250, \"L\": 1273, \"P\": 3221, \"O\": 815, \"R\": 2000, \"T\": 1443, \"Z\": 66, \"C\": 4561, \"u\": 6498, \"r\": 13158, \"i\": 17036, \"e\": 27059, \"p\": 4059, \"k\": 4401, \"G\": 2337, \"s\": 10736, \"y\": 2653, \"c\": 6133, \"D\": 1032, \"g\": 2850, \"t\": 13315, \"W\": 2569, \"h\": 7799, \"b\": 1768, \"B\": 3081, \"w\": 3362, \",\": 739, \"M\": 1805, \"N\": 289, \"v\": 992, \"f\": 1157, \"U\": 52, \"\\'\": 418, \"E\": 581, \"F\": 1370, \"z\": 919, \"(\": 276, \"3\": 8, \"I\": 261, \")\": 268, \"V\": 391, \"H\": 954, \"j\": 149, \"/\": 105, \"x\": 105, \".\": 70, \"A\": 1291, \"Q\": 252, \"-\": 1927, \"\\\\\"\": 81, \"Y\": 116, \"J\": 161, \"q\": 188, \"K\": 193, \"!\": 62, \"[\": 1, \"]\": 1, \"#\": 18, \"5\": 22, \"X\": 9, \"8\": 1, \"4\": 5, \"*\": 10, \":\": 32, \"9\": 1, \"1\": 17, \"0\": 14, \"7\": 3, \"2\": 24, \"?\": 1, \"=\": 1, \"_\": 1, \"6\": 1, \";\": 1, \"`\": 1}',\n",
       " 'word_docs': '{\"\\\\u2423\": 1, \"Z\": 63, \"d\": 7750, \"L\": 1190, \"l\": 10761, \"o\": 10760, \"n\": 10762, \"&\": 400, \" \": 10759, \"R\": 1837, \"O\": 746, \"S\": 10667, \"T\": 1375, \"P\": 2826, \"m\": 10760, \"a\": 10761, \"r\": 7530, \"e\": 9929, \"k\": 3911, \"i\": 8368, \"p\": 3114, \"u\": 4666, \"C\": 3727, \"G\": 2099, \"s\": 6811, \"y\": 2377, \"D\": 993, \"c\": 4662, \"g\": 2330, \"b\": 1506, \"t\": 7128, \"W\": 2366, \"h\": 5658, \"B\": 2657, \"w\": 3059, \"M\": 1652, \",\": 520, \"N\": 273, \"f\": 863, \"v\": 948, \"U\": 52, \"\\'\": 392, \"E\": 558, \"F\": 1290, \"(\": 271, \"3\": 8, \"z\": 800, \")\": 262, \"I\": 226, \"V\": 383, \"H\": 924, \"j\": 149, \".\": 47, \"/\": 99, \"x\": 101, \"A\": 1158, \"Q\": 246, \"-\": 1700, \"\\\\\"\": 41, \"Y\": 112, \"J\": 154, \"q\": 186, \"K\": 186, \"!\": 52, \"[\": 1, \"]\": 1, \"X\": 9, \"5\": 22, \"#\": 18, \"8\": 1, \"4\": 5, \"*\": 4, \":\": 32, \"9\": 1, \"1\": 14, \"0\": 14, \"7\": 3, \"2\": 24, \"?\": 1, \"=\": 1, \"_\": 1, \"6\": 1, \";\": 1, \"`\": 1}',\n",
       " 'index_docs': '{\"1\": 10759, \"74\": 1, \"60\": 63, \"12\": 7750, \"34\": 1190, \"6\": 10761, \"4\": 10760, \"5\": 10762, \"44\": 400, \"27\": 1837, \"40\": 746, \"7\": 10667, \"31\": 1375, \"21\": 2826, \"9\": 10760, \"2\": 10761, \"11\": 7530, \"3\": 9929, \"18\": 3911, \"8\": 8368, \"19\": 3114, \"15\": 4666, \"17\": 3727, \"26\": 2099, \"13\": 6811, \"24\": 2377, \"36\": 993, \"16\": 4662, \"23\": 2330, \"30\": 1506, \"10\": 7128, \"25\": 2366, \"14\": 5658, \"22\": 2657, \"20\": 3059, \"29\": 1652, \"41\": 520, \"46\": 273, \"35\": 863, \"37\": 948, \"62\": 52, \"43\": 392, \"42\": 558, \"32\": 1290, \"47\": 271, \"71\": 8, \"39\": 800, \"48\": 262, \"49\": 226, \"45\": 383, \"38\": 924, \"54\": 149, \"59\": 47, \"56\": 99, \"57\": 101, \"33\": 1158, \"50\": 246, \"28\": 1700, \"58\": 41, \"55\": 112, \"53\": 154, \"52\": 186, \"51\": 186, \"61\": 52, \"75\": 1, \"76\": 1, \"70\": 9, \"65\": 22, \"66\": 18, \"77\": 1, \"72\": 5, \"69\": 4, \"63\": 32, \"78\": 1, \"67\": 14, \"68\": 14, \"73\": 3, \"64\": 24, \"79\": 1, \"80\": 1, \"81\": 1, \"82\": 1, \"83\": 1, \"84\": 1}',\n",
       " 'index_word': '{\"1\": \" \", \"2\": \"a\", \"3\": \"e\", \"4\": \"o\", \"5\": \"n\", \"6\": \"l\", \"7\": \"S\", \"8\": \"i\", \"9\": \"m\", \"10\": \"t\", \"11\": \"r\", \"12\": \"d\", \"13\": \"s\", \"14\": \"h\", \"15\": \"u\", \"16\": \"c\", \"17\": \"C\", \"18\": \"k\", \"19\": \"p\", \"20\": \"w\", \"21\": \"P\", \"22\": \"B\", \"23\": \"g\", \"24\": \"y\", \"25\": \"W\", \"26\": \"G\", \"27\": \"R\", \"28\": \"-\", \"29\": \"M\", \"30\": \"b\", \"31\": \"T\", \"32\": \"F\", \"33\": \"A\", \"34\": \"L\", \"35\": \"f\", \"36\": \"D\", \"37\": \"v\", \"38\": \"H\", \"39\": \"z\", \"40\": \"O\", \"41\": \",\", \"42\": \"E\", \"43\": \"\\'\", \"44\": \"&\", \"45\": \"V\", \"46\": \"N\", \"47\": \"(\", \"48\": \")\", \"49\": \"I\", \"50\": \"Q\", \"51\": \"K\", \"52\": \"q\", \"53\": \"J\", \"54\": \"j\", \"55\": \"Y\", \"56\": \"/\", \"57\": \"x\", \"58\": \"\\\\\"\", \"59\": \".\", \"60\": \"Z\", \"61\": \"!\", \"62\": \"U\", \"63\": \":\", \"64\": \"2\", \"65\": \"5\", \"66\": \"#\", \"67\": \"1\", \"68\": \"0\", \"69\": \"*\", \"70\": \"X\", \"71\": \"3\", \"72\": \"4\", \"73\": \"7\", \"74\": \"\\\\u2423\", \"75\": \"[\", \"76\": \"]\", \"77\": \"8\", \"78\": \"9\", \"79\": \"?\", \"80\": \"=\", \"81\": \"_\", \"82\": \"6\", \"83\": \";\", \"84\": \"`\"}',\n",
       " 'word_index': '{\" \": 1, \"a\": 2, \"e\": 3, \"o\": 4, \"n\": 5, \"l\": 6, \"S\": 7, \"i\": 8, \"m\": 9, \"t\": 10, \"r\": 11, \"d\": 12, \"s\": 13, \"h\": 14, \"u\": 15, \"c\": 16, \"C\": 17, \"k\": 18, \"p\": 19, \"w\": 20, \"P\": 21, \"B\": 22, \"g\": 23, \"y\": 24, \"W\": 25, \"G\": 26, \"R\": 27, \"-\": 28, \"M\": 29, \"b\": 30, \"T\": 31, \"F\": 32, \"A\": 33, \"L\": 34, \"f\": 35, \"D\": 36, \"v\": 37, \"H\": 38, \"z\": 39, \"O\": 40, \",\": 41, \"E\": 42, \"\\'\": 43, \"&\": 44, \"V\": 45, \"N\": 46, \"(\": 47, \")\": 48, \"I\": 49, \"Q\": 50, \"K\": 51, \"q\": 52, \"J\": 53, \"j\": 54, \"Y\": 55, \"/\": 56, \"x\": 57, \"\\\\\"\": 58, \".\": 59, \"Z\": 60, \"!\": 61, \"U\": 62, \":\": 63, \"2\": 64, \"5\": 65, \"#\": 66, \"1\": 67, \"0\": 68, \"*\": 69, \"X\": 70, \"3\": 71, \"4\": 72, \"7\": 73, \"\\\\u2423\": 74, \"[\": 75, \"]\": 76, \"8\": 77, \"9\": 78, \"?\": 79, \"=\": 80, \"_\": 81, \"6\": 82, \";\": 83, \"`\": 84}'}"
      ]
     },
     "execution_count": 18,
     "metadata": {},
     "output_type": "execute_result"
    }
   ],
   "source": [
    "STOP_SIGN = '␣'\n",
    "\n",
    "tokenizer = tf.keras.preprocessing.text.Tokenizer(\n",
    "    char_level=True,\n",
    "    filters='',\n",
    "    lower=False,\n",
    "    split=''\n",
    ")\n",
    "\n",
    "# Stop word is not a part of recipes, but tokenizer must know about it as well.\n",
    "tokenizer.fit_on_texts([STOP_SIGN])\n",
    "\n",
    "tokenizer.fit_on_texts(data_ftr)\n",
    "\n",
    "tokenizer.get_config()"
   ]
  },
  {
   "cell_type": "code",
   "execution_count": 19,
   "id": "emerging-maryland",
   "metadata": {},
   "outputs": [
    {
     "name": "stdout",
     "output_type": "stream",
     "text": [
      "VOCABULARY_SIZE:  85\n"
     ]
    }
   ],
   "source": [
    "VOCABULARY_SIZE = len(tokenizer.word_counts) + 1\n",
    "\n",
    "print('VOCABULARY_SIZE: ', VOCABULARY_SIZE)"
   ]
  },
  {
   "cell_type": "code",
   "execution_count": 20,
   "id": "unable-worcester",
   "metadata": {},
   "outputs": [
    {
     "name": "stdout",
     "output_type": "stream",
     "text": [
      "n\n",
      "w\n"
     ]
    }
   ],
   "source": [
    "print(tokenizer.index_word[5])\n",
    "print(tokenizer.index_word[20])"
   ]
  },
  {
   "cell_type": "code",
   "execution_count": 21,
   "id": "precious-supervision",
   "metadata": {},
   "outputs": [
    {
     "data": {
      "text/plain": [
       "11"
      ]
     },
     "execution_count": 21,
     "metadata": {},
     "output_type": "execute_result"
    }
   ],
   "source": [
    "tokenizer.word_index['r']"
   ]
  },
  {
   "cell_type": "code",
   "execution_count": 22,
   "id": "packed-proof",
   "metadata": {},
   "outputs": [
    {
     "name": "stdout",
     "output_type": "stream",
     "text": [
      "Vectorized dataset size 10770\n"
     ]
    }
   ],
   "source": [
    "data_vec = tokenizer.texts_to_sequences(data_ftr)\n",
    "print('Vectorized dataset size', len(data_vec)) "
   ]
  },
  {
   "cell_type": "code",
   "execution_count": 23,
   "id": "affiliated-sigma",
   "metadata": {},
   "outputs": [
    {
     "name": "stdout",
     "output_type": "stream",
     "text": [
      "[7, 2, 6, 9, 4, 5, 1, 44, 1, 7] ...\n"
     ]
    }
   ],
   "source": [
    "print(data_vec[0][:10], '...')"
   ]
  },
  {
   "cell_type": "code",
   "execution_count": 26,
   "id": "compatible-fighter",
   "metadata": {},
   "outputs": [
    {
     "name": "stdout",
     "output_type": "stream",
     "text": [
      "P a s t a   W i t h   R e d   S a u c e   a n d   S a l m o n\n"
     ]
    }
   ],
   "source": [
    "def recipe_sequence_to_string(recipe_sequence):\n",
    "    recipe_stringified = tokenizer.sequences_to_texts([recipe_sequence])[0]\n",
    "    print(recipe_stringified)\n",
    "\n",
    "recipe_sequence_to_string(data_vec[110])"
   ]
  },
  {
   "cell_type": "code",
   "execution_count": 30,
   "id": "renewable-turkey",
   "metadata": {},
   "outputs": [
    {
     "name": "stdout",
     "output_type": "stream",
     "text": [
      "Recipe #0 length: 101\n",
      "Recipe #1 length: 101\n",
      "Recipe #2 length: 101\n",
      "Recipe #3 length: 101\n",
      "Recipe #4 length: 101\n",
      "Recipe #5 length: 101\n",
      "Recipe #6 length: 101\n",
      "Recipe #7 length: 101\n",
      "Recipe #8 length: 101\n",
      "Recipe #9 length: 101\n"
     ]
    }
   ],
   "source": [
    "dataset_vectorized_padded_without_stops = tf.keras.preprocessing.sequence.pad_sequences(\n",
    "    data_vec,\n",
    "    padding='post',\n",
    "    truncating='post',\n",
    "    # We use -1 here and +1 in the next step to make sure\n",
    "    # that all recipes will have at least 1 stops sign at the end,\n",
    "    # since each sequence will be shifted and truncated afterwards\n",
    "    # (to generate X and Y sequences).\n",
    "    maxlen=max_len-1,\n",
    "    value=tokenizer.texts_to_sequences([STOP_SIGN])[0]\n",
    ")\n",
    "\n",
    "dataset_vectorized_padded = tf.keras.preprocessing.sequence.pad_sequences(\n",
    "    dataset_vectorized_padded_without_stops,\n",
    "    padding='post',\n",
    "    truncating='post',\n",
    "    maxlen=max_len+1,\n",
    "    value=tokenizer.texts_to_sequences([STOP_SIGN])[0]\n",
    ")\n",
    "\n",
    "for recipe_index, recipe in enumerate(dataset_vectorized_padded[:10]):\n",
    "    print('Recipe #{} length: {}'.format(recipe_index, len(recipe)))"
   ]
  },
  {
   "cell_type": "code",
   "execution_count": 31,
   "id": "unauthorized-butterfly",
   "metadata": {},
   "outputs": [
    {
     "name": "stdout",
     "output_type": "stream",
     "text": [
      "S a l m o n   &   S a l a d   a   L a   S P O R T Z ␣ ␣ ␣ ␣ ␣ ␣ ␣ ␣ ␣ ␣ ␣ ␣ ␣ ␣ ␣ ␣ ␣ ␣ ␣ ␣ ␣ ␣ ␣ ␣ ␣ ␣ ␣ ␣ ␣ ␣ ␣ ␣ ␣ ␣ ␣ ␣ ␣ ␣ ␣ ␣ ␣ ␣ ␣ ␣ ␣ ␣ ␣ ␣ ␣ ␣ ␣ ␣ ␣ ␣ ␣ ␣ ␣ ␣ ␣ ␣ ␣ ␣ ␣ ␣ ␣ ␣ ␣ ␣ ␣ ␣ ␣ ␣ ␣ ␣ ␣\n"
     ]
    }
   ],
   "source": [
    "recipe_sequence_to_string(dataset_vectorized_padded[0])"
   ]
  },
  {
   "cell_type": "code",
   "execution_count": 32,
   "id": "unlikely-fellowship",
   "metadata": {},
   "outputs": [
    {
     "name": "stdout",
     "output_type": "stream",
     "text": [
      "<TensorSliceDataset shapes: (101,), types: tf.int32>\n"
     ]
    }
   ],
   "source": [
    "dataset = tf.data.Dataset.from_tensor_slices(dataset_vectorized_padded)\n",
    "\n",
    "print(dataset)"
   ]
  },
  {
   "cell_type": "code",
   "execution_count": 33,
   "id": "verbal-witch",
   "metadata": {},
   "outputs": [
    {
     "name": "stdout",
     "output_type": "stream",
     "text": [
      "Raw recipe:\n",
      " [ 7  2  6  9  4  5  1 44  1  7  2  6  2 12  1  2  1 34  2  1  7 21 40 27\n",
      " 31 60 74 74 74 74 74 74 74 74 74 74 74 74 74 74 74 74 74 74 74 74 74 74\n",
      " 74 74 74 74 74 74 74 74 74 74 74 74 74 74 74 74 74 74 74 74 74 74 74 74\n",
      " 74 74 74 74 74 74 74 74 74 74 74 74 74 74 74 74 74 74 74 74 74 74 74 74\n",
      " 74 74 74 74 74] \n",
      "\n",
      "\n",
      "\n",
      "Stringified recipe:\n",
      "\n",
      "S a l m o n   &   S a l a d   a   L a   S P O R T Z ␣ ␣ ␣ ␣ ␣ ␣ ␣ ␣ ␣ ␣ ␣ ␣ ␣ ␣ ␣ ␣ ␣ ␣ ␣ ␣ ␣ ␣ ␣ ␣ ␣ ␣ ␣ ␣ ␣ ␣ ␣ ␣ ␣ ␣ ␣ ␣ ␣ ␣ ␣ ␣ ␣ ␣ ␣ ␣ ␣ ␣ ␣ ␣ ␣ ␣ ␣ ␣ ␣ ␣ ␣ ␣ ␣ ␣ ␣ ␣ ␣ ␣ ␣ ␣ ␣ ␣ ␣ ␣ ␣ ␣ ␣ ␣ ␣ ␣ ␣\n"
     ]
    }
   ],
   "source": [
    "for recipe in dataset.take(1):\n",
    "    print('Raw recipe:\\n', recipe.numpy(), '\\n\\n\\n')\n",
    "    print('Stringified recipe:\\n')\n",
    "    recipe_sequence_to_string(recipe.numpy())"
   ]
  },
  {
   "cell_type": "code",
   "execution_count": 34,
   "id": "eight-capacity",
   "metadata": {},
   "outputs": [
    {
     "name": "stdout",
     "output_type": "stream",
     "text": [
      "<MapDataset shapes: ((100,), (100,)), types: (tf.int32, tf.int32)>\n"
     ]
    }
   ],
   "source": [
    "def split_input_target(recipe):\n",
    "    input_text = recipe[:-1]\n",
    "    target_text = recipe[1:]\n",
    "    \n",
    "    return input_text, target_text\n",
    "\n",
    "dataset_targeted = dataset.map(split_input_target)\n",
    "\n",
    "print(dataset_targeted)"
   ]
  },
  {
   "cell_type": "code",
   "execution_count": 35,
   "id": "romance-complex",
   "metadata": {},
   "outputs": [
    {
     "name": "stdout",
     "output_type": "stream",
     "text": [
      "Input sequence size: 100\n",
      "Target sequence size: 100\n",
      "\n",
      "Input:   'S a l m o n   &   S a l a d   a   L a   S P O R T Z ␣ ␣ ␣ ␣ ␣ ␣ ␣ ␣ ␣ ␣ ␣ ␣ ␣ ␣ ␣ ␣ ␣ ␣ ␣ ␣ ␣ ␣ ␣ ␣'\n",
      "Target:  'a l m o n   &   S a l a d   a   L a   S P O R T Z ␣ ␣ ␣ ␣ ␣ ␣ ␣ ␣ ␣ ␣ ␣ ␣ ␣ ␣ ␣ ␣ ␣ ␣ ␣ ␣ ␣ ␣ ␣ ␣ ␣'\n"
     ]
    }
   ],
   "source": [
    "for input_example, target_example in dataset_targeted.take(1):\n",
    "    print('Input sequence size:', repr(len(input_example.numpy())))\n",
    "    print('Target sequence size:', repr(len(target_example.numpy())))\n",
    "    print()\n",
    "    \n",
    "    input_stringified = tokenizer.sequences_to_texts([input_example.numpy()[:50]])[0]\n",
    "    target_stringified = tokenizer.sequences_to_texts([target_example.numpy()[:50]])[0]\n",
    "    \n",
    "    print('Input:  ', repr(''.join(input_stringified)))\n",
    "    print('Target: ', repr(''.join(target_stringified))) "
   ]
  },
  {
   "cell_type": "code",
   "execution_count": 36,
   "id": "functioning-language",
   "metadata": {},
   "outputs": [
    {
     "name": "stdout",
     "output_type": "stream",
     "text": [
      "Step  1\n",
      "  input: 7 ('S')\n",
      "  expected output: 2 ('a')\n",
      "Step  2\n",
      "  input: 2 ('a')\n",
      "  expected output: 6 ('l')\n",
      "Step  3\n",
      "  input: 6 ('l')\n",
      "  expected output: 9 ('m')\n",
      "Step  4\n",
      "  input: 9 ('m')\n",
      "  expected output: 4 ('o')\n",
      "Step  5\n",
      "  input: 4 ('o')\n",
      "  expected output: 5 ('n')\n",
      "Step  6\n",
      "  input: 5 ('n')\n",
      "  expected output: 1 (' ')\n",
      "Step  7\n",
      "  input: 1 (' ')\n",
      "  expected output: 44 ('&')\n",
      "Step  8\n",
      "  input: 44 ('&')\n",
      "  expected output: 1 (' ')\n",
      "Step  9\n",
      "  input: 1 (' ')\n",
      "  expected output: 7 ('S')\n",
      "Step 10\n",
      "  input: 7 ('S')\n",
      "  expected output: 2 ('a')\n"
     ]
    }
   ],
   "source": [
    "for i, (input_idx, target_idx) in enumerate(zip(input_example[:10], target_example[:10])):\n",
    "    print('Step {:2d}'.format(i + 1))\n",
    "    print('  input: {} ({:s})'.format(input_idx, repr(tokenizer.sequences_to_texts([[input_idx.numpy()]])[0])))\n",
    "    print('  expected output: {} ({:s})'.format(target_idx, repr(tokenizer.sequences_to_texts([[target_idx.numpy()]])[0])))"
   ]
  },
  {
   "cell_type": "code",
   "execution_count": 37,
   "id": "infrared-seattle",
   "metadata": {},
   "outputs": [
    {
     "name": "stdout",
     "output_type": "stream",
     "text": [
      "<MapDataset shapes: ((100,), (100,)), types: (tf.int32, tf.int32)>\n"
     ]
    }
   ],
   "source": [
    "print(dataset_targeted)"
   ]
  },
  {
   "cell_type": "code",
   "execution_count": 39,
   "id": "voluntary-alloy",
   "metadata": {},
   "outputs": [
    {
     "name": "stdout",
     "output_type": "stream",
     "text": [
      "<RepeatDataset shapes: ((64, 100), (64, 100)), types: (tf.int32, tf.int32)>\n"
     ]
    }
   ],
   "source": [
    "# Batch size.\n",
    "BATCH_SIZE = 64\n",
    "\n",
    "# Buffer size to shuffle the dataset (TF data is designed to work\n",
    "# with possibly infinite sequences, so it doesn't attempt to shuffle\n",
    "# the entire sequence in memory. Instead, it maintains a buffer in\n",
    "# which it shuffles elements).\n",
    "SHUFFLE_BUFFER_SIZE = 1000\n",
    "\n",
    "dataset_train = dataset_targeted.shuffle(SHUFFLE_BUFFER_SIZE).batch(BATCH_SIZE, drop_remainder=True).repeat()\n",
    "\n",
    "print(dataset_train)"
   ]
  },
  {
   "cell_type": "code",
   "execution_count": 40,
   "id": "southwest-korea",
   "metadata": {},
   "outputs": [
    {
     "name": "stdout",
     "output_type": "stream",
     "text": [
      "1st batch: input_text: tf.Tensor(\n",
      "[[ 7  2  6 ... 74 74 74]\n",
      " [ 7  2  6 ... 74 74 74]\n",
      " [34  8  9 ... 74 74 74]\n",
      " ...\n",
      " [17 11  3 ... 74 74 74]\n",
      " [31  3 11 ... 74 74 74]\n",
      " [35 11  8 ... 74 74 74]], shape=(64, 100), dtype=int32)\n",
      "\n",
      "1st batch: target_text: tf.Tensor(\n",
      "[[ 2  6  9 ... 74 74 74]\n",
      " [ 2  6  9 ... 74 74 74]\n",
      " [ 8  9  3 ... 74 74 74]\n",
      " ...\n",
      " [11  3 19 ... 74 74 74]\n",
      " [ 3 11  8 ... 74 74 74]\n",
      " [11  8  3 ... 74 74 74]], shape=(64, 100), dtype=int32)\n"
     ]
    }
   ],
   "source": [
    "for input_text, target_text in dataset_train.take(1):\n",
    "    print('1st batch: input_text:', input_text)\n",
    "    print()\n",
    "    print('1st batch: target_text:', target_text)\n"
   ]
  },
  {
   "cell_type": "code",
   "execution_count": 41,
   "id": "dietary-finder",
   "metadata": {},
   "outputs": [
    {
     "name": "stdout",
     "output_type": "stream",
     "text": [
      "Model: \"sequential\"\n",
      "_________________________________________________________________\n",
      "Layer (type)                 Output Shape              Param #   \n",
      "=================================================================\n",
      "embedding (Embedding)        (64, None, 256)           21760     \n",
      "_________________________________________________________________\n",
      "lstm (LSTM)                  (64, None, 1024)          5246976   \n",
      "_________________________________________________________________\n",
      "dense (Dense)                (64, None, 85)            87125     \n",
      "=================================================================\n",
      "Total params: 5,355,861\n",
      "Trainable params: 5,355,861\n",
      "Non-trainable params: 0\n",
      "_________________________________________________________________\n"
     ]
    }
   ],
   "source": [
    "def build_model(vocab_size, embedding_dim, rnn_units, batch_size):\n",
    "    model = tf.keras.models.Sequential()\n",
    "\n",
    "    model.add(tf.keras.layers.Embedding(\n",
    "        input_dim=vocab_size,\n",
    "        output_dim=embedding_dim,\n",
    "        batch_input_shape=[batch_size, None]\n",
    "    ))\n",
    "\n",
    "    model.add(tf.keras.layers.LSTM(\n",
    "        units=rnn_units,\n",
    "        return_sequences=True,\n",
    "        stateful=True,\n",
    "        recurrent_initializer=tf.keras.initializers.GlorotNormal()\n",
    "    ))\n",
    "\n",
    "    model.add(tf.keras.layers.Dense(vocab_size))\n",
    "    \n",
    "    return model\n",
    "\n",
    "model = build_model(\n",
    "  vocab_size=VOCABULARY_SIZE,\n",
    "  embedding_dim=256,\n",
    "  rnn_units=1024,\n",
    "  batch_size=BATCH_SIZE\n",
    ")\n",
    "\n",
    "model.summary()"
   ]
  },
  {
   "cell_type": "code",
   "execution_count": 43,
   "id": "christian-brooklyn",
   "metadata": {},
   "outputs": [],
   "source": [
    "# An objective function.\n",
    "# The function is any callable with the signature scalar_loss = fn(y_true, y_pred).\n",
    "def loss(labels, logits):\n",
    "    entropy = tf.keras.losses.sparse_categorical_crossentropy(\n",
    "      y_true=labels,\n",
    "      y_pred=logits,\n",
    "      from_logits=True\n",
    "    )\n",
    "    \n",
    "    return entropy"
   ]
  },
  {
   "cell_type": "code",
   "execution_count": 44,
   "id": "gross-donor",
   "metadata": {},
   "outputs": [],
   "source": [
    "adam_optimizer = tf.keras.optimizers.Adam(learning_rate=0.001)\n",
    "\n",
    "model.compile(\n",
    "    optimizer=adam_optimizer,\n",
    "    loss=loss\n",
    ")\n"
   ]
  },
  {
   "cell_type": "code",
   "execution_count": 45,
   "id": "according-energy",
   "metadata": {},
   "outputs": [],
   "source": [
    "early_stopping_callback = tf.keras.callbacks.EarlyStopping(\n",
    "    patience=5,\n",
    "    monitor='loss',\n",
    "    restore_best_weights=True,\n",
    "    verbose=1\n",
    ")\n"
   ]
  },
  {
   "cell_type": "code",
   "execution_count": 48,
   "id": "gentle-insertion",
   "metadata": {},
   "outputs": [
    {
     "name": "stdout",
     "output_type": "stream",
     "text": [
      "Epoch 2/5\n",
      "10/10 [==============================] - 29s 3s/step - loss: 1.4863\n",
      "Epoch 3/5\n",
      "10/10 [==============================] - 28s 3s/step - loss: 1.2685\n",
      "Epoch 4/5\n",
      "10/10 [==============================] - 29s 3s/step - loss: 1.0841\n",
      "Epoch 5/5\n",
      "10/10 [==============================] - 29s 3s/step - loss: 1.0311\n"
     ]
    },
    {
     "ename": "NameError",
     "evalue": "name 'plt' is not defined",
     "output_type": "error",
     "traceback": [
      "\u001b[1;31m---------------------------------------------------------------------------\u001b[0m",
      "\u001b[1;31mNameError\u001b[0m                                 Traceback (most recent call last)",
      "\u001b[1;32m<ipython-input-48-5cfbd7f21621>\u001b[0m in \u001b[0;36m<module>\u001b[1;34m\u001b[0m\n\u001b[0;32m     28\u001b[0m     \u001b[0mplt\u001b[0m\u001b[1;33m.\u001b[0m\u001b[0mshow\u001b[0m\u001b[1;33m(\u001b[0m\u001b[1;33m)\u001b[0m\u001b[1;33m\u001b[0m\u001b[1;33m\u001b[0m\u001b[0m\n\u001b[0;32m     29\u001b[0m \u001b[1;33m\u001b[0m\u001b[0m\n\u001b[1;32m---> 30\u001b[1;33m \u001b[0mrender_training_history\u001b[0m\u001b[1;33m(\u001b[0m\u001b[0mhistory\u001b[0m\u001b[1;33m)\u001b[0m\u001b[1;33m\u001b[0m\u001b[1;33m\u001b[0m\u001b[0m\n\u001b[0m",
      "\u001b[1;32m<ipython-input-48-5cfbd7f21621>\u001b[0m in \u001b[0;36mrender_training_history\u001b[1;34m(training_history)\u001b[0m\n\u001b[0;32m     20\u001b[0m     \u001b[0mloss\u001b[0m \u001b[1;33m=\u001b[0m \u001b[0mtraining_history\u001b[0m\u001b[1;33m.\u001b[0m\u001b[0mhistory\u001b[0m\u001b[1;33m[\u001b[0m\u001b[1;34m'loss'\u001b[0m\u001b[1;33m]\u001b[0m\u001b[1;33m\u001b[0m\u001b[1;33m\u001b[0m\u001b[0m\n\u001b[0;32m     21\u001b[0m \u001b[1;33m\u001b[0m\u001b[0m\n\u001b[1;32m---> 22\u001b[1;33m     \u001b[0mplt\u001b[0m\u001b[1;33m.\u001b[0m\u001b[0mtitle\u001b[0m\u001b[1;33m(\u001b[0m\u001b[1;34m'Loss'\u001b[0m\u001b[1;33m)\u001b[0m\u001b[1;33m\u001b[0m\u001b[1;33m\u001b[0m\u001b[0m\n\u001b[0m\u001b[0;32m     23\u001b[0m     \u001b[0mplt\u001b[0m\u001b[1;33m.\u001b[0m\u001b[0mxlabel\u001b[0m\u001b[1;33m(\u001b[0m\u001b[1;34m'Epoch'\u001b[0m\u001b[1;33m)\u001b[0m\u001b[1;33m\u001b[0m\u001b[1;33m\u001b[0m\u001b[0m\n\u001b[0;32m     24\u001b[0m     \u001b[0mplt\u001b[0m\u001b[1;33m.\u001b[0m\u001b[0mylabel\u001b[0m\u001b[1;33m(\u001b[0m\u001b[1;34m'Loss'\u001b[0m\u001b[1;33m)\u001b[0m\u001b[1;33m\u001b[0m\u001b[1;33m\u001b[0m\u001b[0m\n",
      "\u001b[1;31mNameError\u001b[0m: name 'plt' is not defined"
     ]
    }
   ],
   "source": [
    "EPOCHS = 5\n",
    "INITIAL_EPOCH = 1\n",
    "STEPS_PER_EPOCH = 10\n",
    "\n",
    "history = model.fit(\n",
    "    x=dataset_train,\n",
    "    epochs=EPOCHS,\n",
    "    steps_per_epoch=STEPS_PER_EPOCH,\n",
    "    initial_epoch=INITIAL_EPOCH,\n",
    "    callbacks=[\n",
    "        early_stopping_callback\n",
    "    ]\n",
    ")\n",
    "\n",
    "# Saving the trained model to file (to be able to re-use it later).\n",
    "model_name = 'recipe_generation_rnn_raw.h5'\n",
    "model.save(model_name, save_format='h5')\n",
    "\n",
    "def render_training_history(training_history):\n",
    "    loss = training_history.history['loss']\n",
    "\n",
    "    plt.title('Loss')\n",
    "    plt.xlabel('Epoch')\n",
    "    plt.ylabel('Loss')\n",
    "    plt.plot(loss, label='Training set')\n",
    "    plt.legend()\n",
    "    plt.grid(linestyle='--', linewidth=1, alpha=0.5)\n",
    "    plt.show()\n",
    "\n",
    "render_training_history(history)"
   ]
  },
  {
   "cell_type": "code",
   "execution_count": 49,
   "id": "perfect-diameter",
   "metadata": {},
   "outputs": [
    {
     "data": {
      "image/png": "[encoded data removed]",
      "text/plain": [
       "<Figure size 432x288 with 1 Axes>"
      ]
     },
     "metadata": {
      "needs_background": "light"
     },
     "output_type": "display_data"
    }
   ],
   "source": [
    "from matplotlib import pyplot as plt\n",
    "\n",
    "def render_training_history(training_history):\n",
    "    loss = training_history.history['loss']\n",
    "\n",
    "    plt.title('Loss')\n",
    "    plt.xlabel('Epoch')\n",
    "    plt.ylabel('Loss')\n",
    "    plt.plot(loss, label='Training set')\n",
    "    plt.legend()\n",
    "    plt.grid(linestyle='--', linewidth=1, alpha=0.5)\n",
    "    plt.show()\n",
    "\n",
    "render_training_history(history)"
   ]
  },
  {
   "cell_type": "code",
   "execution_count": null,
   "id": "broad-belize",
   "metadata": {},
   "outputs": [],
   "source": []
  }
 ],
 "metadata": {
  "kernelspec": {
   "display_name": "Python [conda env:PIC16B] *",
   "language": "python",
   "name": "conda-env-PIC16B-py"
  },
  "language_info": {
   "codemirror_mode": {
    "name": "ipython",
    "version": 3
   },
   "file_extension": ".py",
   "mimetype": "text/x-python",
   "name": "python",
   "nbconvert_exporter": "python",
   "pygments_lexer": "ipython3",
   "version": "3.7.10"
  }
 },
 "nbformat": 4,
 "nbformat_minor": 5
}
